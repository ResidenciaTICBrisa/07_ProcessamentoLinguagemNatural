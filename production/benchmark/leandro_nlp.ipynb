{
 "cells": [
  {
   "cell_type": "markdown",
   "id": "fbdd3ca8",
   "metadata": {},
   "source": [
    "# Natural Processing language(NLP)"
   ]
  },
  {
   "cell_type": "code",
   "execution_count": 1,
   "id": "54fabeed",
   "metadata": {},
   "outputs": [],
   "source": [
    "import pandas as pd\n",
    "import string\n",
    "import re\n",
    "import spacy\n",
    "from unidecode import unidecode\n",
    "\n",
    "from sklearn.feature_extraction.text import TfidfVectorizer\n"
   ]
  },
  {
   "cell_type": "markdown",
   "id": "9619ab69",
   "metadata": {},
   "source": [
    "### Função para pré-processamento:\n",
    "- Transformam todos os caracteres em minusculas;\n",
    "- Remove as acentuações\n",
    "- Remove as pontuações\n",
    "- Remove números"
   ]
  },
  {
   "cell_type": "code",
   "execution_count": 2,
   "id": "c9749448",
   "metadata": {},
   "outputs": [],
   "source": [
    "def cleaner(texto):\n",
    "        texto = unidecode(texto)\n",
    "        texto = texto.lower()\n",
    "        texto = texto.translate(str.maketrans('','', string.punctuation))\n",
    "        texto = re.sub(r'[0-9]+', '', texto)\n",
    "        return texto"
   ]
  },
  {
   "cell_type": "code",
   "execution_count": 3,
   "id": "bf015d49",
   "metadata": {},
   "outputs": [
    {
     "data": {
      "text/html": [
       "<div>\n",
       "<style scoped>\n",
       "    .dataframe tbody tr th:only-of-type {\n",
       "        vertical-align: middle;\n",
       "    }\n",
       "\n",
       "    .dataframe tbody tr th {\n",
       "        vertical-align: top;\n",
       "    }\n",
       "\n",
       "    .dataframe thead th {\n",
       "        text-align: right;\n",
       "    }\n",
       "</style>\n",
       "<table border=\"1\" class=\"dataframe\">\n",
       "  <thead>\n",
       "    <tr style=\"text-align: right;\">\n",
       "      <th></th>\n",
       "      <th>link</th>\n",
       "      <th>headline</th>\n",
       "      <th>category</th>\n",
       "      <th>short_description</th>\n",
       "      <th>authors</th>\n",
       "      <th>date</th>\n",
       "    </tr>\n",
       "  </thead>\n",
       "  <tbody>\n",
       "    <tr>\n",
       "      <th>0</th>\n",
       "      <td>https://www.huffpost.com/entry/covid-boosters-...</td>\n",
       "      <td>Over 4 Million Americans Roll Up Sleeves For O...</td>\n",
       "      <td>U.S. NEWS</td>\n",
       "      <td>Health experts said it is too early to predict...</td>\n",
       "      <td>Carla K. Johnson, AP</td>\n",
       "      <td>2022-09-23</td>\n",
       "    </tr>\n",
       "    <tr>\n",
       "      <th>1</th>\n",
       "      <td>https://www.huffpost.com/entry/american-airlin...</td>\n",
       "      <td>American Airlines Flyer Charged, Banned For Li...</td>\n",
       "      <td>U.S. NEWS</td>\n",
       "      <td>He was subdued by passengers and crew when he ...</td>\n",
       "      <td>Mary Papenfuss</td>\n",
       "      <td>2022-09-23</td>\n",
       "    </tr>\n",
       "    <tr>\n",
       "      <th>2</th>\n",
       "      <td>https://www.huffpost.com/entry/funniest-tweets...</td>\n",
       "      <td>23 Of The Funniest Tweets About Cats And Dogs ...</td>\n",
       "      <td>COMEDY</td>\n",
       "      <td>\"Until you have a dog you don't understand wha...</td>\n",
       "      <td>Elyse Wanshel</td>\n",
       "      <td>2022-09-23</td>\n",
       "    </tr>\n",
       "    <tr>\n",
       "      <th>3</th>\n",
       "      <td>https://www.huffpost.com/entry/funniest-parent...</td>\n",
       "      <td>The Funniest Tweets From Parents This Week (Se...</td>\n",
       "      <td>PARENTING</td>\n",
       "      <td>\"Accidentally put grown-up toothpaste on my to...</td>\n",
       "      <td>Caroline Bologna</td>\n",
       "      <td>2022-09-23</td>\n",
       "    </tr>\n",
       "    <tr>\n",
       "      <th>4</th>\n",
       "      <td>https://www.huffpost.com/entry/amy-cooper-lose...</td>\n",
       "      <td>Woman Who Called Cops On Black Bird-Watcher Lo...</td>\n",
       "      <td>U.S. NEWS</td>\n",
       "      <td>Amy Cooper accused investment firm Franklin Te...</td>\n",
       "      <td>Nina Golgowski</td>\n",
       "      <td>2022-09-22</td>\n",
       "    </tr>\n",
       "  </tbody>\n",
       "</table>\n",
       "</div>"
      ],
      "text/plain": [
       "                                                link  \\\n",
       "0  https://www.huffpost.com/entry/covid-boosters-...   \n",
       "1  https://www.huffpost.com/entry/american-airlin...   \n",
       "2  https://www.huffpost.com/entry/funniest-tweets...   \n",
       "3  https://www.huffpost.com/entry/funniest-parent...   \n",
       "4  https://www.huffpost.com/entry/amy-cooper-lose...   \n",
       "\n",
       "                                            headline   category  \\\n",
       "0  Over 4 Million Americans Roll Up Sleeves For O...  U.S. NEWS   \n",
       "1  American Airlines Flyer Charged, Banned For Li...  U.S. NEWS   \n",
       "2  23 Of The Funniest Tweets About Cats And Dogs ...     COMEDY   \n",
       "3  The Funniest Tweets From Parents This Week (Se...  PARENTING   \n",
       "4  Woman Who Called Cops On Black Bird-Watcher Lo...  U.S. NEWS   \n",
       "\n",
       "                                   short_description               authors  \\\n",
       "0  Health experts said it is too early to predict...  Carla K. Johnson, AP   \n",
       "1  He was subdued by passengers and crew when he ...        Mary Papenfuss   \n",
       "2  \"Until you have a dog you don't understand wha...         Elyse Wanshel   \n",
       "3  \"Accidentally put grown-up toothpaste on my to...      Caroline Bologna   \n",
       "4  Amy Cooper accused investment firm Franklin Te...        Nina Golgowski   \n",
       "\n",
       "        date  \n",
       "0 2022-09-23  \n",
       "1 2022-09-23  \n",
       "2 2022-09-23  \n",
       "3 2022-09-23  \n",
       "4 2022-09-22  "
      ]
     },
     "execution_count": 3,
     "metadata": {},
     "output_type": "execute_result"
    }
   ],
   "source": [
    "df = pd.read_json('News_Category_Dataset_v3.json', lines=True)\n",
    "df.head()"
   ]
  },
  {
   "cell_type": "markdown",
   "id": "605caa8a",
   "metadata": {},
   "source": [
    "### Preparando a tabela para o treinamento:\n",
    "- Junção das tabelas 'headline' e 'short_cription'\n",
    "- Remoçao das tabelas 'link', 'authors', 'date', 'headline', 'short_description'\n",
    "- Com a função cleaner limpamos a tabela"
   ]
  },
  {
   "cell_type": "code",
   "execution_count": 4,
   "id": "88293062",
   "metadata": {},
   "outputs": [
    {
     "data": {
      "text/html": [
       "<div>\n",
       "<style scoped>\n",
       "    .dataframe tbody tr th:only-of-type {\n",
       "        vertical-align: middle;\n",
       "    }\n",
       "\n",
       "    .dataframe tbody tr th {\n",
       "        vertical-align: top;\n",
       "    }\n",
       "\n",
       "    .dataframe thead th {\n",
       "        text-align: right;\n",
       "    }\n",
       "</style>\n",
       "<table border=\"1\" class=\"dataframe\">\n",
       "  <thead>\n",
       "    <tr style=\"text-align: right;\">\n",
       "      <th></th>\n",
       "      <th>description</th>\n",
       "      <th>category</th>\n",
       "    </tr>\n",
       "  </thead>\n",
       "  <tbody>\n",
       "    <tr>\n",
       "      <th>0</th>\n",
       "      <td>over  million americans roll up sleeves for om...</td>\n",
       "      <td>U.S. NEWS</td>\n",
       "    </tr>\n",
       "    <tr>\n",
       "      <th>1</th>\n",
       "      <td>american airlines flyer charged banned for lif...</td>\n",
       "      <td>U.S. NEWS</td>\n",
       "    </tr>\n",
       "    <tr>\n",
       "      <th>2</th>\n",
       "      <td>of the funniest tweets about cats and dogs th...</td>\n",
       "      <td>COMEDY</td>\n",
       "    </tr>\n",
       "    <tr>\n",
       "      <th>3</th>\n",
       "      <td>the funniest tweets from parents this week sep...</td>\n",
       "      <td>PARENTING</td>\n",
       "    </tr>\n",
       "    <tr>\n",
       "      <th>4</th>\n",
       "      <td>woman who called cops on black birdwatcher los...</td>\n",
       "      <td>U.S. NEWS</td>\n",
       "    </tr>\n",
       "  </tbody>\n",
       "</table>\n",
       "</div>"
      ],
      "text/plain": [
       "                                         description   category\n",
       "0  over  million americans roll up sleeves for om...  U.S. NEWS\n",
       "1  american airlines flyer charged banned for lif...  U.S. NEWS\n",
       "2   of the funniest tweets about cats and dogs th...     COMEDY\n",
       "3  the funniest tweets from parents this week sep...  PARENTING\n",
       "4  woman who called cops on black birdwatcher los...  U.S. NEWS"
      ]
     },
     "execution_count": 4,
     "metadata": {},
     "output_type": "execute_result"
    }
   ],
   "source": [
    "df.insert(loc=0, column= 'description', value= df['headline'] + df['short_description'])\n",
    "df = df.drop(columns=['link', 'authors', 'date', 'headline', 'short_description'])\n",
    "df['description'] = df['description'].apply(cleaner)\n",
    "df.head()"
   ]
  },
  {
   "cell_type": "markdown",
   "id": "03cb0491",
   "metadata": {},
   "source": [
    "### Remoção de Stop Words"
   ]
  },
  {
   "cell_type": "code",
   "execution_count": 5,
   "id": "60948c9d",
   "metadata": {},
   "outputs": [
    {
     "name": "stdout",
     "output_type": "stream",
     "text": [
      "{'least', 'somewhere', 'though', 'onto', 'whence', 'because', 'so', 'below', '‘d', 'has', 'anyway', 'both', 'neither', 'through', 'your', 'where', 'meanwhile', 'perhaps', '’ll', 'off', 'himself', 'i', 'whereas', 'was', 'last', 'can', 'anyone', 'sometimes', 'between', 'have', 'we', 'yourselves', 'these', 'beyond', 'such', 'regarding', 'amount', 'part', 'nevertheless', 'toward', 'upon', 'what', 'would', 'also', 'is', 'serious', 'among', 'every', 'yet', 'n’t', 'he', 'even', 'thereupon', 'doing', 'those', 'seems', 'although', '‘re', 'further', 'they', 'using', 'were', 'itself', '’m', 'elsewhere', 'please', 'ours', 'my', 'anyhow', 'via', \"'s\", 'thus', 'therein', 'whatever', 'there', 'sixty', 'each', 'sometime', 'whose', 'for', 'always', 'go', 'of', 'namely', '‘ve', 'not', 'an', 'no', 'about', 'done', 'say', 'unless', 'move', 'formerly', 'thru', 'third', 'on', 'without', 'most', 'against', 'quite', 'whither', 'whole', 'else', 'under', 'everyone', \"'ve\", 'thence', 'used', 'hence', 'when', 'did', 'myself', 'am', 'afterwards', 'how', 'per', 'during', 'being', 'enough', 'to', 'first', 'empty', 'with', 'mostly', 'mine', 'someone', 'his', 'make', 'ca', 'cannot', 'becomes', 'becoming', 'until', 'since', 'therefore', 'somehow', 'already', 'before', 'throughout', 'again', 'beside', 'alone', 'often', '’d', 'themselves', 'four', 'never', 'them', 'been', 'why', 'former', 'around', 'then', 'nobody', 'whereby', 'almost', 'some', 'either', 'much', 'however', 'all', \"'m\", 'more', 'hereupon', 'really', 'none', 'show', 'next', 'latterly', 'a', 'if', 'bottom', 'ten', '‘ll', 'whether', 'the', 'me', 'others', 'same', 'while', 'out', 'together', 'up', 'own', 'eleven', 'but', 'everything', 'any', 'front', 'whoever', 'she', 'full', 'still', 'fifty', 'once', 'two', 'anywhere', 'across', 'call', 'became', '‘m', 'take', 'herself', 'or', 'moreover', 'n‘t', 'hereby', 'may', 'another', 'us', \"'d\", 'you', 'yours', '‘s', 'eight', 'except', 'get', 'above', 'its', 'just', 'her', 'besides', 'wherever', 'see', 'are', 'everywhere', '’re', 'herein', 'hereafter', 'it', 'something', 'yourself', 'could', 'be', 'many', 'latter', 'three', 'must', 'hers', \"n't\", 'might', 'over', 'had', 'that', 'forty', 'in', 'side', 'keep', 'now', 'rather', 'well', 'towards', 'nothing', 'seemed', 'top', 'several', 'within', 'back', 'become', 'thereby', \"'re\", 'ever', 'noone', 'only', 'otherwise', 'does', 'as', 'various', 'will', 'do', 'one', 'indeed', 'nowhere', 'nine', 'wherein', 'him', 'into', 'along', 'name', 'this', 'six', 'five', 'seeming', 'whom', 'too', '’ve', 'less', 'at', 'ourselves', 'their', 'whenever', 'other', 'who', 'our', 'should', 'few', 'behind', 'anything', 'here', 're', \"'ll\", 'nor', 'put', 'after', 'twelve', 'twenty', 'whereupon', 'amongst', 'whereafter', 'and', 'which', 'due', 'fifteen', 'hundred', 'from', 'give', 'seem', '’s', 'very', 'made', 'beforehand', 'down', 'by', 'than', 'thereafter'}\n"
     ]
    },
    {
     "data": {
      "text/html": [
       "<div>\n",
       "<style scoped>\n",
       "    .dataframe tbody tr th:only-of-type {\n",
       "        vertical-align: middle;\n",
       "    }\n",
       "\n",
       "    .dataframe tbody tr th {\n",
       "        vertical-align: top;\n",
       "    }\n",
       "\n",
       "    .dataframe thead th {\n",
       "        text-align: right;\n",
       "    }\n",
       "</style>\n",
       "<table border=\"1\" class=\"dataframe\">\n",
       "  <thead>\n",
       "    <tr style=\"text-align: right;\">\n",
       "      <th></th>\n",
       "      <th>description</th>\n",
       "      <th>category</th>\n",
       "    </tr>\n",
       "  </thead>\n",
       "  <tbody>\n",
       "    <tr>\n",
       "      <th>0</th>\n",
       "      <td>million americans roll sleeves omicrontargeted...</td>\n",
       "      <td>U.S. NEWS</td>\n",
       "    </tr>\n",
       "    <tr>\n",
       "      <th>1</th>\n",
       "      <td>american airlines flyer charged banned life pu...</td>\n",
       "      <td>U.S. NEWS</td>\n",
       "    </tr>\n",
       "    <tr>\n",
       "      <th>2</th>\n",
       "      <td>funniest tweets cats dogs week sept dog dont u...</td>\n",
       "      <td>COMEDY</td>\n",
       "    </tr>\n",
       "    <tr>\n",
       "      <th>3</th>\n",
       "      <td>funniest tweets parents week sept accidentally...</td>\n",
       "      <td>PARENTING</td>\n",
       "    </tr>\n",
       "    <tr>\n",
       "      <th>4</th>\n",
       "      <td>woman called cops black birdwatcher loses laws...</td>\n",
       "      <td>U.S. NEWS</td>\n",
       "    </tr>\n",
       "  </tbody>\n",
       "</table>\n",
       "</div>"
      ],
      "text/plain": [
       "                                         description   category\n",
       "0  million americans roll sleeves omicrontargeted...  U.S. NEWS\n",
       "1  american airlines flyer charged banned life pu...  U.S. NEWS\n",
       "2  funniest tweets cats dogs week sept dog dont u...     COMEDY\n",
       "3  funniest tweets parents week sept accidentally...  PARENTING\n",
       "4  woman called cops black birdwatcher loses laws...  U.S. NEWS"
      ]
     },
     "execution_count": 5,
     "metadata": {},
     "output_type": "execute_result"
    }
   ],
   "source": [
    "nlp = spacy.load(\"en_core_web_sm\")\n",
    "words = nlp.Defaults.stop_words\n",
    "\n",
    "def stopWords(text):\n",
    "    text = [word for word in text.split() if word not in list(words)]\n",
    "    return ' '.join(text)\n",
    "print(words)\n",
    "df['description'] = df['description'].apply(stopWords)\n",
    "df.head()  "
   ]
  },
  {
   "cell_type": "markdown",
   "id": "e1a88c80",
   "metadata": {},
   "source": [
    "### Algoritmo de treinamento"
   ]
  },
  {
   "cell_type": "code",
   "execution_count": 6,
   "id": "a637bf72",
   "metadata": {},
   "outputs": [],
   "source": [
    "from sklearn.metrics import accuracy_score\n",
    "from sklearn.preprocessing import LabelEncoder\n",
    "from sklearn import model_selection, svm, naive_bayes"
   ]
  },
  {
   "cell_type": "code",
   "execution_count": 7,
   "id": "2d0d5ab9",
   "metadata": {},
   "outputs": [],
   "source": [
    "train_x, test_x, train_y, test_y = model_selection.train_test_split(df['description'], df['category'], test_size=0.3)\n",
    "\n",
    "Encoder = LabelEncoder()\n",
    "train_y = Encoder.fit_transform(train_y)\n",
    "test_y = Encoder.fit_transform(test_y)"
   ]
  },
  {
   "cell_type": "markdown",
   "id": "41d579a4",
   "metadata": {},
   "source": [
    "### Contagem das palavras"
   ]
  },
  {
   "cell_type": "code",
   "execution_count": 8,
   "id": "ca7ae66b",
   "metadata": {},
   "outputs": [
    {
     "name": "stdout",
     "output_type": "stream",
     "text": [
      "{'million': 2867, 'americans': 178, 'roll': 3837, 'covid': 1044, 'experts': 1599, 'said': 3887, 'early': 1404, 'predict': 3422, 'demand': 1202, 'match': 2777, 'new': 3010, 'ordered': 3129, 'fall': 1639, 'american': 177, 'airlines': 134, 'charged': 746, 'banned': 375, 'life': 2620, 'flight': 1763, 'passengers': 3215, 'crew': 1065, 'according': 26, 'attorneys': 317, 'office': 3083, 'los': 2682, 'angeles': 191, 'funniest': 1853, 'tweets': 4672, 'cats': 692, 'dogs': 1336, 'week': 4872, 'sept': 3992, 'dog': 1335, 'dont': 1346, 'understand': 4696, 'parents': 3192, 'accidentally': 23, 'toddlers': 4555, 'like': 2628, 'cleaning': 824, 'teeth': 4458, 'carolina': 672, 'sauce': 3909, 'woman': 4924, 'called': 630, 'cops': 1004, 'black': 480, 'loses': 2684, 'lawsuit': 2566, 'cooper': 1000, 'accused': 33, 'investment': 2341, 'firm': 1751, 'firing': 1750, 'racist': 3583, 'video': 4770, 'central': 715, 'park': 3194, 'encounter': 1485, 'went': 4885, 'viral': 4784, 'dead': 1149, 'bathroom': 394, 'days': 1146, 'body': 510, 'found': 1812, 'yearold': 4973, 'seen': 3968, 'working': 4944, 'south': 4171, 'store': 4277, 'thursday': 4531, 'monday': 2913, 'family': 1648, 'reported': 3723, 'missing': 2890, 'authorities': 328, 'reporter': 3725, 'gets': 1894, 'adorable': 79, 'surprise': 4374, 'boyfriend': 537, 'live': 2655, 'anchor': 184, 'yorks': 4983, 'asked': 285, 'journalist': 2441, 'michelle': 2849, 'ross': 3852, 'finished': 1746, 'interview': 2331, 'puerto': 3538, 'desperate': 1234, 'water': 4848, 'hurricane': 2206, 'half': 2017, 'people': 3249, 'service': 4002, 'storm': 4280, 'documentary': 1332, 'captures': 658, 'child': 773, 'director': 1287, 'music': 2955, 'style': 4323, 'tell': 4461, 'immigration': 2242, 'story': 4283, 'biden': 454, 'un': 4689, 'russian': 3877, 'war': 4830, 'house': 2183, 'officials': 3089, 'presidents': 3440, 'visit': 4791, 'year': 4972, 'russia': 3876, 'brutal': 589, 'world': 4949, 'cup': 1095, 'want': 4826, 'wear': 4859, 'rainbow': 3588, 'come': 881, 'pressure': 3442, 'european': 1550, 'soccer': 4140, 'support': 4361, 'human': 2196, 'rights': 3806, 'campaign': 639, 'discrimination': 1300, 'man': 2737, 'sets': 4009, 'fire': 1747, 'apparent': 227, 'protest': 3518, 'funeral': 1852, 'incident': 2260, 'growing': 1986, 'wave': 4850, 'protests': 3521, 'leaders': 2573, 'japanese': 2394, 'politics': 3369, 'threatens': 4522, 'category': 690, 'headed': 2062, 'islands': 2366, 'past': 3220, 'later': 2549, 'bans': 378, 'sites': 4101, 'folks': 1781, 'mans': 2746, 'claims': 817, 'platform': 3339, 'caused': 696, 'popular': 3378, 'consider': 958, 'boycott': 536, 'virginia': 4786, 'thomas': 4513, 'agrees': 123, 'jan': 2390, 'activist': 46, 'wife': 4897, 'supreme': 4368, 'court': 1036, 'justice': 2456, 'agreed': 121, 'participate': 3201, 'panel': 3181, 'investigating': 2338, 'broke': 579, 'record': 3647, 'day': 1145, 'stay': 4250, 'space': 4174, 'dies': 1270, 'trip': 4637, 'saw': 3916, 'earth': 1407, 'times': 4543, 'travel': 4610, 'nearly': 2989, 'miles': 2860, 'clever': 828, 'look': 2675, 'inside': 2304, 'tv': 4669, 'key': 2480, 'johnny': 2423, 'follows': 1786, 'helped': 2092, 'win': 4904, 'series': 3997, 'died': 1268, 'schedule': 3927, 'votes': 4808, 'join': 2425, 'efforts': 1436, 'set': 4007, 'stage': 4226, 'government': 1939, 'kept': 2477, 'dropping': 1388, 'rain': 3587, 'republic': 3734, 'rico': 3800, 'golden': 1925, 'globes': 1916, 'returning': 3780, 'nbc': 2985, 'january': 2392, 'months': 2919, 'hollywood': 2140, 'effectively': 1433, 'reports': 3728, 'members': 2822, 'journalists': 2442, 'included': 2262, 'says': 3918, 'forces': 1794, 'defend': 1182, 'china': 779, 'issues': 2373, 'tensions': 4470, 'rise': 3815, 'bears': 403, 'power': 3407, 'governor': 1941, 'damage': 1121, 'plane': 3329, 'crashes': 1051, 'air': 132, 'national': 2974, 'championship': 731, 'races': 3579, 'sunday': 4356, 'field': 1711, 'killing': 2494, 'pilot': 3316, 'beautiful': 408, 'sad': 3881, 'time': 4542, 'cultural': 1091, 'festival': 1705, 'takes': 4414, 'deeper': 1179, 'meaning': 2796, 'annual': 207, 'celebration': 707, 'took': 4565, 'different': 1275, 'feel': 1692, 'russias': 3878, 'held': 2087, 'afghanistan': 103, 'taliban': 4420, 'navy': 2982, 'veteran': 4761, 'las': 2544, 'vegas': 4752, 'title': 4549, 'chelsea': 766, 'gray': 1965, 'named': 2967, 'professional': 3482, 'sports': 4211, 'champion': 730, 'pay': 3235, 'queen': 3564, 'elizabeth': 1455, 'joe': 2421, 'lady': 2528, 'jill': 2415, 'thousands': 4517, 'locals': 2664, 'tourists': 4580, 'james': 2388, 'cameron': 637, 'studio': 4317, 'aspects': 290, 'movie': 2942, 'competitive': 913, 'thats': 4493, 'french': 1826, 'celebrates': 705, 'th': 4487, 'birthday': 474, 'massive': 2775, 'robert': 3827, 'known': 2511, 'empire': 1479, 'state': 4244, 'building': 596, 'queens': 3565, 'death': 1157, 'left': 2590, 'giant': 1897, 'hole': 2137, 'royal': 3860, 'president': 3437, 'london': 2669, 'ii': 2227, 'heart': 2076, 'adding': 62, 'report': 3722, 'finds': 1740, 'data': 1135, 'didnt': 1266, 'entering': 1514, 'false': 1644, 'information': 2288, 'work': 4940, 'wasnt': 4843, 'fully': 1845, 'cases': 682, 'received': 3635, 'general': 1883, 'public': 3535, 'global': 1914, 'fossil': 1809, 'fuels': 1844, 'worlds': 4950, 'fuel': 1843, 'production': 3478, 'emissions': 1470, 'launches': 2558, 'waiting': 4815, 'view': 4776, 'reportedly': 3724, 'failed': 1630, 'bid': 453, 'escape': 1535, 'police': 3361, 'alaska': 144, 'years': 4975, 'september': 3993, 'severe': 4014, 'flooding': 1768, 'tropical': 4642, 'watch': 4845, 'saturday': 3908, 'raises': 3591, 'alarm': 143, 'disease': 1306, 'areas': 254, 'health': 2069, 'organization': 3135, 'raising': 3592, 'second': 3953, 'disaster': 1294, 'wake': 4816, 'deadly': 1151, 'pakistan': 3176, 'summer': 4352, 'doctors': 1330, 'medical': 2806, 'workers': 4943, 'ground': 1982, 'race': 3578, 'battle': 396, 'diseases': 1307, 'isnt': 2367, 'answer': 209, 'repeatedly': 3719, 'shown': 4066, 'ending': 1492, 'administration': 71, 'doesnt': 1334, 'table': 4410, 'mississippi': 2892, 'german': 1891, 'follow': 1782, 'trail': 4596, 'find': 1737, 'bags': 360, 'history': 2127, 'led': 2588, 'spokesman': 4208, 'michael': 2848, 'walk': 4818, 'told': 4557, 'media': 2804, 'amazon': 172, 'limited': 2633, 'produced': 3474, 'original': 3139, 'film': 1727, 'joins': 2428, 'writer': 4965, 'sequel': 3994, 'newest': 3012, 'bill': 462, 'help': 2091, 'faces': 1623, 'long': 2671, 'odds': 3077, 'outrage': 3151, 'hasnt': 2050, 'refugees': 3665, 'alabama': 141, 'survivor': 4387, 'collins': 873, 'lost': 2687, 'eye': 1617, 'pieces': 3314, 'glass': 1911, 'bombing': 514, 'killed': 2492, 'sister': 4097, 'girls': 1903, 'church': 801, 'ago': 119, 'racism': 3582, 'root': 3849, 'crisis': 1069, 'capital': 653, 'stop': 4273, 'free': 1824, 'opera': 3111, 'close': 839, 'broadway': 578, 'scheduled': 3928, 'february': 1686, 'victim': 4765, 'theater': 4494, 'york': 4981, 'mark': 2756, 'reportthe': 3729, 'white': 4892, 'chief': 772, 'staff': 4224, 'turned': 4666, 'records': 3648, 'federal': 1688, 'investigation': 2339, 'assault': 291, 'capitol': 654, 'meet': 2813, 'alex': 150, 'changing': 738, 'industry': 2281, 'authors': 330, 'book': 518, 'rejected': 3681, 'numerous': 3052, 'directly': 1286, 'readers': 3617, 'worker': 4942, 'saves': 3913, 'baby': 345, 'womans': 4925, 'aid': 125, 'arrived': 271, 'saved': 3912, 'davis': 1144, 'attack': 302, 'king': 2501, 'oscar': 3143, 'winner': 4911, 'worked': 4941, 'hours': 2182, 'role': 3835, 'action': 42, 'kim': 2496, 'kardashians': 2462, 'reality': 3621, 'star': 4235, 'corden': 1005, 'shes': 4038, 'clearly': 826, 'im': 2232, 'offer': 3079, 'reward': 3793, 'hoping': 2165, 'shot': 4059, 'rap': 3598, 'icon': 2214, 'old': 3096, 'middle': 2851, 'school': 3929, 'rapper': 3601, 'surprised': 4375, 'children': 775, 'alexander': 151, 'announcement': 204, 'visits': 4795, 'paul': 3233, 'remain': 3699, 'ambassador': 173, 'united': 4709, 'nations': 2975, 'frequent': 1827, 'negotiations': 2997, 'meetings': 2815, 'emmy': 1472, 'awards': 337, 'audience': 320, 'continues': 979, 'television': 4460, 'ceremony': 719, 'viewers': 4778, 'compared': 908, 'program': 3487, 'possible': 3392, 'nationwide': 2976, 'strike': 4300, 'travelers': 4613, 'press': 3441, 'secretary': 3956, 'shutdown': 4069, 'acceptable': 16, 'harm': 2042, 'families': 1647, 'businesses': 614, 'democrats': 1209, 'seth': 4008, 'island': 2365, 'states': 4247, 'face': 1620, 'mayor': 2788, 'election': 1443, 'search': 3945, 'results': 3772, 'online': 3105, 'prominent': 3494, 'news': 3014, 'likely': 2630, 'turn': 4665, 'falls': 1643, 'nd': 2987, 'straight': 4284, 'month': 2918, 'lower': 2702, 'gas': 1871, 'basis': 391, 'prices': 3450, 'rose': 3851, 'flat': 1760, 'reading': 3618, 'july': 2450, 'filmmaker': 1729, 'best': 443, 'minnesota': 2877, 'launch': 2556, 'increases': 2269, 'improve': 2254, 'patient': 3226, 'care': 663, 'pandemic': 3180, 'urges': 4729, 'unity': 4710, 'speech': 4192, 'renewed': 3714, 'cancer': 645, 'red': 3652, 'blue': 502, 'beating': 406, 'sen': 3977, 'tim': 4540, 'scott': 3938, 'concerns': 926, 'struggling': 4312, 'senate': 3978, 'gop': 1933, 'gonna': 1929, 'play': 3340, 'fox': 1816, 'boston': 527, 'marathon': 2748, 'athletes': 299, 'wont': 4934, 'mens': 2830, 'womens': 4927, 'provided': 3528, 'guide': 1996, 'training': 4599, 'anthony': 212, 'cop': 1001, 'crash': 1050, 'way': 4852, 'atlanta': 300, 'started': 4240, 'law': 2561, 'enforcement': 1500, 'career': 664, 'ballot': 367, 'moderate': 2905, 'district': 1317, 'republican': 3735, 'pushing': 3556, 'fight': 1715, 'plans': 3334, 'draw': 1363, 'attention': 313, 'backed': 349, 'study': 4318, 'seeks': 3966, 'blood': 499, 'tests': 4484, 'screen': 3940, 'multiple': 2950, 'art': 272, 'artist': 275, 'ways': 4853, 'confront': 942, 'conversations': 989, 'female': 1701, 'motherhood': 2930, 'labor': 2525, 'reputation': 3737, 'honors': 2158, 'humanity': 2198, 'wins': 4914, 'open': 3106, 'st': 4223, 'slam': 4114, 'final': 1731, 'earn': 1405, 'grand': 1954, 'age': 110, 'weather': 4862, 'helping': 2094, 'threat': 4518, 'western': 4888, 'fires': 1749, 'progress': 3489, 'huge': 2195, 'northern': 3035, 'california': 628, 'threatening': 4521, 'mountain': 2936, 'homes': 2149, 'victims': 4766, 'vows': 4810, 'commitment': 897, 'marked': 2757, 'anniversary': 201, 'attacks': 305, 'taking': 4415, 'pentagon': 3248, 'marks': 2761, 'remains': 3701, 'point': 3357, 'reflection': 3659, 'security': 3962, 'policy': 3363, 'terror': 4475, 'worldwide': 4951, 'nuclear': 3048, 'plant': 3335, 'biggest': 459, 'start': 4239, 'sales': 3892, 'gun': 2002, 'adoption': 78, 'significant': 4078, 'largest': 2542, 'network': 3006, 'add': 58, 'express': 1609, 'adopt': 76, 'code': 859, 'trump': 4649, 'team': 4446, 'propose': 3507, 'names': 2968, 'department': 1216, 'proposed': 3508, 'retired': 3775, 'judges': 2447, 'trumps': 4650, 'judge': 2446, 'lawyer': 2567, 'presents': 3435, 'scenes': 3926, 'super': 4358, 'excited': 1570, 'finally': 1733, 'additional': 64, 'works': 4948, 'pulling': 3541, 'defense': 1186, 'announced': 203, 'troops': 4641, 'pulled': 3540, 'area': 253, 'offensive': 3078, 'advances': 85, 'southern': 4172, 'heat': 2080, 'overwhelmed': 3158, 'got': 1936, 'ukraine': 4686, 'claiming': 816, 'success': 4332, 'east': 1412, 'harry': 2045, 'styles': 4325, 'tribute': 4630, 'nyc': 3057, 'round': 3854, 'pop': 3376, 'crowd': 1077, 'madison': 2713, 'square': 4222, 'garden': 1868, 'performance': 3256, 'kelly': 2471, 'abuse': 11, 'testimony': 4482, 'major': 2727, 'blow': 501, 'singers': 4093, 'hope': 2160, 'hearts': 2079, 'broken': 580, 'historic': 2125, 'pages': 3169, 'british': 575, 'international': 2329, 'honor': 2155, 'passing': 3217, 'receive': 3634, 'lgbtq': 2614, 'advocacy': 92, 'singer': 4092, 'youtube': 4990, 'award': 336, 'focus': 1778, 'asks': 287, 'countries': 1026, 'responsibility': 3764, 'climate': 831, 'change': 735, 'faced': 1622, 'challenge': 726, 'politicians': 3368, 'dna': 1327, 'connected': 950, 'murder': 2951, 'county': 1030, 'arrested': 268, 'fatal': 1666, 'jeff': 2402, 'obama': 3059, 'celebrated': 704, 'wearing': 4860, 'portrait': 3383, 'internet': 2330, 'approval': 244, 'choice': 785, 'opens': 3110, 'walking': 4821, 'injury': 2297, 'thought': 4514, 'going': 1923, 'actor': 50, 'shooting': 4050, 'finale': 1732, 'holding': 2135, 'walls': 4824, 'recovering': 3650, 'michigan': 2850, 'abortion': 5, 'amendment': 175, 'measure': 2800, 'claimed': 815, 'highest': 2109, 'argument': 257, 'portland': 3382, 'residents': 3747, 'disabilities': 1290, 'sue': 4337, 'citys': 811, 'blocked': 492, 'allowing': 163, 'homeless': 2147, 'peoples': 3250, 'block': 491, 'city': 810, 'makes': 2731, 'difficult': 1277, 'use': 4731, 'began': 416, 'late': 2547, 'tuesday': 4658, 'trapped': 4607, 'customers': 1105, 'baseball': 387, 'players': 3343, 'union': 4706, 'solidarity': 4150, 'association': 295, 'member': 2821, 'unions': 4707, 'muslims': 2958, 'characters': 744, 'shows': 4067, 'researchers': 3746, 'muslim': 2957, 'typically': 4682, 'violent': 4783, 'unemployment': 4702, 'insurance': 2317, 'system': 4408, 'ready': 3619, 'cutting': 1110, 'congress': 946, 'unlikely': 4717, 'step': 4256, 'exposed': 1607, 'systems': 4409, 'austin': 323, 'airport': 136, 'leads': 2576, 'traffic': 4593, 'texas': 4485, 'morning': 2925, 'causing': 698, 'goes': 1922, 'near': 2988, 'despite': 1236, 'head': 2061, 'energy': 1499, 'agency': 112, 'warned': 4835, 'council': 1021, 'place': 3324, 'shut': 4068, 'computer': 921, 'schools': 3930, 'kills': 2495, 'weekend': 4873, 'strikes': 4301, 'dad': 1115, 'roger': 3834, 'detroit': 1250, 'player': 3342, 'duty': 1401, 'loss': 2686, 'solid': 4149, 'notice': 3040, 'effect': 1431, 'parent': 3188, 'company': 906, 'instagram': 2312, 'irish': 2359, 'social': 4141, 'privacy': 3463, 'laws': 2565, 'related': 3684, 'starts': 4242, 'today': 4552, 'survivors': 4388, 'mass': 2772, 'high': 2107, 'heavy': 2083, 'trust': 4652, 'buy': 619, 'north': 3034, 'finding': 1738, 'comes': 886, 'confirmed': 938, 'military': 2863, 'august': 322, 'delivery': 1201, 'feels': 1695, 'idea': 2217, 'acting': 41, 'worried': 4953, 'violence': 4782, 'potential': 3401, 'threats': 4523, 'harassment': 2037, 'danger': 1127, 'drops': 1389, 'hate': 2052, 'site': 4100, 'ceo': 717, 'matthew': 2785, 'prince': 3454, 'previously': 3448, 'calls': 632, 'bear': 402, 'spotted': 4215, 'swimming': 4400, 'welcome': 4881, 'kill': 2491, 'fourth': 1815, 'hour': 2181, 'wounded': 4962, 'looks': 2678, 'runs': 3871, 'cant': 650, 'remember': 3704, 'gunman': 2003, 'grade': 1947, 'elementary': 1449, 'teachers': 4443, 'leaving': 2586, 'wisconsin': 4916, 'candidate': 646, 'tells': 4463, 'voters': 4807, 'supporters': 4364, 'following': 1785, 'journal': 2439, 'reporting': 3727, 'donations': 1344, 'antiabortion': 213, 'groups': 1984, 'arrest': 267, 'tennessee': 4467, 'jackson': 2384, 'clean': 823, 'infrastructure': 2289, 'natural': 2978, 'lake': 2530, 'rising': 3817, 'dangerous': 1128, 'levels': 2611, 'warn': 4834, 'expected': 1590, 'unprecedented': 4718, 'trauma': 4609, 'survived': 4385, 'spending': 4195, 'host': 2173, 'mental': 2831, 'including': 2264, 'emergency': 1467, 'declared': 1172, 'flash': 1759, 'hits': 2129, 'parts': 3208, 'georgia': 1890, 'waters': 4849, 'return': 3778, 'love': 2694, 'familys': 1649, 'mtv': 2947, 'estate': 1544, 'england': 1505, 'small': 4124, 'airplane': 135, 'walmart': 4825, 'moon': 2921, 'rocket': 3832, 'powerful': 3408, 'date': 1136, 'migrants': 2857, 'rio': 3811, 'grande': 1955, 'border': 522, 'toll': 4558, 'followed': 1783, 'dozens': 1355, 'owner': 3160, 'frozen': 1838, 'shops': 4055, 'hiding': 2106, 'camera': 636, 'counts': 1029, 'jail': 2386, 'charge': 745, 'counsel': 1022, 'pat': 3223, 'testify': 4481, 'jury': 2455, 'deputy': 1220, 'patrick': 3228, 'provide': 3527, 'friday': 1830, 'current': 1100, 'quiet': 3573, 'season': 3947, 'west': 4887, 'putin': 3557, 'reflects': 3661, 'legacy': 2592, 'home': 2145, 'nasa': 2971, 'aims': 130, 'foot': 1789, 'built': 598, 'delayed': 1196, 'hiring': 2123, 'rate': 3604, 'low': 2701, 'came': 635, 'jobs': 2420, 'pregnant': 3425, 'passenger': 3214, 'receives': 3636, 'individual': 2279, 'stopped': 4274, 'breast': 555, 'youre': 4988, 'tired': 4548, 'carrying': 677, 'ice': 2213, 'bottles': 529, 'milk': 2864, 'option': 3125, 'louisiana': 2693, 'alive': 154, 'safe': 3884, 'armed': 264, 'points': 3359, 'science': 3932, 'center': 713, 'commission': 895, 'findsthe': 1741, 'weapon': 4857, 'toxic': 4584, 'causes': 697, 'fish': 1753, 'wash': 4841, 'creating': 1057, 'worse': 4957, 'lisa': 2648, 'rare': 3602, 'independent': 2275, 'artists': 277, 'missed': 2888, 'culture': 1092, 'fit': 1754, 'certain': 720, 'big': 457, 'rep': 3716, 'jim': 2416, 'twitter': 4677, 'account': 27, 'page': 3168, 'filing': 1724, 'described': 1222, 'representatives': 3731, 'hand': 2022, 'property': 3504, 'pizza': 3323, 'ad': 56, 'leader': 2572, 'earned': 1406, 'refused': 3667, 'eat': 1416, 'republicans': 3736, 'ignore': 2224, 'continuing': 980, 'donald': 1342, 'documents': 1333, 'florida': 1770, 'friends': 1835, 'questions': 3570, 'secrets': 3958, 'steve': 4262, 'response': 3763, 'keeping': 2468, 'secret': 3955, 'private': 3464, 'chicago': 770, 'case': 681, 'stands': 4234, 'sexual': 4018, 'videos': 4772, 'latest': 2550, 'trial': 4629, 'truth': 4653, 'amid': 180, 'thing': 4508, 'signs': 4080, 'night': 3022, 'common': 900, 'dealing': 1153, 'safety': 3886, 'mission': 2891, 'manager': 2741, 'official': 3087, 'aide': 126, 'tony': 4564, 'served': 4000, 'political': 3365, 'adviser': 91, 'agent': 114, 'trailer': 4597, 'release': 3691, 'beginning': 418, 'october': 3075, 'sex': 4015, 'keith': 2470, 'breastfeeding': 556, 'condition': 928, 'moms': 2912, 'intense': 2320, 'brief': 567, 'depression': 1219, 'anxiety': 216, 'negative': 2996, 'emotion': 1474, 'think': 4510, 'brings': 573, 'mom': 2908, 'letter': 2607, 'stars': 4238, 'romance': 3841, 'ex': 1563, 'lopez': 2680, 'happy': 2036, 'controversial': 984, 'tool': 4566, 'gone': 1928, 'supposed': 4367, 'voting': 4809, 'present': 3433, 'stopping': 4275, 'lindsey': 2638, 'graham': 1951, 'warns': 4837, 'streets': 4294, 'believe': 428, 'getting': 1895, 'amber': 174, 'disgusting': 1308, 'caribbean': 669, 'appeared': 233, 'virtually': 4788, 'person': 3264, 'appearance': 232, 'heard': 2074, 'june': 2453, 'guest': 1993, 'taylor': 4439, 'inner': 2299, 'deaths': 1158, 'pass': 3211, 'earlier': 1403, 'normal': 3033, 'carpet': 673, 'need': 2993, 'showed': 4063, 'jersey': 2407, 'conducted': 931, 'active': 44, 'shooter': 4049, 'employees': 1481, 'hired': 2122, 'looked': 2676, 'terrorism': 4476, 'lifes': 2622, 'hes': 2102, 'fbi': 1675, 'message': 2837, 'posted': 3395, 'fake': 1638, 'challenges': 728, 'resort': 3756, 'files': 1723, 'misconduct': 2886, 'relationships': 3687, 'outside': 3153, 'marriage': 2762, 'details': 1245, 'allegations': 155, 'don': 1341, 'jr': 2445, 'posts': 3397, 'dick': 1265, 'mr': 2945, 'fan': 1651, 'file': 1721, 'motion': 2932, 'legal': 2593, 'order': 3128, 'polish': 3364, 'college': 871, 'students': 4315, 'mexico': 2845, 'local': 2663, 'army': 266, 'caught': 694, 'rock': 3831, 'initially': 2293, 'believed': 429, 'underwater': 4699, 'jared': 2395, 'kushner': 2520, 'blasts': 486, 'nasty': 2972, 'chrissy': 792, 'teigen': 4459, 'kimmel': 2497, 'absolutely': 9, 'nsfw': 3047, 'speed': 4193, 'targeting': 4430, 'sensitive': 3986, 'heavily': 2082, 'document': 1331, 'permission': 3262, 'highly': 2112, 'money': 2915, 'operation': 3112, 'suggesting': 4346, 'finances': 1735, 'business': 613, 'finish': 1745, 'fighting': 1716, 'pulls': 3542, 'wild': 4898, 'right': 3805, 'mad': 2712, 'nature': 2980, 'companies': 905, 'continue': 977, 'wood': 4935, 'corporations': 1011, 'blocks': 493, 'dakota': 1119, 'trigger': 4636, 'banning': 376, 'ban': 370, 'vote': 4804, 'gov': 1938, 'brian': 562, 'fights': 1717, 'special': 4186, 'illegal': 2229, 'attempts': 309, 'influence': 2286, 'resign': 3748, 'released': 3692, 'protect': 3512, 'plan': 3328, 'dollar': 1338, 'agencies': 111, 'shop': 4053, 'bought': 530, 'dan': 1124, 'leading': 2575, 'democratic': 1208, 'primary': 3452, 'declares': 1173, 'congressional': 947, 'officially': 3088, 'rival': 3820, 'oklahoma': 3095, 'succeed': 4331, 'critic': 1070, 'supporter': 4363, 'charlie': 751, 'chance': 732, 'ron': 3845, 'making': 2733, 'run': 3869, 'democrat': 1207, 'having': 2058, 'term': 4471, 'job': 2419, 'decade': 1165, 'irs': 2361, 'review': 3790, 'linked': 2642, 'conspiracy': 962, 'internal': 2328, 'comprehensive': 920, 'student': 4314, 'loan': 2660, 'debt': 1161, 'bidens': 455, 'nation': 2973, 'midterm': 2855, 'elections': 1444, 'ratings': 3606, 'hbo': 2060, 'premiere': 3426, 'game': 1864, 'thrones': 4526, 'guilty': 2000, 'apartment': 221, 'jerry': 2406, 'hall': 2018, 'fame': 1645, 'classic': 821, 'songs': 4159, 'thatll': 4492, 'andrew': 187, 'confirms': 939, 'method': 2842, 'revealed': 3785, 'prepare': 3428, 'rips': 3814, 'tactics': 4412, 'trash': 4608, 'havent': 2057, 'arizona': 261, 'holy': 2144, 'crazy': 1052, 'mind': 2869, 'delay': 1195, 'circle': 804, 'sweet': 4397, 'paid': 3170, 'leave': 2584, 'theyre': 4505, 'short': 4056, 'opportunity': 3119, 'try': 4655, 'uk': 4685, 'musical': 2956, 'minute': 2881, 'duke': 1396, 'score': 3936, 'feb': 1685, 'falling': 1641, 'events': 1555, 'cause': 695, 'increase': 2267, 'produce': 3473, 'oil': 3092, 'charges': 747, 'khan': 2483, 'officers': 3085, 'countrys': 1028, 'act': 40, 'teacher': 4442, 'contract': 981, 'language': 2538, 'meant': 2799, 'color': 874, 'traditional': 4591, 'hawaii': 2059, 'seeking': 3965, 'end': 1489, 'conflict': 940, 'sacred': 3880, 'summit': 4354, 'scientists': 3935, 'stranger': 4287, 'ring': 3809, 'plea': 3347, 'facebook': 1621, 'spent': 4196, 'searching': 3946, 'metal': 2841, 'ball': 365, 'box': 534, 'lion': 2644, 'carried': 675, 'prison': 3461, 'instead': 2314, 'bringing': 572, 'food': 1787, 'ruling': 3867, 'giving': 1907, 'drinks': 1378, 'snacks': 4134, 'trans': 4600, 'considered': 959, 'rules': 3866, 'daughter': 1139, 'born': 525, 'transition': 4605, 'symbol': 4403, 'movement': 2940, 'seattle': 3952, 'racial': 3581, 'affordable': 101, 'housing': 2186, 'mike': 2858, 'pence': 3246, 'vice': 4764, 'agents': 115, 'sick': 4072, 'chain': 722, 'restaurants': 3768, 'ohio': 3091, 'pennsylvania': 3247, 'eating': 1417, 'ill': 2228, 'shocking': 4045, 'drone': 1385, 'attacking': 304, 'bite': 477, 'crush': 1082, 'break': 550, 'pain': 3171, 'know': 2508, 'reach': 3609, 'doctor': 1329, 'mitch': 2896, 'mcconnell': 2791, 'gives': 1906, 'winning': 4913, 'quality': 3561, 'factor': 1626, 'control': 983, 'november': 3045, 'bryant': 590, 'photos': 3285, 'grief': 1975, 'lives': 2658, 'fear': 1677, 'husbands': 2211, 'young': 4986, 'denied': 1212, 'bond': 516, 'gang': 1866, 'men': 2829, 'ask': 284, 'matter': 2783, 'interest': 2323, 'involving': 2349, 'actions': 43, 'wrote': 4971, 'attorney': 316, 'sentence': 3988, 'saudi': 3910, 'accounts': 30, 'critical': 1071, 'pride': 3451, 'priority': 3460, 'access': 20, 'extra': 1613, 'vaccine': 4741, 'available': 332, 'cities': 806, 'orleans': 3142, 'nfl': 3017, 'cleveland': 827, 'browns': 586, 'quarterback': 3563, 'dozen': 1354, 'women': 4926, 'played': 3341, 'houston': 2187, 'gold': 1924, 'standard': 4231, 'talks': 4424, 'settlement': 4012, 'familiar': 1646, 'ap': 219, 'cdc': 701, 'coronavirus': 1009, 'recalls': 3632, 'seat': 3950, 'aware': 338, 'injuries': 2296, 'result': 3771, 'planned': 3332, 'parenthood': 3190, 'spend': 4194, 'reproductive': 3733, 'congressman': 948, 'fraud': 1822, 'feds': 1689, 'syria': 4406, 'denies': 1213, 'syrian': 4407, 'nba': 2984, 'games': 1865, 'effort': 1435, 'voter': 4806, 'living': 2659, 'cast': 684, 'france': 1817, 'suspected': 4391, 'findings': 1739, 'debate': 1159, 'pets': 3273, 'individuals': 2280, 'purchase': 3547, 'number': 3050, 'russell': 3875, 'wilson': 4903, 'group': 1983, 'includes': 2263, 'diversity': 1321, 'period': 3260, 'products': 3481, 'universities': 4713, 'buildings': 597, 'tiger': 4538, 'tour': 4577, 'woods': 4936, 'probe': 3469, 'constitution': 965, 'provides': 3530, 'absolute': 8, 'protection': 3515, 'senator': 3979, 'acts': 53, 'roles': 3836, 'diagnosis': 1261, 'injured': 2295, 'great': 1966, 'america': 176, 'hurt': 2207, 'parking': 3196, 'lot': 2688, 'illinois': 2230, 'shots': 4060, 'fired': 1748, 'vehicle': 4756, 'iran': 2353, 'focused': 1779, 'recent': 3638, 'demanding': 1203, 'lawyers': 2568, 'appeal': 229, 'basketball': 392, 'begin': 417, 'palestinian': 3177, 'jerusalem': 2408, 'israel': 2368, 'palestinians': 3178, 'gaza': 1879, 'bank': 373, 'train': 4598, 'brad': 540, 'movies': 2943, 'ticket': 4533, 'worst': 4958, 'egypt': 1439, 'loud': 2691, 'sound': 4166, 'services': 4003, 'salt': 3893, 'picked': 3307, 'road': 3824, 'recovery': 3651, 'saysthe': 3919, 'suffering': 4342, 'failure': 1633, 'research': 3744, 'tens': 4469, 'attempting': 308, 'grab': 1945, 'guns': 2004, 'kids': 2490, 'campus': 641, 'wall': 4823, 'street': 4293, 'tax': 4437, 'professionals': 3483, 'fund': 1848, 'interests': 2326, 'defended': 1183, 'event': 1554, 'organized': 3137, 'suspect': 4390, 'author': 327, 'identified': 2220, 'sends': 3983, 'determine': 1248, 'prime': 3453, 'minister': 2876, 'suspects': 4392, 'amounts': 181, 'chemical': 767, 'waste': 4844, 'river': 3821, 'apologizes': 224, 'therapy': 4501, 'sessions': 4006, 'billion': 464, 'roads': 3825, 'bike': 460, 'transportation': 4606, 'projects': 3493, 'funding': 1850, 'virus': 4789, 'weeks': 4876, 'little': 2654, 'reduce': 3654, 'screening': 3941, 'fly': 1775, 'turkey': 4662, 'officer': 3084, 'net': 3003, 'attempt': 306, 'martin': 2767, 'legendary': 2596, 'comedian': 883, 'actors': 51, 'emmys': 1473, 'girl': 1901, 'hampshire': 2021, 'level': 2610, 'airline': 133, 'tickets': 4534, 'clothes': 845, 'consumers': 969, 'bit': 476, 'relief': 3695, 'mount': 2935, 'ease': 1409, 'question': 3568, 'reelection': 3656, 'threw': 4524, 'device': 1256, 'neighborhood': 2998, 'convicted': 990, 'sharing': 4030, 'cash': 683, 'gifts': 1900, 'providing': 3531, 'whale': 4890, 'rescue': 3742, 'thin': 4507, 'breathing': 559, 'inclusion': 2265, 'la': 2522, 'horrific': 2167, 'images': 2234, 'loved': 2695, 'ones': 3103, 'rudy': 3862, 'giuliani': 1904, 'tried': 4634, 'reveals': 3787, 'jimmy': 2417, 'fallon': 1642, 'poem': 3355, 'ended': 1491, 'films': 1730, 'album': 145, 'joined': 2426, 'golf': 1926, 'compete': 911, 'suspended': 4393, 'allowed': 162, 'sold': 4146, 'sale': 3891, 'rob': 3826, 'approved': 245, 'owners': 3161, 'anonymous': 208, 'meeting': 2814, 'friend': 1833, 'veterans': 4762, 'good': 1930, 'heroes': 2100, 'john': 2422, 'responded': 3761, 'peter': 3271, 'susan': 4389, 'chris': 791, 'murphy': 2952, 'stepped': 4258, 'share': 4027, 'photo': 3281, 'car': 659, 'things': 4509, 'looking': 2677, 'crimes': 1067, 'bernie': 442, 'credit': 1063, 'benefit': 438, 'appears': 234, 'bipartisan': 470, 'mitt': 2897, 'romney': 3844, 'hide': 2105, 'lines': 2640, 'makeup': 2732, 'solutions': 4153, 'fix': 1756, 'farmers': 1658, 'self': 3972, 'example': 1566, 'station': 4248, 'starring': 4237, 'opening': 3108, 'discovery': 1299, 'david': 1143, 'recently': 3639, 'upcoming': 4721, 'arrests': 269, 'community': 904, 'targeted': 4429, 'executive': 1575, 'struck': 4308, 'cuban': 1087, 'smoke': 4131, 'cloud': 847, 'spread': 4217, 'eastern': 1414, 'kentucky': 2476, 'storms': 4281, 'extreme': 1615, 'extended': 1612, 'flood': 1767, 'theres': 4502, 'region': 3672, 'coming': 891, 'tweeted': 4671, 'noted': 3038, 'responsible': 3765, 'canadian': 643, 'uses': 4735, 'billboard': 463, 'rid': 3801, 'product': 3477, 'moved': 2939, 'toronto': 4570, 'wanted': 4827, 'item': 2376, 'couple': 1032, 'turns': 4668, 'theyd': 4503, 'sanctuary': 3899, 'better': 447, 'ahead': 124, 'prescription': 3431, 'drug': 1391, 'medicare': 2807, 'medication': 2808, 'senators': 3980, 'refuse': 3666, 'rule': 3864, 'supporting': 4365, 'criminal': 1068, 'stance': 4229, 'exhibit': 1579, 'dancing': 1126, 'stand': 4230, 'guy': 2006, 'cry': 1084, 'bizarre': 479, 'scene': 3925, 'infant': 2284, 'occurred': 3072, 'hills': 2118, 'trevor': 4628, 'noah': 3025, 'daily': 1118, 'scientist': 3934, 'trolls': 4640, 'actually': 55, 'treatment': 4619, 'puts': 3558, 'heres': 2097, 'manage': 2738, 'advice': 90, 'financial': 1736, 'burden': 603, 'quietly': 3574, 'whats': 4891, 'max': 2786, 'potentially': 3402, 'cuts': 1109, 'future': 1856, 'streaming': 4292, 'legend': 2595, 'presidential': 3439, 'friendship': 1836, 'demi': 1205, 'gap': 1867, 'sings': 4096, 'track': 4587, 'land': 2532, 'selena': 3971, 'gomez': 1927, 'developing': 1254, 'beloved': 434, 'comedy': 885, 'ford': 1795, 'main': 2722, 'urged': 4727, 'pelosi': 3243, 'husband': 2210, 'speaker': 4182, 'nancy': 2969, 'driving': 1384, 'defends': 1185, 'de': 1148, 'youll': 4985, 'pointed': 3358, 'post': 3394, 'sandy': 3904, 'hook': 2159, 'jones': 2434, 'neil': 3001, 'guard': 1991, 'cat': 687, 'hero': 2099, 'alert': 149, 'itthe': 2378, 'burn': 607, 'heads': 2066, 'desk': 1233, 'university': 4714, 'professor': 3484, 'sitting': 4103, 'institutions': 2316, 'senior': 3984, 'centers': 714, 'learned': 2581, 'far': 1656, 'committee': 899, 'returns': 3781, 'poll': 3370, 'nomination': 3029, 'manhattan': 2744, 'real': 3620, 'talking': 4423, 'smith': 4130, 'sources': 4170, 'needs': 2995, 'deal': 1152, 'fine': 1742, 'spark': 4178, 'stress': 4296, 'realizing': 3624, 'continued': 978, 'vulnerable': 4812, 'dems': 1210, 'decision': 1170, 'heading': 2063, 'stake': 4228, 'charles': 749, 'charity': 748, 'bin': 469, 'accepted': 18, 'pound': 3404, 'newspaper': 3016, 'dc': 1147, 'league': 2577, 'superhero': 4359, 'jordan': 2436, 'risk': 3818, 'infection': 2285, 'chinese': 781, 'apparently': 228, 'burning': 609, 'sky': 4113, 'alleged': 156, 'bomb': 513, 'allegedly': 157, 'katie': 2466, 'hit': 2128, 'nevada': 3009, 'reveal': 3784, 'plot': 3351, 'suggests': 4348, 'quit': 3575, 'scandal': 3921, 'fails': 1632, 'phones': 3280, 'homeland': 2146, 'wolf': 4923, 'ken': 2473, 'kid': 2488, 'footage': 1790, 'native': 2977, 'abc': 2, 'witness': 4921, 'ultimately': 4688, 'wishes': 4920, 'snl': 4137, 'bad': 358, 'affect': 97, 'happened': 2030, 'developed': 1253, 'hold': 2134, 'massacre': 2774, 'beyonce': 449, 'shares': 4029, 'glimpse': 1913, 'gave': 1876, 'fans': 1653, 'carter': 680, 'package': 3166, 'requires': 3741, 'unarmed': 4691, 'harris': 2044, 'hitting': 2130, 'cuomo': 1094, 'cable': 623, 'cnn': 849, 'taken': 4413, 'sentenced': 3989, 'george': 1889, 'brought': 584, 'civil': 812, 'protecting': 3514, 'birth': 473, 'lawmakers': 2563, 'celebrating': 706, 'protections': 3516, 'temperatures': 4464, 'tips': 4547, 'joseph': 2437, 'detained': 1246, 'plays': 3346, 'tonight': 4562, 'protesting': 3520, 'dr': 1356, 'sought': 4164, 'removed': 3713, 'saying': 3917, 'jackie': 2383, 'museum': 2954, 'opened': 3107, 'gala': 1861, 'attended': 311, 'bannon': 377, 'shock': 4043, 'rhetoric': 3795, 'entertainment': 1516, 'offers': 3082, 'wonderful': 4931, 'father': 1669, 'asking': 286, 'greg': 1972, 'hell': 2089, 'allow': 161, 'conversation': 988, 'phone': 3279, 'luck': 2704, 'diagnosed': 1260, 'miss': 2887, 'wait': 4814, 'stronger': 4306, 'breaks': 553, 'swedish': 4395, 'famous': 1650, 'muhammad': 2949, 'belt': 435, 'sells': 3976, 'significantly': 4079, 'kevin': 2479, 'consequences': 955, 'lies': 2619, 'josh': 2438, 'widely': 4895, 'iowa': 2350, 'boy': 535, 'rest': 3766, 'rolling': 3838, 'kanye': 2460, 'queer': 3566, 'spiritual': 4204, 'hard': 2038, 'religious': 3697, 'editorial': 1427, 'boards': 505, 'slammed': 4115, 'riot': 3812, 'walked': 4819, 'away': 340, 'journalism': 2440, 'running': 3870, 'curry': 1102, 'favor': 1672, 'unique': 4708, 'background': 350, 'bag': 359, 'relationship': 3686, 'choose': 787, 'experiencing': 1596, 'bring': 571, 'pet': 3270, 'mirror': 2885, 'voted': 4805, 'passed': 3213, 'fears': 1679, 'conservatives': 957, 'sand': 3900, 'kate': 2465, 'middleton': 2852, 'williams': 4901, 'duchess': 1395, 'replace': 3720, 'johnson': 2424, 'walker': 4820, 'messy': 2839, 'polls': 3372, 'football': 1791, 'slightly': 4120, 'silence': 4081, 'reason': 3626, 'exit': 1584, 'decided': 1169, 'appeals': 230, 'allows': 164, 'agenda': 113, 'push': 3553, 'resilience': 3750, 'gulf': 2001, 'wind': 4905, 'development': 1255, 'chronic': 799, 'lack': 2526, 'pollution': 3373, 'committed': 898, 'enemy': 1498, 'abandoned': 1, 'involved': 2347, 'custody': 1103, 'april': 248, 'followers': 1784, 'shed': 4033, 'forever': 1798, 'recover': 3649, 'wants': 4829, 'baltimore': 369, 'added': 59, 'list': 2649, 'fatally': 1667, 'boss': 526, 'cook': 994, 'begins': 419, 'indiana': 2278, 'mall': 2735, 'idol': 2223, 'minds': 2872, 'creator': 1061, 'sam': 3894, 'soon': 4161, 'harder': 2039, 'sell': 3974, 'dark': 1133, 'maryland': 2770, 'jon': 2432, 'sheriff': 4037, 'fda': 1676, 'probably': 3468, 'contain': 972, 'window': 4906, 'closed': 840, 'currently': 1101, 'website': 4864, 'ties': 4537, 'amy': 182, 'lee': 2589, 'line': 2639, 'ted': 4452, 'cruz': 1083, 'wrong': 4970, 'samesex': 3896, 'country': 1027, 'mouth': 2938, 'club': 848, 'moments': 2910, 'entered': 1513, 'charlotte': 752, 'board': 504, 'activism': 45, 'placed': 3325, 'highway': 2113, 'chairman': 725, 'twice': 4673, 'celebrate': 703, 'epic': 1526, 'steven': 4263, 'parade': 3186, 'concert': 927, 'simply': 4089, 'nurse': 3053, 'steal': 4253, 'newborn': 3011, 'newly': 3013, 'attempted': 307, 'gay': 1877, 'transgender': 4604, 'em': 1459, 'fk': 1757, 'text': 4486, 'messages': 2838, 'sure': 4369, 'raise': 3589, 'oh': 3090, 'dave': 1142, 'hearing': 2075, 'singing': 4094, 'pill': 3315, 'longer': 2672, 'means': 2798, 'medicaid': 2805, 'poor': 3375, 'fewer': 1710, 'mean': 2795, 'nominee': 3030, 'roots': 3850, 'thank': 4488, 'featured': 1682, 'podcast': 3354, 'sues': 4339, 'deny': 1214, 'receiving': 3637, 'rooms': 3848, 'anderson': 186, 'favorite': 1673, 'words': 4938, 'uber': 4683, 'sued': 4338, 'knowing': 2509, 'failing': 1631, 'similar': 4086, 'fill': 1725, 'drugs': 1392, 'ancient': 185, 'selling': 3975, 'ghost': 1896, 'force': 1792, 'exchange': 1569, 'band': 372, 'responds': 3762, 'wears': 4861, 'shirt': 4042, 'covers': 1043, 'influential': 2287, 'accuses': 34, 'trade': 4588, 'activity': 49, 'tourist': 4579, 'selfie': 3973, 'dropped': 1387, 'fell': 1698, 'trying': 4656, 'galaxy': 1862, 'fun': 1846, 'releases': 3693, 'die': 1267, 'dance': 1125, 'stunning': 4321, 'surprises': 4376, 'showing': 4065, 'complete': 916, 'huffpost': 2193, 'confusion': 945, 'ultimate': 4687, 'character': 743, 'actual': 54, 'gods': 1921, 'netflix': 3005, 'animated': 197, 'orange': 3127, 'wine': 4908, 'wide': 4894, 'variety': 4748, 'watched': 4846, 'william': 4900, 'truck': 4646, 'beats': 407, 'nick': 3019, 'raised': 3590, 'historical': 2126, 'weve': 4889, 'africa': 105, 'bar': 379, 'midnight': 2853, 'zoe': 4996, 'appear': 231, 'given': 1905, 'green': 1971, 'light': 2626, 'wednesday': 4869, 'won': 4928, 'drop': 1386, 'closely': 841, 'figure': 1718, 'party': 3209, 'determined': 1249, 'row': 3858, 'driver': 1381, 'urgent': 4728, 'feature': 1681, 'ny': 3056, 'novel': 3044, 'strategy': 4291, 'problem': 3470, 'academy': 14, 'calling': 631, 'panic': 3182, 'physical': 3304, 'issue': 2371, 'happens': 2032, 'dirty': 1289, 'drink': 1376, 'cocktail': 856, 'ingredients': 2291, 'hundreds': 2201, 'leaves': 2585, 'inspires': 2310, 'billy': 468, 'offered': 3080, 'swim': 4399, 'minutes': 2882, 'jumping': 2452, 'pool': 3374, 'lets': 2606, 'dig': 1278, 'activists': 47, 'animals': 196, 'san': 3897, 'twins': 4675, 'total': 4572, 'brothers': 583, 'fought': 1811, 'pray': 3418, 'finger': 1743, 'weed': 4871, 'reasons': 3628, 'oliver': 3099, 'nightmare': 3023, 'turning': 4667, 'beach': 400, 'stepping': 4259, 'britney': 576, 'spears': 4185, 'honeymoon': 2153, 'updates': 4723, 'getaway': 1893, 'enjoying': 1509, 'skin': 4110, 'trend': 4626, 'achieve': 35, 'reform': 3662, 'advocates': 94, 'minor': 2878, 'lauren': 2560, 'terrible': 4473, 'shootings': 4051, 'pope': 3377, 'francis': 1819, 'compares': 909, 'rome': 3843, 'clinic': 832, 'feeling': 1693, 'courts': 1038, 'adele': 69, 'pull': 3539, 'couldnt': 1020, 'radio': 3585, 'threatened': 4520, 'swift': 4398, 'attacked': 303, 'remove': 3712, 'forced': 1793, 'rape': 3599, 'core': 1006, 'changed': 736, 'constitutional': 966, 'resigns': 3749, 'widespread': 4896, 'terrifying': 4474, 'animal': 195, 'easy': 1415, 'landed': 2533, 'hot': 2177, 'perfectly': 3254, 'restaurant': 3767, 'sparks': 4180, 'compassion': 910, 'lead': 2571, 'type': 4679, 'sending': 3982, 'bottle': 528, 'playing': 3344, 'enjoyed': 1508, 'lawmaker': 2562, 'basic': 389, 'fail': 1629, 'expensive': 1592, 'march': 2750, 'properly': 3503, 'emotional': 1475, 'son': 4157, 'melania': 2819, 'revealing': 3786, 'word': 4937, 'meghan': 2817, 'impact': 2244, 'talked': 4422, 'feminist': 1703, 'criticized': 1073, 'immediately': 2239, 'iconic': 2215, 'create': 1054, 'obsession': 3066, 'male': 2734, 'youth': 4989, 'talent': 4417, 'rachel': 3580, 'honored': 2156, 'democracy': 1206, 'gops': 1934, 'spreading': 4218, 'drag': 1358, 'send': 3981, 'gender': 1881, 'suddenly': 4336, 'facing': 1624, 'offering': 3081, 'millions': 2868, 'nazi': 2983, 'germany': 1892, 'publicly': 3536, 'teen': 4453, 'reallife': 3625, 'hardly': 2041, 'intentions': 2322, 'society': 4142, 'carey': 668, 'bet': 445, 'christmas': 797, 'lifetime': 2624, 'achievement': 36, 'mogul': 2907, 'presented': 3434, 'mary': 2769, 'hurts': 2209, 'ben': 436, 'drives': 1383, 'jennifer': 2405, 'lamar': 2531, 'dramatic': 1361, 'strip': 4303, 'citizenship': 809, 'stupid': 4322, 'excuse': 1574, 'cultures': 1093, 'celebrities': 708, 'dressed': 1372, 'captured': 657, 'canada': 642, 'cross': 1076, 'justin': 2458, 'reminder': 3709, 'dangers': 1129, 'cars': 678, 'petition': 3272, 'confusing': 944, 'olivia': 3100, 'allen': 158, 'aimed': 129, 'song': 4158, 'rally': 3593, 'protesters': 3519, 'purpose': 3550, 'hospitalized': 2171, 'landmark': 2535, 'door': 1347, 'sent': 3987, 'woke': 4922, 'equality': 1530, 'clear': 825, 'goal': 1918, 'virgin': 4785, 'error': 1534, 'perfect': 3252, 'sun': 4355, 'rescued': 3743, 'thanks': 4490, 'obvious': 3068, 'teams': 4447, 'filed': 1722, 'engaged': 1502, 'kardashian': 2461, 'introduce': 2334, 'founder': 1814, 'explained': 1601, 'partner': 3205, 'opinions': 3115, 'soul': 4165, 'unexpected': 4703, 'washington': 4842, 'settle': 4011, 'agreement': 122, 'reached': 3610, 'eve': 1552, 'rejects': 3682, 'criticism': 1072, 'arts': 278, 'methods': 2843, 'paper': 3184, 'coffee': 860, 'alternatives': 168, 'options': 3126, 'pack': 3165, 'punch': 3544, 'prosecutor': 3510, 'zero': 4994, 'thinking': 4511, 'angelina': 192, 'moves': 2941, 'complex': 918, 'italy': 2375, 'sexually': 4020, 'concern': 924, 'combat': 879, 'seeing': 3963, 'refusing': 3669, 'orders': 3130, 'pays': 3237, 'classroom': 822, 'elite': 1454, 'christian': 793, 'americas': 179, 'wedding': 4867, 'deep': 1178, 'treats': 4621, 'bible': 452, 'expanding': 1587, 'toy': 4585, 'fathers': 1670, 'awkward': 343, 'eric': 1533, 'equal': 1529, 'lying': 2709, 'chair': 724, 'emerged': 1466, 'cheese': 763, 'argue': 256, 'kinds': 2500, 'pregnancy': 3424, 'users': 4734, 'desire': 1232, 'foods': 1788, 'grill': 1977, 'types': 4680, 'shouldnt': 4062, 'let': 2605, 'card': 661, 'dads': 1117, 'treat': 4616, 'meyers': 2846, 'diet': 1271, 'spoke': 4206, 'daca': 1114, 'based': 388, 'privilege': 3465, 'rush': 3874, 'important': 2249, 'experiences': 1595, 'ryan': 3879, 'version': 4759, 'magic': 2718, 'reminded': 3708, 'convinced': 992, 'opposite': 3122, 'theaters': 4495, 'tom': 4559, 'rice': 3796, 'changes': 737, 'promote': 3499, 'tyler': 4678, 'perry': 3263, 'oscars': 3144, 'address': 65, 'form': 1803, 'busy': 615, 'guess': 1992, 'count': 1023, 'epidemic': 1527, 'shape': 4026, 'candidates': 647, 'generation': 1885, 'happen': 2029, 'teens': 4457, 'jonathan': 2433, 'spring': 4219, 'reunion': 3782, 'delivered': 1199, 'touch': 4574, 'paris': 3193, 'siblings': 4071, 'staffers': 4225, 'fellow': 1699, 'pot': 3398, 'save': 3911, 'terms': 4472, 'cost': 1015, 'jong': 2435, 'koreas': 2517, 'weapons': 4858, 'exercise': 1577, 'google': 1932, 'employee': 1480, 'blake': 481, 'engage': 1501, 'peaceful': 3239, 'seal': 3943, 'boost': 520, 'mixed': 2899, 'rolls': 3839, 'refuses': 3668, 'breaking': 552, 'ivanka': 2379, 'knew': 2505, 'stood': 4272, 'slams': 4116, 'longtime': 2674, 'shame': 4025, 'forward': 1808, 'lessons': 2604, 'fresh': 1829, 'cute': 1107, 'fierce': 1713, 'desert': 1224, 'mccarthy': 2790, 'blames': 484, 'everybody': 1557, 'minority': 2880, 'fault': 1671, 'felt': 1700, 'bowl': 533, 'statement': 4245, 'seriously': 3998, 'parenting': 3191, 'classes': 820, 'adam': 57, 'explores': 1604, 'miller': 2866, 'teenager': 4455, 'test': 4479, 'features': 1683, 'arent': 255, 'weird': 4880, 'pattern': 3231, 'harvey': 2048, 'weinstein': 4879, 'crown': 1079, 'personal': 3265, 'joint': 2429, 'phil': 3276, 'grilled': 1978, 'troubling': 4645, 'sleep': 4117, 'symptoms': 4404, 'naked': 2966, 'butt': 616, 'funny': 1854, 'hungry': 2203, 'enjoy': 1507, 'healthy': 2072, 'snack': 4133, 'nights': 3024, 'prevent': 3444, 'divided': 1323, 'agree': 120, 'strong': 4305, 'girlfriend': 1902, 'grant': 1959, 'admit': 73, 'intention': 2321, 'ride': 3802, 'acceptance': 17, 'louis': 2692, 'gift': 1899, 'keeps': 2469, 'solution': 4152, 'definition': 1190, 'shoots': 4052, 'insane': 2303, 'single': 4095, 'african': 106, 'pastor': 3222, 'kiss': 2503, 'goodbye': 1931, 'closer': 842, 'ongoing': 3104, 'meaningful': 2797, 'unusual': 4719, 'draws': 1366, 'santa': 3905, 'unlike': 4716, 'theyve': 4506, 'destroyed': 1242, 'humor': 2200, 'peak': 3240, 'hanging': 2028, 'buffalo': 594, 'assistant': 293, 'tops': 4569, 'accountability': 28, 'cold': 865, 'comments': 893, 'talk': 4421, 'ocean': 3073, 'hotel': 2178, 'sorry': 4162, 'endangered': 1490, 'pushed': 3554, 'confederate': 932, 'flag': 1758, 'duo': 1399, 'direct': 1283, 'jane': 2391, 'tale': 4416, 'discuss': 1301, 'asian': 282, 'joy': 2444, 'discusses': 1303, 'stormy': 4282, 'cheating': 758, 'daniels': 1131, 'dollars': 1339, 'heal': 2067, 'picking': 3308, 'starbucks': 4236, 'discussion': 1305, 'apple': 235, 'battles': 397, 'describes': 1223, 'addiction': 61, 'memoir': 2824, 'hunger': 2202, 'steps': 4260, 'debut': 1162, 'miami': 2847, 'struggles': 4311, 'plus': 3352, 'cope': 1002, 'angel': 189, 'stolen': 4269, 'artistic': 276, 'value': 4745, 'drinking': 1377, 'affects': 99, 'differently': 1276, 'evening': 1553, 'explain': 1600, 'exactly': 1565, 'fed': 1687, 'grave': 1964, 'daniel': 1130, 'limits': 2634, 'certainly': 721, 'victory': 4769, 'backs': 353, 'programs': 3488, 'backlash': 352, 'comedians': 884, 'oregon': 3132, 'hopes': 2164, 'app': 226, 'brother': 582, 'authority': 329, 'pitch': 3321, 'filled': 1726, 'experienced': 1594, 'stuck': 4313, 'lived': 2656, 'mommy': 2911, 'daddy': 1116, 'oldest': 3098, 'tiny': 4545, 'ive': 2380, 'puppy': 3546, 'neck': 2992, 'sides': 4073, 'vital': 4797, 'stops': 4276, 'learning': 2582, 'hacks': 2014, 'deeply': 1180, 'inspired': 2309, 'episode': 1528, 'pie': 3312, 'nra': 3046, 'convention': 986, 'homemade': 2148, 'burger': 605, 'recipe': 3641, 'require': 3739, 'pro': 3467, 'brady': 541, 'practice': 3412, 'balls': 368, 'bay': 399, 'skills': 4109, 'moss': 2928, 'physically': 3305, 'horrible': 2166, 'reaction': 3614, 'breakup': 554, 'marvel': 2768, 'easily': 1411, 'revenge': 3788, 'vs': 4811, 'spy': 4221, 'innocent': 2300, 'writing': 4968, 'largely': 2540, 'writers': 4966, 'advance': 83, 'leadership': 2574, 'survey': 4382, 'kellyanne': 2472, 'conway': 993, 'admits': 74, 'respect': 3759, 'class': 819, 'dignity': 1280, 'toddler': 4554, 'dreams': 1370, 'user': 4733, 'graduation': 1950, 'hair': 2016, 'soldier': 4147, 'asia': 281, 'signed': 4077, 'legislation': 2597, 'market': 2758, 'mcdonalds': 2792, 'marine': 2755, 'opinion': 3114, 'formula': 1805, 'price': 3449, 'strange': 4286, 'era': 1532, 'competition': 912, 'concerned': 925, 'rarely': 3603, 'pounds': 3405, 'devastating': 1251, 'shortage': 4057, 'startup': 4243, 'promised': 3496, 'rural': 3873, 'neighbors': 3000, 'project': 3492, 'dallas': 1120, 'leaked': 2578, 'nude': 3049, 'pac': 3162, 'tweet': 4670, 'shades': 4022, 'tourism': 4578, 'praise': 3415, 'conservative': 956, 'conference': 933, 'kicked': 2486, 'suing': 4350, 'welfare': 4882, 'noise': 3027, 'anna': 199, 'hosting': 2175, 'extraordinary': 1614, 'samantha': 3895, 'bee': 413, 'dare': 1132, 'laugh': 2554, 'replacement': 3721, 'matt': 2782, 'journey': 2443, 'completely': 917, 'costs': 1016, 'nursing': 3054, 'opposed': 3121, 'worry': 4955, 'kind': 2498, 'ridiculous': 3803, 'producer': 3475, 'fair': 1634, 'miley': 2861, 'cyrus': 1113, 'course': 1035, 'doug': 1353, 'farright': 1659, 'mac': 2710, 'brazilian': 548, 'lift': 2625, 'patients': 3227, 'realized': 3623, 'complicated': 919, 'lawrence': 2564, 'breath': 557, 'intelligence': 2318, 'wars': 4840, 'kennedy': 2475, 'unveiled': 4720, 'map': 2747, 'porn': 3381, 'pleasure': 3348, 'fascinating': 1660, 'taught': 4436, 'entry': 1522, 'bigger': 458, 'immigrants': 2241, 'teaching': 4445, 'eventually': 1556, 'praises': 3417, 'brave': 546, 'raw': 3607, 'experience': 1593, 'obamacare': 3060, 'beef': 414, 'mix': 2898, 'chuck': 800, 'aaron': 0, 'expressed': 1610, 'inspiring': 2311, 'shelter': 4036, 'subject': 4327, 'able': 4, 'shoot': 4048, 'vogue': 4800, 'bias': 451, 'likes': 2631, 'ruin': 3863, 'struggle': 4310, 'employment': 1482, 'met': 2840, 'claim': 814, 'lie': 2618, 'motivated': 2933, 'crime': 1066, 'mysterious': 2960, 'babies': 344, 'spoof': 4209, 'hang': 2027, 'parody': 3199, 'ends': 1497, 'god': 1920, 'anger': 193, 'annoying': 206, 'trading': 4589, 'al': 140, 'alliance': 159, 'expand': 1586, 'resolve': 3755, 'treatments': 4620, 'billions': 466, 'globe': 1915, 'announces': 205, 'proposals': 3506, 'bush': 612, 'missouri': 2893, 'shared': 4028, 'mask': 2771, 'especially': 1536, 'engagement': 1503, 'sign': 4075, 'resolution': 3753, 'measures': 2801, 'bodies': 509, 'celebrity': 709, 'chef': 764, 'chinas': 780, 'frustrated': 1841, 'presidency': 3436, 'lincoln': 2635, 'miracle': 2883, 'arrive': 270, 'serve': 3999, 'draft': 1357, 'sight': 4074, 'decide': 1168, 'positive': 3389, 'tested': 4480, 'providers': 3529, 'rises': 3816, 'hunting': 2205, 'luxury': 2708, 'explosion': 1606, 'brooklyn': 581, 'subway': 4330, 'possibility': 3391, 'beijing': 424, 'elected': 1442, 'hong': 2154, 'electoral': 1445, 'ensure': 1511, 'patriots': 3230, 'watching': 4847, 'phase': 3274, 'seven': 4013, 'species': 4187, 'comeback': 882, 'numbers': 3051, 'higher': 2108, 'increasingly': 2271, 'ireland': 2358, 'immediate': 2238, 'hospital': 2170, 'roman': 3840, 'large': 2539, 'mountains': 2937, 'citizen': 807, 'vladimir': 4799, 'announce': 202, 'century': 716, 'jews': 2414, 'mothers': 2931, 'meets': 2816, 'linda': 2636, 'hadnt': 2015, 'associated': 294, 'diego': 1269, 'wore': 4939, 'ms': 2946, 'path': 3224, 'possibly': 3393, 'suffered': 4341, 'economic': 1421, 'effects': 1434, 'brown': 585, 'pick': 3306, 'endorsement': 1495, 'carly': 671, 'simon': 4087, 'population': 3380, 'ariana': 259, 'tuesdays': 4659, 'particularly': 3203, 'jamie': 2389, 'authentic': 326, 'eliminate': 1453, 'recognized': 3645, 'allies': 160, 'europe': 1549, 'progressive': 3490, 'tries': 4635, 'spain': 4176, 'ed': 1423, 'accurate': 31, 'helpful': 2093, 'praised': 3416, 'putting': 3559, 'guidance': 1995, 'medicine': 2809, 'civilians': 813, 'guys': 2007, 'fast': 1663, 'remaining': 3700, 'capture': 656, 'kansas': 2459, 'damaging': 1122, 'pretty': 3443, 'education': 1429, 'reaching': 3612, 'room': 3847, 'liberty': 2616, 'solo': 4151, 'totally': 4573, 'directed': 1284, 'healing': 2068, 'spots': 4214, 'moment': 2909, 'double': 1351, 'laura': 2559, 'confused': 943, 'grace': 1946, 'sounds': 4167, 'canceled': 644, 'charlottesville': 753, 'feud': 1708, 'cheer': 762, 'demands': 1204, 'expert': 1598, 'beauty': 409, 'insists': 2306, 'olympic': 3101, 'winter': 4915, 'olympics': 3102, 'towns': 4583, 'sudden': 4335, 'plastic': 3337, 'edge': 1424, 'wealthy': 4856, 'process': 3472, 'arguments': 258, 'flow': 1771, 'outbreak': 3145, 'approach': 240, 'chaos': 741, 'necessarily': 2990, 'pitches': 3322, 'gross': 1981, 'francisco': 1820, 'giants': 1898, 'stewart': 4264, 'prize': 3466, 'japan': 2393, 'boat': 506, 'afternoon': 109, 'coal': 852, 'posting': 3396, 'websites': 4865, 'pen': 3244, 'depends': 1217, 'position': 3387, 'frances': 1818, 'ads': 80, 'philadelphia': 3277, 'governments': 1940, 'letters': 2608, 'improved': 2255, 'relations': 3685, 'manning': 2745, 'painting': 3174, 'worth': 4959, 'sweeping': 4396, 'environmental': 1524, 'opioid': 3116, 'obsessed': 3065, 'cabinet': 622, 'embarrassing': 1462, 'nails': 2965, 'tech': 4450, 'drivers': 1382, 'discovered': 1297, 'apology': 225, 'attending': 312, 'recommend': 3646, 'parker': 3195, 'enter': 1512, 'bob': 507, 'needed': 2994, 'curb': 1096, 'preparing': 3430, 'larger': 2541, 'thinks': 4512, 'collection': 869, 'easter': 1413, 'egg': 1437, 'adults': 82, 'hear': 2073, 'begun': 420, 'peace': 3238, 'addressed': 66, 'rumors': 3868, 'dating': 1138, 'israeli': 2369, 'mosque': 2927, 'pm': 3353, 'fallen': 1640, 'deadline': 1150, 'smart': 4126, 'destroy': 1241, 'virtual': 4787, 'statements': 4246, 'howard': 2188, 'lay': 2569, 'grandmother': 1957, 'questioning': 3569, 'missile': 2889, 'outdoor': 3147, 'bureau': 604, 'proud': 3522, 'kong': 2514, 'paying': 3236, 'speaking': 4183, 'stole': 4268, 'size': 4106, 'basically': 390, 'stephen': 4257, 'speaks': 4184, 'decisions': 1171, 'previous': 3447, 'bird': 471, 'substance': 4328, 'losing': 2685, 'blame': 482, 'comic': 890, 'kick': 2485, 'everyones': 1559, 'schumer': 3931, 'alec': 147, 'baldwin': 364, 'approves': 246, 'partners': 3206, 'resist': 3751, 'fortune': 1806, 'doj': 1337, 'source': 4169, 'socalled': 4139, 'stores': 4278, 'drama': 1360, 'bubble': 591, 'loves': 2699, 'read': 3616, 'confirmation': 937, 'governors': 1942, 'created': 1055, 'foreign': 1796, 'revolution': 3792, 'update': 4722, 'mocks': 2901, 'penalty': 3245, 'colin': 866, 'adult': 81, 'apply': 237, 'range': 3597, 'heartfelt': 2078, 'bisexual': 475, 'debuts': 1163, 'identity': 2222, 'books': 519, 'challenged': 727, 'sport': 4210, 'batman': 395, 'papers': 3185, 'guests': 1994, 'damn': 1123, 'lucky': 2705, 'colleagues': 868, 'orlando': 3141, 'barack': 380, 'obamas': 3061, 'bus': 611, 'undocumented': 4701, 'rand': 3595, 'dose': 1350, 'waves': 4851, 'lovely': 2696, 'destinations': 1240, 'relaxing': 3690, 'vacation': 4739, 'serena': 3995, 'writes': 4967, 'essay': 1538, 'tennis': 4468, 'urge': 4726, 'sean': 3944, 'visited': 4792, 'rightwing': 3807, 'chat': 756, 'trick': 4631, 'emails': 1461, 'bieber': 456, 'shuts': 4070, 'model': 2902, 'quick': 3571, 'correct': 1012, 'grammy': 1952, 'alongside': 166, 'fried': 1832, 'chicken': 771, 'cooking': 997, 'hands': 2026, 'seek': 3964, 'grammys': 1953, 'networks': 3008, 'politician': 3367, 'sees': 3969, 'warning': 4836, 'warming': 4833, 'impacts': 2245, 'hosted': 2174, 'scared': 3923, 'simpson': 4090, 'coup': 1031, 'yes': 4978, 'soldiers': 4148, 'graphic': 1961, 'scores': 3937, 'loose': 2679, 'sarah': 3906, 'gays': 1878, 'expecting': 1591, 'typical': 4681, 'lgbt': 2613, 'reid': 3679, 'californias': 629, 'flights': 1764, 'painful': 3172, 'hill': 2116, 'flu': 1774, 'illness': 2231, 'freak': 1823, 'colbert': 864, 'explains': 1602, 'reporters': 3726, 'challenging': 729, 'henry': 2096, 'comfortable': 889, 'maternity': 2780, 'pants': 3183, 'hillary': 2117, 'clinton': 834, 'voice': 4801, 'arkansas': 262, 'usually': 4737, 'joke': 2430, 'truly': 4648, 'regret': 3674, 'react': 3613, 'jessica': 2409, 'eyes': 1618, 'gown': 1943, 'budget': 593, 'minimum': 2875, 'represent': 3730, 'rick': 3799, 'write': 4964, 'proposal': 3505, 'taxes': 4438, 'confirm': 936, 'intended': 2319, 'winners': 4912, 'sake': 3889, 'speak': 4181, 'leslie': 2602, 'hed': 2084, 'brilliant': 570, 'pr': 3410, 'hack': 2012, 'refugee': 3664, 'eu': 1548, 'partnership': 3207, 'ally': 165, 'starting': 4241, 'brussels': 588, 'fitness': 1755, 'nutrition': 3055, 'coverage': 1040, 'spot': 4212, 'absurd': 10, 'highlights': 2111, 'houses': 2185, 'kings': 2502, 'holds': 2136, 'serving': 4004, 'closing': 844, 'display': 1314, 'greatest': 1968, 'soft': 4144, 'targets': 4431, 'degrees': 1193, 'stealing': 4254, 'tight': 4539, 'exploring': 1605, 'trumpthe': 4651, 'resistance': 3752, 'transformed': 4603, 'mess': 2836, 'initial': 2292, 'aim': 128, 'anymore': 218, 'modern': 2906, 'safer': 3885, 'colors': 877, 'unclear': 4693, 'yellow': 4976, 'humanitarian': 2197, 'warm': 4832, 'personality': 3266, 'lose': 2683, 'opponents': 3117, 'corruption': 1013, 'risks': 3819, 'testing': 4483, 'repeat': 3718, 'arab': 249, 'earthquake': 1408, 'windows': 4907, 'furniture': 1855, 'dean': 1155, 'mars': 2766, 'funds': 1851, 'planes': 3330, 'accepting': 19, 'resources': 3758, 'deliver': 1198, 'evidence': 1560, 'uncertainty': 4692, 'economy': 1422, 'combination': 880, 'growth': 1989, 'lands': 2536, 'babys': 346, 'sleeping': 4118, 'grows': 1988, 'decades': 1166, 'average': 333, 'base': 386, 'target': 4428, 'adds': 68, 'aggressive': 117, 'bunch': 602, 'operations': 3113, 'destruction': 1243, 'knows': 2512, 'accident': 22, 'greek': 1970, 'airports': 137, 'direction': 1285, 'deportation': 1218, 'considering': 960, 'detention': 1247, 'consumer': 968, 'spike': 4199, 'presidentelect': 3438, 'build': 595, 'korean': 2516, 'tough': 4576, 'percent': 3251, 'mail': 2721, 'analysis': 183, 'coping': 1003, 'passes': 3216, 'complaints': 915, 'nominees': 3031, 'gathered': 1874, 'cut': 1106, 'reaches': 3611, 'shell': 4035, 'buying': 620, 'markets': 2760, 'drive': 1379, 'spirit': 4202, 'hosts': 2176, 'grandparents': 1958, 'addressing': 67, 'hints': 2119, 'yorkers': 4982, 'pause': 3234, 'utah': 4738, 'okay': 3094, 'elderly': 1441, 'zone': 4997, 'abroad': 6, 'protected': 3513, 'temporary': 4465, 'status': 4249, 'opposition': 3123, 'ray': 3608, 'standing': 4233, 'stroke': 4304, 'ruled': 3865, 'launched': 2557, 'harmful': 2043, 'broad': 577, 'environment': 1523, 'reducing': 3655, 'remarks': 3703, 'sanctions': 3898, 'resolutions': 3754, 'legally': 2594, 'worn': 4952, 'atlantic': 301, 'dispute': 1315, 'attend': 310, 'pushes': 3555, 'navigate': 2981, 'domestic': 1340, 'frontrunner': 1837, 'session': 4005, 'walks': 4822, 'pipeline': 3319, 'image': 2233, 'ideas': 2219, 'supply': 4360, 'older': 3097, 'hamilton': 2020, 'maybe': 2787, 'korea': 2515, 'sea': 3942, 'coast': 854, 'friendly': 1834, 'traveled': 4611, 'zoo': 4998, 'birds': 472, 'worries': 4954, 'strain': 4285, 'setting': 4010, 'scale': 3920, 'affected': 98, 'swing': 4401, 'corporate': 1010, 'fifth': 1714, 'dec': 1164, 'wondering': 4932, 'weekly': 4875, 'stock': 4267, 'believes': 430, 'exact': 1564, 'interior': 2327, 'slow': 4122, 'beat': 404, 'mainstream': 2724, 'liberal': 2615, 'openly': 3109, 'aclu': 39, 'organizations': 3136, 'prosecutors': 3511, 'punishment': 3545, 'wouldnt': 4961, 'flip': 1766, 'published': 3537, 'include': 2261, 'paint': 3173, 'handle': 2024, 'spill': 4200, 'beaches': 401, 'stretch': 4299, 'estimated': 1545, 'regularly': 3677, 'pledge': 3349, 'borders': 523, 'coach': 851, 'upset': 4724, 'horse': 2169, 'independence': 2274, 'adventure': 87, 'conventional': 987, 'exercises': 1578, 'helicopter': 2088, 'separate': 3990, 'packed': 3167, 'barely': 383, 'medal': 2803, 'notes': 3039, 'ski': 4107, 'affairs': 96, 'athlete': 298, 'increasing': 2270, 'sharp': 4032, 'rebels': 3629, 'cruise': 1081, 'strategic': 4289, 'burned': 608, 'weigh': 4877, 'parties': 3204, 'craft': 1048, 'bills': 467, 'management': 2740, 'ship': 4041, 'brazil': 547, 'surge': 4372, 'warren': 4838, 'conflicts': 941, 'ethics': 1546, 'justices': 2457, 'limit': 2632, 'tricks': 4632, 'outfit': 3149, 'recall': 3630, 'helps': 2095, 'silver': 4085, 'jokes': 2431, 'baked': 361, 'incredible': 2272, 'lights': 2627, 'shocked': 4044, 'valentines': 4742, 'suggested': 4345, 'bold': 512, 'delivers': 1200, 'anthem': 211, 'bridge': 566, 'faith': 1637, 'floor': 1769, 'beckham': 410, 'contest': 975, 'cognitive': 862, 'naturally': 2979, 'treated': 4617, 'massachusetts': 2773, 'brand': 544, 'tape': 4427, 'endorse': 1494, 'hockey': 2133, 'crack': 1046, 'breathtaking': 560, 'loving': 2700, 'ok': 3093, 'stick': 4265, 'throw': 4527, 'richard': 3798, 'rates': 3605, 'reverse': 3789, 'decline': 1174, 'task': 4432, 'collective': 870, 'throws': 4530, 'defending': 1184, 'freedom': 1825, 'angry': 194, 'planning': 3333, 'constant': 963, 'balance': 363, 'reflect': 3658, 'machine': 2711, 'usa': 4730, 'avoid': 334, 'deals': 1154, 'ugly': 4684, 'couples': 1033, 'controversy': 985, 'village': 4780, 'drove': 1390, 'bright': 568, 'sense': 3985, 'originally': 3140, 'initiative': 2294, 'lists': 2652, 'mistake': 2894, 'tea': 4440, 'plate': 3338, 'embracing': 1464, 'reject': 3680, 'mother': 2929, 'cosby': 1014, 'diamond': 1263, 'advocate': 93, 'barriers': 384, 'australian': 325, 'fever': 1709, 'happiness': 2035, 'route': 3856, 'destination': 1239, 'mood': 2920, 'plenty': 3350, 'makeover': 2729, 'vietnam': 4775, 'mate': 2778, 'inspiration': 2307, 'youd': 4984, 'morgan': 2924, 'spectrum': 4191, 'learn': 2580, 'pink': 3317, 'cofounder': 861, 'habits': 2011, 'mobile': 2900, 'essential': 1540, 'items': 2377, 'snow': 4138, 'trouble': 4643, 'quickly': 3572, 'dumb': 1397, 'hilariously': 2115, 'connection': 952, 'headlines': 2065, 'defeat': 1181, 'bloody': 500, 'lip': 2645, 'gains': 1860, 'meat': 2802, 'expect': 1588, 'usual': 4736, 'rich': 3797, 'clip': 836, 'chocolate': 784, 'accept': 15, 'object': 3064, 'gathering': 1875, 'filming': 1728, 'wonders': 4933, 'wondered': 4930, 'seconds': 3954, 'simple': 4088, 'cia': 803, 'syndrome': 4405, 'sort': 4163, 'married': 2764, 'tied': 4536, 'knot': 2507, 'pit': 3320, 'bull': 599, 'intimate': 2333, 'supports': 4366, 'calm': 633, 'confidence': 934, 'maine': 2723, 'alike': 153, 'issued': 2372, 'australia': 324, 'luther': 2707, 'greater': 1967, 'nail': 2964, 'anne': 200, 'jewish': 2413, 'frank': 1821, 'circumstances': 805, 'personally': 3267, 'admitted': 75, 'apart': 220, 'narrative': 2970, 'true': 4647, 'theory': 4499, 'rnc': 3823, 'dnc': 1328, 'muscle': 2953, 'happening': 2031, 'organic': 3134, 'creatures': 1062, 'marie': 2753, 'divorce': 1324, 'pair': 3175, 'split': 4205, 'chose': 789, 'courtesy': 1037, 'slip': 4121, 'creepy': 1064, 'shake': 4024, 'farm': 1657, 'tears': 4449, 'truths': 4654, 'wish': 4919, 'aside': 283, 'photographer': 3282, 'terrorists': 4478, 'awful': 342, 'request': 3738, 'andy': 188, 'cohen': 863, 'romantic': 3842, 'critics': 1074, 'colorado': 875, 'brands': 545, 'locked': 2668, 'enormous': 1510, 'feet': 1697, 'dress': 1371, 'ran': 3594, 'matters': 2784, 'lebron': 2587, 'dishes': 1310, 'dream': 1367, 'jeffrey': 2403, 'roberts': 3828, 'memory': 2828, 'jump': 2451, 'thrown': 4529, 'boots': 521, 'accountable': 29, 'recognize': 3644, 'material': 2779, 'discussed': 1302, 'rings': 3810, 'smaller': 4125, 'holocaust': 2143, 'nose': 3036, 'overnight': 3156, 'reynolds': 3794, 'tragedy': 4594, 'managed': 2739, 'iphone': 2352, 'sits': 4102, 'plants': 3336, 'maria': 2752, 'arm': 263, 'stories': 4279, 'defined': 1188, 'locations': 2667, 'editors': 1428, 'crackdown': 1047, 'taste': 4433, 'chefs': 765, 'boys': 538, 'clients': 830, 'conduct': 930, 'staying': 4252, 'solve': 4154, 'activities': 48, 'holmes': 2142, 'whos': 4893, 'tone': 4561, 'benefits': 439, 'ingredient': 2290, 'conditions': 929, 'catch': 688, 'emotions': 1477, 'memories': 2827, 'moral': 2923, 'town': 4582, 'successfully': 4334, 'holiday': 2138, 'stayed': 4251, 'el': 1440, 'particular': 3202, 'quest': 3567, 'regular': 3676, 'myanmar': 2959, 'aftermath': 108, 'restrictions': 3770, 'childrens': 776, 'visiting': 4793, 'holidays': 2139, 'psychology': 3534, 'psychological': 3533, 'ann': 198, 'potter': 3403, 'thoughts': 4515, 'wardrobe': 4831, 'chapter': 742, 'evolution': 1562, 'beneath': 437, 'wings': 4910, 'careful': 666, 'lovers': 2698, 'standards': 4232, 'hat': 2051, 'ferguson': 1704, 'princess': 3455, 'italian': 2374, 'courage': 1034, 'sanders': 3901, 'hospitals': 2172, 'exclusive': 1573, 'trees': 4623, 'blamed': 483, 'jacket': 2382, 'suit': 4351, 'stages': 4227, 'proof': 3501, 'dry': 1394, 'citizens': 808, 'bachelorette': 348, 'definitely': 1189, 'mistakes': 2895, 'diane': 1264, 'wed': 4866, 'surveillance': 4381, 'email': 1460, 'commercial': 894, 'tools': 4567, 'honest': 2150, 'honestly': 2151, 'crucial': 1080, 'creates': 1056, 'oct': 3074, 'powers': 3409, 'graduates': 1949, 'factors': 1627, 'recession': 3640, 'mama': 2736, 'hey': 2103, 'haunted': 2056, 'etiquette': 1547, 'magazines': 2717, 'sisters': 4098, 'lips': 2646, 'joining': 2427, 'income': 2266, 'awesome': 341, 'introduced': 2335, 'gain': 1858, 'billionaire': 465, 'flynn': 1777, 'oppose': 3120, 'elements': 1450, 'bell': 431, 'seasonal': 3948, 'nobel': 3026, 'degree': 1192, 'aisle': 138, 'audiences': 321, 'educational': 1430, 'encouraged': 1487, 'nicole': 3021, 'alternative': 167, 'tackle': 4411, 'realize': 3622, 'healthcare': 2070, 'threaten': 4519, 'administrations': 72, 'companys': 907, 'creative': 1059, 'promise': 3495, 'magazine': 2716, 'junk': 2454, 'kitchen': 2504, 'delicious': 1197, 'carrie': 674, 'opportunities': 3118, 'choosing': 788, 'increased': 2268, 'extremely': 1616, 'flying': 1776, 'landing': 2534, 'survive': 4384, 'fashion': 1661, 'designer': 1229, 'bars': 385, 'catholic': 691, 'candy': 648, 'thanksgiving': 4491, 'miranda': 2884, 'retail': 3773, 'switch': 4402, 'effective': 1432, 'shopping': 4054, 'crowds': 1078, 'required': 3740, 'returned': 3779, 'blast': 485, 'viewed': 4777, 'europes': 1551, 'id': 2216, 'migrant': 2856, 'english': 1506, 'channel': 739, 'lesson': 2603, 'incredibly': 2273, 'nominated': 3028, 'priorities': 3459, 'passage': 3212, 'proposes': 3509, 'alcohol': 146, 'smoking': 4132, 'marijuana': 2754, 'wage': 4813, 'vermont': 4758, 'seats': 3951, 'note': 3037, 'progressives': 3491, 'carry': 676, 'spirits': 4203, 'entrepreneur': 1520, 'investors': 2342, 'flowers': 1773, 'assistance': 292, 'india': 2276, 'repeal': 3717, 'hunt': 2204, 'turkeys': 4663, 'weddings': 4868, 'overwhelming': 3159, 'majority': 2728, 'referendum': 3657, 'devices': 1257, 'shift': 4039, 'confident': 935, 'survival': 4383, 'arms': 265, 'recalled': 3631, 'cheeky': 761, 'accusations': 32, 'moving': 2944, 'van': 4747, 'retirement': 3776, 'feeding': 1691, 'terrorist': 4477, 'expectations': 1589, 'mondays': 2914, 'rage': 3586, 'lively': 2657, 'doubt': 1352, 'disney': 1311, 'picks': 3309, 'garner': 1869, 'teaches': 4444, 'madness': 2714, 'offices': 3086, 'cheap': 757, 'arabia': 250, 'values': 4746, 'drake': 1359, 'jason': 2396, 'prepared': 3429, 'appropriate': 243, 'necessary': 2991, 'iraq': 2356, 'memorial': 2826, 'iraqi': 2357, 'advanced': 84, 'improving': 2256, 'savings': 3915, 'nov': 3043, 'telling': 4462, 'generations': 1886, 'teach': 4441, 'surprising': 4377, 'colorful': 876, 'vibrant': 4763, 'feast': 1680, 'tradition': 4590, 'desserts': 1238, 'dessert': 1237, 'drawn': 1365, 'amazing': 171, 'links': 2643, 'addition': 63, 'suffer': 4340, 'avoiding': 335, 'places': 3326, 'electric': 1446, 'partys': 3210, 'grateful': 1962, 'counting': 1024, 'phrase': 3303, 'halloween': 2019, 'costume': 1017, 'outfits': 3150, 'carbon': 660, 'eggs': 1438, 'spicer': 4198, 'difference': 1273, 'smartphone': 4127, 'catching': 689, 'soda': 4143, 'regional': 3673, 'performed': 3258, 'treating': 4618, 'forget': 1799, 'valley': 4743, 'videothe': 4773, 'detail': 1244, 'cover': 1039, 'tree': 4622, 'handling': 2025, 'curious': 1099, 'jake': 2387, 'embrace': 1463, 'yearolds': 4974, 'performances': 3257, 'interviews': 2332, 'regardless': 3670, 'cool': 998, 'dedicated': 1177, 'ellen': 1457, 'degeneres': 1191, 'develop': 1252, 'worrying': 4956, 'comment': 892, 'impression': 2252, 'striking': 4302, 'cream': 1053, 'memorable': 2825, 'easier': 1410, 'poses': 3386, 'cocktails': 857, 'flavors': 1762, 'glutenfree': 1917, 'baking': 362, 'constantly': 964, 'horror': 2168, 'younger': 4987, 'donate': 1343, 'nonprofit': 3032, 'promises': 3497, 'forgotten': 1802, 'oprah': 3124, 'weight': 4878, 'cbs': 700, 'radical': 3584, 'alzheimers': 169, 'indian': 2277, 'piece': 3313, 'reminds': 3710, 'stuff': 4320, 'sing': 4091, 'fact': 1625, 'youve': 4991, 'views': 4779, 'wisdom': 4917, 'hates': 2053, 'jack': 2381, 'healthier': 2071, 'focusing': 1780, 'behavior': 422, 'creation': 1058, 'investigate': 2337, 'blues': 503, 'crafts': 1049, 'aging': 118, 'hopeful': 2162, 'angela': 190, 'irans': 2355, 'islamic': 2364, 'suicide': 4349, 'pursue': 3551, 'sparked': 4179, 'essentially': 1541, 'cutest': 1108, 'hypocrisy': 2212, 'link': 2641, 'disturbing': 1318, 'clips': 837, 'invited': 2345, 'quarter': 3562, 'drew': 1375, 'emily': 1469, 'wellness': 4884, 'nypd': 3058, 'troubled': 4644, 'anxious': 217, 'managing': 2742, 'respond': 3760, 'perfection': 3253, 'chill': 778, 'entire': 1517, 'sheer': 4034, 'afghan': 102, 'trek': 4624, 'cyber': 1111, 'random': 3596, 'teenage': 4454, 'possibilities': 3390, 'endless': 1493, 'wellbeing': 4883, 'teenagers': 4456, 'performing': 3259, 'casting': 685, 'liked': 2629, 'asleep': 288, 'stone': 4271, 'hilarious': 2114, 'picture': 3310, 'skill': 4108, 'lena': 2600, 'dunham': 1398, 'reddit': 3653, 'traveling': 4614, 'betsy': 446, 'devos': 1258, 'bestdressed': 444, 'bedroom': 412, 'daughters': 1140, 'closet': 843, 'jewelry': 2412, 'saving': 3914, 'meal': 2793, 'suggest': 4344, 'cake': 625, 'melissa': 2820, 'salad': 3890, 'breakfast': 551, 'scary': 3924, 'promoting': 3500, 'supported': 4362, 'ashley': 280, 'approaches': 241, 'doors': 1348, 'outdoors': 3148, 'structure': 4309, 'secure': 3961, 'prevention': 3446, 'chances': 733, 'tower': 4581, 'regrets': 3675, 'inspire': 2308, 'lifelong': 2621, 'passion': 3218, 'cave': 699, 'skinny': 4111, 'nice': 3018, 'fat': 1665, 'wildlife': 4899, 'montana': 2917, 'grocery': 1979, 'dinner': 1282, 'faster': 1664, 'sandwich': 3903, 'surgery': 4373, 'bachelor': 347, 'nicki': 3020, 'edition': 1425, 'letting': 2609, 'shower': 4064, 'overall': 3154, 'covered': 1041, 'shadow': 4023, 'lastminute': 2546, 'communities': 903, 'spanish': 4177, 'shark': 4031, 'brain': 542, 'segment': 3970, 'web': 4863, 'leg': 2591, 'answers': 210, 'disability': 1291, 'buzz': 621, 'strangers': 4288, 'poverty': 3406, 'tremendous': 4625, 'greece': 1969, 'chips': 783, 'rent': 3715, 'cards': 662, 'bullying': 600, 'obviously': 3069, 'spotlight': 4213, 'check': 759, 'approaching': 242, 'visitors': 4794, 'fields': 1712, 'christopher': 798, 'listening': 2651, 'meals': 2794, 'featuring': 1684, 'impeachment': 2246, 'moore': 2922, 'cure': 1097, 'cuba': 1086, 'unable': 4690, 'literally': 2653, 'riding': 3804, 'sit': 4099, 'stressful': 4298, 'zealand': 4992, 'sector': 3960, 'neighborhoods': 2999, 'disasters': 1295, 'adopted': 77, 'seasons': 3949, 'prove': 3523, 'bed': 411, 'jay': 2397, 'editor': 1426, 'warriors': 4839, 'dramatically': 1362, 'bridal': 563, 'heartbreaking': 2077, 'feelings': 1694, 'minorities': 2879, 'cells': 712, 'politically': 3366, 'impressive': 2253, 'childs': 777, 'urban': 4725, 'menu': 2834, 'relax': 3689, 'problems': 3471, 'lunch': 2706, 'restore': 3769, 'toys': 4586, 'sugar': 4343, 'bombs': 515, 'proven': 3525, 'fantasy': 1655, 'master': 2776, 'gotten': 1937, 'perspective': 3269, 'lasting': 2545, 'studies': 4316, 'lemon': 2599, 'print': 3457, 'immigrant': 2240, 'knowledge': 2510, 'aids': 127, 'forgiveness': 1801, 'popularity': 3379, 'mccain': 2789, 'articles': 274, 'jacobs': 2385, 'kicks': 2487, 'lover': 2697, 'strength': 4295, 'twist': 4676, 'policies': 3362, 'differences': 1274, 'investing': 2340, 'gaga': 1857, 'stem': 4255, 'lately': 2548, 'spoken': 4207, 'workplace': 4947, 'harsh': 2046, 'highlight': 2110, 'importance': 2248, 'shorts': 4058, 'bikini': 461, 'britain': 574, 'espn': 1537, 'complaint': 914, 'potato': 3399, 'amanda': 170, 'larry': 2543, 'commit': 896, 'preventing': 3445, 'principles': 3456, 'choices': 786, 'reasonable': 3627, 'beaten': 405, 'overcome': 3155, 'cannes': 649, 'imagination': 2235, 'reuters': 3783, 'belly': 432, 'qa': 3560, 'throwing': 4528, 'oreilly': 3133, 'actress': 52, 'pose': 3385, 'summers': 4353, 'evil': 1561, 'situation': 4104, 'foster': 1810, 'relate': 3683, 'clothing': 846, 'bruce': 587, 'genius': 1888, 'del': 1194, 'zuckerberg': 4999, 'involves': 2348, 'vatican': 4750, 'describe': 1221, 'handful': 2023, 'scouts': 3939, 'dresses': 1373, 'rocks': 3833, 'fundamental': 1849, 'christina': 796, 'deserves': 1226, 'exist': 1581, 'invest': 2336, 'hire': 2121, 'researcher': 3745, 'institute': 2315, 'pacific': 3164, 'chosen': 790, 'identify': 2221, 'granted': 1960, 'endorses': 1496, 'vision': 4790, 'makers': 2730, 'alan': 142, 'silent': 4082, 'connecticut': 951, 'maintaining': 2726, 'battling': 398, 'parental': 3189, 'perform': 3255, 'deserve': 1225, 'thrive': 4525, 'kylie': 2521, 'jenner': 2404, 'kendall': 2474, 'driven': 1380, 'forms': 1804, 'impossible': 2251, 'flower': 1772, 'drawing': 1364, 'feed': 1690, 'secretly': 3957, 'israels': 2370, 'parliament': 3198, 'coalition': 853, 'netanyahu': 3004, 'bitter': 478, 'figures': 1720, 'bride': 564, 'forest': 1797, 'ditch': 1319, 'saint': 3888, 'barbara': 381, 'apps': 247, 'useful': 4732, 'retailers': 3774, 'capable': 651, 'emma': 1471, 'ability': 3, 'solar': 4145, 'thousand': 4516, 'figured': 1719, 'december': 1167, 'examples': 1567, 'arctic': 252, 'theyll': 4504, 'routine': 3857, 'sons': 4160, 'willing': 4902, 'lewis': 2612, 'captain': 655, 'ceos': 718, 'grieving': 1976, 'mexican': 2844, 'outrageous': 3152, 'ordinary': 3131, 'advantage': 86, 'workout': 4945, 'gym': 2009, 'participants': 3200, 'mystery': 2961, 'brains': 543, 'blog': 494, 'click': 829, 'longterm': 2673, 'spin': 4201, 'empathy': 1478, 'groom': 1980, 'affair': 95, 'disappointed': 1293, 'voices': 4802, 'inmates': 2298, 'grew': 1973, 'dust': 1400, 'slowly': 4123, 'myth': 2962, 'latino': 2552, 'conan': 922, 'permanent': 3261, 'dear': 1156, 'parks': 3197, 'contribute': 982, 'proves': 3526, 'abused': 12, 'theme': 4498, 'fiscal': 1752, 'pictures': 3311, 'donors': 1345, 'excitement': 1571, 'imagine': 2236, 'accomplished': 25, 'interesting': 2325, 'column': 878, 'lobby': 2662, 'surprisingly': 4378, 'gear': 1880, 'crop': 1075, 'promising': 3498, 'caitlyn': 624, 'hollywoods': 2141, 'headline': 2064, 'digital': 1279, 'heels': 2085, 'convince': 991, 'gather': 1873, 'encourage': 1486, 'childhood': 774, 'hardest': 2040, 'laughing': 2555, 'disorder': 1312, 'sat': 3907, 'dying': 1402, 'ages': 116, 'distance': 1316, 'remembered': 3705, 'grey': 1974, 'traditions': 4592, 'fearless': 1678, 'gates': 1872, 'silly': 4084, 'sneak': 4136, 'touching': 4575, 'peanut': 3241, 'khloe': 2484, 'kris': 2518, 'design': 1227, 'shoes': 4047, 'jesus': 2410, 'flavor': 1761, 'memo': 2823, 'roy': 3859, 'written': 4969, 'represents': 3732, 'fridays': 1831, 'profile': 3485, 'transformation': 4602, 'tragic': 4595, 'emotionally': 1476, 'tap': 4426, 'organizing': 3138, 'trends': 4627, 'seemingly': 3967, 'toilet': 4556, 'bath': 393, 'unknown': 4715, 'palm': 3179, 'hidden': 2104, 'strategies': 4290, 'diverse': 1320, 'emerging': 1468, 'laid': 2529, 'hoped': 2161, 'directors': 1288, 'camp': 638, 'werent': 4886, 'spa': 4173, 'elephant': 1451, 'fingers': 1744, 'ncaa': 2986, 'inauguration': 2258, 'sexist': 4017, 'regulations': 3678, 'tina': 4544, 'practices': 3413, 'remembering': 3706, 'producers': 3476, 'dialogue': 1262, 'achieving': 37, 'guidelines': 1997, 'contact': 971, 'ali': 152, 'christians': 794, 'kerry': 2478, 'household': 2184, 'traveler': 4612, 'iranian': 2354, 'inc': 2259, 'snap': 4135, 'inappropriate': 2257, 'mediterranean': 2812, 'elephants': 1452, 'lord': 2681, 'foundation': 1813, 'grow': 1985, 'tons': 4563, 'acknowledge': 38, 'glasses': 1912, 'sexism': 4016, 'profound': 3486, 'ebola': 1420, 'tomorrow': 4560, 'section': 3959, 'rough': 3853, 'flint': 1765, 'finance': 1734, 'patterns': 3232, 'volunteer': 4803, 'daunting': 1141, 'rely': 3698, 'technology': 4451, 'separation': 3991, 'generally': 1884, 'prisoners': 3462, 'covering': 1042, 'couch': 1019, 'undermine': 4695, 'topic': 4568, 'successful': 4333, 'retreat': 3777, 'awareness': 339, 'antigay': 214, 'wanting': 4828, 'facts': 1628, 'dates': 1137, 'encouraging': 1488, 'location': 2666, 'sunny': 4357, 'burns': 610, 'midst': 2854, 'blind': 489, 'countless': 1025, 'behalf': 421, 'transform': 4601, 'boring': 524, 'exciting': 1572, 'reactions': 3615, 'skip': 4112, 'addicted': 60, 'listen': 2650, 'carefully': 667, 'universe': 4712, 'entirely': 1518, 'yemen': 4977, 'goals': 1919, 'magical': 2719, 'yesterday': 4979, 'wonder': 4929, 'reviews': 3791, 'dreaming': 1369, 'cookies': 996, 'shoe': 4046, 'smell': 4128, 'proper': 3502, 'article': 273, 'religion': 3696, 'kristen': 2519, 'churches': 802, 'shine': 4040, 'marco': 2751, 'rubio': 3861, 'pursuit': 3552, 'cuisine': 1089, 'disagree': 1292, 'remarkable': 3702, 'library': 2617, 'weekends': 4874, 'sexy': 4021, 'attitudes': 315, 'phenomenon': 3275, 'campaigns': 640, 'accomplish': 24, 'harvard': 2047, 'marry': 2765, 'yoga': 4980, 'monster': 2916, 'hashtag': 2049, 'robot': 3830, 'everyday': 1558, 'communications': 902, 'cozy': 1045, 'accessories': 21, 'remind': 3707, 'peek': 3242, 'motivation': 2934, 'epa': 1525, 'talented': 4418, 'beer': 415, 'decorating': 1176, 'happier': 2033, 'instant': 2313, 'signature': 4076, 'bone': 517, 'fairly': 1635, 'interested': 2324, 'keys': 2481, 'context': 976, 'discover': 1296, 'remote': 3711, 'vast': 4749, 'chemicals': 768, 'honey': 2152, 'belong': 433, 'prior': 3458, 'presence': 3432, 'surface': 4371, 'uncomfortable': 4694, 'scare': 3922, 'somebody': 4155, 'lottery': 2690, 'antitrump': 215, 'stylish': 4326, 'hottest': 2180, 'subtle': 4329, 'consistent': 961, 'quotes': 3577, 'bucket': 592, 'capacity': 652, 'theft': 4497, 'photoshop': 3291, 'weak': 4854, 'resorts': 3757, 'philippines': 3278, 'kidney': 2489, 'graduate': 1948, 'karl': 2463, 'planet': 3331, 'costumes': 1018, 'exotic': 1585, 'odd': 3076, 'debates': 1160, 'ignored': 2225, 'rip': 3813, 'humans': 2199, 'strongly': 4307, 'polling': 3371, 'habit': 2010, 'tip': 4546, 'decor': 1175, 'gwyneth': 2008, 'chic': 769, 'diy': 1326, 'therapist': 4500, 'loans': 2661, 'fate': 1668, 'pure': 3548, 'backing': 351, 'content': 974, 'invite': 2344, 'crying': 1085, 'lifestyle': 2623, 'clintons': 835, 'aint': 131, 'lots': 2689, 'photography': 3284, 'cycle': 1112, 'autism': 331, 'huckabee': 2189, 'aka': 139, 'rihanna': 3808, 'photographs': 3283, 'ignoring': 2226, 'guilt': 1999, 'calories': 634, 'protein': 3517, 'recipes': 3642, 'math': 2781, 'practical': 3411, 'designed': 1228, 'divide': 1322, 'gratitude': 1963, 'executives': 1576, 'blessed': 488, 'denying': 1215, 'photosthe': 3297, 'backtoschool': 354, 'hotels': 2179, 'gut': 2005, 'caring': 670, 'beliefs': 427, 'killer': 2493, 'gary': 1870, 'berlin': 441, 'unhealthy': 4705, 'waking': 4817, 'expression': 1611, 'wealth': 4855, 'vacations': 4740, 'explore': 1603, 'prayer': 3419, 'customer': 1104, 'mere': 2835, 'concept': 923, 'mindfulness': 2871, 'meditation': 2810, 'stomach': 4270, 'consumption': 970, 'function': 1847, 'clock': 838, 'forgive': 1800, 'comfort': 888, 'bobby': 508, 'implications': 2247, 'positions': 3388, 'latin': 2551, 'springs': 4220, 'vitamin': 4798, 'mueller': 2948, 'vintage': 4781, 'stressed': 4297, 'bread': 549, 'celebs': 710, 'tear': 4448, 'gorgeous': 1935, 'lesbian': 2601, 'sustainable': 4394, 'militants': 2862, 'honoring': 2157, 'heritage': 2098, 'frustration': 1842, 'dish': 1309, 'apologize': 223, 'establishment': 1543, 'favorites': 1674, 'jean': 2399, 'surviving': 4386, 'leather': 2583, 'mini': 2874, 'define': 1187, 'grown': 1987, 'bloggers': 496, 'banana': 371, 'rivers': 3822, 'vegetables': 4754, 'fruit': 1839, 'sexuality': 4019, 'labels': 2524, 'ideal': 2218, 'ashamed': 279, 'sadness': 3883, 'absence': 7, 'iron': 2360, 'potatoes': 3400, 'channels': 740, 'roof': 3846, 'christie': 795, 'bra': 539, 'specific': 4188, 'hello': 2090, 'scientific': 3933, 'bacon': 356, 'mention': 2833, 'smile': 4129, 'hurting': 2208, 'robin': 3829, 'kindness': 2499, 'surrounding': 4380, 'models': 2904, 'discussing': 1304, 'construction': 967, 'cakes': 626, 'pasta': 3221, 'hudson': 2190, 'afraid': 104, 'banks': 374, 'brighten': 569, 'keystone': 2482, 'divorced': 1325, 'invisible': 2343, 'academic': 13, 'timberlake': 4541, 'casual': 686, 'judgment': 2448, 'inequality': 2282, 'connect': 949, 'lindsay': 2637, 'cookie': 995, 'lonely': 2670, 'tune': 4661, 'katy': 2467, 'attractions': 318, 'colleges': 872, 'entertaining': 1515, 'maintain': 2725, 'corner': 1008, 'heaven': 2081, 'prayers': 3420, 'involve': 2346, 'spectacular': 4190, 'fees': 1696, 'caucus': 693, 'fabulous': 1619, 'spouse': 4216, 'drunk': 1393, 'tsa': 4657, 'attitude': 314, 'mortgage': 2926, 'regime': 3671, 'tales': 4419, 'imagined': 2237, 'brexit': 561, 'charleston': 750, 'juice': 2449, 'chip': 782, 'studythe': 4319, 'rapidly': 3600, 'landscape': 2537, 'jet': 2411, 'notion': 3042, 'coat': 855, 'specifically': 4189, 'cell': 711, 'twin': 4674, 'thursdays': 4532, 'fancy': 1652, 'dressing': 1374, 'practicing': 3414, 'todays': 4553, 'hatred': 2054, 'maher': 2720, 'excellent': 1568, 'glad': 1908, 'understanding': 4697, 'exposure': 1608, 'versus': 4760, 'charming': 754, 'torture': 4571, 'advertising': 89, 'wednesdays': 4870, 'happily': 2034, 'megyn': 2818, 'aspect': 289, 'persons': 3268, 'guarantee': 1990, 'proved': 3524, 'chanel': 734, 'glamour': 1910, 'isis': 2362, 'serial': 3996, 'mile': 2859, 'knife': 2506, 'marc': 2749, 'recap': 3633, 'sandra': 3902, 'nervous': 3002, 'suggestions': 4347, 'islam': 2363, 'mentally': 2832, 'occasion': 3070, 'tumblr': 4660, 'designs': 1231, 'recognition': 3643, 'darkness': 1134, 'triple': 4638, 'patience': 3225, 'forum': 1807, 'serves': 4001, 'latinos': 2553, 'empower': 1483, 'gallery': 1863, 'hiv': 2131, 'co': 850, 'located': 2665, 'plain': 3327, 'legs': 2598, 'backyard': 355, 'productive': 3479, 'experiment': 1597, 'charter': 755, 'bacteria': 357, 'dreamers': 1368, 'hackers': 2013, 'prep': 3427, 'hip': 2120, 'tobacco': 4551, 'carson': 679, 'engaging': 1504, 'elle': 1456, 'blonde': 498, 'wise': 4918, 'disorders': 1313, 'collaboration': 867, 'dining': 1281, 'hats': 2055, 'jeans': 2400, 'joan': 2418, 'lowincome': 2703, 'electronic': 1447, 'fruits': 1840, 'toast': 4550, 'apples': 236, 'purple': 3549, 'universal': 4711, 'turkish': 4664, 'denial': 1211, 'pokemon': 3360, 'equally': 1531, 'gained': 1859, 'runway': 3872, 'tattoo': 4435, 'inevitable': 2283, 'venice': 4757, 'chains': 723, 'worthy': 4960, 'sadly': 3882, 'pruitt': 3532, 'marketing': 2759, 'spice': 4197, 'precious': 3421, 'poetry': 3356, 'outcome': 3146, 'comey': 887, 'heroin': 2101, 'gene': 1882, 'claire': 818, 'diabetes': 1259, 'festive': 1707, 'frequently': 1828, 'gps': 1944, 'ladies': 2527, 'bump': 601, 'lean': 2579, 'kasich': 2464, 'adventures': 88, 'portraits': 3384, 'pace': 3163, 'stereotypes': 4261, 'modeling': 2903, 'prefer': 3423, 'hispanic': 2124, 'ate': 297, 'feminism': 1702, 'millennials': 2865, 'noticed': 3041, 'label': 2523, 'africanamerican': 107, 'attractive': 319, 'discovering': 1298, 'communication': 901, 'fantastic': 1654, 'checking': 760, 'tie': 4535, 'appreciation': 239, 'bound': 531, 'valuable': 4744, 'koch': 2513, 'button': 618, 'manchester': 2743, 'trips': 4639, 'assume': 296, 'madonna': 2715, 'entitled': 1519, 'tall': 4425, 'glamorous': 1909, 'unfortunately': 4704, 'connections': 953, 'ballet': 366, 'existence': 1582, 'fairy': 1636, 'contemporary': 973, 'festivals': 1706, 'silicon': 4083, 'situations': 4105, 'breathe': 558, 'afford': 100, 'underwear': 4700, 'surrounded': 4379, 'spaces': 4175, 'relevant': 3694, 'behaviors': 423, 'eats': 1418, 'obstacles': 3067, 'victorias': 4768, 'myths': 2963, 'insight': 2305, 'belief': 426, 'careers': 665, 'relatively': 3688, 'jazz': 2398, 'architecture': 251, 'beyonces': 450, 'somewhat': 4156, 'victoria': 4767, 'tricky': 4633, 'stigma': 4266, 'innovative': 2302, 'hopefully': 2163, 'appreciate': 238, 'boehner': 511, 'blogger': 495, 'refreshing': 3663, 'grandma': 1956, 'established': 1542, 'exists': 1583, 'designers': 1230, 'calendar': 627, 'jeb': 2401, 'genetic': 1887, 'elses': 1458, 'theatre': 4496, 'quiz': 3576, 'hm': 2132, 'patricks': 3229, 'benghazi': 440, 'surely': 4370, 'blogs': 497, 'empowering': 1484, 'zika': 4995, 'shoulder': 4061, 'thankful': 4489, 'celeb': 702, 'roundup': 3855, 'curiosity': 1098, 'emerge': 1465, 'arianna': 260, 'importantly': 2250, 'exhibition': 1580, 'desperately': 1235, 'playlist': 3345, 'butter': 617, 'lazy': 2570, 'innovation': 2301, 'videoin': 4771, 'cuff': 1088, 'tend': 4466, 'understood': 4698, 'occur': 3071, 'fashions': 1662, 'ipad': 2351, 'essence': 1539, 'immune': 2243, 'passionate': 3219, 'diets': 1272, 'reflections': 3660, 'elegant': 1448, 'beware': 448, 'mindful': 2870, 'travels': 4615, 'paradise': 3187, 'obesity': 3063, 'pinterest': 3318, 'tastes': 4434, 'soup': 4168, 'huffington': 2191, 'pumpkin': 3543, 'vegetable': 4753, 'coconut': 858, 'lipstick': 2647, 'ebay': 1419, 'productivity': 3480, 'adhd': 70, 'corn': 1007, 'coolest': 999, 'culinary': 1090, 'blended': 487, 'wines': 4909, 'obese': 3062, 'photosits': 3294, 'beings': 425, 'overweight': 3157, 'boundaries': 532, 'photoswe': 3300, 'vegan': 4751, 'burgers': 606, 'creativity': 1060, 'conscious': 954, 'entrepreneurs': 1521, 'aleppo': 148, 'mindset': 2873, 'heidi': 2086, 'zen': 4993, 'bliss': 490, 'marriages': 2763, 'visual': 4796, 'vegetarian': 4755, 'barbecue': 382, 'clinical': 833, 'brides': 565, 'workouts': 4946, 'guides': 1998, 'huffpollster': 2192, 'apnea': 222, 'dos': 1349, 'videowatch': 4774, 'meditations': 2811, 'photosa': 3286, 'slideshow': 4119, 'newsbrief': 3015, 'wrapup': 4963, 'photoswhen': 3301, 'photosthis': 3298, 'photosif': 3292, 'photoswhile': 3302, 'photosin': 3293, 'photosas': 3288, 'photoscheck': 3289, 'photossee': 3296, 'huffpoststyle': 2194, 'photosand': 3287, 'photosphotos': 3295, 'photoswant': 3299, 'photosfor': 3290, 'stylelist': 4324, 'networkfrom': 3007}\n"
     ]
    }
   ],
   "source": [
    "Tfidf_vect = TfidfVectorizer(max_features=5000)\n",
    "Tfidf_vect.fit(df['description'])\n",
    "\n",
    "train_x_Tdfidf = Tfidf_vect.transform(train_x)\n",
    "test_x_Tdfidf = Tfidf_vect.transform(test_x)\n",
    "print(Tfidf_vect.vocabulary_)"
   ]
  },
  {
   "cell_type": "markdown",
   "id": "51cb38a6",
   "metadata": {},
   "source": [
    "### Naive Bayes"
   ]
  },
  {
   "cell_type": "code",
   "execution_count": 9,
   "id": "af1b1973",
   "metadata": {},
   "outputs": [
    {
     "name": "stdout",
     "output_type": "stream",
     "text": [
      "Naive Bayes Accuracy Score ->  50.08988370798135\n"
     ]
    }
   ],
   "source": [
    "Naive = naive_bayes.MultinomialNB()\n",
    "Naive.fit(train_x_Tdfidf, train_y)\n",
    "\n",
    "predictions_NB = Naive.predict(test_x_Tdfidf)\n",
    "print(\"Naive Bayes Accuracy Score -> \", accuracy_score(predictions_NB, test_y)*100)"
   ]
  },
  {
   "cell_type": "markdown",
   "id": "0ca42b3d",
   "metadata": {},
   "source": [
    "### Support Vector Machine (SVM)"
   ]
  },
  {
   "cell_type": "code",
   "execution_count": 16,
   "id": "295a1887",
   "metadata": {},
   "outputs": [],
   "source": [
    "SVM = svm.SVC(kernel='linear')\n",
    "SVM.fit(train_x_Tdfidf, train_y)\n",
    "\n",
    "predictions_SVM = SVM.predict(test_x_Tdfidf)\n",
    "print(\"SVM Accuracy Score -> \", accuracy_score(predictions_SVM, test_y)*100)"
   ]
  },
  {
   "cell_type": "markdown",
   "id": "03e7c5f9",
   "metadata": {},
   "source": [
    "Não consegui a precisão do SVM, por ele ser um algoritmo que demanda muito tempo para ser treinado, mas posso dizer que sua precisão é maior do que o NB."
   ]
  }
 ],
 "metadata": {
  "kernelspec": {
   "display_name": "Python 3 (ipykernel)",
   "language": "python",
   "name": "python3"
  },
  "language_info": {
   "codemirror_mode": {
    "name": "ipython",
    "version": 3
   },
   "file_extension": ".py",
   "mimetype": "text/x-python",
   "name": "python",
   "nbconvert_exporter": "python",
   "pygments_lexer": "ipython3",
   "version": "3.10.6"
  }
 },
 "nbformat": 4,
 "nbformat_minor": 5
}

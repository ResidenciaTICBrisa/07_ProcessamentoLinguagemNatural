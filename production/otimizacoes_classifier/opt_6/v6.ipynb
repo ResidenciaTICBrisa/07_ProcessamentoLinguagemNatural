{
 "cells": [
  {
   "cell_type": "markdown",
   "id": "8124c958",
   "metadata": {},
   "source": [
    "# Versão 4 dos testes realizados para o modelo\n"
   ]
  },
  {
   "cell_type": "code",
   "execution_count": 37,
   "id": "61bed0f4",
   "metadata": {},
   "outputs": [],
   "source": [
    "import numpy as np\n",
    "import pandas as pd \n",
    "\n",
    "import matplotlib as mpl \n",
    "import matplotlib.cm as cm \n",
    "import matplotlib.pyplot as plt \n",
    "import plotly.graph_objects as go\n",
    "import seaborn as sns\n",
    "\n",
    "from sklearn.feature_extraction.text import CountVectorizer\n",
    "from sklearn.feature_extraction import _stop_words\n",
    "from nltk.stem import WordNetLemmatizer\n",
    "from sklearn.feature_extraction.text import TfidfVectorizer \n",
    "\n",
    "import string\n",
    "import re\n",
    "\n",
    "from sklearn.naive_bayes import MultinomialNB\n",
    "from sklearn.naive_bayes import GaussianNB\n",
    "from sklearn.linear_model import LogisticRegression\n",
    "from sklearn.svm import LinearSVC\n",
    "\n",
    "from sklearn.metrics import accuracy_score\n",
    "import sklearn.metrics as metrics\n",
    "from sklearn.model_selection import train_test_split\n",
    "from sklearn.metrics import confusion_matrix \n",
    "from sklearn.metrics import classification_report\n",
    "from sklearn import metrics\n",
    "\n",
    "from time import time\n",
    "\n",
    "import warnings\n",
    "warnings.filterwarnings(\"ignore\")"
   ]
  },
  {
   "cell_type": "code",
   "execution_count": 38,
   "id": "d2ccff01",
   "metadata": {},
   "outputs": [
    {
     "data": {
      "text/html": [
       "<div>\n",
       "<style scoped>\n",
       "    .dataframe tbody tr th:only-of-type {\n",
       "        vertical-align: middle;\n",
       "    }\n",
       "\n",
       "    .dataframe tbody tr th {\n",
       "        vertical-align: top;\n",
       "    }\n",
       "\n",
       "    .dataframe thead th {\n",
       "        text-align: right;\n",
       "    }\n",
       "</style>\n",
       "<table border=\"1\" class=\"dataframe\">\n",
       "  <thead>\n",
       "    <tr style=\"text-align: right;\">\n",
       "      <th></th>\n",
       "      <th>Categoria</th>\n",
       "      <th>Texto</th>\n",
       "    </tr>\n",
       "  </thead>\n",
       "  <tbody>\n",
       "    <tr>\n",
       "      <th>0</th>\n",
       "      <td>Turismo</td>\n",
       "      <td>Turismo: esse é o Destino. &lt;p&gt;&lt;strong&gt;Objetivo...</td>\n",
       "    </tr>\n",
       "    <tr>\n",
       "      <th>1</th>\n",
       "      <td>Desenvolvimento Agrário e Agricultura Familiar</td>\n",
       "      <td>Agricultura Familiar e Agroecologia. &lt;p&gt;&lt;stron...</td>\n",
       "    </tr>\n",
       "    <tr>\n",
       "      <th>2</th>\n",
       "      <td>Agricultura e Pecuária</td>\n",
       "      <td>Agropecuária Sustentável. &lt;p&gt;Objetivo: Contrib...</td>\n",
       "    </tr>\n",
       "    <tr>\n",
       "      <th>3</th>\n",
       "      <td>Saúde</td>\n",
       "      <td>Atenção Primária à Saúde. &lt;p&gt;Fortalecer a Aten...</td>\n",
       "    </tr>\n",
       "    <tr>\n",
       "      <th>4</th>\n",
       "      <td>Saúde</td>\n",
       "      <td>Atenção Especializada à Saúde. &lt;p&gt;Ampliar o ac...</td>\n",
       "    </tr>\n",
       "    <tr>\n",
       "      <th>...</th>\n",
       "      <td>...</td>\n",
       "      <td>...</td>\n",
       "    </tr>\n",
       "    <tr>\n",
       "      <th>8431</th>\n",
       "      <td>Saúde</td>\n",
       "      <td>Microchipagem de animais de companhia. Microch...</td>\n",
       "    </tr>\n",
       "    <tr>\n",
       "      <th>8432</th>\n",
       "      <td>Secretaria Geral da Presidência da República</td>\n",
       "      <td>Direito a atendimento eficiente, é um direito...</td>\n",
       "    </tr>\n",
       "    <tr>\n",
       "      <th>8433</th>\n",
       "      <td>Previdência Social</td>\n",
       "      <td>Rever Reforma da Previdência. Rever a reforma ...</td>\n",
       "    </tr>\n",
       "    <tr>\n",
       "      <th>8434</th>\n",
       "      <td>Meio Ambiente e Mudança do Clima</td>\n",
       "      <td>Preservação da Serra do Espinhaço. A Serra do ...</td>\n",
       "    </tr>\n",
       "    <tr>\n",
       "      <th>8435</th>\n",
       "      <td>Saúde</td>\n",
       "      <td>Piso salarial pra todos.. Pra nós todos ter o ...</td>\n",
       "    </tr>\n",
       "  </tbody>\n",
       "</table>\n",
       "<p>8436 rows × 2 columns</p>\n",
       "</div>"
      ],
      "text/plain": [
       "                                           Categoria  \\\n",
       "0                                            Turismo   \n",
       "1     Desenvolvimento Agrário e Agricultura Familiar   \n",
       "2                             Agricultura e Pecuária   \n",
       "3                                              Saúde   \n",
       "4                                              Saúde   \n",
       "...                                              ...   \n",
       "8431                                           Saúde   \n",
       "8432    Secretaria Geral da Presidência da República   \n",
       "8433                              Previdência Social   \n",
       "8434                Meio Ambiente e Mudança do Clima   \n",
       "8435                                           Saúde   \n",
       "\n",
       "                                                  Texto  \n",
       "0     Turismo: esse é o Destino. <p><strong>Objetivo...  \n",
       "1     Agricultura Familiar e Agroecologia. <p><stron...  \n",
       "2     Agropecuária Sustentável. <p>Objetivo: Contrib...  \n",
       "3     Atenção Primária à Saúde. <p>Fortalecer a Aten...  \n",
       "4     Atenção Especializada à Saúde. <p>Ampliar o ac...  \n",
       "...                                                 ...  \n",
       "8431  Microchipagem de animais de companhia. Microch...  \n",
       "8432   Direito a atendimento eficiente, é um direito...  \n",
       "8433  Rever Reforma da Previdência. Rever a reforma ...  \n",
       "8434  Preservação da Serra do Espinhaço. A Serra do ...  \n",
       "8435  Piso salarial pra todos.. Pra nós todos ter o ...  \n",
       "\n",
       "[8436 rows x 2 columns]"
      ]
     },
     "execution_count": 38,
     "metadata": {},
     "output_type": "execute_result"
    }
   ],
   "source": [
    "# Lê as propostas com o Pandas\n",
    "propostas = pd.read_csv(\"../../production/data_extraction/propostas.csv\")\n",
    "\n",
    "propostas  # Impressão do DataFrame de propostas"
   ]
  },
  {
   "cell_type": "code",
   "execution_count": 39,
   "id": "bf9291f1",
   "metadata": {},
   "outputs": [],
   "source": [
    "# Expressões regulares para remoção de poluição de dados nos textos \n",
    "# REGX_URL = r\"https?://[A-Za-z0-9./\\-]+\" # Regex for URLs\n",
    "REGX_HTML = r\"<[^<]+?>\" # Regex for HTML tags\n",
    "REGX_ENDING = r'Órgão Responsável:.+' # Regex for the part of the text"
   ]
  },
  {
   "cell_type": "code",
   "execution_count": 40,
   "id": "fa422dc5",
   "metadata": {},
   "outputs": [
    {
     "data": {
      "text/html": [
       "<div>\n",
       "<style scoped>\n",
       "    .dataframe tbody tr th:only-of-type {\n",
       "        vertical-align: middle;\n",
       "    }\n",
       "\n",
       "    .dataframe tbody tr th {\n",
       "        vertical-align: top;\n",
       "    }\n",
       "\n",
       "    .dataframe thead th {\n",
       "        text-align: right;\n",
       "    }\n",
       "</style>\n",
       "<table border=\"1\" class=\"dataframe\">\n",
       "  <thead>\n",
       "    <tr style=\"text-align: right;\">\n",
       "      <th></th>\n",
       "      <th>Categoria</th>\n",
       "      <th>Texto</th>\n",
       "    </tr>\n",
       "  </thead>\n",
       "  <tbody>\n",
       "    <tr>\n",
       "      <th>0</th>\n",
       "      <td>Turismo</td>\n",
       "      <td>Turismo: esse é o Destino. Objetivo: Posiciona...</td>\n",
       "    </tr>\n",
       "    <tr>\n",
       "      <th>1</th>\n",
       "      <td>Desenvolvimento Agrário e Agricultura Familiar</td>\n",
       "      <td>Agricultura Familiar e Agroecologia. Objetivo:...</td>\n",
       "    </tr>\n",
       "    <tr>\n",
       "      <th>2</th>\n",
       "      <td>Agricultura e Pecuária</td>\n",
       "      <td>Agropecuária Sustentável. Objetivo: Contribuir...</td>\n",
       "    </tr>\n",
       "    <tr>\n",
       "      <th>3</th>\n",
       "      <td>Saúde</td>\n",
       "      <td>Atenção Primária à Saúde. Fortalecer a Atenção...</td>\n",
       "    </tr>\n",
       "    <tr>\n",
       "      <th>4</th>\n",
       "      <td>Saúde</td>\n",
       "      <td>Atenção Especializada à Saúde. Ampliar o acess...</td>\n",
       "    </tr>\n",
       "  </tbody>\n",
       "</table>\n",
       "</div>"
      ],
      "text/plain": [
       "                                        Categoria  \\\n",
       "0                                         Turismo   \n",
       "1  Desenvolvimento Agrário e Agricultura Familiar   \n",
       "2                          Agricultura e Pecuária   \n",
       "3                                           Saúde   \n",
       "4                                           Saúde   \n",
       "\n",
       "                                               Texto  \n",
       "0  Turismo: esse é o Destino. Objetivo: Posiciona...  \n",
       "1  Agricultura Familiar e Agroecologia. Objetivo:...  \n",
       "2  Agropecuária Sustentável. Objetivo: Contribuir...  \n",
       "3  Atenção Primária à Saúde. Fortalecer a Atenção...  \n",
       "4  Atenção Especializada à Saúde. Ampliar o acess...  "
      ]
     },
     "execution_count": 40,
     "metadata": {},
     "output_type": "execute_result"
    }
   ],
   "source": [
    "# Função para pré-processamento\n",
    "def preprocessing(text):\n",
    "  # text = text.lower()\n",
    "\n",
    "  text = re.sub(REGX_HTML, '', text)  # Removendo tags HTML\n",
    "  # text = re.sub(REGX_URL, '', text) # Revomendo URLs\n",
    "  text = re.sub(REGX_ENDING, '', text)\n",
    "\n",
    "  # tokens = [t.lemma_ for t in nlp(text) if t not in STOP_WORDS and not t.is_punct]\n",
    "\n",
    "  return text\n",
    "\n",
    "#  Ajustando textos da coluna Corpo\n",
    "propostas['Texto'] = propostas['Texto'].apply(preprocessing)\n",
    "propostas.head()"
   ]
  },
  {
   "cell_type": "code",
   "execution_count": 41,
   "id": "77c6bbfe",
   "metadata": {},
   "outputs": [
    {
     "name": "stdout",
     "output_type": "stream",
     "text": [
      "Categoria\n",
      "Saúde                                                             1368\n",
      "Educação                                                          1261\n",
      "Direitos Humanos e Cidadania                                       528\n",
      "Meio Ambiente e Mudança do Clima                                   497\n",
      "Transportes                                                        473\n",
      "Desenvolvimento e Assistência Social, Família e Combate à Fome     418\n",
      "Trabalho e Emprego                                                 377\n",
      "Justiça e Segurança Pública                                        342\n",
      "Cidades                                                            294\n",
      "Gestão e Inovação em Serviços Públicos                             284\n",
      "Desenvolvimento Agrário e Agricultura Familiar                     255\n",
      "Previdência Social                                                 249\n",
      "Cultura                                                            224\n",
      "Mulheres                                                           187\n",
      "Ciência, Tecnologia e Inovação                                     158\n",
      "Fazenda                                                            132\n",
      "Planejamento e Orçamento                                           125\n",
      "Turismo                                                            122\n",
      "Desenvolvimento, Indústria, Comércio e Serviços                    116\n",
      "Integração e Desenvolvimento Regional                              110\n",
      "Agricultura e Pecuária                                             103\n",
      "Minas e Energia                                                     99\n",
      "Igualdade Racial                                                    92\n",
      "Secretaria Geral da Presidência da República                        92\n",
      "Esporte                                                             90\n",
      "Defesa                                                              60\n",
      "Comunicações                                                        47\n",
      "Comunicação Social                                                  43\n",
      "Casa Civil                                                          37\n",
      "Relações Institucionais                                             37\n",
      "Povos Indígenas                                                     36\n",
      "Pesca e Aquicultura                                                 30\n",
      "Controladoria-Geral da União                                        30\n",
      "Outros                                                              27\n",
      "Segurança Institucional                                             25\n",
      "Banco Central                                                       22\n",
      "Portos e Aeroportos                                                 21\n",
      "Advocacia-Geral da União                                            13\n",
      "Relações Exteriores                                                 12\n",
      "Name: count, dtype: int64\n"
     ]
    }
   ],
   "source": [
    "print(propostas.Categoria.value_counts())"
   ]
  },
  {
   "cell_type": "markdown",
   "id": "10031b7a",
   "metadata": {},
   "source": [
    "# Realizando a criacao de novas propostas e verificando a performance no modelo\n",
    "\n"
   ]
  },
  {
   "cell_type": "code",
   "execution_count": 42,
   "id": "e4b2a713",
   "metadata": {},
   "outputs": [
    {
     "data": {
      "text/html": [
       "<div>\n",
       "<style scoped>\n",
       "    .dataframe tbody tr th:only-of-type {\n",
       "        vertical-align: middle;\n",
       "    }\n",
       "\n",
       "    .dataframe tbody tr th {\n",
       "        vertical-align: top;\n",
       "    }\n",
       "\n",
       "    .dataframe thead th {\n",
       "        text-align: right;\n",
       "    }\n",
       "</style>\n",
       "<table border=\"1\" class=\"dataframe\">\n",
       "  <thead>\n",
       "    <tr style=\"text-align: right;\">\n",
       "      <th></th>\n",
       "      <th>Categoria</th>\n",
       "      <th>Proposta</th>\n",
       "    </tr>\n",
       "  </thead>\n",
       "  <tbody>\n",
       "    <tr>\n",
       "      <th>0</th>\n",
       "      <td>Casa Civil</td>\n",
       "      <td>É ótimo ver a conscientização sobre igualdade ...</td>\n",
       "    </tr>\n",
       "    <tr>\n",
       "      <th>1</th>\n",
       "      <td>Casa Civil</td>\n",
       "      <td>Tornar a Casa Civil mais ecológica e sustentáv...</td>\n",
       "    </tr>\n",
       "    <tr>\n",
       "      <th>2</th>\n",
       "      <td>Casa Civil</td>\n",
       "      <td>Criar um programa de parcerias com startups na...</td>\n",
       "    </tr>\n",
       "    <tr>\n",
       "      <th>3</th>\n",
       "      <td>Casa Civil</td>\n",
       "      <td>Vamos estabelecer metas ambiciosas para reduzi...</td>\n",
       "    </tr>\n",
       "    <tr>\n",
       "      <th>4</th>\n",
       "      <td>Casa Civil</td>\n",
       "      <td>Vamos criar um comitê de ética interno na Casa...</td>\n",
       "    </tr>\n",
       "    <tr>\n",
       "      <th>...</th>\n",
       "      <td>...</td>\n",
       "      <td>...</td>\n",
       "    </tr>\n",
       "    <tr>\n",
       "      <th>366</th>\n",
       "      <td>Comunicações</td>\n",
       "      <td>O serviço postal desempenha um papel essencial...</td>\n",
       "    </tr>\n",
       "    <tr>\n",
       "      <th>367</th>\n",
       "      <td>Comunicações</td>\n",
       "      <td>A imprensa local desempenha um papel vital na ...</td>\n",
       "    </tr>\n",
       "    <tr>\n",
       "      <th>368</th>\n",
       "      <td>Comunicações</td>\n",
       "      <td>Fusões e aquisições no setor de mídia podem te...</td>\n",
       "    </tr>\n",
       "    <tr>\n",
       "      <th>369</th>\n",
       "      <td>Comunicações</td>\n",
       "      <td>Para capacitar os cidadãos na era digital, é c...</td>\n",
       "    </tr>\n",
       "    <tr>\n",
       "      <th>370</th>\n",
       "      <td>Comunicações</td>\n",
       "      <td>Para promover a diversidade de mídias e a libe...</td>\n",
       "    </tr>\n",
       "  </tbody>\n",
       "</table>\n",
       "<p>371 rows × 2 columns</p>\n",
       "</div>"
      ],
      "text/plain": [
       "        Categoria                                           Proposta\n",
       "0      Casa Civil  É ótimo ver a conscientização sobre igualdade ...\n",
       "1      Casa Civil  Tornar a Casa Civil mais ecológica e sustentáv...\n",
       "2      Casa Civil  Criar um programa de parcerias com startups na...\n",
       "3      Casa Civil  Vamos estabelecer metas ambiciosas para reduzi...\n",
       "4      Casa Civil  Vamos criar um comitê de ética interno na Casa...\n",
       "..            ...                                                ...\n",
       "366  Comunicações  O serviço postal desempenha um papel essencial...\n",
       "367  Comunicações  A imprensa local desempenha um papel vital na ...\n",
       "368  Comunicações  Fusões e aquisições no setor de mídia podem te...\n",
       "369  Comunicações  Para capacitar os cidadãos na era digital, é c...\n",
       "370  Comunicações  Para promover a diversidade de mídias e a libe...\n",
       "\n",
       "[371 rows x 2 columns]"
      ]
     },
     "execution_count": 42,
     "metadata": {},
     "output_type": "execute_result"
    }
   ],
   "source": [
    "# Lê as propostas com o Pandas\n",
    "\n",
    "simuladas = pd.read_csv(\"propostas_simuladas.csv\")\n",
    "simuladas  # Impressão do DataFrame de propostas"
   ]
  },
  {
   "cell_type": "code",
   "execution_count": 43,
   "id": "2470c731",
   "metadata": {},
   "outputs": [],
   "source": [
    "propostas = pd.DataFrame(propostas)\n",
    "propostas_simuladas = pd.DataFrame(simuladas)\n",
    "novas_propostas = pd.concat([propostas,propostas_simuladas],ignore_index=True)"
   ]
  },
  {
   "cell_type": "code",
   "execution_count": 44,
   "id": "4a7c48c9",
   "metadata": {
    "scrolled": false
   },
   "outputs": [
    {
     "name": "stdout",
     "output_type": "stream",
     "text": [
      "Categoria\n",
      "Saúde                                                             1368\n",
      "Educação                                                          1261\n",
      "Direitos Humanos e Cidadania                                       528\n",
      "Meio Ambiente e Mudança do Clima                                   497\n",
      "Transportes                                                        473\n",
      "Desenvolvimento e Assistência Social, Família e Combate à Fome     418\n",
      "Trabalho e Emprego                                                 377\n",
      "Justiça e Segurança Pública                                        342\n",
      "Cidades                                                            294\n",
      "Gestão e Inovação em Serviços Públicos                             284\n",
      "Desenvolvimento Agrário e Agricultura Familiar                     255\n",
      "Previdência Social                                                 249\n",
      "Cultura                                                            224\n",
      "Mulheres                                                           187\n",
      "Ciência, Tecnologia e Inovação                                     158\n",
      "Fazenda                                                            132\n",
      "Planejamento e Orçamento                                           125\n",
      "Turismo                                                            122\n",
      "Desenvolvimento, Indústria, Comércio e Serviços                    116\n",
      "Integração e Desenvolvimento Regional                              110\n",
      "Agricultura e Pecuária                                             103\n",
      "Minas e Energia                                                     99\n",
      "Igualdade Racial                                                    92\n",
      "Secretaria Geral da Presidência da República                        92\n",
      "Esporte                                                             90\n",
      "Casa Civil                                                          77\n",
      "Comunicações                                                        65\n",
      "Relações Institucionais                                             62\n",
      "Defesa                                                              60\n",
      "Comunicação Social                                                  58\n",
      "Pesca e Aquicultura                                                 57\n",
      "Povos Indígenas                                                     56\n",
      "Controladoria-Geral da União                                        55\n",
      "Segurança Institucional                                             55\n",
      "Banco Central                                                       55\n",
      "Outros                                                              54\n",
      "Relações Exteriores                                                 54\n",
      "Advocacia-Geral da União                                            53\n",
      "Portos e Aeroportos                                                 50\n",
      "Name: count, dtype: int64\n"
     ]
    }
   ],
   "source": [
    "print(novas_propostas.Categoria.value_counts())"
   ]
  },
  {
   "cell_type": "markdown",
   "id": "7ffe3e4e",
   "metadata": {},
   "source": [
    "# Pre Processamento\n"
   ]
  },
  {
   "cell_type": "code",
   "execution_count": 45,
   "id": "411aba01",
   "metadata": {},
   "outputs": [
    {
     "data": {
      "text/html": [
       "<div>\n",
       "<style scoped>\n",
       "    .dataframe tbody tr th:only-of-type {\n",
       "        vertical-align: middle;\n",
       "    }\n",
       "\n",
       "    .dataframe tbody tr th {\n",
       "        vertical-align: top;\n",
       "    }\n",
       "\n",
       "    .dataframe thead th {\n",
       "        text-align: right;\n",
       "    }\n",
       "</style>\n",
       "<table border=\"1\" class=\"dataframe\">\n",
       "  <thead>\n",
       "    <tr style=\"text-align: right;\">\n",
       "      <th></th>\n",
       "      <th>Categoria</th>\n",
       "      <th>Texto</th>\n",
       "      <th>Proposta</th>\n",
       "      <th>id_cats</th>\n",
       "    </tr>\n",
       "  </thead>\n",
       "  <tbody>\n",
       "    <tr>\n",
       "      <th>0</th>\n",
       "      <td>Turismo</td>\n",
       "      <td>Turismo: esse é o Destino. Objetivo: Posiciona...</td>\n",
       "      <td>NaN</td>\n",
       "      <td>0</td>\n",
       "    </tr>\n",
       "    <tr>\n",
       "      <th>1</th>\n",
       "      <td>Desenvolvimento Agrário e Agricultura Familiar</td>\n",
       "      <td>Agricultura Familiar e Agroecologia. Objetivo:...</td>\n",
       "      <td>NaN</td>\n",
       "      <td>1</td>\n",
       "    </tr>\n",
       "    <tr>\n",
       "      <th>2</th>\n",
       "      <td>Agricultura e Pecuária</td>\n",
       "      <td>Agropecuária Sustentável. Objetivo: Contribuir...</td>\n",
       "      <td>NaN</td>\n",
       "      <td>2</td>\n",
       "    </tr>\n",
       "    <tr>\n",
       "      <th>3</th>\n",
       "      <td>Saúde</td>\n",
       "      <td>Atenção Primária à Saúde. Fortalecer a Atenção...</td>\n",
       "      <td>NaN</td>\n",
       "      <td>3</td>\n",
       "    </tr>\n",
       "    <tr>\n",
       "      <th>4</th>\n",
       "      <td>Saúde</td>\n",
       "      <td>Atenção Especializada à Saúde. Ampliar o acess...</td>\n",
       "      <td>NaN</td>\n",
       "      <td>3</td>\n",
       "    </tr>\n",
       "  </tbody>\n",
       "</table>\n",
       "</div>"
      ],
      "text/plain": [
       "                                        Categoria  \\\n",
       "0                                         Turismo   \n",
       "1  Desenvolvimento Agrário e Agricultura Familiar   \n",
       "2                          Agricultura e Pecuária   \n",
       "3                                           Saúde   \n",
       "4                                           Saúde   \n",
       "\n",
       "                                               Texto Proposta  id_cats  \n",
       "0  Turismo: esse é o Destino. Objetivo: Posiciona...      NaN        0  \n",
       "1  Agricultura Familiar e Agroecologia. Objetivo:...      NaN        1  \n",
       "2  Agropecuária Sustentável. Objetivo: Contribuir...      NaN        2  \n",
       "3  Atenção Primária à Saúde. Fortalecer a Atenção...      NaN        3  \n",
       "4  Atenção Especializada à Saúde. Ampliar o acess...      NaN        3  "
      ]
     },
     "execution_count": 45,
     "metadata": {},
     "output_type": "execute_result"
    }
   ],
   "source": [
    "#Criando índices para as categorias\n",
    "cats = novas_propostas['Categoria'].unique() # Pegando cada categoria única\n",
    "cats = dict(enumerate(cats, 0)) # Convertendo para dict (com índices enumerados)\n",
    "cats = {v:k for k,v in cats.items()}  # Trocando chaves e valores\n",
    "\n",
    "novas_propostas['id_cats'] = novas_propostas['Categoria'].map(cats) # Inserindo coluna de índices das cats\n",
    "novas_propostas.head()"
   ]
  },
  {
   "cell_type": "code",
   "execution_count": 46,
   "id": "66b908aa",
   "metadata": {},
   "outputs": [
    {
     "data": {
      "text/plain": [
       "'Turismo: esse é o Destino. Objetivo: Posicionar o turismo como vetor de desenvolvimento sustentável e aumentar a competitividade dos destinos e produtos turísticos brasileiros, democratizando o acesso à atividade turística aos cidadãos brasileiros.'"
      ]
     },
     "execution_count": 46,
     "metadata": {},
     "output_type": "execute_result"
    }
   ],
   "source": [
    "novas_propostas['Texto'][0]"
   ]
  },
  {
   "cell_type": "code",
   "execution_count": 47,
   "id": "83691544",
   "metadata": {},
   "outputs": [
    {
     "name": "stderr",
     "output_type": "stream",
     "text": [
      "[nltk_data] Downloading package stopwords to\n",
      "[nltk_data]     /home/leandro/nltk_data...\n",
      "[nltk_data]   Package stopwords is already up-to-date!\n"
     ]
    }
   ],
   "source": [
    "import nltk\n",
    "import spacy\n",
    "nlp = spacy.load('pt_core_news_sm')  \n",
    "\n",
    "nltk.download('stopwords')\n",
    "\n",
    "stopwords = nltk.corpus.stopwords.words('portuguese')\n",
    "\n",
    "lemmatizer = WordNetLemmatizer()\n",
    "\n",
    "def clean(doc):\n",
    "    \n",
    "    if isinstance(doc, float) and np.isnan(doc):\n",
    "        return ''\n",
    "    \n",
    "    text_no_namedentities = []\n",
    "    document = nlp(doc)\n",
    "    ents = [e.text for e in document.ents]\n",
    "    for item in document:\n",
    "        if item.text in ents:\n",
    "            pass\n",
    "        else:\n",
    "            text_no_namedentities.append(item.text)\n",
    "    doc = (\" \".join(text_no_namedentities))\n",
    "\n",
    "    doc = doc.lower().strip()\n",
    "    doc = doc.replace(\"</br>\", \" \") \n",
    "    doc = doc.replace(\"-\", \" \") \n",
    "    doc = \"\".join([char for char in doc if char not in string.punctuation and not char.isdigit()])\n",
    "    doc = \" \".join([token for token in doc.split() if token not in stopwords])    \n",
    "    doc = \"\".join([lemmatizer.lemmatize(word) for word in doc])\n",
    "    return doc\n"
   ]
  },
  {
   "cell_type": "code",
   "execution_count": 48,
   "id": "c0b4c48d",
   "metadata": {},
   "outputs": [
    {
     "data": {
      "text/plain": [
       "'turismo objetivo posicionar turismo vetor desenvolvimento sustentável aumentar competitividade destinos produtos turísticos brasileiros democratizando acesso atividade turística cidadãos brasileiros'"
      ]
     },
     "execution_count": 48,
     "metadata": {},
     "output_type": "execute_result"
    }
   ],
   "source": [
    "clean(novas_propostas['Texto'][0])"
   ]
  },
  {
   "cell_type": "code",
   "execution_count": 49,
   "id": "fe89defa",
   "metadata": {},
   "outputs": [
    {
     "data": {
      "text/html": [
       "<div>\n",
       "<style scoped>\n",
       "    .dataframe tbody tr th:only-of-type {\n",
       "        vertical-align: middle;\n",
       "    }\n",
       "\n",
       "    .dataframe tbody tr th {\n",
       "        vertical-align: top;\n",
       "    }\n",
       "\n",
       "    .dataframe thead th {\n",
       "        text-align: right;\n",
       "    }\n",
       "</style>\n",
       "<table border=\"1\" class=\"dataframe\">\n",
       "  <thead>\n",
       "    <tr style=\"text-align: right;\">\n",
       "      <th></th>\n",
       "      <th>Categoria</th>\n",
       "      <th>Texto</th>\n",
       "      <th>Proposta</th>\n",
       "      <th>id_cats</th>\n",
       "    </tr>\n",
       "  </thead>\n",
       "  <tbody>\n",
       "    <tr>\n",
       "      <th>0</th>\n",
       "      <td>Turismo</td>\n",
       "      <td>turismo objetivo posicionar turismo vetor dese...</td>\n",
       "      <td>NaN</td>\n",
       "      <td>0</td>\n",
       "    </tr>\n",
       "    <tr>\n",
       "      <th>1</th>\n",
       "      <td>Desenvolvimento Agrário e Agricultura Familiar</td>\n",
       "      <td>agricultura familiar objetivo fortalecer agric...</td>\n",
       "      <td>NaN</td>\n",
       "      <td>1</td>\n",
       "    </tr>\n",
       "    <tr>\n",
       "      <th>2</th>\n",
       "      <td>Agricultura e Pecuária</td>\n",
       "      <td>agropecuária objetivo contribuir desenvolvimen...</td>\n",
       "      <td>NaN</td>\n",
       "      <td>2</td>\n",
       "    </tr>\n",
       "    <tr>\n",
       "      <th>3</th>\n",
       "      <td>Saúde</td>\n",
       "      <td>atenção primária fortalecer atenção primária a...</td>\n",
       "      <td>NaN</td>\n",
       "      <td>3</td>\n",
       "    </tr>\n",
       "    <tr>\n",
       "      <th>4</th>\n",
       "      <td>Saúde</td>\n",
       "      <td>atenção especializada ampliar acesso ações ser...</td>\n",
       "      <td>NaN</td>\n",
       "      <td>3</td>\n",
       "    </tr>\n",
       "  </tbody>\n",
       "</table>\n",
       "</div>"
      ],
      "text/plain": [
       "                                        Categoria  \\\n",
       "0                                         Turismo   \n",
       "1  Desenvolvimento Agrário e Agricultura Familiar   \n",
       "2                          Agricultura e Pecuária   \n",
       "3                                           Saúde   \n",
       "4                                           Saúde   \n",
       "\n",
       "                                               Texto Proposta  id_cats  \n",
       "0  turismo objetivo posicionar turismo vetor dese...      NaN        0  \n",
       "1  agricultura familiar objetivo fortalecer agric...      NaN        1  \n",
       "2  agropecuária objetivo contribuir desenvolvimen...      NaN        2  \n",
       "3  atenção primária fortalecer atenção primária a...      NaN        3  \n",
       "4  atenção especializada ampliar acesso ações ser...      NaN        3  "
      ]
     },
     "execution_count": 49,
     "metadata": {},
     "output_type": "execute_result"
    }
   ],
   "source": [
    "novas_propostas['Texto'] = novas_propostas['Texto'].apply(clean)\n",
    "novas_propostas.head()"
   ]
  },
  {
   "cell_type": "markdown",
   "id": "5951b1c3",
   "metadata": {},
   "source": [
    "## TF-IDF Vectorizer\n",
    "\n",
    "![TF-IDF](https://miro.medium.com/max/3136/1*ruCawEw0--m2SeHmAQooJQ.jpeg)"
   ]
  },
  {
   "cell_type": "code",
   "execution_count": 50,
   "id": "f9a06173",
   "metadata": {},
   "outputs": [],
   "source": [
    "docs = list(novas_propostas['Texto'])\n",
    "tfidf_vectorizer = TfidfVectorizer(use_idf=True, max_features = 20000) \n",
    "tfidf_vectorizer_vectors = tfidf_vectorizer.fit_transform(docs)\n",
    "docs = tfidf_vectorizer_vectors.toarray()"
   ]
  },
  {
   "cell_type": "code",
   "execution_count": 51,
   "id": "33220ceb",
   "metadata": {},
   "outputs": [
    {
     "name": "stdout",
     "output_type": "stream",
     "text": [
      "(8807, 20000) (8807,)\n"
     ]
    }
   ],
   "source": [
    "X = docs \n",
    "y = novas_propostas['id_cats']\n",
    "print(X.shape, y.shape)\n"
   ]
  },
  {
   "cell_type": "code",
   "execution_count": 52,
   "id": "41ee657b",
   "metadata": {},
   "outputs": [
    {
     "ename": "ValueError",
     "evalue": "Mime type rendering requires nbformat>=4.2.0 but it is not installed",
     "output_type": "error",
     "traceback": [
      "\u001b[0;31m---------------------------------------------------------------------------\u001b[0m",
      "\u001b[0;31mValueError\u001b[0m                                Traceback (most recent call last)",
      "\u001b[1;32m/home/leandro/Documentos/07_ProcessamentoLinguagemNatural/versionamento_modelos/model_v6/v6.ipynb Célula 20\u001b[0m line \u001b[0;36m6\n\u001b[1;32m      <a href='vscode-notebook-cell:/home/leandro/Documentos/07_ProcessamentoLinguagemNatural/versionamento_modelos/model_v6/v6.ipynb#X26sZmlsZQ%3D%3D?line=0'>1</a>\u001b[0m fig \u001b[39m=\u001b[39m go\u001b[39m.\u001b[39mFigure([go\u001b[39m.\u001b[39mBar(x\u001b[39m=\u001b[39my\u001b[39m.\u001b[39mvalue_counts()\u001b[39m.\u001b[39mindex, y\u001b[39m=\u001b[39my\u001b[39m.\u001b[39mvalue_counts()\u001b[39m.\u001b[39mtolist())])\n\u001b[1;32m      <a href='vscode-notebook-cell:/home/leandro/Documentos/07_ProcessamentoLinguagemNatural/versionamento_modelos/model_v6/v6.ipynb#X26sZmlsZQ%3D%3D?line=1'>2</a>\u001b[0m fig\u001b[39m.\u001b[39mupdate_layout(\n\u001b[1;32m      <a href='vscode-notebook-cell:/home/leandro/Documentos/07_ProcessamentoLinguagemNatural/versionamento_modelos/model_v6/v6.ipynb#X26sZmlsZQ%3D%3D?line=2'>3</a>\u001b[0m     title\u001b[39m=\u001b[39m\u001b[39m\"\u001b[39m\u001b[39mQuantidade de propostas\u001b[39m\u001b[39m\"\u001b[39m,\n\u001b[1;32m      <a href='vscode-notebook-cell:/home/leandro/Documentos/07_ProcessamentoLinguagemNatural/versionamento_modelos/model_v6/v6.ipynb#X26sZmlsZQ%3D%3D?line=3'>4</a>\u001b[0m     xaxis_title\u001b[39m=\u001b[39m\u001b[39m\"\u001b[39m\u001b[39mPropostas\u001b[39m\u001b[39m\"\u001b[39m,\n\u001b[1;32m      <a href='vscode-notebook-cell:/home/leandro/Documentos/07_ProcessamentoLinguagemNatural/versionamento_modelos/model_v6/v6.ipynb#X26sZmlsZQ%3D%3D?line=4'>5</a>\u001b[0m     yaxis_title\u001b[39m=\u001b[39m\u001b[39m\"\u001b[39m\u001b[39mquantidade\u001b[39m\u001b[39m\"\u001b[39m)\n\u001b[0;32m----> <a href='vscode-notebook-cell:/home/leandro/Documentos/07_ProcessamentoLinguagemNatural/versionamento_modelos/model_v6/v6.ipynb#X26sZmlsZQ%3D%3D?line=5'>6</a>\u001b[0m fig\u001b[39m.\u001b[39;49mshow()\n",
      "File \u001b[0;32m~/Documentos/07_ProcessamentoLinguagemNatural/env/lib/python3.10/site-packages/plotly/basedatatypes.py:3410\u001b[0m, in \u001b[0;36mBaseFigure.show\u001b[0;34m(self, *args, **kwargs)\u001b[0m\n\u001b[1;32m   3377\u001b[0m \u001b[39m\u001b[39m\u001b[39m\"\"\"\u001b[39;00m\n\u001b[1;32m   3378\u001b[0m \u001b[39mShow a figure using either the default renderer(s) or the renderer(s)\u001b[39;00m\n\u001b[1;32m   3379\u001b[0m \u001b[39mspecified by the renderer argument\u001b[39;00m\n\u001b[0;32m   (...)\u001b[0m\n\u001b[1;32m   3406\u001b[0m \u001b[39mNone\u001b[39;00m\n\u001b[1;32m   3407\u001b[0m \u001b[39m\"\"\"\u001b[39;00m\n\u001b[1;32m   3408\u001b[0m \u001b[39mimport\u001b[39;00m \u001b[39mplotly\u001b[39;00m\u001b[39m.\u001b[39;00m\u001b[39mio\u001b[39;00m \u001b[39mas\u001b[39;00m \u001b[39mpio\u001b[39;00m\n\u001b[0;32m-> 3410\u001b[0m \u001b[39mreturn\u001b[39;00m pio\u001b[39m.\u001b[39;49mshow(\u001b[39mself\u001b[39;49m, \u001b[39m*\u001b[39;49margs, \u001b[39m*\u001b[39;49m\u001b[39m*\u001b[39;49mkwargs)\n",
      "File \u001b[0;32m~/Documentos/07_ProcessamentoLinguagemNatural/env/lib/python3.10/site-packages/plotly/io/_renderers.py:394\u001b[0m, in \u001b[0;36mshow\u001b[0;34m(fig, renderer, validate, **kwargs)\u001b[0m\n\u001b[1;32m    389\u001b[0m         \u001b[39mraise\u001b[39;00m \u001b[39mValueError\u001b[39;00m(\n\u001b[1;32m    390\u001b[0m             \u001b[39m\"\u001b[39m\u001b[39mMime type rendering requires ipython but it is not installed\u001b[39m\u001b[39m\"\u001b[39m\n\u001b[1;32m    391\u001b[0m         )\n\u001b[1;32m    393\u001b[0m     \u001b[39mif\u001b[39;00m \u001b[39mnot\u001b[39;00m nbformat \u001b[39mor\u001b[39;00m Version(nbformat\u001b[39m.\u001b[39m__version__) \u001b[39m<\u001b[39m Version(\u001b[39m\"\u001b[39m\u001b[39m4.2.0\u001b[39m\u001b[39m\"\u001b[39m):\n\u001b[0;32m--> 394\u001b[0m         \u001b[39mraise\u001b[39;00m \u001b[39mValueError\u001b[39;00m(\n\u001b[1;32m    395\u001b[0m             \u001b[39m\"\u001b[39m\u001b[39mMime type rendering requires nbformat>=4.2.0 but it is not installed\u001b[39m\u001b[39m\"\u001b[39m\n\u001b[1;32m    396\u001b[0m         )\n\u001b[1;32m    398\u001b[0m     ipython_display\u001b[39m.\u001b[39mdisplay(bundle, raw\u001b[39m=\u001b[39m\u001b[39mTrue\u001b[39;00m)\n\u001b[1;32m    400\u001b[0m \u001b[39m# external renderers\u001b[39;00m\n",
      "\u001b[0;31mValueError\u001b[0m: Mime type rendering requires nbformat>=4.2.0 but it is not installed"
     ]
    }
   ],
   "source": [
    "fig = go.Figure([go.Bar(x=y.value_counts().index, y=y.value_counts().tolist())])\n",
    "fig.update_layout(\n",
    "    title=\"Quantidade de propostas\",\n",
    "    xaxis_title=\"Propostas\",\n",
    "    yaxis_title=\"quantidade\")\n",
    "fig.show()"
   ]
  },
  {
   "cell_type": "markdown",
   "id": "f5806a7c",
   "metadata": {},
   "source": [
    "# Train test Split"
   ]
  },
  {
   "cell_type": "code",
   "execution_count": 53,
   "id": "f1abe771",
   "metadata": {},
   "outputs": [
    {
     "name": "stdout",
     "output_type": "stream",
     "text": [
      "(7045, 20000) (7045,)\n",
      "(1762, 20000) (1762,)\n"
     ]
    }
   ],
   "source": [
    "SEED=123\n",
    "X_train,X_test,y_train,y_test=train_test_split(X, y, test_size=0.2, random_state=SEED, stratify=y)\n",
    "print(X_train.shape, y_train.shape)\n",
    "print(X_test.shape, y_test.shape)"
   ]
  },
  {
   "cell_type": "code",
   "execution_count": 54,
   "id": "abd83525",
   "metadata": {},
   "outputs": [],
   "source": [
    "target_names = [\n",
    "    'Saúde', 'Educação', 'Direitos Humanos e Cidadania', 'Meio Ambiente e Mudança do Clima',\n",
    "    'Transportes', 'Desenvolvimento e Assistência Social, Família e Combate à Fome',\n",
    "    'Trabalho e Emprego', 'Justiça e Segurança Pública', 'Cidades',\n",
    "    'Gestão e Inovação em Serviços Públicos', 'Desenvolvimento Agrário e Agricultura Familiar',\n",
    "    'Previdência Social', 'Cultura', 'Mulheres', 'Ciência, Tecnologia e Inovação',\n",
    "    'Fazenda', 'Planejamento e Orçamento', 'Turismo',\n",
    "    'Desenvolvimento, Indústria, Comércio e Serviços', 'Integração e Desenvolvimento Regional',\n",
    "    'Agricultura e Pecuária', 'Minas e Energia', 'Igualdade Racial',\n",
    "    'Secretaria Geral da Presidência da República', 'Esporte', 'Casa Civil',\n",
    "    'Defesa', 'Comunicações', 'Comunicação Social', 'Relações Institucionais',\n",
    "    'Povos Indígenas', 'Pesca e Aquicultura', 'Controladoria-Geral da União',\n",
    "    'Outros', 'Segurança Institucional', 'Banco Central', 'Portos e Aeroportos',\n",
    "    'Advocacia-Geral da União', 'Relações Exteriores'\n",
    "]"
   ]
  },
  {
   "cell_type": "markdown",
   "id": "396e9e13",
   "metadata": {},
   "source": [
    "## Balanceando dados"
   ]
  },
  {
   "cell_type": "markdown",
   "id": "b9179cc3",
   "metadata": {},
   "source": [
    "## Classificação com Naive Bayes "
   ]
  },
  {
   "cell_type": "markdown",
   "id": "0b94df0c",
   "metadata": {},
   "source": [
    "### Gaussian Naive Bayes\n"
   ]
  },
  {
   "cell_type": "code",
   "execution_count": 55,
   "id": "0f2ed7b6",
   "metadata": {},
   "outputs": [
    {
     "name": "stdout",
     "output_type": "stream",
     "text": [
      "CPU times: user 1.27 s, sys: 692 ms, total: 1.96 s\n",
      "Wall time: 1.96 s\n",
      "\n",
      "Training Accuracy score: 0.9104329311568489\n",
      "Testing Accuracy score: 0.32009080590238365\n"
     ]
    }
   ],
   "source": [
    "gnb = GaussianNB() \n",
    "%time gnb.fit(X_train, y_train)\n",
    "\n",
    "y_pred_train = gnb.predict(X_train)\n",
    "y_pred_test = gnb.predict(X_test)\n",
    "print(\"\\nTraining Accuracy score:\",accuracy_score(y_train, y_pred_train))\n",
    "print(\"Testing Accuracy score:\",accuracy_score(y_test, y_pred_test))"
   ]
  },
  {
   "cell_type": "code",
   "execution_count": 57,
   "id": "34300490",
   "metadata": {},
   "outputs": [
    {
     "name": "stdout",
     "output_type": "stream",
     "text": [
      "                                                                precision    recall  f1-score   support\n",
      "\n",
      "                                                         Saúde       0.40      0.08      0.14        24\n",
      "                                                      Educação       0.50      0.25      0.34        51\n",
      "                                  Direitos Humanos e Cidadania       0.50      0.33      0.40        21\n",
      "                              Meio Ambiente e Mudança do Clima       0.37      0.58      0.45       274\n",
      "                                                   Transportes       0.00      0.00      0.00        13\n",
      "Desenvolvimento e Assistência Social, Família e Combate à Fome       0.25      0.19      0.22        84\n",
      "                                            Trabalho e Emprego       0.43      0.15      0.22        20\n",
      "                                   Justiça e Segurança Pública       0.17      0.11      0.13        75\n",
      "                                                       Cidades       0.47      0.22      0.30        68\n",
      "                        Gestão e Inovação em Serviços Públicos       0.00      0.00      0.00        18\n",
      "                Desenvolvimento Agrário e Agricultura Familiar       0.16      0.18      0.17       106\n",
      "                                            Previdência Social       0.11      0.04      0.06        26\n",
      "                                                       Cultura       0.00      0.00      0.00        11\n",
      "                                                      Mulheres       0.38      0.09      0.15        32\n",
      "                                Ciência, Tecnologia e Inovação       0.00      0.00      0.00        23\n",
      "                                                       Fazenda       0.34      0.67      0.45       252\n",
      "                                      Planejamento e Orçamento       0.30      0.08      0.13        37\n",
      "                                                       Turismo       0.45      0.20      0.28        45\n",
      "               Desenvolvimento, Indústria, Comércio e Serviços       0.26      0.12      0.16        59\n",
      "                         Integração e Desenvolvimento Regional       0.25      0.09      0.13        11\n",
      "                                        Agricultura e Pecuária       0.00      0.00      0.00        18\n",
      "                                               Minas e Energia       0.20      0.06      0.09        18\n",
      "                                              Igualdade Racial       0.36      0.47      0.41       100\n",
      "                  Secretaria Geral da Presidência da República       0.00      0.00      0.00        15\n",
      "                                                       Esporte       0.00      0.00      0.00        11\n",
      "                                                    Casa Civil       0.48      0.53      0.50        95\n",
      "                                                        Defesa       0.41      0.24      0.30        50\n",
      "                                                  Comunicações       0.17      0.05      0.07        22\n",
      "                                            Comunicação Social       0.00      0.00      0.00        25\n",
      "                                       Relações Institucionais       0.00      0.00      0.00        11\n",
      "                                               Povos Indígenas       0.00      0.00      0.00        11\n",
      "                                           Pesca e Aquicultura       0.00      0.00      0.00        11\n",
      "                                  Controladoria-Geral da União       0.27      0.12      0.17        57\n",
      "                                                        Outros       0.00      0.00      0.00        11\n",
      "                                       Segurança Institucional       1.00      0.17      0.29        12\n",
      "                                                 Banco Central       0.00      0.00      0.00        12\n",
      "                                           Portos e Aeroportos       0.50      0.17      0.25        12\n",
      "                                      Advocacia-Geral da União       0.00      0.00      0.00        10\n",
      "                                           Relações Exteriores       0.09      0.64      0.16        11\n",
      "\n",
      "                                                      accuracy                           0.32      1762\n",
      "                                                     macro avg       0.23      0.15      0.15      1762\n",
      "                                                  weighted avg       0.30      0.32      0.28      1762\n",
      "\n"
     ]
    }
   ],
   "source": [
    "print(classification_report(y_test, y_pred_test,target_names=target_names))"
   ]
  },
  {
   "cell_type": "markdown",
   "id": "91e32b4f",
   "metadata": {},
   "source": [
    "### Multinomial Naive Bayes"
   ]
  },
  {
   "cell_type": "code",
   "execution_count": 58,
   "id": "5dafc505",
   "metadata": {},
   "outputs": [
    {
     "name": "stdout",
     "output_type": "stream",
     "text": [
      "CPU times: user 1.21 s, sys: 192 ms, total: 1.4 s\n",
      "Wall time: 323 ms\n",
      "\n",
      "Training Accuracy score: 0.3797019162526615\n",
      "Testing Accuracy score: 0.3246311010215664\n"
     ]
    }
   ],
   "source": [
    "mnb = MultinomialNB() \n",
    "%time mnb.fit(X_train, y_train)\n",
    "\n",
    "y_pred_train = mnb.predict(X_train)\n",
    "y_pred_test = mnb.predict(X_test)\n",
    "print(\"\\nTraining Accuracy score:\",accuracy_score(y_train, y_pred_train))\n",
    "print(\"Testing Accuracy score:\",accuracy_score(y_test, y_pred_test))"
   ]
  },
  {
   "cell_type": "code",
   "execution_count": 59,
   "id": "1b3ca6be",
   "metadata": {},
   "outputs": [
    {
     "name": "stdout",
     "output_type": "stream",
     "text": [
      "                                                                precision    recall  f1-score   support\n",
      "\n",
      "                                                         Saúde       0.00      0.00      0.00        24\n",
      "                                                      Educação       0.60      0.06      0.11        51\n",
      "                                  Direitos Humanos e Cidadania       0.00      0.00      0.00        21\n",
      "                              Meio Ambiente e Mudança do Clima       0.30      0.91      0.45       274\n",
      "                                                   Transportes       0.00      0.00      0.00        13\n",
      "Desenvolvimento e Assistência Social, Família e Combate à Fome       0.00      0.00      0.00        84\n",
      "                                            Trabalho e Emprego       0.00      0.00      0.00        20\n",
      "                                   Justiça e Segurança Pública       0.00      0.00      0.00        75\n",
      "                                                       Cidades       0.93      0.19      0.32        68\n",
      "                        Gestão e Inovação em Serviços Públicos       0.00      0.00      0.00        18\n",
      "                Desenvolvimento Agrário e Agricultura Familiar       0.33      0.01      0.02       106\n",
      "                                            Previdência Social       0.00      0.00      0.00        26\n",
      "                                                       Cultura       0.00      0.00      0.00        11\n",
      "                                                      Mulheres       0.00      0.00      0.00        32\n",
      "                                Ciência, Tecnologia e Inovação       0.00      0.00      0.00        23\n",
      "                                                       Fazenda       0.29      0.93      0.44       252\n",
      "                                      Planejamento e Orçamento       0.00      0.00      0.00        37\n",
      "                                                       Turismo       0.00      0.00      0.00        45\n",
      "               Desenvolvimento, Indústria, Comércio e Serviços       0.00      0.00      0.00        59\n",
      "                         Integração e Desenvolvimento Regional       0.00      0.00      0.00        11\n",
      "                                        Agricultura e Pecuária       0.00      0.00      0.00        18\n",
      "                                               Minas e Energia       0.00      0.00      0.00        18\n",
      "                                              Igualdade Racial       0.58      0.28      0.38       100\n",
      "                  Secretaria Geral da Presidência da República       0.00      0.00      0.00        15\n",
      "                                                       Esporte       0.00      0.00      0.00        11\n",
      "                                                    Casa Civil       0.84      0.45      0.59        95\n",
      "                                                        Defesa       0.00      0.00      0.00        50\n",
      "                                                  Comunicações       0.00      0.00      0.00        22\n",
      "                                            Comunicação Social       0.00      0.00      0.00        25\n",
      "                                       Relações Institucionais       0.00      0.00      0.00        11\n",
      "                                               Povos Indígenas       0.00      0.00      0.00        11\n",
      "                                           Pesca e Aquicultura       0.00      0.00      0.00        11\n",
      "                                  Controladoria-Geral da União       0.00      0.00      0.00        57\n",
      "                                                        Outros       0.00      0.00      0.00        11\n",
      "                                       Segurança Institucional       0.00      0.00      0.00        12\n",
      "                                                 Banco Central       0.00      0.00      0.00        12\n",
      "                                           Portos e Aeroportos       0.00      0.00      0.00        12\n",
      "                                      Advocacia-Geral da União       0.00      0.00      0.00        10\n",
      "                                           Relações Exteriores       0.00      0.00      0.00        11\n",
      "\n",
      "                                                      accuracy                           0.32      1762\n",
      "                                                     macro avg       0.10      0.07      0.06      1762\n",
      "                                                  weighted avg       0.24      0.32      0.20      1762\n",
      "\n"
     ]
    }
   ],
   "source": [
    "print(classification_report(y_test, y_pred_test,target_names=target_names))"
   ]
  },
  {
   "cell_type": "markdown",
   "id": "eb4fe717",
   "metadata": {},
   "source": [
    "## Logistic Regression Classifier"
   ]
  },
  {
   "cell_type": "code",
   "execution_count": 60,
   "id": "62bc8d23",
   "metadata": {},
   "outputs": [
    {
     "name": "stdout",
     "output_type": "stream",
     "text": [
      "CPU times: user 6min 17s, sys: 3min 35s, total: 9min 52s\n",
      "Wall time: 1min 20s\n",
      "\n",
      "Training Accuracy score: 0.6894251242015614\n",
      "Testing Accuracy score: 0.5175936435868331\n"
     ]
    }
   ],
   "source": [
    "lr = LogisticRegression(random_state=SEED)\n",
    "%time lr.fit(X_train, y_train)\n",
    "\n",
    "y_pred_train = lr.predict(X_train)\n",
    "y_pred_test = lr.predict(X_test)\n",
    "print(\"\\nTraining Accuracy score:\",accuracy_score(y_train, y_pred_train))\n",
    "print(\"Testing Accuracy score:\",accuracy_score(y_test, y_pred_test))"
   ]
  },
  {
   "cell_type": "code",
   "execution_count": 61,
   "id": "969eccd8",
   "metadata": {},
   "outputs": [
    {
     "name": "stdout",
     "output_type": "stream",
     "text": [
      "                                                                precision    recall  f1-score   support\n",
      "\n",
      "                                                         Saúde       0.92      0.46      0.61        24\n",
      "                                                      Educação       0.62      0.67      0.64        51\n",
      "                                  Direitos Humanos e Cidadania       1.00      0.10      0.17        21\n",
      "                              Meio Ambiente e Mudança do Clima       0.41      0.86      0.55       274\n",
      "                                                   Transportes       0.00      0.00      0.00        13\n",
      "Desenvolvimento e Assistência Social, Família e Combate à Fome       0.35      0.23      0.28        84\n",
      "                                            Trabalho e Emprego       0.88      0.35      0.50        20\n",
      "                                   Justiça e Segurança Pública       0.51      0.44      0.47        75\n",
      "                                                       Cidades       0.68      0.50      0.58        68\n",
      "                        Gestão e Inovação em Serviços Públicos       1.00      0.06      0.11        18\n",
      "                Desenvolvimento Agrário e Agricultura Familiar       0.37      0.36      0.36       106\n",
      "                                            Previdência Social       0.62      0.31      0.41        26\n",
      "                                                       Cultura       1.00      0.27      0.43        11\n",
      "                                                      Mulheres       0.70      0.22      0.33        32\n",
      "                                Ciência, Tecnologia e Inovação       0.00      0.00      0.00        23\n",
      "                                                       Fazenda       0.58      0.86      0.69       252\n",
      "                                      Planejamento e Orçamento       0.48      0.27      0.34        37\n",
      "                                                       Turismo       0.74      0.58      0.65        45\n",
      "               Desenvolvimento, Indústria, Comércio e Serviços       0.38      0.31      0.34        59\n",
      "                         Integração e Desenvolvimento Regional       1.00      0.27      0.43        11\n",
      "                                        Agricultura e Pecuária       0.67      0.11      0.19        18\n",
      "                                               Minas e Energia       0.50      0.11      0.18        18\n",
      "                                              Igualdade Racial       0.62      0.79      0.69       100\n",
      "                  Secretaria Geral da Presidência da República       0.00      0.00      0.00        15\n",
      "                                                       Esporte       0.00      0.00      0.00        11\n",
      "                                                    Casa Civil       0.67      0.81      0.73        95\n",
      "                                                        Defesa       0.74      0.52      0.61        50\n",
      "                                                  Comunicações       0.00      0.00      0.00        22\n",
      "                                            Comunicação Social       0.00      0.00      0.00        25\n",
      "                                       Relações Institucionais       0.00      0.00      0.00        11\n",
      "                                               Povos Indígenas       0.00      0.00      0.00        11\n",
      "                                           Pesca e Aquicultura       0.00      0.00      0.00        11\n",
      "                                  Controladoria-Geral da União       0.49      0.35      0.41        57\n",
      "                                                        Outros       0.00      0.00      0.00        11\n",
      "                                       Segurança Institucional       0.00      0.00      0.00        12\n",
      "                                                 Banco Central       0.00      0.00      0.00        12\n",
      "                                           Portos e Aeroportos       0.00      0.00      0.00        12\n",
      "                                      Advocacia-Geral da União       0.00      0.00      0.00        10\n",
      "                                           Relações Exteriores       0.00      0.00      0.00        11\n",
      "\n",
      "                                                      accuracy                           0.52      1762\n",
      "                                                     macro avg       0.41      0.25      0.27      1762\n",
      "                                                  weighted avg       0.49      0.52      0.46      1762\n",
      "\n"
     ]
    }
   ],
   "source": [
    "print(classification_report(y_test, y_pred_test,target_names=target_names))"
   ]
  },
  {
   "cell_type": "markdown",
   "id": "d6e35a5b",
   "metadata": {},
   "source": [
    "## Support Vector Machines"
   ]
  },
  {
   "cell_type": "code",
   "execution_count": 62,
   "id": "abe2a1ff",
   "metadata": {},
   "outputs": [
    {
     "name": "stdout",
     "output_type": "stream",
     "text": [
      "CPU times: user 1.2 s, sys: 532 ms, total: 1.73 s\n",
      "Wall time: 1.12 s\n",
      "\n",
      "Training Accuracy score: 0.9388218594748048\n",
      "Testing Accuracy score: 0.5317820658342792\n"
     ]
    }
   ],
   "source": [
    "svc =  LinearSVC(class_weight='balanced') \n",
    "%time svc.fit(X_train, y_train)\n",
    "\n",
    "y_pred_train = svc.predict(X_train)\n",
    "y_pred_test = svc.predict(X_test)\n",
    "print(\"\\nTraining Accuracy score:\",accuracy_score(y_train, y_pred_train))\n",
    "print(\"Testing Accuracy score:\",accuracy_score(y_test, y_pred_test))"
   ]
  },
  {
   "cell_type": "code",
   "execution_count": 63,
   "id": "bdac5571",
   "metadata": {},
   "outputs": [
    {
     "name": "stdout",
     "output_type": "stream",
     "text": [
      "                                                                precision    recall  f1-score   support\n",
      "\n",
      "                                                         Saúde       0.73      0.67      0.70        24\n",
      "                                                      Educação       0.56      0.65      0.60        51\n",
      "                                  Direitos Humanos e Cidadania       0.42      0.38      0.40        21\n",
      "                              Meio Ambiente e Mudança do Clima       0.76      0.68      0.71       274\n",
      "                                                   Transportes       0.50      0.38      0.43        13\n",
      "Desenvolvimento e Assistência Social, Família e Combate à Fome       0.41      0.29      0.34        84\n",
      "                                            Trabalho e Emprego       0.74      0.70      0.72        20\n",
      "                                   Justiça e Segurança Pública       0.43      0.52      0.47        75\n",
      "                                                       Cidades       0.59      0.60      0.60        68\n",
      "                        Gestão e Inovação em Serviços Públicos       0.35      0.33      0.34        18\n",
      "                Desenvolvimento Agrário e Agricultura Familiar       0.44      0.32      0.37       106\n",
      "                                            Previdência Social       0.33      0.42      0.37        26\n",
      "                                                       Cultura       0.71      0.45      0.56        11\n",
      "                                                      Mulheres       0.36      0.38      0.37        32\n",
      "                                Ciência, Tecnologia e Inovação       0.24      0.22      0.23        23\n",
      "                                                       Fazenda       0.80      0.73      0.77       252\n",
      "                                      Planejamento e Orçamento       0.48      0.59      0.53        37\n",
      "                                                       Turismo       0.59      0.71      0.65        45\n",
      "               Desenvolvimento, Indústria, Comércio e Serviços       0.38      0.44      0.41        59\n",
      "                         Integração e Desenvolvimento Regional       0.56      0.45      0.50        11\n",
      "                                        Agricultura e Pecuária       0.26      0.28      0.27        18\n",
      "                                               Minas e Energia       0.60      0.67      0.63        18\n",
      "                                              Igualdade Racial       0.65      0.73      0.69       100\n",
      "                  Secretaria Geral da Presidência da República       0.00      0.00      0.00        15\n",
      "                                                       Esporte       0.00      0.00      0.00        11\n",
      "                                                    Casa Civil       0.71      0.76      0.73        95\n",
      "                                                        Defesa       0.44      0.56      0.50        50\n",
      "                                                  Comunicações       0.25      0.18      0.21        22\n",
      "                                            Comunicação Social       0.17      0.16      0.17        25\n",
      "                                       Relações Institucionais       0.00      0.00      0.00        11\n",
      "                                               Povos Indígenas       0.00      0.00      0.00        11\n",
      "                                           Pesca e Aquicultura       0.00      0.00      0.00        11\n",
      "                                  Controladoria-Geral da União       0.23      0.25      0.24        57\n",
      "                                                        Outros       0.00      0.00      0.00        11\n",
      "                                       Segurança Institucional       0.25      0.17      0.20        12\n",
      "                                                 Banco Central       0.12      0.08      0.10        12\n",
      "                                           Portos e Aeroportos       0.50      0.50      0.50        12\n",
      "                                      Advocacia-Geral da União       0.25      0.10      0.14        10\n",
      "                                           Relações Exteriores       0.08      0.64      0.14        11\n",
      "\n",
      "                                                      accuracy                           0.53      1762\n",
      "                                                     macro avg       0.38      0.38      0.37      1762\n",
      "                                                  weighted avg       0.54      0.53      0.53      1762\n",
      "\n"
     ]
    }
   ],
   "source": [
    "print(classification_report(y_test, y_pred_test,target_names=target_names))"
   ]
  },
  {
   "cell_type": "markdown",
   "id": "d89cbc27",
   "metadata": {},
   "source": [
    "## Decision Tree Classifier"
   ]
  },
  {
   "cell_type": "code",
   "execution_count": 64,
   "id": "e9492a6f",
   "metadata": {},
   "outputs": [
    {
     "name": "stdout",
     "output_type": "stream",
     "text": [
      "CPU times: user 41 s, sys: 365 ms, total: 41.4 s\n",
      "Wall time: 41.1 s\n",
      "\n",
      "Training Accuracy score: 0.958694109297374\n",
      "Testing Accuracy score: 0.39330306469920545\n"
     ]
    }
   ],
   "source": [
    "from sklearn.tree import DecisionTreeClassifier\n",
    "\n",
    "dt = DecisionTreeClassifier(random_state=SEED)\n",
    "%time dt.fit(X_train, y_train)\n",
    "\n",
    "y_pred_train = dt.predict(X_train)\n",
    "y_pred_test = dt.predict(X_test)\n",
    "print(\"\\nTraining Accuracy score:\",accuracy_score(y_train, y_pred_train))\n",
    "print(\"Testing Accuracy score:\",accuracy_score(y_test, y_pred_test))"
   ]
  },
  {
   "cell_type": "code",
   "execution_count": 65,
   "id": "a77c8e90",
   "metadata": {},
   "outputs": [
    {
     "name": "stdout",
     "output_type": "stream",
     "text": [
      "                                                                precision    recall  f1-score   support\n",
      "\n",
      "                                                         Saúde       0.60      0.50      0.55        24\n",
      "                                                      Educação       0.28      0.29      0.29        51\n",
      "                                  Direitos Humanos e Cidadania       0.10      0.10      0.10        21\n",
      "                              Meio Ambiente e Mudança do Clima       0.55      0.61      0.58       274\n",
      "                                                   Transportes       0.00      0.00      0.00        13\n",
      "Desenvolvimento e Assistência Social, Família e Combate à Fome       0.29      0.27      0.28        84\n",
      "                                            Trabalho e Emprego       0.55      0.55      0.55        20\n",
      "                                   Justiça e Segurança Pública       0.24      0.23      0.23        75\n",
      "                                                       Cidades       0.42      0.40      0.41        68\n",
      "                        Gestão e Inovação em Serviços Públicos       0.08      0.06      0.06        18\n",
      "                Desenvolvimento Agrário e Agricultura Familiar       0.25      0.28      0.27       106\n",
      "                                            Previdência Social       0.28      0.27      0.27        26\n",
      "                                                       Cultura       1.00      0.36      0.53        11\n",
      "                                                      Mulheres       0.24      0.16      0.19        32\n",
      "                                Ciência, Tecnologia e Inovação       0.08      0.09      0.09        23\n",
      "                                                       Fazenda       0.69      0.67      0.68       252\n",
      "                                      Planejamento e Orçamento       0.33      0.30      0.31        37\n",
      "                                                       Turismo       0.45      0.49      0.47        45\n",
      "               Desenvolvimento, Indústria, Comércio e Serviços       0.27      0.25      0.26        59\n",
      "                         Integração e Desenvolvimento Regional       1.00      0.09      0.17        11\n",
      "                                        Agricultura e Pecuária       0.18      0.17      0.17        18\n",
      "                                               Minas e Energia       0.31      0.28      0.29        18\n",
      "                                              Igualdade Racial       0.49      0.43      0.46       100\n",
      "                  Secretaria Geral da Presidência da República       0.00      0.00      0.00        15\n",
      "                                                       Esporte       0.00      0.00      0.00        11\n",
      "                                                    Casa Civil       0.50      0.57      0.53        95\n",
      "                                                        Defesa       0.46      0.52      0.49        50\n",
      "                                                  Comunicações       0.00      0.00      0.00        22\n",
      "                                            Comunicação Social       0.00      0.00      0.00        25\n",
      "                                       Relações Institucionais       0.00      0.00      0.00        11\n",
      "                                               Povos Indígenas       0.00      0.00      0.00        11\n",
      "                                           Pesca e Aquicultura       0.00      0.00      0.00        11\n",
      "                                  Controladoria-Geral da União       0.11      0.11      0.11        57\n",
      "                                                        Outros       0.00      0.00      0.00        11\n",
      "                                       Segurança Institucional       0.11      0.08      0.10        12\n",
      "                                                 Banco Central       0.09      0.08      0.09        12\n",
      "                                           Portos e Aeroportos       0.83      0.42      0.56        12\n",
      "                                      Advocacia-Geral da União       0.00      0.00      0.00        10\n",
      "                                           Relações Exteriores       0.07      0.73      0.12        11\n",
      "\n",
      "                                                      accuracy                           0.39      1762\n",
      "                                                     macro avg       0.28      0.24      0.24      1762\n",
      "                                                  weighted avg       0.40      0.39      0.39      1762\n",
      "\n"
     ]
    }
   ],
   "source": [
    "print(classification_report(y_test, y_pred_test,target_names=target_names))"
   ]
  },
  {
   "cell_type": "markdown",
   "id": "e947a7d7",
   "metadata": {},
   "source": [
    "## Ensembling"
   ]
  },
  {
   "cell_type": "code",
   "execution_count": 66,
   "id": "55ced083",
   "metadata": {},
   "outputs": [
    {
     "name": "stdout",
     "output_type": "stream",
     "text": [
      "Training Accuracy score: 0.9508871540099362\n",
      "Testing Accuracy score: 0.47219069239500566\n"
     ]
    }
   ],
   "source": [
    "from sklearn.ensemble import VotingClassifier\n",
    "\n",
    "classifiers = [('Decision Tree', dt),\n",
    "               ('Logistic Regression', lr),\n",
    "                ('Naive Bayes', gnb)\n",
    "              ]\n",
    "vc = VotingClassifier(estimators=classifiers)\n",
    "# Fit 'vc' to the traing set and predict test set labels\n",
    "vc.fit(X_train, y_train)\n",
    "y_pred_train=vc.predict(X_train)\n",
    "y_pred_test = vc.predict(X_test)\n",
    "print(\"Training Accuracy score:\",accuracy_score(y_train, y_pred_train))\n",
    "print(\"Testing Accuracy score:\",accuracy_score(y_test, y_pred_test))"
   ]
  },
  {
   "cell_type": "code",
   "execution_count": 67,
   "id": "65bdbfb6",
   "metadata": {},
   "outputs": [
    {
     "name": "stdout",
     "output_type": "stream",
     "text": [
      "                                                                precision    recall  f1-score   support\n",
      "\n",
      "                                                         Saúde       0.68      0.54      0.60        24\n",
      "                                                      Educação       0.43      0.65      0.52        51\n",
      "                                  Direitos Humanos e Cidadania       0.27      0.19      0.22        21\n",
      "                              Meio Ambiente e Mudança do Clima       0.40      0.87      0.55       274\n",
      "                                                   Transportes       0.00      0.00      0.00        13\n",
      "Desenvolvimento e Assistência Social, Família e Combate à Fome       0.27      0.25      0.26        84\n",
      "                                            Trabalho e Emprego       0.69      0.45      0.55        20\n",
      "                                   Justiça e Segurança Pública       0.36      0.28      0.31        75\n",
      "                                                       Cidades       0.60      0.46      0.52        68\n",
      "                        Gestão e Inovação em Serviços Públicos       0.50      0.06      0.10        18\n",
      "                Desenvolvimento Agrário e Agricultura Familiar       0.36      0.34      0.35       106\n",
      "                                            Previdência Social       0.40      0.23      0.29        26\n",
      "                                                       Cultura       1.00      0.27      0.43        11\n",
      "                                                      Mulheres       0.50      0.22      0.30        32\n",
      "                                Ciência, Tecnologia e Inovação       0.00      0.00      0.00        23\n",
      "                                                       Fazenda       0.61      0.79      0.69       252\n",
      "                                      Planejamento e Orçamento       0.47      0.19      0.27        37\n",
      "                                                       Turismo       0.70      0.47      0.56        45\n",
      "               Desenvolvimento, Indústria, Comércio e Serviços       0.50      0.22      0.31        59\n",
      "                         Integração e Desenvolvimento Regional       1.00      0.18      0.31        11\n",
      "                                        Agricultura e Pecuária       0.50      0.06      0.10        18\n",
      "                                               Minas e Energia       0.67      0.11      0.19        18\n",
      "                                              Igualdade Racial       0.63      0.61      0.62       100\n",
      "                  Secretaria Geral da Presidência da República       0.00      0.00      0.00        15\n",
      "                                                       Esporte       0.00      0.00      0.00        11\n",
      "                                                    Casa Civil       0.71      0.64      0.67        95\n",
      "                                                        Defesa       0.88      0.44      0.59        50\n",
      "                                                  Comunicações       0.00      0.00      0.00        22\n",
      "                                            Comunicação Social       0.00      0.00      0.00        25\n",
      "                                       Relações Institucionais       0.00      0.00      0.00        11\n",
      "                                               Povos Indígenas       0.00      0.00      0.00        11\n",
      "                                           Pesca e Aquicultura       0.00      0.00      0.00        11\n",
      "                                  Controladoria-Geral da União       0.56      0.18      0.27        57\n",
      "                                                        Outros       0.00      0.00      0.00        11\n",
      "                                       Segurança Institucional       1.00      0.08      0.15        12\n",
      "                                                 Banco Central       0.00      0.00      0.00        12\n",
      "                                           Portos e Aeroportos       1.00      0.08      0.15        12\n",
      "                                      Advocacia-Geral da União       0.00      0.00      0.00        10\n",
      "                                           Relações Exteriores       0.09      0.64      0.16        11\n",
      "\n",
      "                                                      accuracy                           0.47      1762\n",
      "                                                     macro avg       0.40      0.24      0.26      1762\n",
      "                                                  weighted avg       0.47      0.47      0.43      1762\n",
      "\n"
     ]
    }
   ],
   "source": [
    "print(classification_report(y_test, y_pred_test,target_names=target_names))"
   ]
  },
  {
   "cell_type": "code",
   "execution_count": 68,
   "id": "d0e04610",
   "metadata": {},
   "outputs": [],
   "source": [
    "predictions = pd.Series(vc.predict(X), name=\"Categoria\")\n",
    "results = pd.concat([predictions],axis=1)\n",
    "results.to_csv(\"novas_propostas_resultado.csv\",index=False)"
   ]
  }
 ],
 "metadata": {
  "kernelspec": {
   "display_name": "Python 3 (ipykernel)",
   "language": "python",
   "name": "python3"
  },
  "language_info": {
   "codemirror_mode": {
    "name": "ipython",
    "version": 3
   },
   "file_extension": ".py",
   "mimetype": "text/x-python",
   "name": "python",
   "nbconvert_exporter": "python",
   "pygments_lexer": "ipython3",
   "version": "3.10.12"
  }
 },
 "nbformat": 4,
 "nbformat_minor": 5
}

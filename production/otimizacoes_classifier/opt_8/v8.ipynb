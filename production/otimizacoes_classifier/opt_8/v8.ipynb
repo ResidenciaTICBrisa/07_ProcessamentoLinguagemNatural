{
 "cells": [
  {
   "cell_type": "markdown",
   "id": "8124c958",
   "metadata": {},
   "source": [
    "# Versão 8 dos testes realizados para o modelo\n"
   ]
  },
  {
   "cell_type": "code",
   "execution_count": 1,
   "id": "61bed0f4",
   "metadata": {},
   "outputs": [],
   "source": [
    "import numpy as np\n",
    "import pandas as pd \n",
    "\n",
    "import matplotlib as mpl \n",
    "import matplotlib.cm as cm \n",
    "import matplotlib.pyplot as plt \n",
    "import plotly.graph_objects as go\n",
    "import seaborn as sns\n",
    "\n",
    "from sklearn.feature_extraction.text import CountVectorizer\n",
    "from sklearn.feature_extraction import _stop_words\n",
    "from nltk.stem import WordNetLemmatizer\n",
    "from sklearn.feature_extraction.text import TfidfVectorizer \n",
    "\n",
    "import string\n",
    "import re\n",
    "\n",
    "from sklearn.naive_bayes import MultinomialNB\n",
    "from sklearn.naive_bayes import GaussianNB\n",
    "from sklearn.linear_model import LogisticRegression\n",
    "from sklearn.svm import LinearSVC\n",
    "\n",
    "from sklearn.metrics import accuracy_score\n",
    "import sklearn.metrics as metrics\n",
    "from sklearn.model_selection import train_test_split\n",
    "from sklearn.metrics import confusion_matrix \n",
    "from sklearn.metrics import classification_report\n",
    "from sklearn import metrics\n",
    "\n",
    "from time import time\n",
    "\n",
    "import warnings\n",
    "warnings.filterwarnings(\"ignore\")\n",
    "\n",
    "from pathlib import Path"
   ]
  },
  {
   "cell_type": "code",
   "execution_count": 2,
   "id": "d2ccff01",
   "metadata": {},
   "outputs": [
    {
     "data": {
      "text/html": [
       "<div>\n",
       "<style scoped>\n",
       "    .dataframe tbody tr th:only-of-type {\n",
       "        vertical-align: middle;\n",
       "    }\n",
       "\n",
       "    .dataframe tbody tr th {\n",
       "        vertical-align: top;\n",
       "    }\n",
       "\n",
       "    .dataframe thead th {\n",
       "        text-align: right;\n",
       "    }\n",
       "</style>\n",
       "<table border=\"1\" class=\"dataframe\">\n",
       "  <thead>\n",
       "    <tr style=\"text-align: right;\">\n",
       "      <th></th>\n",
       "      <th>Categoria</th>\n",
       "      <th>Texto</th>\n",
       "    </tr>\n",
       "  </thead>\n",
       "  <tbody>\n",
       "    <tr>\n",
       "      <th>0</th>\n",
       "      <td>Turismo</td>\n",
       "      <td>Turismo: esse é o Destino. &lt;p&gt;&lt;strong&gt;Objetivo...</td>\n",
       "    </tr>\n",
       "    <tr>\n",
       "      <th>1</th>\n",
       "      <td>Desenvolvimento Agrário e Agricultura Familiar</td>\n",
       "      <td>Agricultura Familiar e Agroecologia. &lt;p&gt;&lt;stron...</td>\n",
       "    </tr>\n",
       "    <tr>\n",
       "      <th>2</th>\n",
       "      <td>Agricultura e Pecuária</td>\n",
       "      <td>Agropecuária Sustentável. &lt;p&gt;Objetivo: Contrib...</td>\n",
       "    </tr>\n",
       "    <tr>\n",
       "      <th>3</th>\n",
       "      <td>Saúde</td>\n",
       "      <td>Atenção Primária à Saúde. &lt;p&gt;Fortalecer a Aten...</td>\n",
       "    </tr>\n",
       "    <tr>\n",
       "      <th>4</th>\n",
       "      <td>Saúde</td>\n",
       "      <td>Atenção Especializada à Saúde. &lt;p&gt;Ampliar o ac...</td>\n",
       "    </tr>\n",
       "    <tr>\n",
       "      <th>...</th>\n",
       "      <td>...</td>\n",
       "      <td>...</td>\n",
       "    </tr>\n",
       "    <tr>\n",
       "      <th>8431</th>\n",
       "      <td>Saúde</td>\n",
       "      <td>Microchipagem de animais de companhia. Microch...</td>\n",
       "    </tr>\n",
       "    <tr>\n",
       "      <th>8432</th>\n",
       "      <td>Secretaria Geral da Presidência da República</td>\n",
       "      <td>Direito a atendimento eficiente, é um direito...</td>\n",
       "    </tr>\n",
       "    <tr>\n",
       "      <th>8433</th>\n",
       "      <td>Previdência Social</td>\n",
       "      <td>Rever Reforma da Previdência. Rever a reforma ...</td>\n",
       "    </tr>\n",
       "    <tr>\n",
       "      <th>8434</th>\n",
       "      <td>Meio Ambiente e Mudança do Clima</td>\n",
       "      <td>Preservação da Serra do Espinhaço. A Serra do ...</td>\n",
       "    </tr>\n",
       "    <tr>\n",
       "      <th>8435</th>\n",
       "      <td>Saúde</td>\n",
       "      <td>Piso salarial pra todos.. Pra nós todos ter o ...</td>\n",
       "    </tr>\n",
       "  </tbody>\n",
       "</table>\n",
       "<p>8436 rows × 2 columns</p>\n",
       "</div>"
      ],
      "text/plain": [
       "                                           Categoria  \\\n",
       "0                                            Turismo   \n",
       "1     Desenvolvimento Agrário e Agricultura Familiar   \n",
       "2                             Agricultura e Pecuária   \n",
       "3                                              Saúde   \n",
       "4                                              Saúde   \n",
       "...                                              ...   \n",
       "8431                                           Saúde   \n",
       "8432    Secretaria Geral da Presidência da República   \n",
       "8433                              Previdência Social   \n",
       "8434                Meio Ambiente e Mudança do Clima   \n",
       "8435                                           Saúde   \n",
       "\n",
       "                                                  Texto  \n",
       "0     Turismo: esse é o Destino. <p><strong>Objetivo...  \n",
       "1     Agricultura Familiar e Agroecologia. <p><stron...  \n",
       "2     Agropecuária Sustentável. <p>Objetivo: Contrib...  \n",
       "3     Atenção Primária à Saúde. <p>Fortalecer a Aten...  \n",
       "4     Atenção Especializada à Saúde. <p>Ampliar o ac...  \n",
       "...                                                 ...  \n",
       "8431  Microchipagem de animais de companhia. Microch...  \n",
       "8432   Direito a atendimento eficiente, é um direito...  \n",
       "8433  Rever Reforma da Previdência. Rever a reforma ...  \n",
       "8434  Preservação da Serra do Espinhaço. A Serra do ...  \n",
       "8435  Piso salarial pra todos.. Pra nós todos ter o ...  \n",
       "\n",
       "[8436 rows x 2 columns]"
      ]
     },
     "execution_count": 2,
     "metadata": {},
     "output_type": "execute_result"
    }
   ],
   "source": [
    "# Lê as propostas com o Pandas\n",
    "propostas = pd.read_csv(\"../../production/data_extraction/propostas.csv\")\n",
    "\n",
    "propostas  # Impressão do DataFrame de propostas"
   ]
  },
  {
   "cell_type": "code",
   "execution_count": 3,
   "id": "bf9291f1",
   "metadata": {},
   "outputs": [],
   "source": [
    "# Expressões regulares para remoção de poluição de dados nos textos \n",
    "# REGX_URL = r\"https?://[A-Za-z0-9./\\-]+\" # Regex for URLs\n",
    "REGX_HTML = r\"<[^<]+?>\" # Regex for HTML tags\n",
    "REGX_ENDING = r'Órgão Responsável:.+' # Regex for the part of the text"
   ]
  },
  {
   "cell_type": "code",
   "execution_count": 4,
   "id": "fa422dc5",
   "metadata": {},
   "outputs": [
    {
     "data": {
      "text/html": [
       "<div>\n",
       "<style scoped>\n",
       "    .dataframe tbody tr th:only-of-type {\n",
       "        vertical-align: middle;\n",
       "    }\n",
       "\n",
       "    .dataframe tbody tr th {\n",
       "        vertical-align: top;\n",
       "    }\n",
       "\n",
       "    .dataframe thead th {\n",
       "        text-align: right;\n",
       "    }\n",
       "</style>\n",
       "<table border=\"1\" class=\"dataframe\">\n",
       "  <thead>\n",
       "    <tr style=\"text-align: right;\">\n",
       "      <th></th>\n",
       "      <th>Categoria</th>\n",
       "      <th>Texto</th>\n",
       "    </tr>\n",
       "  </thead>\n",
       "  <tbody>\n",
       "    <tr>\n",
       "      <th>0</th>\n",
       "      <td>Turismo</td>\n",
       "      <td>Turismo: esse é o Destino. Objetivo: Posiciona...</td>\n",
       "    </tr>\n",
       "    <tr>\n",
       "      <th>1</th>\n",
       "      <td>Desenvolvimento Agrário e Agricultura Familiar</td>\n",
       "      <td>Agricultura Familiar e Agroecologia. Objetivo:...</td>\n",
       "    </tr>\n",
       "    <tr>\n",
       "      <th>2</th>\n",
       "      <td>Agricultura e Pecuária</td>\n",
       "      <td>Agropecuária Sustentável. Objetivo: Contribuir...</td>\n",
       "    </tr>\n",
       "    <tr>\n",
       "      <th>3</th>\n",
       "      <td>Saúde</td>\n",
       "      <td>Atenção Primária à Saúde. Fortalecer a Atenção...</td>\n",
       "    </tr>\n",
       "    <tr>\n",
       "      <th>4</th>\n",
       "      <td>Saúde</td>\n",
       "      <td>Atenção Especializada à Saúde. Ampliar o acess...</td>\n",
       "    </tr>\n",
       "  </tbody>\n",
       "</table>\n",
       "</div>"
      ],
      "text/plain": [
       "                                        Categoria  \\\n",
       "0                                         Turismo   \n",
       "1  Desenvolvimento Agrário e Agricultura Familiar   \n",
       "2                          Agricultura e Pecuária   \n",
       "3                                           Saúde   \n",
       "4                                           Saúde   \n",
       "\n",
       "                                               Texto  \n",
       "0  Turismo: esse é o Destino. Objetivo: Posiciona...  \n",
       "1  Agricultura Familiar e Agroecologia. Objetivo:...  \n",
       "2  Agropecuária Sustentável. Objetivo: Contribuir...  \n",
       "3  Atenção Primária à Saúde. Fortalecer a Atenção...  \n",
       "4  Atenção Especializada à Saúde. Ampliar o acess...  "
      ]
     },
     "execution_count": 4,
     "metadata": {},
     "output_type": "execute_result"
    }
   ],
   "source": [
    "# Retirando Tags HTML e URLS do texto\n",
    "def preprocessing(text):\n",
    "  # text = text.lower()\n",
    "\n",
    "  text = re.sub(REGX_HTML, '', text)  # Removendo tags HTML\n",
    "  # text = re.sub(REGX_URL, '', text) # Revomendo URLs\n",
    "  text = re.sub(REGX_ENDING, '', text)\n",
    "\n",
    "  # tokens = [t.lemma_ for t in nlp(text) if t not in STOP_WORDS and not t.is_punct]\n",
    "\n",
    "  return text\n",
    "\n",
    "#  Ajustando textos da coluna Corpo\n",
    "propostas['Texto'] = propostas['Texto'].apply(preprocessing)\n",
    "propostas.head()"
   ]
  },
  {
   "cell_type": "code",
   "execution_count": 5,
   "id": "77c6bbfe",
   "metadata": {},
   "outputs": [
    {
     "name": "stdout",
     "output_type": "stream",
     "text": [
      "Categoria\n",
      "Saúde                                                             1368\n",
      "Educação                                                          1261\n",
      "Direitos Humanos e Cidadania                                       528\n",
      "Meio Ambiente e Mudança do Clima                                   497\n",
      "Transportes                                                        473\n",
      "Desenvolvimento e Assistência Social, Família e Combate à Fome     418\n",
      "Trabalho e Emprego                                                 377\n",
      "Justiça e Segurança Pública                                        342\n",
      "Cidades                                                            294\n",
      "Gestão e Inovação em Serviços Públicos                             284\n",
      "Desenvolvimento Agrário e Agricultura Familiar                     255\n",
      "Previdência Social                                                 249\n",
      "Cultura                                                            224\n",
      "Mulheres                                                           187\n",
      "Ciência, Tecnologia e Inovação                                     158\n",
      "Fazenda                                                            132\n",
      "Planejamento e Orçamento                                           125\n",
      "Turismo                                                            122\n",
      "Desenvolvimento, Indústria, Comércio e Serviços                    116\n",
      "Integração e Desenvolvimento Regional                              110\n",
      "Agricultura e Pecuária                                             103\n",
      "Minas e Energia                                                     99\n",
      "Igualdade Racial                                                    92\n",
      "Secretaria Geral da Presidência da República                        92\n",
      "Esporte                                                             90\n",
      "Defesa                                                              60\n",
      "Comunicações                                                        47\n",
      "Comunicação Social                                                  43\n",
      "Casa Civil                                                          37\n",
      "Relações Institucionais                                             37\n",
      "Povos Indígenas                                                     36\n",
      "Pesca e Aquicultura                                                 30\n",
      "Controladoria-Geral da União                                        30\n",
      "Outros                                                              27\n",
      "Segurança Institucional                                             25\n",
      "Banco Central                                                       22\n",
      "Portos e Aeroportos                                                 21\n",
      "Advocacia-Geral da União                                            13\n",
      "Relações Exteriores                                                 12\n",
      "Name: count, dtype: int64\n"
     ]
    }
   ],
   "source": [
    "print(propostas.Categoria.value_counts())"
   ]
  },
  {
   "cell_type": "markdown",
   "id": "10031b7a",
   "metadata": {},
   "source": [
    "# Realizando a criacao de novas propostas e verificando a performance no modelo\n",
    "\n"
   ]
  },
  {
   "cell_type": "code",
   "execution_count": 6,
   "id": "e4b2a713",
   "metadata": {},
   "outputs": [
    {
     "data": {
      "text/html": [
       "<div>\n",
       "<style scoped>\n",
       "    .dataframe tbody tr th:only-of-type {\n",
       "        vertical-align: middle;\n",
       "    }\n",
       "\n",
       "    .dataframe tbody tr th {\n",
       "        vertical-align: top;\n",
       "    }\n",
       "\n",
       "    .dataframe thead th {\n",
       "        text-align: right;\n",
       "    }\n",
       "</style>\n",
       "<table border=\"1\" class=\"dataframe\">\n",
       "  <thead>\n",
       "    <tr style=\"text-align: right;\">\n",
       "      <th></th>\n",
       "      <th>Categoria</th>\n",
       "      <th>Texto</th>\n",
       "    </tr>\n",
       "  </thead>\n",
       "  <tbody>\n",
       "    <tr>\n",
       "      <th>0</th>\n",
       "      <td>Casa Civil</td>\n",
       "      <td>É ótimo ver a conscientização sobre igualdade ...</td>\n",
       "    </tr>\n",
       "    <tr>\n",
       "      <th>1</th>\n",
       "      <td>Casa Civil</td>\n",
       "      <td>Tornar a Casa Civil mais ecológica e sustentáv...</td>\n",
       "    </tr>\n",
       "    <tr>\n",
       "      <th>2</th>\n",
       "      <td>Casa Civil</td>\n",
       "      <td>Criar um programa de parcerias com startups na...</td>\n",
       "    </tr>\n",
       "    <tr>\n",
       "      <th>3</th>\n",
       "      <td>Casa Civil</td>\n",
       "      <td>Vamos estabelecer metas ambiciosas para reduzi...</td>\n",
       "    </tr>\n",
       "    <tr>\n",
       "      <th>4</th>\n",
       "      <td>Casa Civil</td>\n",
       "      <td>Vamos criar um comitê de ética interno na Casa...</td>\n",
       "    </tr>\n",
       "    <tr>\n",
       "      <th>...</th>\n",
       "      <td>...</td>\n",
       "      <td>...</td>\n",
       "    </tr>\n",
       "    <tr>\n",
       "      <th>366</th>\n",
       "      <td>Comunicações</td>\n",
       "      <td>O serviço postal desempenha um papel essencial...</td>\n",
       "    </tr>\n",
       "    <tr>\n",
       "      <th>367</th>\n",
       "      <td>Comunicações</td>\n",
       "      <td>A imprensa local desempenha um papel vital na ...</td>\n",
       "    </tr>\n",
       "    <tr>\n",
       "      <th>368</th>\n",
       "      <td>Comunicações</td>\n",
       "      <td>Fusões e aquisições no setor de mídia podem te...</td>\n",
       "    </tr>\n",
       "    <tr>\n",
       "      <th>369</th>\n",
       "      <td>Comunicações</td>\n",
       "      <td>Para capacitar os cidadãos na era digital, é c...</td>\n",
       "    </tr>\n",
       "    <tr>\n",
       "      <th>370</th>\n",
       "      <td>Comunicações</td>\n",
       "      <td>Para promover a diversidade de mídias e a libe...</td>\n",
       "    </tr>\n",
       "  </tbody>\n",
       "</table>\n",
       "<p>371 rows × 2 columns</p>\n",
       "</div>"
      ],
      "text/plain": [
       "        Categoria                                              Texto\n",
       "0      Casa Civil  É ótimo ver a conscientização sobre igualdade ...\n",
       "1      Casa Civil  Tornar a Casa Civil mais ecológica e sustentáv...\n",
       "2      Casa Civil  Criar um programa de parcerias com startups na...\n",
       "3      Casa Civil  Vamos estabelecer metas ambiciosas para reduzi...\n",
       "4      Casa Civil  Vamos criar um comitê de ética interno na Casa...\n",
       "..            ...                                                ...\n",
       "366  Comunicações  O serviço postal desempenha um papel essencial...\n",
       "367  Comunicações  A imprensa local desempenha um papel vital na ...\n",
       "368  Comunicações  Fusões e aquisições no setor de mídia podem te...\n",
       "369  Comunicações  Para capacitar os cidadãos na era digital, é c...\n",
       "370  Comunicações  Para promover a diversidade de mídias e a libe...\n",
       "\n",
       "[371 rows x 2 columns]"
      ]
     },
     "execution_count": 6,
     "metadata": {},
     "output_type": "execute_result"
    }
   ],
   "source": [
    "# Lê as propostas com o Pandas\n",
    "\n",
    "simuladas = pd.read_csv(\"../../production/simulacao/propostas_simuladas.csv\")\n",
    "simuladas  # Impressão do DataFrame de propostas"
   ]
  },
  {
   "cell_type": "code",
   "execution_count": 7,
   "id": "fef2b71c-4e3f-44eb-b64c-b2d91e9faef7",
   "metadata": {},
   "outputs": [],
   "source": [
    "# Juntando os dataframes\n",
    "\n",
    "propostas_simuladas = pd.DataFrame(simuladas)\n",
    "propostas = pd.concat([propostas,propostas_simuladas],ignore_index=True)"
   ]
  },
  {
   "cell_type": "markdown",
   "id": "9e29edd6-ec18-489d-8401-d17c999f7c4c",
   "metadata": {},
   "source": [
    "# Analisando Categorias sem performance\n"
   ]
  },
  {
   "cell_type": "code",
   "execution_count": 8,
   "id": "2470c731",
   "metadata": {},
   "outputs": [
    {
     "data": {
      "text/html": [
       "<div>\n",
       "<style scoped>\n",
       "    .dataframe tbody tr th:only-of-type {\n",
       "        vertical-align: middle;\n",
       "    }\n",
       "\n",
       "    .dataframe tbody tr th {\n",
       "        vertical-align: top;\n",
       "    }\n",
       "\n",
       "    .dataframe thead th {\n",
       "        text-align: right;\n",
       "    }\n",
       "</style>\n",
       "<table border=\"1\" class=\"dataframe\">\n",
       "  <thead>\n",
       "    <tr style=\"text-align: right;\">\n",
       "      <th></th>\n",
       "      <th>Categoria</th>\n",
       "      <th>Texto</th>\n",
       "    </tr>\n",
       "  </thead>\n",
       "  <tbody>\n",
       "    <tr>\n",
       "      <th>173</th>\n",
       "      <td>Relações Exteriores</td>\n",
       "      <td>Passaporte mais rapido e menos burocratico . S...</td>\n",
       "    </tr>\n",
       "    <tr>\n",
       "      <th>1158</th>\n",
       "      <td>Relações Exteriores</td>\n",
       "      <td>Aprimoramento da plataforma Concórdia para fin...</td>\n",
       "    </tr>\n",
       "    <tr>\n",
       "      <th>2947</th>\n",
       "      <td>Relações Exteriores</td>\n",
       "      <td>Fortalecimento do Mercosul e do BRICS através...</td>\n",
       "    </tr>\n",
       "    <tr>\n",
       "      <th>2992</th>\n",
       "      <td>Relações Exteriores</td>\n",
       "      <td>Entretenimento . Promover curtas, longas e sér...</td>\n",
       "    </tr>\n",
       "    <tr>\n",
       "      <th>3709</th>\n",
       "      <td>Relações Exteriores</td>\n",
       "      <td>Criação de bolsas de aperfeiçoamento profissio...</td>\n",
       "    </tr>\n",
       "    <tr>\n",
       "      <th>4447</th>\n",
       "      <td>Relações Exteriores</td>\n",
       "      <td>Cooperação internacional para combater o tráfi...</td>\n",
       "    </tr>\n",
       "    <tr>\n",
       "      <th>6156</th>\n",
       "      <td>Relações Exteriores</td>\n",
       "      <td>Taxação para produção e exportação de alimento...</td>\n",
       "    </tr>\n",
       "    <tr>\n",
       "      <th>6536</th>\n",
       "      <td>Relações Exteriores</td>\n",
       "      <td>Criação do Conselho Nacional de Política Exter...</td>\n",
       "    </tr>\n",
       "    <tr>\n",
       "      <th>7035</th>\n",
       "      <td>Relações Exteriores</td>\n",
       "      <td>Estruturação dos escritórios, diretorias e coo...</td>\n",
       "    </tr>\n",
       "    <tr>\n",
       "      <th>7326</th>\n",
       "      <td>Relações Exteriores</td>\n",
       "      <td>Implementação de uma política externa feminist...</td>\n",
       "    </tr>\n",
       "    <tr>\n",
       "      <th>7444</th>\n",
       "      <td>Relações Exteriores</td>\n",
       "      <td>Fomentação de Estudos no Exterior . Criação de...</td>\n",
       "    </tr>\n",
       "    <tr>\n",
       "      <th>8053</th>\n",
       "      <td>Relações Exteriores</td>\n",
       "      <td>Valorização da imagem internacional do Brasil....</td>\n",
       "    </tr>\n",
       "    <tr>\n",
       "      <th>8476</th>\n",
       "      <td>Relações Exteriores</td>\n",
       "      <td>Fortalecimento de Alianças Estratégicas: O gov...</td>\n",
       "    </tr>\n",
       "    <tr>\n",
       "      <th>8477</th>\n",
       "      <td>Relações Exteriores</td>\n",
       "      <td>Diversificação de Parceiros Comerciais: É impo...</td>\n",
       "    </tr>\n",
       "    <tr>\n",
       "      <th>8478</th>\n",
       "      <td>Relações Exteriores</td>\n",
       "      <td>Diplomacia na Área Ambiental: Dada a importânc...</td>\n",
       "    </tr>\n",
       "    <tr>\n",
       "      <th>8479</th>\n",
       "      <td>Relações Exteriores</td>\n",
       "      <td>Cooperação em Saúde Global: Em vista da experi...</td>\n",
       "    </tr>\n",
       "    <tr>\n",
       "      <th>8480</th>\n",
       "      <td>Relações Exteriores</td>\n",
       "      <td>Promoção dos Direitos Humanos: O Brasil deve m...</td>\n",
       "    </tr>\n",
       "    <tr>\n",
       "      <th>8481</th>\n",
       "      <td>Relações Exteriores</td>\n",
       "      <td>Capacitação Diplomática: Investir na capacitaç...</td>\n",
       "    </tr>\n",
       "    <tr>\n",
       "      <th>8482</th>\n",
       "      <td>Relações Exteriores</td>\n",
       "      <td>Promoção da Cultura Brasileira: O governo deve...</td>\n",
       "    </tr>\n",
       "    <tr>\n",
       "      <th>8483</th>\n",
       "      <td>Relações Exteriores</td>\n",
       "      <td>Diplomacia Econômica: Estabelecer uma estratég...</td>\n",
       "    </tr>\n",
       "    <tr>\n",
       "      <th>8484</th>\n",
       "      <td>Relações Exteriores</td>\n",
       "      <td>Resolução de Conflitos Regionais: O Brasil dev...</td>\n",
       "    </tr>\n",
       "    <tr>\n",
       "      <th>8485</th>\n",
       "      <td>Relações Exteriores</td>\n",
       "      <td>Participação em Organizações Internacionais: O...</td>\n",
       "    </tr>\n",
       "    <tr>\n",
       "      <th>8486</th>\n",
       "      <td>Relações Exteriores</td>\n",
       "      <td>Diversificação Energética: O Brasil é um líder...</td>\n",
       "    </tr>\n",
       "    <tr>\n",
       "      <th>8487</th>\n",
       "      <td>Relações Exteriores</td>\n",
       "      <td>Colaboração em Ciência e Tecnologia: Promover ...</td>\n",
       "    </tr>\n",
       "    <tr>\n",
       "      <th>8488</th>\n",
       "      <td>Relações Exteriores</td>\n",
       "      <td>Diplomacia de Saúde Pública: O Brasil pode se ...</td>\n",
       "    </tr>\n",
       "    <tr>\n",
       "      <th>8489</th>\n",
       "      <td>Relações Exteriores</td>\n",
       "      <td>Promoção da Educação Internacional: O governo ...</td>\n",
       "    </tr>\n",
       "    <tr>\n",
       "      <th>8490</th>\n",
       "      <td>Relações Exteriores</td>\n",
       "      <td>Ação Humanitária: O Brasil deve aumentar seu e...</td>\n",
       "    </tr>\n",
       "    <tr>\n",
       "      <th>8491</th>\n",
       "      <td>Relações Exteriores</td>\n",
       "      <td>Cibersegurança e Cooperação Digital: O governo...</td>\n",
       "    </tr>\n",
       "    <tr>\n",
       "      <th>8492</th>\n",
       "      <td>Relações Exteriores</td>\n",
       "      <td>Promoção do Turismo: Investir em campanhas de ...</td>\n",
       "    </tr>\n",
       "    <tr>\n",
       "      <th>8493</th>\n",
       "      <td>Relações Exteriores</td>\n",
       "      <td>Cooperação em Energia e Meio Ambiente: O Brasi...</td>\n",
       "    </tr>\n",
       "    <tr>\n",
       "      <th>8494</th>\n",
       "      <td>Relações Exteriores</td>\n",
       "      <td>Proteção dos Direitos dos Brasileiros no Exter...</td>\n",
       "    </tr>\n",
       "    <tr>\n",
       "      <th>8495</th>\n",
       "      <td>Relações Exteriores</td>\n",
       "      <td>Diplomacia Alimentar: Dada a importância da ag...</td>\n",
       "    </tr>\n",
       "    <tr>\n",
       "      <th>8496</th>\n",
       "      <td>Relações Exteriores</td>\n",
       "      <td>Combate ao Crime Transnacional: O governo deve...</td>\n",
       "    </tr>\n",
       "    <tr>\n",
       "      <th>8497</th>\n",
       "      <td>Relações Exteriores</td>\n",
       "      <td>Diplomacia Espacial: Com o crescente interesse...</td>\n",
       "    </tr>\n",
       "    <tr>\n",
       "      <th>8498</th>\n",
       "      <td>Relações Exteriores</td>\n",
       "      <td>Promoção da Língua Portuguesa: O governo pode ...</td>\n",
       "    </tr>\n",
       "    <tr>\n",
       "      <th>8499</th>\n",
       "      <td>Relações Exteriores</td>\n",
       "      <td>Desenvolvimento de Energias Renováveis em País...</td>\n",
       "    </tr>\n",
       "    <tr>\n",
       "      <th>8500</th>\n",
       "      <td>Relações Exteriores</td>\n",
       "      <td>Cooperação em Ciência Espacial e Oceanográfica...</td>\n",
       "    </tr>\n",
       "    <tr>\n",
       "      <th>8501</th>\n",
       "      <td>Relações Exteriores</td>\n",
       "      <td>Negociação de Acordos de Livre Comércio: O gov...</td>\n",
       "    </tr>\n",
       "    <tr>\n",
       "      <th>8502</th>\n",
       "      <td>Relações Exteriores</td>\n",
       "      <td>Proteção dos Direitos dos Trabalhadores Migran...</td>\n",
       "    </tr>\n",
       "    <tr>\n",
       "      <th>8503</th>\n",
       "      <td>Relações Exteriores</td>\n",
       "      <td>Cooperação em Energia Nuclear Pacífica: Promov...</td>\n",
       "    </tr>\n",
       "    <tr>\n",
       "      <th>8504</th>\n",
       "      <td>Relações Exteriores</td>\n",
       "      <td>Aumentar o Envolvimento em Missões de Paz da O...</td>\n",
       "    </tr>\n",
       "    <tr>\n",
       "      <th>8505</th>\n",
       "      <td>Relações Exteriores</td>\n",
       "      <td>Fomentar Parcerias de Desenvolvimento Sustentá...</td>\n",
       "    </tr>\n",
       "    <tr>\n",
       "      <th>8506</th>\n",
       "      <td>Relações Exteriores</td>\n",
       "      <td>Promover o Diálogo Inter-religioso e a Tolerân...</td>\n",
       "    </tr>\n",
       "    <tr>\n",
       "      <th>8507</th>\n",
       "      <td>Relações Exteriores</td>\n",
       "      <td>Apoiar a Reforma do Conselho de Segurança da O...</td>\n",
       "    </tr>\n",
       "    <tr>\n",
       "      <th>8508</th>\n",
       "      <td>Relações Exteriores</td>\n",
       "      <td>Colaboração em Segurança Alimentar: Em um mund...</td>\n",
       "    </tr>\n",
       "    <tr>\n",
       "      <th>8509</th>\n",
       "      <td>Relações Exteriores</td>\n",
       "      <td>Proteção da Biodiversidade Marinha: O governo ...</td>\n",
       "    </tr>\n",
       "    <tr>\n",
       "      <th>8510</th>\n",
       "      <td>Relações Exteriores</td>\n",
       "      <td>Promoção da Cultura Indígena: O Brasil pode tr...</td>\n",
       "    </tr>\n",
       "    <tr>\n",
       "      <th>8511</th>\n",
       "      <td>Relações Exteriores</td>\n",
       "      <td>Participação Ativa em Organizações Regionais: ...</td>\n",
       "    </tr>\n",
       "    <tr>\n",
       "      <th>8512</th>\n",
       "      <td>Relações Exteriores</td>\n",
       "      <td>Colaboração na Área de Energia: O governo pode...</td>\n",
       "    </tr>\n",
       "    <tr>\n",
       "      <th>8513</th>\n",
       "      <td>Relações Exteriores</td>\n",
       "      <td>Diplomacia da Inovação Tecnológica: O Brasil p...</td>\n",
       "    </tr>\n",
       "    <tr>\n",
       "      <th>8514</th>\n",
       "      <td>Relações Exteriores</td>\n",
       "      <td>Promoção dos Direitos LGBTQ+: O governo pode a...</td>\n",
       "    </tr>\n",
       "    <tr>\n",
       "      <th>8515</th>\n",
       "      <td>Relações Exteriores</td>\n",
       "      <td>Combate ao Tráfico de Drogas: O Brasil pode in...</td>\n",
       "    </tr>\n",
       "    <tr>\n",
       "      <th>8516</th>\n",
       "      <td>Relações Exteriores</td>\n",
       "      <td>Facilitação de Investimentos Estrangeiros Dire...</td>\n",
       "    </tr>\n",
       "    <tr>\n",
       "      <th>8517</th>\n",
       "      <td>Relações Exteriores</td>\n",
       "      <td>Cooperação em Saúde Materna e Infantil: O Bras...</td>\n",
       "    </tr>\n",
       "  </tbody>\n",
       "</table>\n",
       "</div>"
      ],
      "text/plain": [
       "                Categoria                                              Texto\n",
       "173   Relações Exteriores  Passaporte mais rapido e menos burocratico . S...\n",
       "1158  Relações Exteriores  Aprimoramento da plataforma Concórdia para fin...\n",
       "2947  Relações Exteriores   Fortalecimento do Mercosul e do BRICS através...\n",
       "2992  Relações Exteriores  Entretenimento . Promover curtas, longas e sér...\n",
       "3709  Relações Exteriores  Criação de bolsas de aperfeiçoamento profissio...\n",
       "4447  Relações Exteriores  Cooperação internacional para combater o tráfi...\n",
       "6156  Relações Exteriores  Taxação para produção e exportação de alimento...\n",
       "6536  Relações Exteriores  Criação do Conselho Nacional de Política Exter...\n",
       "7035  Relações Exteriores  Estruturação dos escritórios, diretorias e coo...\n",
       "7326  Relações Exteriores  Implementação de uma política externa feminist...\n",
       "7444  Relações Exteriores  Fomentação de Estudos no Exterior . Criação de...\n",
       "8053  Relações Exteriores  Valorização da imagem internacional do Brasil....\n",
       "8476  Relações Exteriores  Fortalecimento de Alianças Estratégicas: O gov...\n",
       "8477  Relações Exteriores  Diversificação de Parceiros Comerciais: É impo...\n",
       "8478  Relações Exteriores  Diplomacia na Área Ambiental: Dada a importânc...\n",
       "8479  Relações Exteriores  Cooperação em Saúde Global: Em vista da experi...\n",
       "8480  Relações Exteriores  Promoção dos Direitos Humanos: O Brasil deve m...\n",
       "8481  Relações Exteriores  Capacitação Diplomática: Investir na capacitaç...\n",
       "8482  Relações Exteriores  Promoção da Cultura Brasileira: O governo deve...\n",
       "8483  Relações Exteriores  Diplomacia Econômica: Estabelecer uma estratég...\n",
       "8484  Relações Exteriores  Resolução de Conflitos Regionais: O Brasil dev...\n",
       "8485  Relações Exteriores  Participação em Organizações Internacionais: O...\n",
       "8486  Relações Exteriores  Diversificação Energética: O Brasil é um líder...\n",
       "8487  Relações Exteriores  Colaboração em Ciência e Tecnologia: Promover ...\n",
       "8488  Relações Exteriores  Diplomacia de Saúde Pública: O Brasil pode se ...\n",
       "8489  Relações Exteriores  Promoção da Educação Internacional: O governo ...\n",
       "8490  Relações Exteriores  Ação Humanitária: O Brasil deve aumentar seu e...\n",
       "8491  Relações Exteriores  Cibersegurança e Cooperação Digital: O governo...\n",
       "8492  Relações Exteriores  Promoção do Turismo: Investir em campanhas de ...\n",
       "8493  Relações Exteriores  Cooperação em Energia e Meio Ambiente: O Brasi...\n",
       "8494  Relações Exteriores  Proteção dos Direitos dos Brasileiros no Exter...\n",
       "8495  Relações Exteriores  Diplomacia Alimentar: Dada a importância da ag...\n",
       "8496  Relações Exteriores  Combate ao Crime Transnacional: O governo deve...\n",
       "8497  Relações Exteriores  Diplomacia Espacial: Com o crescente interesse...\n",
       "8498  Relações Exteriores  Promoção da Língua Portuguesa: O governo pode ...\n",
       "8499  Relações Exteriores  Desenvolvimento de Energias Renováveis em País...\n",
       "8500  Relações Exteriores  Cooperação em Ciência Espacial e Oceanográfica...\n",
       "8501  Relações Exteriores  Negociação de Acordos de Livre Comércio: O gov...\n",
       "8502  Relações Exteriores  Proteção dos Direitos dos Trabalhadores Migran...\n",
       "8503  Relações Exteriores  Cooperação em Energia Nuclear Pacífica: Promov...\n",
       "8504  Relações Exteriores  Aumentar o Envolvimento em Missões de Paz da O...\n",
       "8505  Relações Exteriores  Fomentar Parcerias de Desenvolvimento Sustentá...\n",
       "8506  Relações Exteriores  Promover o Diálogo Inter-religioso e a Tolerân...\n",
       "8507  Relações Exteriores  Apoiar a Reforma do Conselho de Segurança da O...\n",
       "8508  Relações Exteriores  Colaboração em Segurança Alimentar: Em um mund...\n",
       "8509  Relações Exteriores  Proteção da Biodiversidade Marinha: O governo ...\n",
       "8510  Relações Exteriores  Promoção da Cultura Indígena: O Brasil pode tr...\n",
       "8511  Relações Exteriores  Participação Ativa em Organizações Regionais: ...\n",
       "8512  Relações Exteriores  Colaboração na Área de Energia: O governo pode...\n",
       "8513  Relações Exteriores  Diplomacia da Inovação Tecnológica: O Brasil p...\n",
       "8514  Relações Exteriores  Promoção dos Direitos LGBTQ+: O governo pode a...\n",
       "8515  Relações Exteriores  Combate ao Tráfico de Drogas: O Brasil pode in...\n",
       "8516  Relações Exteriores  Facilitação de Investimentos Estrangeiros Dire...\n",
       "8517  Relações Exteriores  Cooperação em Saúde Materna e Infantil: O Bras..."
      ]
     },
     "execution_count": 8,
     "metadata": {},
     "output_type": "execute_result"
    }
   ],
   "source": [
    "# Escolha a categoria que deseja manter\n",
    "categoria_desejada = 'Relações Exteriores'\n",
    "\n",
    "# Filtrando as linhas com a categoria desejada\n",
    "rel_exteriores = propostas.loc[propostas['Categoria'] == categoria_desejada]\n",
    "\n",
    "rel_exteriores"
   ]
  },
  {
   "cell_type": "code",
   "execution_count": 9,
   "id": "f388a4d9-c32f-4808-b2d4-b3c08ae0da4d",
   "metadata": {},
   "outputs": [
    {
     "data": {
      "text/plain": [
       "173     Passaporte mais rapido e menos burocratico . S...\n",
       "1158    Aprimoramento da plataforma Concórdia para fin...\n",
       "2947     Fortalecimento do Mercosul e do BRICS através...\n",
       "2992    Entretenimento . Promover curtas, longas e sér...\n",
       "3709    Criação de bolsas de aperfeiçoamento profissio...\n",
       "4447    Cooperação internacional para combater o tráfi...\n",
       "6156    Taxação para produção e exportação de alimento...\n",
       "6536    Criação do Conselho Nacional de Política Exter...\n",
       "7035    Estruturação dos escritórios, diretorias e coo...\n",
       "7326    Implementação de uma política externa feminist...\n",
       "7444    Fomentação de Estudos no Exterior . Criação de...\n",
       "8053    Valorização da imagem internacional do Brasil....\n",
       "8476    Fortalecimento de Alianças Estratégicas: O gov...\n",
       "8477    Diversificação de Parceiros Comerciais: É impo...\n",
       "8478    Diplomacia na Área Ambiental: Dada a importânc...\n",
       "8479    Cooperação em Saúde Global: Em vista da experi...\n",
       "8480    Promoção dos Direitos Humanos: O Brasil deve m...\n",
       "8481    Capacitação Diplomática: Investir na capacitaç...\n",
       "8482    Promoção da Cultura Brasileira: O governo deve...\n",
       "8483    Diplomacia Econômica: Estabelecer uma estratég...\n",
       "8484    Resolução de Conflitos Regionais: O Brasil dev...\n",
       "8485    Participação em Organizações Internacionais: O...\n",
       "8486    Diversificação Energética: O Brasil é um líder...\n",
       "8487    Colaboração em Ciência e Tecnologia: Promover ...\n",
       "8488    Diplomacia de Saúde Pública: O Brasil pode se ...\n",
       "8489    Promoção da Educação Internacional: O governo ...\n",
       "8490    Ação Humanitária: O Brasil deve aumentar seu e...\n",
       "8491    Cibersegurança e Cooperação Digital: O governo...\n",
       "8492    Promoção do Turismo: Investir em campanhas de ...\n",
       "8493    Cooperação em Energia e Meio Ambiente: O Brasi...\n",
       "8494    Proteção dos Direitos dos Brasileiros no Exter...\n",
       "8495    Diplomacia Alimentar: Dada a importância da ag...\n",
       "8496    Combate ao Crime Transnacional: O governo deve...\n",
       "8497    Diplomacia Espacial: Com o crescente interesse...\n",
       "8498    Promoção da Língua Portuguesa: O governo pode ...\n",
       "8499    Desenvolvimento de Energias Renováveis em País...\n",
       "8500    Cooperação em Ciência Espacial e Oceanográfica...\n",
       "8501    Negociação de Acordos de Livre Comércio: O gov...\n",
       "8502    Proteção dos Direitos dos Trabalhadores Migran...\n",
       "8503    Cooperação em Energia Nuclear Pacífica: Promov...\n",
       "8504    Aumentar o Envolvimento em Missões de Paz da O...\n",
       "8505    Fomentar Parcerias de Desenvolvimento Sustentá...\n",
       "8506    Promover o Diálogo Inter-religioso e a Tolerân...\n",
       "8507    Apoiar a Reforma do Conselho de Segurança da O...\n",
       "8508    Colaboração em Segurança Alimentar: Em um mund...\n",
       "8509    Proteção da Biodiversidade Marinha: O governo ...\n",
       "8510    Promoção da Cultura Indígena: O Brasil pode tr...\n",
       "8511    Participação Ativa em Organizações Regionais: ...\n",
       "8512    Colaboração na Área de Energia: O governo pode...\n",
       "8513    Diplomacia da Inovação Tecnológica: O Brasil p...\n",
       "8514    Promoção dos Direitos LGBTQ+: O governo pode a...\n",
       "8515    Combate ao Tráfico de Drogas: O Brasil pode in...\n",
       "8516    Facilitação de Investimentos Estrangeiros Dire...\n",
       "8517    Cooperação em Saúde Materna e Infantil: O Bras...\n",
       "Name: Texto, dtype: object"
      ]
     },
     "execution_count": 9,
     "metadata": {},
     "output_type": "execute_result"
    }
   ],
   "source": [
    "rel_exteriores['Texto']"
   ]
  },
  {
   "cell_type": "code",
   "execution_count": 10,
   "id": "153c3cf2-717a-4704-b0ac-4525b54a4eea",
   "metadata": {},
   "outputs": [
    {
     "data": {
      "text/plain": [
       "'Passaporte mais rapido e menos burocratico . Se exige muitos documentos para renovar o passaporte, isso só sobrecarrega as embaixadas que as vezes demoram muito para emitir um novo passaporte, ou outros serviços, sobretudo quando a pessoa morra fora do Brasil, muitas pessoas reclamam da quantidade de papeis para renovar um passaporte que na logica e comparado com outros países que só pedem a taxa para emissão do passaporte, 2 fotos e comprovante de identidade, com a modernização das tecnologias o MRE deveria emitir passaportes mais rapido'"
      ]
     },
     "execution_count": 10,
     "metadata": {},
     "output_type": "execute_result"
    }
   ],
   "source": [
    "rel_exteriores['Texto'][173]"
   ]
  },
  {
   "cell_type": "code",
   "execution_count": 11,
   "id": "4a7c48c9",
   "metadata": {},
   "outputs": [
    {
     "name": "stdout",
     "output_type": "stream",
     "text": [
      "Categoria\n",
      "Saúde                                                             1368\n",
      "Educação                                                          1261\n",
      "Direitos Humanos e Cidadania                                       528\n",
      "Meio Ambiente e Mudança do Clima                                   497\n",
      "Transportes                                                        473\n",
      "Desenvolvimento e Assistência Social, Família e Combate à Fome     418\n",
      "Trabalho e Emprego                                                 377\n",
      "Justiça e Segurança Pública                                        342\n",
      "Cidades                                                            294\n",
      "Gestão e Inovação em Serviços Públicos                             284\n",
      "Desenvolvimento Agrário e Agricultura Familiar                     255\n",
      "Previdência Social                                                 249\n",
      "Cultura                                                            224\n",
      "Mulheres                                                           187\n",
      "Ciência, Tecnologia e Inovação                                     158\n",
      "Fazenda                                                            132\n",
      "Planejamento e Orçamento                                           125\n",
      "Turismo                                                            122\n",
      "Desenvolvimento, Indústria, Comércio e Serviços                    116\n",
      "Integração e Desenvolvimento Regional                              110\n",
      "Agricultura e Pecuária                                             103\n",
      "Minas e Energia                                                     99\n",
      "Igualdade Racial                                                    92\n",
      "Secretaria Geral da Presidência da República                        92\n",
      "Esporte                                                             90\n",
      "Casa Civil                                                          77\n",
      "Comunicações                                                        65\n",
      "Relações Institucionais                                             62\n",
      "Defesa                                                              60\n",
      "Comunicação Social                                                  58\n",
      "Pesca e Aquicultura                                                 57\n",
      "Povos Indígenas                                                     56\n",
      "Controladoria-Geral da União                                        55\n",
      "Segurança Institucional                                             55\n",
      "Banco Central                                                       55\n",
      "Outros                                                              54\n",
      "Relações Exteriores                                                 54\n",
      "Advocacia-Geral da União                                            53\n",
      "Portos e Aeroportos                                                 50\n",
      "Name: count, dtype: int64\n"
     ]
    }
   ],
   "source": [
    "print(propostas.Categoria.value_counts())"
   ]
  },
  {
   "cell_type": "code",
   "execution_count": 12,
   "id": "31b52c84",
   "metadata": {},
   "outputs": [
    {
     "data": {
      "application/vnd.plotly.v1+json": {
       "config": {
        "plotlyServerURL": "https://plot.ly"
       },
       "data": [
        {
         "type": "bar",
         "x": [
          "Saúde",
          "Educação",
          "Direitos Humanos e Cidadania",
          "Meio Ambiente e Mudança do Clima",
          "Transportes",
          "Desenvolvimento e Assistência Social, Família e Combate à Fome",
          "Trabalho e Emprego",
          "Justiça e Segurança Pública",
          "Cidades",
          "Gestão e Inovação em Serviços Públicos",
          "Desenvolvimento Agrário e Agricultura Familiar",
          "Previdência Social",
          "Cultura",
          "Mulheres",
          "Ciência, Tecnologia e Inovação",
          "Fazenda",
          "Planejamento e Orçamento",
          "Turismo",
          "Desenvolvimento, Indústria, Comércio e Serviços",
          "Integração e Desenvolvimento Regional",
          "Agricultura e Pecuária",
          "Minas e Energia",
          "Igualdade Racial",
          "Secretaria Geral da Presidência da República",
          "Esporte",
          "Casa Civil",
          "Comunicações",
          "Relações Institucionais",
          "Defesa",
          "Comunicação Social",
          "Pesca e Aquicultura",
          "Povos Indígenas",
          "Controladoria-Geral da União",
          "Segurança Institucional",
          "Banco Central",
          "Outros",
          "Relações Exteriores",
          "Advocacia-Geral da União",
          "Portos e Aeroportos"
         ],
         "y": [
          1368,
          1261,
          528,
          497,
          473,
          418,
          377,
          342,
          294,
          284,
          255,
          249,
          224,
          187,
          158,
          132,
          125,
          122,
          116,
          110,
          103,
          99,
          92,
          92,
          90,
          77,
          65,
          62,
          60,
          58,
          57,
          56,
          55,
          55,
          55,
          54,
          54,
          53,
          50
         ]
        }
       ],
       "layout": {
        "template": {
         "data": {
          "bar": [
           {
            "error_x": {
             "color": "#2a3f5f"
            },
            "error_y": {
             "color": "#2a3f5f"
            },
            "marker": {
             "line": {
              "color": "#E5ECF6",
              "width": 0.5
             },
             "pattern": {
              "fillmode": "overlay",
              "size": 10,
              "solidity": 0.2
             }
            },
            "type": "bar"
           }
          ],
          "barpolar": [
           {
            "marker": {
             "line": {
              "color": "#E5ECF6",
              "width": 0.5
             },
             "pattern": {
              "fillmode": "overlay",
              "size": 10,
              "solidity": 0.2
             }
            },
            "type": "barpolar"
           }
          ],
          "carpet": [
           {
            "aaxis": {
             "endlinecolor": "#2a3f5f",
             "gridcolor": "white",
             "linecolor": "white",
             "minorgridcolor": "white",
             "startlinecolor": "#2a3f5f"
            },
            "baxis": {
             "endlinecolor": "#2a3f5f",
             "gridcolor": "white",
             "linecolor": "white",
             "minorgridcolor": "white",
             "startlinecolor": "#2a3f5f"
            },
            "type": "carpet"
           }
          ],
          "choropleth": [
           {
            "colorbar": {
             "outlinewidth": 0,
             "ticks": ""
            },
            "type": "choropleth"
           }
          ],
          "contour": [
           {
            "colorbar": {
             "outlinewidth": 0,
             "ticks": ""
            },
            "colorscale": [
             [
              0,
              "#0d0887"
             ],
             [
              0.1111111111111111,
              "#46039f"
             ],
             [
              0.2222222222222222,
              "#7201a8"
             ],
             [
              0.3333333333333333,
              "#9c179e"
             ],
             [
              0.4444444444444444,
              "#bd3786"
             ],
             [
              0.5555555555555556,
              "#d8576b"
             ],
             [
              0.6666666666666666,
              "#ed7953"
             ],
             [
              0.7777777777777778,
              "#fb9f3a"
             ],
             [
              0.8888888888888888,
              "#fdca26"
             ],
             [
              1,
              "#f0f921"
             ]
            ],
            "type": "contour"
           }
          ],
          "contourcarpet": [
           {
            "colorbar": {
             "outlinewidth": 0,
             "ticks": ""
            },
            "type": "contourcarpet"
           }
          ],
          "heatmap": [
           {
            "colorbar": {
             "outlinewidth": 0,
             "ticks": ""
            },
            "colorscale": [
             [
              0,
              "#0d0887"
             ],
             [
              0.1111111111111111,
              "#46039f"
             ],
             [
              0.2222222222222222,
              "#7201a8"
             ],
             [
              0.3333333333333333,
              "#9c179e"
             ],
             [
              0.4444444444444444,
              "#bd3786"
             ],
             [
              0.5555555555555556,
              "#d8576b"
             ],
             [
              0.6666666666666666,
              "#ed7953"
             ],
             [
              0.7777777777777778,
              "#fb9f3a"
             ],
             [
              0.8888888888888888,
              "#fdca26"
             ],
             [
              1,
              "#f0f921"
             ]
            ],
            "type": "heatmap"
           }
          ],
          "heatmapgl": [
           {
            "colorbar": {
             "outlinewidth": 0,
             "ticks": ""
            },
            "colorscale": [
             [
              0,
              "#0d0887"
             ],
             [
              0.1111111111111111,
              "#46039f"
             ],
             [
              0.2222222222222222,
              "#7201a8"
             ],
             [
              0.3333333333333333,
              "#9c179e"
             ],
             [
              0.4444444444444444,
              "#bd3786"
             ],
             [
              0.5555555555555556,
              "#d8576b"
             ],
             [
              0.6666666666666666,
              "#ed7953"
             ],
             [
              0.7777777777777778,
              "#fb9f3a"
             ],
             [
              0.8888888888888888,
              "#fdca26"
             ],
             [
              1,
              "#f0f921"
             ]
            ],
            "type": "heatmapgl"
           }
          ],
          "histogram": [
           {
            "marker": {
             "pattern": {
              "fillmode": "overlay",
              "size": 10,
              "solidity": 0.2
             }
            },
            "type": "histogram"
           }
          ],
          "histogram2d": [
           {
            "colorbar": {
             "outlinewidth": 0,
             "ticks": ""
            },
            "colorscale": [
             [
              0,
              "#0d0887"
             ],
             [
              0.1111111111111111,
              "#46039f"
             ],
             [
              0.2222222222222222,
              "#7201a8"
             ],
             [
              0.3333333333333333,
              "#9c179e"
             ],
             [
              0.4444444444444444,
              "#bd3786"
             ],
             [
              0.5555555555555556,
              "#d8576b"
             ],
             [
              0.6666666666666666,
              "#ed7953"
             ],
             [
              0.7777777777777778,
              "#fb9f3a"
             ],
             [
              0.8888888888888888,
              "#fdca26"
             ],
             [
              1,
              "#f0f921"
             ]
            ],
            "type": "histogram2d"
           }
          ],
          "histogram2dcontour": [
           {
            "colorbar": {
             "outlinewidth": 0,
             "ticks": ""
            },
            "colorscale": [
             [
              0,
              "#0d0887"
             ],
             [
              0.1111111111111111,
              "#46039f"
             ],
             [
              0.2222222222222222,
              "#7201a8"
             ],
             [
              0.3333333333333333,
              "#9c179e"
             ],
             [
              0.4444444444444444,
              "#bd3786"
             ],
             [
              0.5555555555555556,
              "#d8576b"
             ],
             [
              0.6666666666666666,
              "#ed7953"
             ],
             [
              0.7777777777777778,
              "#fb9f3a"
             ],
             [
              0.8888888888888888,
              "#fdca26"
             ],
             [
              1,
              "#f0f921"
             ]
            ],
            "type": "histogram2dcontour"
           }
          ],
          "mesh3d": [
           {
            "colorbar": {
             "outlinewidth": 0,
             "ticks": ""
            },
            "type": "mesh3d"
           }
          ],
          "parcoords": [
           {
            "line": {
             "colorbar": {
              "outlinewidth": 0,
              "ticks": ""
             }
            },
            "type": "parcoords"
           }
          ],
          "pie": [
           {
            "automargin": true,
            "type": "pie"
           }
          ],
          "scatter": [
           {
            "fillpattern": {
             "fillmode": "overlay",
             "size": 10,
             "solidity": 0.2
            },
            "type": "scatter"
           }
          ],
          "scatter3d": [
           {
            "line": {
             "colorbar": {
              "outlinewidth": 0,
              "ticks": ""
             }
            },
            "marker": {
             "colorbar": {
              "outlinewidth": 0,
              "ticks": ""
             }
            },
            "type": "scatter3d"
           }
          ],
          "scattercarpet": [
           {
            "marker": {
             "colorbar": {
              "outlinewidth": 0,
              "ticks": ""
             }
            },
            "type": "scattercarpet"
           }
          ],
          "scattergeo": [
           {
            "marker": {
             "colorbar": {
              "outlinewidth": 0,
              "ticks": ""
             }
            },
            "type": "scattergeo"
           }
          ],
          "scattergl": [
           {
            "marker": {
             "colorbar": {
              "outlinewidth": 0,
              "ticks": ""
             }
            },
            "type": "scattergl"
           }
          ],
          "scattermapbox": [
           {
            "marker": {
             "colorbar": {
              "outlinewidth": 0,
              "ticks": ""
             }
            },
            "type": "scattermapbox"
           }
          ],
          "scatterpolar": [
           {
            "marker": {
             "colorbar": {
              "outlinewidth": 0,
              "ticks": ""
             }
            },
            "type": "scatterpolar"
           }
          ],
          "scatterpolargl": [
           {
            "marker": {
             "colorbar": {
              "outlinewidth": 0,
              "ticks": ""
             }
            },
            "type": "scatterpolargl"
           }
          ],
          "scatterternary": [
           {
            "marker": {
             "colorbar": {
              "outlinewidth": 0,
              "ticks": ""
             }
            },
            "type": "scatterternary"
           }
          ],
          "surface": [
           {
            "colorbar": {
             "outlinewidth": 0,
             "ticks": ""
            },
            "colorscale": [
             [
              0,
              "#0d0887"
             ],
             [
              0.1111111111111111,
              "#46039f"
             ],
             [
              0.2222222222222222,
              "#7201a8"
             ],
             [
              0.3333333333333333,
              "#9c179e"
             ],
             [
              0.4444444444444444,
              "#bd3786"
             ],
             [
              0.5555555555555556,
              "#d8576b"
             ],
             [
              0.6666666666666666,
              "#ed7953"
             ],
             [
              0.7777777777777778,
              "#fb9f3a"
             ],
             [
              0.8888888888888888,
              "#fdca26"
             ],
             [
              1,
              "#f0f921"
             ]
            ],
            "type": "surface"
           }
          ],
          "table": [
           {
            "cells": {
             "fill": {
              "color": "#EBF0F8"
             },
             "line": {
              "color": "white"
             }
            },
            "header": {
             "fill": {
              "color": "#C8D4E3"
             },
             "line": {
              "color": "white"
             }
            },
            "type": "table"
           }
          ]
         },
         "layout": {
          "annotationdefaults": {
           "arrowcolor": "#2a3f5f",
           "arrowhead": 0,
           "arrowwidth": 1
          },
          "autotypenumbers": "strict",
          "coloraxis": {
           "colorbar": {
            "outlinewidth": 0,
            "ticks": ""
           }
          },
          "colorscale": {
           "diverging": [
            [
             0,
             "#8e0152"
            ],
            [
             0.1,
             "#c51b7d"
            ],
            [
             0.2,
             "#de77ae"
            ],
            [
             0.3,
             "#f1b6da"
            ],
            [
             0.4,
             "#fde0ef"
            ],
            [
             0.5,
             "#f7f7f7"
            ],
            [
             0.6,
             "#e6f5d0"
            ],
            [
             0.7,
             "#b8e186"
            ],
            [
             0.8,
             "#7fbc41"
            ],
            [
             0.9,
             "#4d9221"
            ],
            [
             1,
             "#276419"
            ]
           ],
           "sequential": [
            [
             0,
             "#0d0887"
            ],
            [
             0.1111111111111111,
             "#46039f"
            ],
            [
             0.2222222222222222,
             "#7201a8"
            ],
            [
             0.3333333333333333,
             "#9c179e"
            ],
            [
             0.4444444444444444,
             "#bd3786"
            ],
            [
             0.5555555555555556,
             "#d8576b"
            ],
            [
             0.6666666666666666,
             "#ed7953"
            ],
            [
             0.7777777777777778,
             "#fb9f3a"
            ],
            [
             0.8888888888888888,
             "#fdca26"
            ],
            [
             1,
             "#f0f921"
            ]
           ],
           "sequentialminus": [
            [
             0,
             "#0d0887"
            ],
            [
             0.1111111111111111,
             "#46039f"
            ],
            [
             0.2222222222222222,
             "#7201a8"
            ],
            [
             0.3333333333333333,
             "#9c179e"
            ],
            [
             0.4444444444444444,
             "#bd3786"
            ],
            [
             0.5555555555555556,
             "#d8576b"
            ],
            [
             0.6666666666666666,
             "#ed7953"
            ],
            [
             0.7777777777777778,
             "#fb9f3a"
            ],
            [
             0.8888888888888888,
             "#fdca26"
            ],
            [
             1,
             "#f0f921"
            ]
           ]
          },
          "colorway": [
           "#636efa",
           "#EF553B",
           "#00cc96",
           "#ab63fa",
           "#FFA15A",
           "#19d3f3",
           "#FF6692",
           "#B6E880",
           "#FF97FF",
           "#FECB52"
          ],
          "font": {
           "color": "#2a3f5f"
          },
          "geo": {
           "bgcolor": "white",
           "lakecolor": "white",
           "landcolor": "#E5ECF6",
           "showlakes": true,
           "showland": true,
           "subunitcolor": "white"
          },
          "hoverlabel": {
           "align": "left"
          },
          "hovermode": "closest",
          "mapbox": {
           "style": "light"
          },
          "paper_bgcolor": "white",
          "plot_bgcolor": "#E5ECF6",
          "polar": {
           "angularaxis": {
            "gridcolor": "white",
            "linecolor": "white",
            "ticks": ""
           },
           "bgcolor": "#E5ECF6",
           "radialaxis": {
            "gridcolor": "white",
            "linecolor": "white",
            "ticks": ""
           }
          },
          "scene": {
           "xaxis": {
            "backgroundcolor": "#E5ECF6",
            "gridcolor": "white",
            "gridwidth": 2,
            "linecolor": "white",
            "showbackground": true,
            "ticks": "",
            "zerolinecolor": "white"
           },
           "yaxis": {
            "backgroundcolor": "#E5ECF6",
            "gridcolor": "white",
            "gridwidth": 2,
            "linecolor": "white",
            "showbackground": true,
            "ticks": "",
            "zerolinecolor": "white"
           },
           "zaxis": {
            "backgroundcolor": "#E5ECF6",
            "gridcolor": "white",
            "gridwidth": 2,
            "linecolor": "white",
            "showbackground": true,
            "ticks": "",
            "zerolinecolor": "white"
           }
          },
          "shapedefaults": {
           "line": {
            "color": "#2a3f5f"
           }
          },
          "ternary": {
           "aaxis": {
            "gridcolor": "white",
            "linecolor": "white",
            "ticks": ""
           },
           "baxis": {
            "gridcolor": "white",
            "linecolor": "white",
            "ticks": ""
           },
           "bgcolor": "#E5ECF6",
           "caxis": {
            "gridcolor": "white",
            "linecolor": "white",
            "ticks": ""
           }
          },
          "title": {
           "x": 0.05
          },
          "xaxis": {
           "automargin": true,
           "gridcolor": "white",
           "linecolor": "white",
           "ticks": "",
           "title": {
            "standoff": 15
           },
           "zerolinecolor": "white",
           "zerolinewidth": 2
          },
          "yaxis": {
           "automargin": true,
           "gridcolor": "white",
           "linecolor": "white",
           "ticks": "",
           "title": {
            "standoff": 15
           },
           "zerolinecolor": "white",
           "zerolinewidth": 2
          }
         }
        },
        "title": {
         "text": "Quantidade de propostas"
        },
        "xaxis": {
         "title": {
          "text": "Propostas"
         }
        },
        "yaxis": {
         "title": {
          "text": "quantidade"
         }
        }
       }
      }
     },
     "metadata": {},
     "output_type": "display_data"
    }
   ],
   "source": [
    "fig = go.Figure([go.Bar(x=propostas['Categoria'].value_counts().index, y=propostas['Categoria'].value_counts().tolist())])\n",
    "fig.update_layout(\n",
    "    title=\"Quantidade de propostas\",\n",
    "    xaxis_title=\"Propostas\",\n",
    "    yaxis_title=\"quantidade\")\n",
    "fig.show()"
   ]
  },
  {
   "cell_type": "markdown",
   "id": "7ffe3e4e",
   "metadata": {},
   "source": [
    "# Pre Processamento\n"
   ]
  },
  {
   "cell_type": "code",
   "execution_count": 13,
   "id": "411aba01",
   "metadata": {},
   "outputs": [
    {
     "data": {
      "text/html": [
       "<div>\n",
       "<style scoped>\n",
       "    .dataframe tbody tr th:only-of-type {\n",
       "        vertical-align: middle;\n",
       "    }\n",
       "\n",
       "    .dataframe tbody tr th {\n",
       "        vertical-align: top;\n",
       "    }\n",
       "\n",
       "    .dataframe thead th {\n",
       "        text-align: right;\n",
       "    }\n",
       "</style>\n",
       "<table border=\"1\" class=\"dataframe\">\n",
       "  <thead>\n",
       "    <tr style=\"text-align: right;\">\n",
       "      <th></th>\n",
       "      <th>Categoria</th>\n",
       "      <th>Texto</th>\n",
       "      <th>id_cats</th>\n",
       "    </tr>\n",
       "  </thead>\n",
       "  <tbody>\n",
       "    <tr>\n",
       "      <th>0</th>\n",
       "      <td>Turismo</td>\n",
       "      <td>Turismo: esse é o Destino. Objetivo: Posiciona...</td>\n",
       "      <td>0</td>\n",
       "    </tr>\n",
       "    <tr>\n",
       "      <th>1</th>\n",
       "      <td>Desenvolvimento Agrário e Agricultura Familiar</td>\n",
       "      <td>Agricultura Familiar e Agroecologia. Objetivo:...</td>\n",
       "      <td>1</td>\n",
       "    </tr>\n",
       "    <tr>\n",
       "      <th>2</th>\n",
       "      <td>Agricultura e Pecuária</td>\n",
       "      <td>Agropecuária Sustentável. Objetivo: Contribuir...</td>\n",
       "      <td>2</td>\n",
       "    </tr>\n",
       "    <tr>\n",
       "      <th>3</th>\n",
       "      <td>Saúde</td>\n",
       "      <td>Atenção Primária à Saúde. Fortalecer a Atenção...</td>\n",
       "      <td>3</td>\n",
       "    </tr>\n",
       "    <tr>\n",
       "      <th>4</th>\n",
       "      <td>Saúde</td>\n",
       "      <td>Atenção Especializada à Saúde. Ampliar o acess...</td>\n",
       "      <td>3</td>\n",
       "    </tr>\n",
       "  </tbody>\n",
       "</table>\n",
       "</div>"
      ],
      "text/plain": [
       "                                        Categoria  \\\n",
       "0                                         Turismo   \n",
       "1  Desenvolvimento Agrário e Agricultura Familiar   \n",
       "2                          Agricultura e Pecuária   \n",
       "3                                           Saúde   \n",
       "4                                           Saúde   \n",
       "\n",
       "                                               Texto  id_cats  \n",
       "0  Turismo: esse é o Destino. Objetivo: Posiciona...        0  \n",
       "1  Agricultura Familiar e Agroecologia. Objetivo:...        1  \n",
       "2  Agropecuária Sustentável. Objetivo: Contribuir...        2  \n",
       "3  Atenção Primária à Saúde. Fortalecer a Atenção...        3  \n",
       "4  Atenção Especializada à Saúde. Ampliar o acess...        3  "
      ]
     },
     "execution_count": 13,
     "metadata": {},
     "output_type": "execute_result"
    }
   ],
   "source": [
    "#Criando índices para as categorias\n",
    "cats = propostas['Categoria'].unique() # Pegando cada categoria única\n",
    "cats = dict(enumerate(cats, 0)) # Convertendo para dict (com índices enumerados)\n",
    "cats = {v:k for k,v in cats.items()}  # Trocando chaves e valores\n",
    "\n",
    "propostas['id_cats'] = propostas['Categoria'].map(cats) # Inserindo coluna de índices das cats\n",
    "propostas.head()"
   ]
  },
  {
   "cell_type": "code",
   "execution_count": 14,
   "id": "66b908aa",
   "metadata": {},
   "outputs": [
    {
     "data": {
      "text/plain": [
       "'Turismo: esse é o Destino. Objetivo: Posicionar o turismo como vetor de desenvolvimento sustentável e aumentar a competitividade dos destinos e produtos turísticos brasileiros, democratizando o acesso à atividade turística aos cidadãos brasileiros.'"
      ]
     },
     "execution_count": 14,
     "metadata": {},
     "output_type": "execute_result"
    }
   ],
   "source": [
    "propostas['Texto'][0]"
   ]
  },
  {
   "cell_type": "code",
   "execution_count": 15,
   "id": "83691544",
   "metadata": {},
   "outputs": [
    {
     "name": "stderr",
     "output_type": "stream",
     "text": [
      "[nltk_data] Downloading package stopwords to\n",
      "[nltk_data]     /home/leandro/nltk_data...\n",
      "[nltk_data]   Package stopwords is already up-to-date!\n",
      "[nltk_data] Downloading package wordnet to /home/leandro/nltk_data...\n",
      "[nltk_data]   Package wordnet is already up-to-date!\n"
     ]
    }
   ],
   "source": [
    "import nltk\n",
    "import spacy\n",
    "nlp = spacy.load('pt_core_news_sm')  \n",
    "\n",
    "nltk.download('stopwords')\n",
    "nltk.download('wordnet')\n",
    "\n",
    "stopwords = nltk.corpus.stopwords.words('portuguese')\n",
    "\n",
    "lemmatizer = WordNetLemmatizer()\n",
    "\n",
    "def clean(doc):\n",
    "    \n",
    "    if isinstance(doc, float) and np.isnan(doc):\n",
    "        return ''\n",
    "    \n",
    "    text_no_namedentities = []\n",
    "    document = nlp(doc)\n",
    "    ents = [e.text for e in document.ents]\n",
    "    for item in document:\n",
    "        if item.text in ents:\n",
    "            pass\n",
    "        else:\n",
    "            text_no_namedentities.append(item.text)\n",
    "    doc = (\" \".join(text_no_namedentities))\n",
    "\n",
    "    doc = doc.lower().strip()\n",
    "    doc = doc.replace(\"</br>\", \" \") \n",
    "    doc = doc.replace(\"-\", \" \") \n",
    "    doc = \"\".join([char for char in doc if char not in string.punctuation and not char.isdigit()])\n",
    "    doc = \" \".join([token for token in doc.split() if token not in stopwords])    \n",
    "    doc = \"\".join([lemmatizer.lemmatize(word) for word in doc])\n",
    "    return doc\n"
   ]
  },
  {
   "cell_type": "code",
   "execution_count": 16,
   "id": "c0b4c48d",
   "metadata": {},
   "outputs": [
    {
     "data": {
      "text/plain": [
       "'turismo objetivo posicionar turismo vetor desenvolvimento sustentável aumentar competitividade destinos produtos turísticos brasileiros democratizando acesso atividade turística cidadãos brasileiros'"
      ]
     },
     "execution_count": 16,
     "metadata": {},
     "output_type": "execute_result"
    }
   ],
   "source": [
    "clean(propostas['Texto'][0])"
   ]
  },
  {
   "cell_type": "code",
   "execution_count": 17,
   "id": "fe89defa",
   "metadata": {},
   "outputs": [
    {
     "data": {
      "text/html": [
       "<div>\n",
       "<style scoped>\n",
       "    .dataframe tbody tr th:only-of-type {\n",
       "        vertical-align: middle;\n",
       "    }\n",
       "\n",
       "    .dataframe tbody tr th {\n",
       "        vertical-align: top;\n",
       "    }\n",
       "\n",
       "    .dataframe thead th {\n",
       "        text-align: right;\n",
       "    }\n",
       "</style>\n",
       "<table border=\"1\" class=\"dataframe\">\n",
       "  <thead>\n",
       "    <tr style=\"text-align: right;\">\n",
       "      <th></th>\n",
       "      <th>Categoria</th>\n",
       "      <th>Texto</th>\n",
       "      <th>id_cats</th>\n",
       "    </tr>\n",
       "  </thead>\n",
       "  <tbody>\n",
       "    <tr>\n",
       "      <th>0</th>\n",
       "      <td>Turismo</td>\n",
       "      <td>Turismo: esse é o Destino. Objetivo: Posiciona...</td>\n",
       "      <td>0</td>\n",
       "    </tr>\n",
       "    <tr>\n",
       "      <th>1</th>\n",
       "      <td>Desenvolvimento Agrário e Agricultura Familiar</td>\n",
       "      <td>Agricultura Familiar e Agroecologia. Objetivo:...</td>\n",
       "      <td>1</td>\n",
       "    </tr>\n",
       "    <tr>\n",
       "      <th>2</th>\n",
       "      <td>Agricultura e Pecuária</td>\n",
       "      <td>Agropecuária Sustentável. Objetivo: Contribuir...</td>\n",
       "      <td>2</td>\n",
       "    </tr>\n",
       "    <tr>\n",
       "      <th>3</th>\n",
       "      <td>Saúde</td>\n",
       "      <td>Atenção Primária à Saúde. Fortalecer a Atenção...</td>\n",
       "      <td>3</td>\n",
       "    </tr>\n",
       "    <tr>\n",
       "      <th>4</th>\n",
       "      <td>Saúde</td>\n",
       "      <td>Atenção Especializada à Saúde. Ampliar o acess...</td>\n",
       "      <td>3</td>\n",
       "    </tr>\n",
       "  </tbody>\n",
       "</table>\n",
       "</div>"
      ],
      "text/plain": [
       "                                        Categoria  \\\n",
       "0                                         Turismo   \n",
       "1  Desenvolvimento Agrário e Agricultura Familiar   \n",
       "2                          Agricultura e Pecuária   \n",
       "3                                           Saúde   \n",
       "4                                           Saúde   \n",
       "\n",
       "                                               Texto  id_cats  \n",
       "0  Turismo: esse é o Destino. Objetivo: Posiciona...        0  \n",
       "1  Agricultura Familiar e Agroecologia. Objetivo:...        1  \n",
       "2  Agropecuária Sustentável. Objetivo: Contribuir...        2  \n",
       "3  Atenção Primária à Saúde. Fortalecer a Atenção...        3  \n",
       "4  Atenção Especializada à Saúde. Ampliar o acess...        3  "
      ]
     },
     "execution_count": 17,
     "metadata": {},
     "output_type": "execute_result"
    }
   ],
   "source": [
    "# propostas['Texto'] = propostas['Texto'].apply(clean)\n",
    "propostas.head()"
   ]
  },
  {
   "cell_type": "markdown",
   "id": "5951b1c3",
   "metadata": {},
   "source": [
    "## TF-IDF Vectorizer\n",
    "\n",
    "![TF-IDF](https://miro.medium.com/max/3136/1*ruCawEw0--m2SeHmAQooJQ.jpeg)"
   ]
  },
  {
   "cell_type": "code",
   "execution_count": 18,
   "id": "f9a06173",
   "metadata": {},
   "outputs": [],
   "source": [
    "docs = list(propostas['Texto'])\n",
    "tfidf_vectorizer = TfidfVectorizer(use_idf=True, max_features = 20000) \n",
    "tfidf_vectorizer_vectors = tfidf_vectorizer.fit_transform(docs)\n",
    "docs = tfidf_vectorizer_vectors.toarray()"
   ]
  },
  {
   "cell_type": "code",
   "execution_count": 19,
   "id": "33220ceb",
   "metadata": {},
   "outputs": [
    {
     "name": "stdout",
     "output_type": "stream",
     "text": [
      "(8807, 20000) (8807,)\n"
     ]
    }
   ],
   "source": [
    "X = docs \n",
    "y = propostas['id_cats']\n",
    "print(X.shape, y.shape)\n"
   ]
  },
  {
   "cell_type": "code",
   "execution_count": 20,
   "id": "41ee657b",
   "metadata": {},
   "outputs": [
    {
     "data": {
      "application/vnd.plotly.v1+json": {
       "config": {
        "plotlyServerURL": "https://plot.ly"
       },
       "data": [
        {
         "type": "bar",
         "x": [
          3,
          15,
          10,
          22,
          25,
          5,
          7,
          8,
          18,
          32,
          1,
          26,
          17,
          16,
          13,
          11,
          28,
          0,
          14,
          27,
          2,
          6,
          9,
          20,
          21,
          23,
          4,
          35,
          36,
          34,
          12,
          19,
          30,
          24,
          29,
          33,
          31,
          38,
          37
         ],
         "y": [
          1368,
          1261,
          528,
          497,
          473,
          418,
          377,
          342,
          294,
          284,
          255,
          249,
          224,
          187,
          158,
          132,
          125,
          122,
          116,
          110,
          103,
          99,
          92,
          92,
          90,
          77,
          65,
          62,
          60,
          58,
          57,
          56,
          55,
          55,
          55,
          54,
          54,
          53,
          50
         ]
        }
       ],
       "layout": {
        "template": {
         "data": {
          "bar": [
           {
            "error_x": {
             "color": "#2a3f5f"
            },
            "error_y": {
             "color": "#2a3f5f"
            },
            "marker": {
             "line": {
              "color": "#E5ECF6",
              "width": 0.5
             },
             "pattern": {
              "fillmode": "overlay",
              "size": 10,
              "solidity": 0.2
             }
            },
            "type": "bar"
           }
          ],
          "barpolar": [
           {
            "marker": {
             "line": {
              "color": "#E5ECF6",
              "width": 0.5
             },
             "pattern": {
              "fillmode": "overlay",
              "size": 10,
              "solidity": 0.2
             }
            },
            "type": "barpolar"
           }
          ],
          "carpet": [
           {
            "aaxis": {
             "endlinecolor": "#2a3f5f",
             "gridcolor": "white",
             "linecolor": "white",
             "minorgridcolor": "white",
             "startlinecolor": "#2a3f5f"
            },
            "baxis": {
             "endlinecolor": "#2a3f5f",
             "gridcolor": "white",
             "linecolor": "white",
             "minorgridcolor": "white",
             "startlinecolor": "#2a3f5f"
            },
            "type": "carpet"
           }
          ],
          "choropleth": [
           {
            "colorbar": {
             "outlinewidth": 0,
             "ticks": ""
            },
            "type": "choropleth"
           }
          ],
          "contour": [
           {
            "colorbar": {
             "outlinewidth": 0,
             "ticks": ""
            },
            "colorscale": [
             [
              0,
              "#0d0887"
             ],
             [
              0.1111111111111111,
              "#46039f"
             ],
             [
              0.2222222222222222,
              "#7201a8"
             ],
             [
              0.3333333333333333,
              "#9c179e"
             ],
             [
              0.4444444444444444,
              "#bd3786"
             ],
             [
              0.5555555555555556,
              "#d8576b"
             ],
             [
              0.6666666666666666,
              "#ed7953"
             ],
             [
              0.7777777777777778,
              "#fb9f3a"
             ],
             [
              0.8888888888888888,
              "#fdca26"
             ],
             [
              1,
              "#f0f921"
             ]
            ],
            "type": "contour"
           }
          ],
          "contourcarpet": [
           {
            "colorbar": {
             "outlinewidth": 0,
             "ticks": ""
            },
            "type": "contourcarpet"
           }
          ],
          "heatmap": [
           {
            "colorbar": {
             "outlinewidth": 0,
             "ticks": ""
            },
            "colorscale": [
             [
              0,
              "#0d0887"
             ],
             [
              0.1111111111111111,
              "#46039f"
             ],
             [
              0.2222222222222222,
              "#7201a8"
             ],
             [
              0.3333333333333333,
              "#9c179e"
             ],
             [
              0.4444444444444444,
              "#bd3786"
             ],
             [
              0.5555555555555556,
              "#d8576b"
             ],
             [
              0.6666666666666666,
              "#ed7953"
             ],
             [
              0.7777777777777778,
              "#fb9f3a"
             ],
             [
              0.8888888888888888,
              "#fdca26"
             ],
             [
              1,
              "#f0f921"
             ]
            ],
            "type": "heatmap"
           }
          ],
          "heatmapgl": [
           {
            "colorbar": {
             "outlinewidth": 0,
             "ticks": ""
            },
            "colorscale": [
             [
              0,
              "#0d0887"
             ],
             [
              0.1111111111111111,
              "#46039f"
             ],
             [
              0.2222222222222222,
              "#7201a8"
             ],
             [
              0.3333333333333333,
              "#9c179e"
             ],
             [
              0.4444444444444444,
              "#bd3786"
             ],
             [
              0.5555555555555556,
              "#d8576b"
             ],
             [
              0.6666666666666666,
              "#ed7953"
             ],
             [
              0.7777777777777778,
              "#fb9f3a"
             ],
             [
              0.8888888888888888,
              "#fdca26"
             ],
             [
              1,
              "#f0f921"
             ]
            ],
            "type": "heatmapgl"
           }
          ],
          "histogram": [
           {
            "marker": {
             "pattern": {
              "fillmode": "overlay",
              "size": 10,
              "solidity": 0.2
             }
            },
            "type": "histogram"
           }
          ],
          "histogram2d": [
           {
            "colorbar": {
             "outlinewidth": 0,
             "ticks": ""
            },
            "colorscale": [
             [
              0,
              "#0d0887"
             ],
             [
              0.1111111111111111,
              "#46039f"
             ],
             [
              0.2222222222222222,
              "#7201a8"
             ],
             [
              0.3333333333333333,
              "#9c179e"
             ],
             [
              0.4444444444444444,
              "#bd3786"
             ],
             [
              0.5555555555555556,
              "#d8576b"
             ],
             [
              0.6666666666666666,
              "#ed7953"
             ],
             [
              0.7777777777777778,
              "#fb9f3a"
             ],
             [
              0.8888888888888888,
              "#fdca26"
             ],
             [
              1,
              "#f0f921"
             ]
            ],
            "type": "histogram2d"
           }
          ],
          "histogram2dcontour": [
           {
            "colorbar": {
             "outlinewidth": 0,
             "ticks": ""
            },
            "colorscale": [
             [
              0,
              "#0d0887"
             ],
             [
              0.1111111111111111,
              "#46039f"
             ],
             [
              0.2222222222222222,
              "#7201a8"
             ],
             [
              0.3333333333333333,
              "#9c179e"
             ],
             [
              0.4444444444444444,
              "#bd3786"
             ],
             [
              0.5555555555555556,
              "#d8576b"
             ],
             [
              0.6666666666666666,
              "#ed7953"
             ],
             [
              0.7777777777777778,
              "#fb9f3a"
             ],
             [
              0.8888888888888888,
              "#fdca26"
             ],
             [
              1,
              "#f0f921"
             ]
            ],
            "type": "histogram2dcontour"
           }
          ],
          "mesh3d": [
           {
            "colorbar": {
             "outlinewidth": 0,
             "ticks": ""
            },
            "type": "mesh3d"
           }
          ],
          "parcoords": [
           {
            "line": {
             "colorbar": {
              "outlinewidth": 0,
              "ticks": ""
             }
            },
            "type": "parcoords"
           }
          ],
          "pie": [
           {
            "automargin": true,
            "type": "pie"
           }
          ],
          "scatter": [
           {
            "fillpattern": {
             "fillmode": "overlay",
             "size": 10,
             "solidity": 0.2
            },
            "type": "scatter"
           }
          ],
          "scatter3d": [
           {
            "line": {
             "colorbar": {
              "outlinewidth": 0,
              "ticks": ""
             }
            },
            "marker": {
             "colorbar": {
              "outlinewidth": 0,
              "ticks": ""
             }
            },
            "type": "scatter3d"
           }
          ],
          "scattercarpet": [
           {
            "marker": {
             "colorbar": {
              "outlinewidth": 0,
              "ticks": ""
             }
            },
            "type": "scattercarpet"
           }
          ],
          "scattergeo": [
           {
            "marker": {
             "colorbar": {
              "outlinewidth": 0,
              "ticks": ""
             }
            },
            "type": "scattergeo"
           }
          ],
          "scattergl": [
           {
            "marker": {
             "colorbar": {
              "outlinewidth": 0,
              "ticks": ""
             }
            },
            "type": "scattergl"
           }
          ],
          "scattermapbox": [
           {
            "marker": {
             "colorbar": {
              "outlinewidth": 0,
              "ticks": ""
             }
            },
            "type": "scattermapbox"
           }
          ],
          "scatterpolar": [
           {
            "marker": {
             "colorbar": {
              "outlinewidth": 0,
              "ticks": ""
             }
            },
            "type": "scatterpolar"
           }
          ],
          "scatterpolargl": [
           {
            "marker": {
             "colorbar": {
              "outlinewidth": 0,
              "ticks": ""
             }
            },
            "type": "scatterpolargl"
           }
          ],
          "scatterternary": [
           {
            "marker": {
             "colorbar": {
              "outlinewidth": 0,
              "ticks": ""
             }
            },
            "type": "scatterternary"
           }
          ],
          "surface": [
           {
            "colorbar": {
             "outlinewidth": 0,
             "ticks": ""
            },
            "colorscale": [
             [
              0,
              "#0d0887"
             ],
             [
              0.1111111111111111,
              "#46039f"
             ],
             [
              0.2222222222222222,
              "#7201a8"
             ],
             [
              0.3333333333333333,
              "#9c179e"
             ],
             [
              0.4444444444444444,
              "#bd3786"
             ],
             [
              0.5555555555555556,
              "#d8576b"
             ],
             [
              0.6666666666666666,
              "#ed7953"
             ],
             [
              0.7777777777777778,
              "#fb9f3a"
             ],
             [
              0.8888888888888888,
              "#fdca26"
             ],
             [
              1,
              "#f0f921"
             ]
            ],
            "type": "surface"
           }
          ],
          "table": [
           {
            "cells": {
             "fill": {
              "color": "#EBF0F8"
             },
             "line": {
              "color": "white"
             }
            },
            "header": {
             "fill": {
              "color": "#C8D4E3"
             },
             "line": {
              "color": "white"
             }
            },
            "type": "table"
           }
          ]
         },
         "layout": {
          "annotationdefaults": {
           "arrowcolor": "#2a3f5f",
           "arrowhead": 0,
           "arrowwidth": 1
          },
          "autotypenumbers": "strict",
          "coloraxis": {
           "colorbar": {
            "outlinewidth": 0,
            "ticks": ""
           }
          },
          "colorscale": {
           "diverging": [
            [
             0,
             "#8e0152"
            ],
            [
             0.1,
             "#c51b7d"
            ],
            [
             0.2,
             "#de77ae"
            ],
            [
             0.3,
             "#f1b6da"
            ],
            [
             0.4,
             "#fde0ef"
            ],
            [
             0.5,
             "#f7f7f7"
            ],
            [
             0.6,
             "#e6f5d0"
            ],
            [
             0.7,
             "#b8e186"
            ],
            [
             0.8,
             "#7fbc41"
            ],
            [
             0.9,
             "#4d9221"
            ],
            [
             1,
             "#276419"
            ]
           ],
           "sequential": [
            [
             0,
             "#0d0887"
            ],
            [
             0.1111111111111111,
             "#46039f"
            ],
            [
             0.2222222222222222,
             "#7201a8"
            ],
            [
             0.3333333333333333,
             "#9c179e"
            ],
            [
             0.4444444444444444,
             "#bd3786"
            ],
            [
             0.5555555555555556,
             "#d8576b"
            ],
            [
             0.6666666666666666,
             "#ed7953"
            ],
            [
             0.7777777777777778,
             "#fb9f3a"
            ],
            [
             0.8888888888888888,
             "#fdca26"
            ],
            [
             1,
             "#f0f921"
            ]
           ],
           "sequentialminus": [
            [
             0,
             "#0d0887"
            ],
            [
             0.1111111111111111,
             "#46039f"
            ],
            [
             0.2222222222222222,
             "#7201a8"
            ],
            [
             0.3333333333333333,
             "#9c179e"
            ],
            [
             0.4444444444444444,
             "#bd3786"
            ],
            [
             0.5555555555555556,
             "#d8576b"
            ],
            [
             0.6666666666666666,
             "#ed7953"
            ],
            [
             0.7777777777777778,
             "#fb9f3a"
            ],
            [
             0.8888888888888888,
             "#fdca26"
            ],
            [
             1,
             "#f0f921"
            ]
           ]
          },
          "colorway": [
           "#636efa",
           "#EF553B",
           "#00cc96",
           "#ab63fa",
           "#FFA15A",
           "#19d3f3",
           "#FF6692",
           "#B6E880",
           "#FF97FF",
           "#FECB52"
          ],
          "font": {
           "color": "#2a3f5f"
          },
          "geo": {
           "bgcolor": "white",
           "lakecolor": "white",
           "landcolor": "#E5ECF6",
           "showlakes": true,
           "showland": true,
           "subunitcolor": "white"
          },
          "hoverlabel": {
           "align": "left"
          },
          "hovermode": "closest",
          "mapbox": {
           "style": "light"
          },
          "paper_bgcolor": "white",
          "plot_bgcolor": "#E5ECF6",
          "polar": {
           "angularaxis": {
            "gridcolor": "white",
            "linecolor": "white",
            "ticks": ""
           },
           "bgcolor": "#E5ECF6",
           "radialaxis": {
            "gridcolor": "white",
            "linecolor": "white",
            "ticks": ""
           }
          },
          "scene": {
           "xaxis": {
            "backgroundcolor": "#E5ECF6",
            "gridcolor": "white",
            "gridwidth": 2,
            "linecolor": "white",
            "showbackground": true,
            "ticks": "",
            "zerolinecolor": "white"
           },
           "yaxis": {
            "backgroundcolor": "#E5ECF6",
            "gridcolor": "white",
            "gridwidth": 2,
            "linecolor": "white",
            "showbackground": true,
            "ticks": "",
            "zerolinecolor": "white"
           },
           "zaxis": {
            "backgroundcolor": "#E5ECF6",
            "gridcolor": "white",
            "gridwidth": 2,
            "linecolor": "white",
            "showbackground": true,
            "ticks": "",
            "zerolinecolor": "white"
           }
          },
          "shapedefaults": {
           "line": {
            "color": "#2a3f5f"
           }
          },
          "ternary": {
           "aaxis": {
            "gridcolor": "white",
            "linecolor": "white",
            "ticks": ""
           },
           "baxis": {
            "gridcolor": "white",
            "linecolor": "white",
            "ticks": ""
           },
           "bgcolor": "#E5ECF6",
           "caxis": {
            "gridcolor": "white",
            "linecolor": "white",
            "ticks": ""
           }
          },
          "title": {
           "x": 0.05
          },
          "xaxis": {
           "automargin": true,
           "gridcolor": "white",
           "linecolor": "white",
           "ticks": "",
           "title": {
            "standoff": 15
           },
           "zerolinecolor": "white",
           "zerolinewidth": 2
          },
          "yaxis": {
           "automargin": true,
           "gridcolor": "white",
           "linecolor": "white",
           "ticks": "",
           "title": {
            "standoff": 15
           },
           "zerolinecolor": "white",
           "zerolinewidth": 2
          }
         }
        },
        "title": {
         "text": "Quantidade de propostas"
        },
        "xaxis": {
         "title": {
          "text": "Propostas"
         }
        },
        "yaxis": {
         "title": {
          "text": "quantidade"
         }
        }
       }
      }
     },
     "metadata": {},
     "output_type": "display_data"
    }
   ],
   "source": [
    "fig = go.Figure([go.Bar(x=y.value_counts().index, y=y.value_counts().tolist())])\n",
    "fig.update_layout(\n",
    "    title=\"Quantidade de propostas\",\n",
    "    xaxis_title=\"Propostas\",\n",
    "    yaxis_title=\"quantidade\")\n",
    "fig.show()"
   ]
  },
  {
   "cell_type": "markdown",
   "id": "f5806a7c",
   "metadata": {},
   "source": [
    "# Train test Split"
   ]
  },
  {
   "cell_type": "code",
   "execution_count": 21,
   "id": "f1abe771",
   "metadata": {},
   "outputs": [
    {
     "name": "stdout",
     "output_type": "stream",
     "text": [
      "(7045, 20000) (7045,)\n",
      "(1762, 20000) (1762,)\n"
     ]
    }
   ],
   "source": [
    "SEED=123\n",
    "X_train,X_test,y_train,y_test=train_test_split(X, y, test_size=0.2, random_state=SEED, stratify=y)\n",
    "print(X_train.shape, y_train.shape)\n",
    "print(X_test.shape, y_test.shape)"
   ]
  },
  {
   "cell_type": "code",
   "execution_count": 22,
   "id": "abd83525",
   "metadata": {},
   "outputs": [],
   "source": [
    "target_names = [\n",
    "    'Saúde', 'Educação', 'Direitos Humanos e Cidadania', 'Meio Ambiente e Mudança do Clima',\n",
    "    'Transportes', 'Desenvolvimento e Assistência Social, Família e Combate à Fome',\n",
    "    'Trabalho e Emprego', 'Justiça e Segurança Pública', 'Cidades',\n",
    "    'Gestão e Inovação em Serviços Públicos', 'Desenvolvimento Agrário e Agricultura Familiar',\n",
    "    'Previdência Social', 'Cultura', 'Mulheres', 'Ciência, Tecnologia e Inovação',\n",
    "    'Fazenda', 'Planejamento e Orçamento', 'Turismo',\n",
    "    'Desenvolvimento, Indústria, Comércio e Serviços', 'Integração e Desenvolvimento Regional',\n",
    "    'Agricultura e Pecuária', 'Minas e Energia', 'Igualdade Racial',\n",
    "    'Secretaria Geral da Presidência da República', 'Esporte', 'Casa Civil',\n",
    "    'Defesa', 'Comunicações', 'Comunicação Social', 'Relações Institucionais',\n",
    "    'Povos Indígenas', 'Pesca e Aquicultura', 'Controladoria-Geral da União',\n",
    "    'Outros', 'Segurança Institucional', 'Banco Central', 'Portos e Aeroportos',\n",
    "    'Advocacia-Geral da União', 'Relações Exteriores'\n",
    "]"
   ]
  },
  {
   "cell_type": "markdown",
   "id": "396e9e13",
   "metadata": {},
   "source": [
    "## Balanceando dados"
   ]
  },
  {
   "cell_type": "markdown",
   "id": "b9179cc3",
   "metadata": {},
   "source": [
    "## Classificação com Naive Bayes "
   ]
  },
  {
   "cell_type": "markdown",
   "id": "0b94df0c",
   "metadata": {
    "jp-MarkdownHeadingCollapsed": true
   },
   "source": [
    "### Gaussian Naive Bayes\n"
   ]
  },
  {
   "cell_type": "code",
   "execution_count": 23,
   "id": "0f2ed7b6",
   "metadata": {},
   "outputs": [
    {
     "name": "stdout",
     "output_type": "stream",
     "text": [
      "CPU times: user 1.12 s, sys: 327 ms, total: 1.45 s\n",
      "Wall time: 1.45 s\n",
      "\n",
      "Training Accuracy score: 0.9518807665010646\n",
      "Testing Accuracy score: 0.3444948921679909\n"
     ]
    }
   ],
   "source": [
    "gnb = GaussianNB() \n",
    "%time gnb.fit(X_train, y_train)\n",
    "\n",
    "y_pred_train = gnb.predict(X_train)\n",
    "y_pred_test = gnb.predict(X_test)\n",
    "print(\"\\nTraining Accuracy score:\",accuracy_score(y_train, y_pred_train))\n",
    "print(\"Testing Accuracy score:\",accuracy_score(y_test, y_pred_test))"
   ]
  },
  {
   "cell_type": "code",
   "execution_count": 24,
   "id": "34300490",
   "metadata": {},
   "outputs": [
    {
     "name": "stdout",
     "output_type": "stream",
     "text": [
      "                                                                precision    recall  f1-score   support\n",
      "\n",
      "                                                         Saúde       0.40      0.08      0.14        24\n",
      "                                                      Educação       0.48      0.25      0.33        51\n",
      "                                  Direitos Humanos e Cidadania       0.54      0.33      0.41        21\n",
      "                              Meio Ambiente e Mudança do Clima       0.37      0.62      0.46       274\n",
      "                                                   Transportes       0.67      0.15      0.25        13\n",
      "Desenvolvimento e Assistência Social, Família e Combate à Fome       0.27      0.18      0.21        84\n",
      "                                            Trabalho e Emprego       0.60      0.15      0.24        20\n",
      "                                   Justiça e Segurança Pública       0.16      0.09      0.12        75\n",
      "                                                       Cidades       0.43      0.24      0.30        68\n",
      "                        Gestão e Inovação em Serviços Públicos       0.00      0.00      0.00        18\n",
      "                Desenvolvimento Agrário e Agricultura Familiar       0.16      0.19      0.17       106\n",
      "                                            Previdência Social       0.43      0.12      0.18        26\n",
      "                                                       Cultura       0.00      0.00      0.00        11\n",
      "                                                      Mulheres       0.50      0.12      0.20        32\n",
      "                                Ciência, Tecnologia e Inovação       0.00      0.00      0.00        23\n",
      "                                                       Fazenda       0.33      0.69      0.44       252\n",
      "                                      Planejamento e Orçamento       0.43      0.08      0.14        37\n",
      "                                                       Turismo       0.48      0.22      0.30        45\n",
      "               Desenvolvimento, Indústria, Comércio e Serviços       0.27      0.12      0.16        59\n",
      "                         Integração e Desenvolvimento Regional       0.14      0.09      0.11        11\n",
      "                                        Agricultura e Pecuária       0.00      0.00      0.00        18\n",
      "                                               Minas e Energia       0.67      0.11      0.19        18\n",
      "                                              Igualdade Racial       0.36      0.49      0.41       100\n",
      "                  Secretaria Geral da Presidência da República       0.00      0.00      0.00        15\n",
      "                                                       Esporte       0.00      0.00      0.00        11\n",
      "                                                    Casa Civil       0.53      0.61      0.57        95\n",
      "                                                        Defesa       0.44      0.24      0.31        50\n",
      "                                                  Comunicações       0.20      0.05      0.07        22\n",
      "                                            Comunicação Social       0.06      0.04      0.05        25\n",
      "                                       Relações Institucionais       0.50      0.09      0.15        11\n",
      "                                               Povos Indígenas       1.00      0.09      0.17        11\n",
      "                                           Pesca e Aquicultura       0.75      0.27      0.40        11\n",
      "                                  Controladoria-Geral da União       0.29      0.12      0.17        57\n",
      "                                                        Outros       0.00      0.00      0.00        11\n",
      "                                       Segurança Institucional       0.60      0.25      0.35        12\n",
      "                                                 Banco Central       0.00      0.00      0.00        12\n",
      "                                           Portos e Aeroportos       0.33      0.08      0.13        12\n",
      "                                      Advocacia-Geral da União       0.83      0.50      0.62        10\n",
      "                                           Relações Exteriores       0.54      0.64      0.58        11\n",
      "\n",
      "                                                      accuracy                           0.34      1762\n",
      "                                                     macro avg       0.35      0.19      0.21      1762\n",
      "                                                  weighted avg       0.34      0.34      0.30      1762\n",
      "\n"
     ]
    }
   ],
   "source": [
    "print(classification_report(y_test, y_pred_test,target_names=target_names))"
   ]
  },
  {
   "cell_type": "markdown",
   "id": "91e32b4f",
   "metadata": {
    "jp-MarkdownHeadingCollapsed": true
   },
   "source": [
    "### Multinomial Naive Bayes"
   ]
  },
  {
   "cell_type": "code",
   "execution_count": 25,
   "id": "5dafc505",
   "metadata": {},
   "outputs": [
    {
     "name": "stdout",
     "output_type": "stream",
     "text": [
      "CPU times: user 1.33 s, sys: 286 ms, total: 1.61 s\n",
      "Wall time: 353 ms\n",
      "\n",
      "Training Accuracy score: 0.34591909155429384\n",
      "Testing Accuracy score: 0.3166855845629966\n"
     ]
    }
   ],
   "source": [
    "mnb = MultinomialNB() \n",
    "%time mnb.fit(X_train, y_train)\n",
    "\n",
    "y_pred_train = mnb.predict(X_train)\n",
    "y_pred_test = mnb.predict(X_test)\n",
    "print(\"\\nTraining Accuracy score:\",accuracy_score(y_train, y_pred_train))\n",
    "print(\"Testing Accuracy score:\",accuracy_score(y_test, y_pred_test))"
   ]
  },
  {
   "cell_type": "code",
   "execution_count": 26,
   "id": "1b3ca6be",
   "metadata": {},
   "outputs": [
    {
     "name": "stdout",
     "output_type": "stream",
     "text": [
      "                                                                precision    recall  f1-score   support\n",
      "\n",
      "                                                         Saúde       0.00      0.00      0.00        24\n",
      "                                                      Educação       0.80      0.08      0.14        51\n",
      "                                  Direitos Humanos e Cidadania       0.00      0.00      0.00        21\n",
      "                              Meio Ambiente e Mudança do Clima       0.33      0.92      0.49       274\n",
      "                                                   Transportes       0.00      0.00      0.00        13\n",
      "Desenvolvimento e Assistência Social, Família e Combate à Fome       0.00      0.00      0.00        84\n",
      "                                            Trabalho e Emprego       0.00      0.00      0.00        20\n",
      "                                   Justiça e Segurança Pública       0.00      0.00      0.00        75\n",
      "                                                       Cidades       1.00      0.21      0.34        68\n",
      "                        Gestão e Inovação em Serviços Públicos       0.00      0.00      0.00        18\n",
      "                Desenvolvimento Agrário e Agricultura Familiar       0.00      0.00      0.00       106\n",
      "                                            Previdência Social       0.00      0.00      0.00        26\n",
      "                                                       Cultura       0.00      0.00      0.00        11\n",
      "                                                      Mulheres       0.00      0.00      0.00        32\n",
      "                                Ciência, Tecnologia e Inovação       0.00      0.00      0.00        23\n",
      "                                                       Fazenda       0.26      0.94      0.41       252\n",
      "                                      Planejamento e Orçamento       0.00      0.00      0.00        37\n",
      "                                                       Turismo       0.00      0.00      0.00        45\n",
      "               Desenvolvimento, Indústria, Comércio e Serviços       1.00      0.02      0.03        59\n",
      "                         Integração e Desenvolvimento Regional       0.00      0.00      0.00        11\n",
      "                                        Agricultura e Pecuária       0.00      0.00      0.00        18\n",
      "                                               Minas e Energia       0.00      0.00      0.00        18\n",
      "                                              Igualdade Racial       0.73      0.16      0.26       100\n",
      "                  Secretaria Geral da Presidência da República       0.00      0.00      0.00        15\n",
      "                                                       Esporte       0.00      0.00      0.00        11\n",
      "                                                    Casa Civil       0.89      0.35      0.50        95\n",
      "                                                        Defesa       0.00      0.00      0.00        50\n",
      "                                                  Comunicações       0.00      0.00      0.00        22\n",
      "                                            Comunicação Social       0.00      0.00      0.00        25\n",
      "                                       Relações Institucionais       0.00      0.00      0.00        11\n",
      "                                               Povos Indígenas       0.00      0.00      0.00        11\n",
      "                                           Pesca e Aquicultura       0.00      0.00      0.00        11\n",
      "                                  Controladoria-Geral da União       0.00      0.00      0.00        57\n",
      "                                                        Outros       0.00      0.00      0.00        11\n",
      "                                       Segurança Institucional       0.00      0.00      0.00        12\n",
      "                                                 Banco Central       0.00      0.00      0.00        12\n",
      "                                           Portos e Aeroportos       0.00      0.00      0.00        12\n",
      "                                      Advocacia-Geral da União       0.00      0.00      0.00        10\n",
      "                                           Relações Exteriores       0.00      0.00      0.00        11\n",
      "\n",
      "                                                      accuracy                           0.32      1762\n",
      "                                                     macro avg       0.13      0.07      0.06      1762\n",
      "                                                  weighted avg       0.27      0.32      0.19      1762\n",
      "\n"
     ]
    }
   ],
   "source": [
    "print(classification_report(y_test, y_pred_test,target_names=target_names))"
   ]
  },
  {
   "cell_type": "markdown",
   "id": "eb4fe717",
   "metadata": {
    "jp-MarkdownHeadingCollapsed": true
   },
   "source": [
    "## Logistic Regression Classifier"
   ]
  },
  {
   "cell_type": "code",
   "execution_count": 27,
   "id": "62bc8d23",
   "metadata": {},
   "outputs": [
    {
     "name": "stdout",
     "output_type": "stream",
     "text": [
      "CPU times: user 6min 39s, sys: 3min 37s, total: 10min 17s\n",
      "Wall time: 1min 22s\n",
      "\n",
      "Training Accuracy score: 0.71611071682044\n",
      "Testing Accuracy score: 0.5488081725312145\n"
     ]
    }
   ],
   "source": [
    "lr = LogisticRegression(random_state=SEED)\n",
    "%time lr.fit(X_train, y_train)\n",
    "\n",
    "y_pred_train = lr.predict(X_train)\n",
    "y_pred_test = lr.predict(X_test)\n",
    "print(\"\\nTraining Accuracy score:\",accuracy_score(y_train, y_pred_train))\n",
    "print(\"Testing Accuracy score:\",accuracy_score(y_test, y_pred_test))"
   ]
  },
  {
   "cell_type": "code",
   "execution_count": 28,
   "id": "969eccd8",
   "metadata": {},
   "outputs": [
    {
     "name": "stdout",
     "output_type": "stream",
     "text": [
      "                                                                precision    recall  f1-score   support\n",
      "\n",
      "                                                         Saúde       0.92      0.50      0.65        24\n",
      "                                                      Educação       0.60      0.69      0.64        51\n",
      "                                  Direitos Humanos e Cidadania       1.00      0.10      0.17        21\n",
      "                              Meio Ambiente e Mudança do Clima       0.51      0.87      0.65       274\n",
      "                                                   Transportes       0.00      0.00      0.00        13\n",
      "Desenvolvimento e Assistência Social, Família e Combate à Fome       0.42      0.27      0.33        84\n",
      "                                            Trabalho e Emprego       1.00      0.35      0.52        20\n",
      "                                   Justiça e Segurança Pública       0.49      0.45      0.47        75\n",
      "                                                       Cidades       0.65      0.57      0.61        68\n",
      "                        Gestão e Inovação em Serviços Públicos       0.00      0.00      0.00        18\n",
      "                Desenvolvimento Agrário e Agricultura Familiar       0.33      0.35      0.34       106\n",
      "                                            Previdência Social       0.62      0.31      0.41        26\n",
      "                                                       Cultura       1.00      0.27      0.43        11\n",
      "                                                      Mulheres       0.60      0.19      0.29        32\n",
      "                                Ciência, Tecnologia e Inovação       0.00      0.00      0.00        23\n",
      "                                                       Fazenda       0.57      0.91      0.70       252\n",
      "                                      Planejamento e Orçamento       0.50      0.32      0.39        37\n",
      "                                                       Turismo       0.70      0.51      0.59        45\n",
      "               Desenvolvimento, Indústria, Comércio e Serviços       0.45      0.37      0.41        59\n",
      "                         Integração e Desenvolvimento Regional       1.00      0.36      0.53        11\n",
      "                                        Agricultura e Pecuária       0.33      0.06      0.10        18\n",
      "                                               Minas e Energia       0.60      0.17      0.26        18\n",
      "                                              Igualdade Racial       0.57      0.77      0.66       100\n",
      "                  Secretaria Geral da Presidência da República       1.00      0.33      0.50        15\n",
      "                                                       Esporte       0.00      0.00      0.00        11\n",
      "                                                    Casa Civil       0.62      0.83      0.71        95\n",
      "                                                        Defesa       0.70      0.56      0.62        50\n",
      "                                                  Comunicações       0.00      0.00      0.00        22\n",
      "                                            Comunicação Social       0.00      0.00      0.00        25\n",
      "                                       Relações Institucionais       0.83      0.45      0.59        11\n",
      "                                               Povos Indígenas       1.00      0.18      0.31        11\n",
      "                                           Pesca e Aquicultura       0.50      0.09      0.15        11\n",
      "                                  Controladoria-Geral da União       0.45      0.37      0.40        57\n",
      "                                                        Outros       0.00      0.00      0.00        11\n",
      "                                       Segurança Institucional       0.00      0.00      0.00        12\n",
      "                                                 Banco Central       0.00      0.00      0.00        12\n",
      "                                           Portos e Aeroportos       0.00      0.00      0.00        12\n",
      "                                      Advocacia-Geral da União       1.00      0.30      0.46        10\n",
      "                                           Relações Exteriores       1.00      0.64      0.78        11\n",
      "\n",
      "                                                      accuracy                           0.55      1762\n",
      "                                                     macro avg       0.51      0.31      0.35      1762\n",
      "                                                  weighted avg       0.52      0.55      0.50      1762\n",
      "\n"
     ]
    }
   ],
   "source": [
    "print(classification_report(y_test, y_pred_test,target_names=target_names))"
   ]
  },
  {
   "cell_type": "markdown",
   "id": "d6e35a5b",
   "metadata": {},
   "source": [
    "## Support Vector Machines"
   ]
  },
  {
   "cell_type": "code",
   "execution_count": 29,
   "id": "abe2a1ff",
   "metadata": {},
   "outputs": [
    {
     "name": "stdout",
     "output_type": "stream",
     "text": [
      "CPU times: user 1.1 s, sys: 278 ms, total: 1.38 s\n",
      "Wall time: 1.05 s\n",
      "\n",
      "Training Accuracy score: 0.9761533002129169\n",
      "Testing Accuracy score: 0.5811577752553916\n"
     ]
    }
   ],
   "source": [
    "svc =  LinearSVC(class_weight='balanced') \n",
    "%time svc.fit(X_train, y_train)\n",
    "\n",
    "y_pred_train = svc.predict(X_train)\n",
    "y_pred_test = svc.predict(X_test)\n",
    "print(\"\\nTraining Accuracy score:\",accuracy_score(y_train, y_pred_train))\n",
    "print(\"Testing Accuracy score:\",accuracy_score(y_test, y_pred_test))"
   ]
  },
  {
   "cell_type": "code",
   "execution_count": 30,
   "id": "bdac5571",
   "metadata": {},
   "outputs": [
    {
     "name": "stdout",
     "output_type": "stream",
     "text": [
      "                                                                precision    recall  f1-score   support\n",
      "\n",
      "                                                         Saúde       0.73      0.67      0.70        24\n",
      "                                                      Educação       0.52      0.61      0.56        51\n",
      "                                  Direitos Humanos e Cidadania       0.31      0.24      0.27        21\n",
      "                              Meio Ambiente e Mudança do Clima       0.79      0.73      0.76       274\n",
      "                                                   Transportes       0.67      0.62      0.64        13\n",
      "Desenvolvimento e Assistência Social, Família e Combate à Fome       0.46      0.31      0.37        84\n",
      "                                            Trabalho e Emprego       0.65      0.55      0.59        20\n",
      "                                   Justiça e Segurança Pública       0.47      0.49      0.48        75\n",
      "                                                       Cidades       0.61      0.65      0.63        68\n",
      "                        Gestão e Inovação em Serviços Públicos       0.35      0.44      0.39        18\n",
      "                Desenvolvimento Agrário e Agricultura Familiar       0.50      0.34      0.40       106\n",
      "                                            Previdência Social       0.35      0.42      0.39        26\n",
      "                                                       Cultura       0.83      0.91      0.87        11\n",
      "                                                      Mulheres       0.34      0.38      0.36        32\n",
      "                                Ciência, Tecnologia e Inovação       0.24      0.26      0.25        23\n",
      "                                                       Fazenda       0.79      0.77      0.78       252\n",
      "                                      Planejamento e Orçamento       0.50      0.62      0.55        37\n",
      "                                                       Turismo       0.63      0.76      0.69        45\n",
      "               Desenvolvimento, Indústria, Comércio e Serviços       0.37      0.42      0.39        59\n",
      "                         Integração e Desenvolvimento Regional       0.75      0.82      0.78        11\n",
      "                                        Agricultura e Pecuária       0.22      0.28      0.24        18\n",
      "                                               Minas e Energia       0.50      0.67      0.57        18\n",
      "                                              Igualdade Racial       0.63      0.70      0.66       100\n",
      "                  Secretaria Geral da Presidência da República       0.53      0.53      0.53        15\n",
      "                                                       Esporte       0.33      0.18      0.24        11\n",
      "                                                    Casa Civil       0.69      0.76      0.72        95\n",
      "                                                        Defesa       0.45      0.64      0.53        50\n",
      "                                                  Comunicações       0.36      0.18      0.24        22\n",
      "                                            Comunicação Social       0.10      0.08      0.09        25\n",
      "                                       Relações Institucionais       0.53      0.73      0.62        11\n",
      "                                               Povos Indígenas       0.75      0.55      0.63        11\n",
      "                                           Pesca e Aquicultura       0.67      0.73      0.70        11\n",
      "                                  Controladoria-Geral da União       0.24      0.30      0.27        57\n",
      "                                                        Outros       0.38      0.27      0.32        11\n",
      "                                       Segurança Institucional       0.50      0.50      0.50        12\n",
      "                                                 Banco Central       0.22      0.17      0.19        12\n",
      "                                           Portos e Aeroportos       0.42      0.42      0.42        12\n",
      "                                      Advocacia-Geral da União       0.82      0.90      0.86        10\n",
      "                                           Relações Exteriores       1.00      0.64      0.78        11\n",
      "\n",
      "                                                      accuracy                           0.58      1762\n",
      "                                                     macro avg       0.52      0.52      0.51      1762\n",
      "                                                  weighted avg       0.59      0.58      0.58      1762\n",
      "\n"
     ]
    }
   ],
   "source": [
    "print(classification_report(y_test, y_pred_test,target_names=target_names))"
   ]
  },
  {
   "cell_type": "code",
   "execution_count": 31,
   "id": "64e1f8fb-58d9-4ab0-8057-a33acd867665",
   "metadata": {},
   "outputs": [
    {
     "data": {
      "text/plain": [
       "Categoria\n",
       "Saúde                                                             1368\n",
       "Educação                                                          1261\n",
       "Direitos Humanos e Cidadania                                       528\n",
       "Meio Ambiente e Mudança do Clima                                   497\n",
       "Transportes                                                        473\n",
       "Desenvolvimento e Assistência Social, Família e Combate à Fome     418\n",
       "Trabalho e Emprego                                                 377\n",
       "Justiça e Segurança Pública                                        342\n",
       "Cidades                                                            294\n",
       "Gestão e Inovação em Serviços Públicos                             284\n",
       "Desenvolvimento Agrário e Agricultura Familiar                     255\n",
       "Previdência Social                                                 249\n",
       "Cultura                                                            224\n",
       "Mulheres                                                           187\n",
       "Ciência, Tecnologia e Inovação                                     158\n",
       "Fazenda                                                            132\n",
       "Planejamento e Orçamento                                           125\n",
       "Turismo                                                            122\n",
       "Desenvolvimento, Indústria, Comércio e Serviços                    116\n",
       "Integração e Desenvolvimento Regional                              110\n",
       "Agricultura e Pecuária                                             103\n",
       "Minas e Energia                                                     99\n",
       "Igualdade Racial                                                    92\n",
       "Secretaria Geral da Presidência da República                        92\n",
       "Esporte                                                             90\n",
       "Casa Civil                                                          77\n",
       "Comunicações                                                        65\n",
       "Relações Institucionais                                             62\n",
       "Defesa                                                              60\n",
       "Comunicação Social                                                  58\n",
       "Pesca e Aquicultura                                                 57\n",
       "Povos Indígenas                                                     56\n",
       "Controladoria-Geral da União                                        55\n",
       "Segurança Institucional                                             55\n",
       "Banco Central                                                       55\n",
       "Outros                                                              54\n",
       "Relações Exteriores                                                 54\n",
       "Advocacia-Geral da União                                            53\n",
       "Portos e Aeroportos                                                 50\n",
       "Name: count, dtype: int64"
      ]
     },
     "execution_count": 31,
     "metadata": {},
     "output_type": "execute_result"
    }
   ],
   "source": [
    "propostas['Categoria'].value_counts()"
   ]
  },
  {
   "cell_type": "markdown",
   "id": "d89cbc27",
   "metadata": {
    "jp-MarkdownHeadingCollapsed": true
   },
   "source": [
    "## Decision Tree Classifier"
   ]
  },
  {
   "cell_type": "code",
   "execution_count": 32,
   "id": "e9492a6f",
   "metadata": {},
   "outputs": [
    {
     "name": "stdout",
     "output_type": "stream",
     "text": [
      "CPU times: user 40.1 s, sys: 323 ms, total: 40.5 s\n",
      "Wall time: 40.2 s\n",
      "\n",
      "Training Accuracy score: 0.9957416607523066\n",
      "Testing Accuracy score: 0.40068104426787743\n"
     ]
    }
   ],
   "source": [
    "from sklearn.tree import DecisionTreeClassifier\n",
    "\n",
    "dt = DecisionTreeClassifier(random_state=SEED)\n",
    "%time dt.fit(X_train, y_train)\n",
    "\n",
    "y_pred_train = dt.predict(X_train)\n",
    "y_pred_test = dt.predict(X_test)\n",
    "print(\"\\nTraining Accuracy score:\",accuracy_score(y_train, y_pred_train))\n",
    "print(\"Testing Accuracy score:\",accuracy_score(y_test, y_pred_test))"
   ]
  },
  {
   "cell_type": "code",
   "execution_count": 33,
   "id": "a77c8e90",
   "metadata": {},
   "outputs": [
    {
     "name": "stdout",
     "output_type": "stream",
     "text": [
      "                                                                precision    recall  f1-score   support\n",
      "\n",
      "                                                         Saúde       0.63      0.50      0.56        24\n",
      "                                                      Educação       0.27      0.25      0.26        51\n",
      "                                  Direitos Humanos e Cidadania       0.10      0.14      0.12        21\n",
      "                              Meio Ambiente e Mudança do Clima       0.60      0.60      0.60       274\n",
      "                                                   Transportes       0.11      0.08      0.09        13\n",
      "Desenvolvimento e Assistência Social, Família e Combate à Fome       0.21      0.19      0.20        84\n",
      "                                            Trabalho e Emprego       0.47      0.35      0.40        20\n",
      "                                   Justiça e Segurança Pública       0.21      0.19      0.20        75\n",
      "                                                       Cidades       0.46      0.49      0.47        68\n",
      "                        Gestão e Inovação em Serviços Públicos       0.29      0.22      0.25        18\n",
      "                Desenvolvimento Agrário e Agricultura Familiar       0.21      0.24      0.22       106\n",
      "                                            Previdência Social       0.29      0.19      0.23        26\n",
      "                                                       Cultura       0.62      0.45      0.53        11\n",
      "                                                      Mulheres       0.25      0.19      0.21        32\n",
      "                                Ciência, Tecnologia e Inovação       0.20      0.22      0.21        23\n",
      "                                                       Fazenda       0.62      0.69      0.65       252\n",
      "                                      Planejamento e Orçamento       0.35      0.35      0.35        37\n",
      "                                                       Turismo       0.40      0.42      0.41        45\n",
      "               Desenvolvimento, Indústria, Comércio e Serviços       0.22      0.29      0.25        59\n",
      "                         Integração e Desenvolvimento Regional       0.36      0.36      0.36        11\n",
      "                                        Agricultura e Pecuária       0.25      0.17      0.20        18\n",
      "                                               Minas e Energia       0.18      0.17      0.17        18\n",
      "                                              Igualdade Racial       0.42      0.44      0.43       100\n",
      "                  Secretaria Geral da Presidência da República       0.60      0.40      0.48        15\n",
      "                                                       Esporte       0.00      0.00      0.00        11\n",
      "                                                    Casa Civil       0.50      0.53      0.51        95\n",
      "                                                        Defesa       0.41      0.50      0.45        50\n",
      "                                                  Comunicações       0.09      0.09      0.09        22\n",
      "                                            Comunicação Social       0.00      0.00      0.00        25\n",
      "                                       Relações Institucionais       0.50      0.36      0.42        11\n",
      "                                               Povos Indígenas       0.75      0.55      0.63        11\n",
      "                                           Pesca e Aquicultura       0.20      0.18      0.19        11\n",
      "                                  Controladoria-Geral da União       0.15      0.12      0.13        57\n",
      "                                                        Outros       0.00      0.00      0.00        11\n",
      "                                       Segurança Institucional       0.22      0.17      0.19        12\n",
      "                                                 Banco Central       0.00      0.00      0.00        12\n",
      "                                           Portos e Aeroportos       0.38      0.25      0.30        12\n",
      "                                      Advocacia-Geral da União       0.25      0.20      0.22        10\n",
      "                                           Relações Exteriores       1.00      0.64      0.78        11\n",
      "\n",
      "                                                      accuracy                           0.40      1762\n",
      "                                                     macro avg       0.33      0.29      0.30      1762\n",
      "                                                  weighted avg       0.40      0.40      0.40      1762\n",
      "\n"
     ]
    }
   ],
   "source": [
    "print(classification_report(y_test, y_pred_test,target_names=target_names))"
   ]
  },
  {
   "cell_type": "markdown",
   "id": "e947a7d7",
   "metadata": {},
   "source": [
    "## Ensembling"
   ]
  },
  {
   "cell_type": "code",
   "execution_count": 34,
   "id": "55ced083",
   "metadata": {},
   "outputs": [
    {
     "name": "stdout",
     "output_type": "stream",
     "text": [
      "Training Accuracy score: 0.9892122072391767\n",
      "Testing Accuracy score: 0.49432463110102154\n"
     ]
    }
   ],
   "source": [
    "from sklearn.ensemble import VotingClassifier\n",
    "\n",
    "classifiers = [('Decision Tree', dt),\n",
    "               ('Logistic Regression', lr),\n",
    "                ('Naive Bayes', gnb)\n",
    "              ]\n",
    "vc = VotingClassifier(estimators=classifiers)\n",
    "# Fit 'vc' to the traing set and predict test set labels\n",
    "vc.fit(X_train, y_train)\n",
    "y_pred_train=vc.predict(X_train)\n",
    "y_pred_test = vc.predict(X_test)\n",
    "print(\"Training Accuracy score:\",accuracy_score(y_train, y_pred_train))\n",
    "print(\"Testing Accuracy score:\",accuracy_score(y_test, y_pred_test))"
   ]
  },
  {
   "cell_type": "code",
   "execution_count": 35,
   "id": "65bdbfb6",
   "metadata": {},
   "outputs": [
    {
     "name": "stdout",
     "output_type": "stream",
     "text": [
      "                                                                precision    recall  f1-score   support\n",
      "\n",
      "                                                         Saúde       0.72      0.54      0.62        24\n",
      "                                                      Educação       0.43      0.69      0.53        51\n",
      "                                  Direitos Humanos e Cidadania       0.25      0.24      0.24        21\n",
      "                              Meio Ambiente e Mudança do Clima       0.42      0.86      0.56       274\n",
      "                                                   Transportes       0.50      0.08      0.13        13\n",
      "Desenvolvimento e Assistência Social, Família e Combate à Fome       0.29      0.27      0.28        84\n",
      "                                            Trabalho e Emprego       0.67      0.40      0.50        20\n",
      "                                   Justiça e Segurança Pública       0.34      0.31      0.32        75\n",
      "                                                       Cidades       0.52      0.51      0.52        68\n",
      "                        Gestão e Inovação em Serviços Públicos       0.00      0.00      0.00        18\n",
      "                Desenvolvimento Agrário e Agricultura Familiar       0.28      0.26      0.27       106\n",
      "                                            Previdência Social       0.67      0.23      0.34        26\n",
      "                                                       Cultura       0.40      0.18      0.25        11\n",
      "                                                      Mulheres       0.50      0.22      0.30        32\n",
      "                                Ciência, Tecnologia e Inovação       0.00      0.00      0.00        23\n",
      "                                                       Fazenda       0.59      0.83      0.69       252\n",
      "                                      Planejamento e Orçamento       0.50      0.19      0.27        37\n",
      "                                                       Turismo       0.66      0.42      0.51        45\n",
      "               Desenvolvimento, Indústria, Comércio e Serviços       0.58      0.25      0.35        59\n",
      "                         Integração e Desenvolvimento Regional       1.00      0.36      0.53        11\n",
      "                                        Agricultura e Pecuária       0.33      0.06      0.10        18\n",
      "                                               Minas e Energia       0.50      0.06      0.10        18\n",
      "                                              Igualdade Racial       0.59      0.60      0.59       100\n",
      "                  Secretaria Geral da Presidência da República       1.00      0.33      0.50        15\n",
      "                                                       Esporte       0.00      0.00      0.00        11\n",
      "                                                    Casa Civil       0.68      0.75      0.71        95\n",
      "                                                        Defesa       0.77      0.48      0.59        50\n",
      "                                                  Comunicações       0.00      0.00      0.00        22\n",
      "                                            Comunicação Social       0.00      0.00      0.00        25\n",
      "                                       Relações Institucionais       0.80      0.36      0.50        11\n",
      "                                               Povos Indígenas       1.00      0.27      0.43        11\n",
      "                                           Pesca e Aquicultura       0.50      0.09      0.15        11\n",
      "                                  Controladoria-Geral da União       0.67      0.21      0.32        57\n",
      "                                                        Outros       0.00      0.00      0.00        11\n",
      "                                       Segurança Institucional       1.00      0.17      0.29        12\n",
      "                                                 Banco Central       0.00      0.00      0.00        12\n",
      "                                           Portos e Aeroportos       0.00      0.00      0.00        12\n",
      "                                      Advocacia-Geral da União       1.00      0.30      0.46        10\n",
      "                                           Relações Exteriores       1.00      0.64      0.78        11\n",
      "\n",
      "                                                      accuracy                           0.49      1762\n",
      "                                                     macro avg       0.49      0.29      0.33      1762\n",
      "                                                  weighted avg       0.49      0.49      0.45      1762\n",
      "\n"
     ]
    }
   ],
   "source": [
    "print(classification_report(y_test, y_pred_test,target_names=target_names))"
   ]
  },
  {
   "cell_type": "code",
   "execution_count": 36,
   "id": "d0e04610",
   "metadata": {},
   "outputs": [
    {
     "ename": "",
     "evalue": "",
     "output_type": "error",
     "traceback": [
      "\u001b[1;31mO Kernel falhou ao executar o código na célula atual ou em uma célula anterior. Examine o código nas células para identificar uma possível causa da falha. Clique <a href=\"https://aka.ms/vscodeJupyterKernelCrash\">aqui</a> para obter mais informações. Consulte o <a href='command:jupyter.viewOutput'>log</a> do Jupyter para obter mais detalhes."
     ]
    }
   ],
   "source": [
    "predictions = pd.Series(vc.predict(X), name=\"Categoria\")\n",
    "results = pd.concat([predictions],axis=1)\n",
    "results.to_csv(\"novas_propostas_resultado.csv\",index=False)"
   ]
  },
  {
   "cell_type": "code",
   "execution_count": null,
   "id": "0b900e55",
   "metadata": {},
   "outputs": [],
   "source": [
    "categorias_interesse = ['Relações Exteriores', 'Pesca e Aquicultura', 'Povos Indígenas', 'Secretaria Geral da Presidência da República']\n",
    "\n",
    "sem_performance = propostas[propostas['Categoria'].isin(categorias_interesse)]\n"
   ]
  },
  {
   "cell_type": "code",
   "execution_count": null,
   "id": "b22e7400",
   "metadata": {},
   "outputs": [],
   "source": [
    "# Salvando o dataframe filtrado em um novo CSV\n",
    "sem_performance.to_csv('sem_performance.csv', index=False)"
   ]
  },
  {
   "cell_type": "code",
   "execution_count": null,
   "id": "3d187632",
   "metadata": {},
   "outputs": [],
   "source": []
  }
 ],
 "metadata": {
  "kernelspec": {
   "display_name": "Python 3 (ipykernel)",
   "language": "python",
   "name": "python3"
  },
  "language_info": {
   "codemirror_mode": {
    "name": "ipython",
    "version": 3
   },
   "file_extension": ".py",
   "mimetype": "text/x-python",
   "name": "python",
   "nbconvert_exporter": "python",
   "pygments_lexer": "ipython3",
   "version": "3.10.12"
  }
 },
 "nbformat": 4,
 "nbformat_minor": 5
}

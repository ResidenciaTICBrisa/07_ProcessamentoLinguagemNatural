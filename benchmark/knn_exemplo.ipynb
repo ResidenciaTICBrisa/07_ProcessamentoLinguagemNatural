{
 "cells": [
  {
   "cell_type": "markdown",
   "id": "56818787",
   "metadata": {},
   "source": [
    "Conteudos iniciais para o entendimento do Kvizinhos mais proximos:\n",
    "https://www.youtube.com/watch?v=DeAuVrhKw58\n",
    "https://aprenderdatascience.com/k-vizinhos-mais-proximos-knn/"
   ]
  },
  {
   "cell_type": "markdown",
   "id": "68fd7230",
   "metadata": {},
   "source": [
    " classificar avaliações de filmes em duas categorias: \"positivo\" ou \"negativo\" com base no conteúdo do texto."
   ]
  },
  {
   "cell_type": "markdown",
   "id": "43ac10d6",
   "metadata": {},
   "source": [
    "1: Preparação dos dados\n",
    "Vamos começar preparando um conjunto de dados de treinamento com algumas avaliações de filmes já rotuladas:"
   ]
  },
  {
   "cell_type": "code",
   "execution_count": 1,
   "id": "bcc2f35b",
   "metadata": {},
   "outputs": [],
   "source": [
    "# Conjunto de dados de treinamento\n",
    "dados_treinamento = [\n",
    "    (\"Este filme é maravilhoso, amei!\", \"positivo\"),\n",
    "    (\"Que decepção, filme terrível.\", \"negativo\"),\n",
    "    (\"Uma história envolvente e emocionante.\", \"positivo\"),\n",
    "    (\"Não recomendo, perda de tempo.\", \"negativo\"),\n",
    "    (\"Ótimo filme, vale cada centavo.\", \"positivo\"),\n",
    "    (\"O pior filme que já vi na vida.\", \"negativo\")\n",
    "]\n",
    "\n",
    "# Novos dados que queremos classificar\n",
    "novo_texto = \"Adorei a atuação dos atores!\"\n"
   ]
  },
  {
   "cell_type": "markdown",
   "id": "d0fa4359",
   "metadata": {},
   "source": [
    "2: Pré-processamento do texto\n",
    "Antes de usar o KNN, é necessário pré-processar o texto para transformá-lo em um formato adequado para análise. Neste exemplo, vamos remover pontuações, transformar todas as palavras em minúsculas e dividir o texto em palavras (tokenização).Aqui podemos usar o spacy para essa etapa"
   ]
  },
  {
   "cell_type": "code",
   "execution_count": 5,
   "id": "f8c7db8f",
   "metadata": {},
   "outputs": [
    {
     "name": "stdout",
     "output_type": "stream",
     "text": [
      "['adorei', 'a', 'atuação', 'dos', 'atores']\n"
     ]
    }
   ],
   "source": [
    "import re\n",
    "import string\n",
    "\n",
    "def preprocessamento(texto):\n",
    "    # Remover pontuações\n",
    "    texto = texto.translate(str.maketrans('', '', string.punctuation))\n",
    "    \n",
    "    # Converter para minúsculas\n",
    "    texto = texto.lower()\n",
    "    \n",
    "    # Tokenização (dividir o texto em palavras)\n",
    "    palavras = texto.split()\n",
    "    print(palavras)\n",
    "    \n",
    "    return palavras\n",
    "\n",
    "novo_texto_preprocessado = preprocessamento(novo_texto)"
   ]
  },
  {
   "cell_type": "markdown",
   "id": "73845c35",
   "metadata": {},
   "source": [
    " 3: Cálculo da similaridade e classificação usando KNN\n",
    "Agora, podemos calcular a similaridade entre o novo texto pré-processado e os textos de treinamento usando uma métrica de distância, como a distância Euclidiana ou a distância de cosseno."
   ]
  },
  {
   "cell_type": "code",
   "execution_count": 6,
   "id": "861ce54d",
   "metadata": {},
   "outputs": [
    {
     "name": "stdout",
     "output_type": "stream",
     "text": [
      "['este', 'filme', 'é', 'maravilhoso', 'amei']\n",
      "['que', 'decepção', 'filme', 'terrível']\n",
      "['uma', 'história', 'envolvente', 'e', 'emocionante']\n",
      "['não', 'recomendo', 'perda', 'de', 'tempo']\n",
      "['ótimo', 'filme', 'vale', 'cada', 'centavo']\n",
      "['o', 'pior', 'filme', 'que', 'já', 'vi', 'na', 'vida']\n",
      "['adorei', 'a', 'atuação', 'dos', 'atores']\n",
      "Texto:  Adorei a atuação dos atores!\n",
      "Classificação:  positivo\n"
     ]
    },
    {
     "name": "stderr",
     "output_type": "stream",
     "text": [
      "/home/joaopedro/.local/lib/python3.10/site-packages/sklearn/feature_extraction/text.py:525: UserWarning: The parameter 'token_pattern' will not be used since 'tokenizer' is not None'\n",
      "  warnings.warn(\n"
     ]
    }
   ],
   "source": [
    "from sklearn.feature_extraction.text import TfidfVectorizer\n",
    "from sklearn.neighbors import KNeighborsClassifier\n",
    "\n",
    "# Separar os textos de treinamento e seus rótulos\n",
    "textos_treinamento, rotulos_treinamento = zip(*dados_treinamento)\n",
    "\n",
    "# Vetorizar os textos usando TF-IDF\n",
    "vectorizer = TfidfVectorizer(tokenizer=preprocessamento)\n",
    "X_treinamento = vectorizer.fit_transform(textos_treinamento)\n",
    "\n",
    "# Vetorizar o novo texto\n",
    "novo_texto_vetorizado = vectorizer.transform([novo_texto])\n",
    "\n",
    "# Definir o valor de K (número de vizinhos mais próximos)\n",
    "k = 3\n",
    "\n",
    "# Criar o modelo KNN\n",
    "modelo_knn = KNeighborsClassifier(n_neighbors=k)\n",
    "\n",
    "# Treinar o modelo com os dados de treinamento\n",
    "modelo_knn.fit(X_treinamento, rotulos_treinamento)\n",
    "\n",
    "# Prever a classe do novo texto\n",
    "resultado = modelo_knn.predict(novo_texto_vetorizado)\n",
    "\n",
    "print(\"Texto: \", novo_texto)\n",
    "print(\"Classificação: \", resultado[0])\n"
   ]
  },
  {
   "cell_type": "code",
   "execution_count": null,
   "id": "b01ee70f",
   "metadata": {},
   "outputs": [],
   "source": []
  }
 ],
 "metadata": {
  "kernelspec": {
   "display_name": "Python 3 (ipykernel)",
   "language": "python",
   "name": "python3"
  },
  "language_info": {
   "codemirror_mode": {
    "name": "ipython",
    "version": 3
   },
   "file_extension": ".py",
   "mimetype": "text/x-python",
   "name": "python",
   "nbconvert_exporter": "python",
   "pygments_lexer": "ipython3",
   "version": "3.10.6"
  }
 },
 "nbformat": 4,
 "nbformat_minor": 5
}

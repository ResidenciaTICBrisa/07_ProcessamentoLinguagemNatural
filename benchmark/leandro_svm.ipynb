{
 "cells": [
  {
   "cell_type": "markdown",
   "id": "fbdd3ca8",
   "metadata": {},
   "source": [
    "# Support Vector Machine (SVM)"
   ]
  },
  {
   "cell_type": "code",
   "execution_count": null,
   "id": "54fabeed",
   "metadata": {},
   "outputs": [],
   "source": [
    "import pandas as pd\n",
    "import string\n",
    "import re\n",
    "import spacy\n",
    "from unidecode import unidecode\n",
    "\n",
    "from sklearn.feature_extraction.text import CountVectorizer\n",
    "from sklearn.svm import SVC\n"
   ]
  },
  {
   "cell_type": "markdown",
   "id": "9619ab69",
   "metadata": {},
   "source": [
    "### Função para pré-processamento:\n",
    "- Transformam todos os caracteres em minusculas;\n",
    "- Remove as acentuações\n",
    "- Remove as pontuações\n",
    "- Remove números"
   ]
  },
  {
   "cell_type": "code",
   "execution_count": null,
   "id": "c9749448",
   "metadata": {},
   "outputs": [],
   "source": [
    "def cleaner(texto):\n",
    "        texto = unidecode(texto)\n",
    "        texto = texto.lower()\n",
    "        texto = texto.translate(str.maketrans('','', string.punctuation))\n",
    "        texto = re.sub(r'[0-9]+', '', texto)\n",
    "        return texto"
   ]
  },
  {
   "cell_type": "code",
   "execution_count": null,
   "id": "bf015d49",
   "metadata": {},
   "outputs": [],
   "source": [
    "df = pd.read_json('../model/News_Category_Dataset_v3.json', lines=True)\n",
    "df.head()"
   ]
  },
  {
   "cell_type": "markdown",
   "id": "605caa8a",
   "metadata": {},
   "source": [
    "### Preparando a tabela para o treinamento:\n",
    "- Junção das tabelas 'headline' e 'short_cription'\n",
    "- Remoçao das tabelas 'link', 'authors', 'date', 'headline', 'short_description'\n",
    "- Com a função cleaner limpamos a tabela"
   ]
  },
  {
   "cell_type": "code",
   "execution_count": null,
   "id": "88293062",
   "metadata": {},
   "outputs": [],
   "source": [
    "df.insert(loc=0, column= 'description', value= df['headline'] + df['short_description'])\n",
    "df = df.drop(columns=['link', 'authors', 'date', 'headline', 'short_description'])\n",
    "df['description'] = df['description'].apply(cleaner)\n",
    "df.head()"
   ]
  },
  {
   "cell_type": "markdown",
   "id": "03cb0491",
   "metadata": {},
   "source": [
    "### Remoção de Stop Words"
   ]
  },
  {
   "cell_type": "code",
   "execution_count": null,
   "id": "60948c9d",
   "metadata": {},
   "outputs": [],
   "source": [
    "nlp = spacy.load(\"en_core_web_sm\")\n",
    "words = nlp.Defaults.stop_words\n",
    "\n",
    "def stopWords(text):\n",
    "    text = [word for word in text.split() if word not in list(words)]\n",
    "    return ' '.join(text)\n",
    "print(words)\n",
    "df['description'] = df['description'].apply(stopWords)\n",
    "df.head()  "
   ]
  },
  {
   "cell_type": "markdown",
   "id": "41d579a4",
   "metadata": {},
   "source": [
    "### Contagem das palavras"
   ]
  },
  {
   "cell_type": "code",
   "execution_count": null,
   "id": "a004b2ac",
   "metadata": {},
   "outputs": [],
   "source": [
    "vector = CountVectorizer()\n",
    "matriz = vector.fit_transform(df['description'])\n",
    "contagem = pd.DataFrame(matriz)\n",
    "df.insert(loc=2, column= 'counter', value= contagem)\n",
    "df.head() "
   ]
  },
  {
   "cell_type": "code",
   "execution_count": null,
   "id": "9f701e05",
   "metadata": {},
   "outputs": [],
   "source": [
    "df['counter'] = df['description'].apply(lambda text: nlp(text).vector)\n",
    "df.head()"
   ]
  },
  {
   "cell_type": "markdown",
   "id": "e1a88c80",
   "metadata": {},
   "source": [
    "### Algoritmo de treinamento"
   ]
  },
  {
   "cell_type": "code",
   "execution_count": null,
   "id": "a637bf72",
   "metadata": {},
   "outputs": [],
   "source": []
  }
 ],
 "metadata": {
  "kernelspec": {
   "display_name": "Python 3 (ipykernel)",
   "language": "python",
   "name": "python3"
  },
  "language_info": {
   "codemirror_mode": {
    "name": "ipython",
    "version": 3
   },
   "file_extension": ".py",
   "mimetype": "text/x-python",
   "name": "python",
   "nbconvert_exporter": "python",
   "pygments_lexer": "ipython3",
   "version": "3.10.6"
  }
 },
 "nbformat": 4,
 "nbformat_minor": 5
}

{
 "cells": [
  {
   "attachments": {},
   "cell_type": "markdown",
   "metadata": {},
   "source": [
    "<h1 style=\"font-size:3.2rem;color:#1351b4; text-align:center;\">Pipeline de Classificação de Propostas</h1>\n",
    "\n",
    "A plataforma do [Brasil Participativo](https://brasilparticipativo.presidencia.gov.br/processes/programas/f/2/) é uma nova aplicação digital do governo federal, software livre Decidim e um espaço para que a população possa contribuir na elaboração e votação de propostas para melhorar o serviço e definição de políticas públicas.\n",
    "\n",
    "Por ser uma plataforma recente, ela não possui indexação automática das propostas. Isto é, não possui uma forma de categorização automatizada das propostas e o volume de propostas cadastradas até então já despende um esforço humano manual considerável. Então, o foco deste projeto é fazer uma análise das propostas por meio de processamento de linguagem natural (PLN) e automatizar esse processo de categorização. \n",
    "\n",
    "A partir disso, o modelo MVP (produto com mínima viabilidade) definido junto com o cliente é um sistema classificador/categorizador das propostas publicadas na plataforma, sendo as categorias baseadas nos Ministérios do Brasil (cerca de 40 categorias). Uma outra forma de categorização, baseada no tópico principal da proposta, também foi considerado e ainda é um trabalho em progresso. Além disso, foi cogitado também a adição complementar de um classificador de discurso de ódio ao pipeline do sistema, que também está em discussão.\n",
    "\n",
    "Mais detalhes sobre o MVP do sistema abaixo."
   ]
  },
  {
   "attachments": {},
   "cell_type": "markdown",
   "metadata": {},
   "source": [
    "<div style=\"border: thin dotted yellow; border-radius: 8px; padding-top: 15px; padding-bottom: 15px;\">\n",
    "Este Notebook consiste na apresentação do pipeline de desenvolvimento do projeto para o cliente.\n",
    "\n",
    "<img style=\"float:left; margin: 0px 20px 5px 20px;\" alt=\"Work in Progress\" src=\"https://cdn-icons-png.flaticon.com/512/5578/5578703.png\" width=80 height=75>\n",
    "\n",
    "Até então, se trata de um projeto MVP, ou seja, primeira versão de modelo. Conforme a finalização dos procedimentos no repositório do GitHub, as novas informações estão sendo incrementadas ao documento. Ao final, o Notebook completo entrará como documento oficial do pipeline.\n",
    "</div>"
   ]
  },
  {
   "attachments": {},
   "cell_type": "markdown",
   "metadata": {},
   "source": [
    "<a id='1'></a><h2 style=\"padding:10px;background:#1351b4;margin:10;color:white;font-size:3rem;text-align:center;border-radius: 1px 1px;overflow:hidden;font-weight:100\">Sumário</h2>"
   ]
  },
  {
   "attachments": {},
   "cell_type": "markdown",
   "metadata": {},
   "source": [
    "- [Extração dos dados](#data-extraction)\n",
    "- [Pré-processamento textual](#pre-processing)\n",
    "- [Treinamento do modelo](#training-model)\n",
    "- [Utilização](#how-to-use)"
   ]
  },
  {
   "attachments": {},
   "cell_type": "markdown",
   "metadata": {},
   "source": [
    "<a id='data-extraction'></a><h2 style=\"padding:10px;background:#1351b4;margin:10;color:white;font-size:3rem;text-align:center;border-radius: 1px 1px;overflow:hidden;font-weight:100\">Extração dos Dados</h2>"
   ]
  },
  {
   "attachments": {},
   "cell_type": "markdown",
   "metadata": {},
   "source": [
    "A primeira etapa para o desenvolvimento do projeto é a extração dos dados. Nesta etapa é onde os dados das propostas são baixados da plataforma e o foco é garantir que os dados vazios ou repetidos não sejam repassados para próxima etapa.\n",
    "\n",
    "A elaboração de novas propostas foram encerradas temporariamente no dia 16 de julho de 2023, junto com o Plano Plurianual ([PPA](https://www.gov.br/economia/pt-br/assuntos/planejamento-e-orcamento/plano-plurianual-ppa)) para o planejamento orçamentário do governo, delimitando uma base de dados de **8438 propostas**. Apesar da quantia ser considerável, ainda é pequena para o treinamento de um algoritmo classificador de propostas, dada a quantidade de categorias existentes e tendo em vista a desproporção de propostas por categoria."
   ]
  },
  {
   "cell_type": "markdown",
   "metadata": {},
   "source": [
    "Os dados estão disponibilizados no rodapé do site, conforme a imagem abaixo, no link \"Baixar arquivos de Dados Abertos\". Os arquivos com os dados das propostas (em formato `csv`) estão compactados e necessitam ser extraídos.\n",
    "\n",
    "<img style=\"display:block; margin-left:auto; margin-right:auto;\" src=\"assets/Screenshot from 2023-07-24 09-06-18.png\" alt=\"Screenshot\" width=864 height=486>"
   ]
  },
  {
   "attachments": {},
   "cell_type": "markdown",
   "metadata": {},
   "source": [
    "<h3 style=\"font-size:1.5rem;\">Importação das bibliotecas</h3>"
   ]
  },
  {
   "cell_type": "code",
   "execution_count": 1,
   "metadata": {},
   "outputs": [],
   "source": [
    "import pandas as pd\n",
    "import os, re, io\n",
    "import requests\n",
    "import zipfile"
   ]
  },
  {
   "attachments": {},
   "cell_type": "markdown",
   "metadata": {},
   "source": [
    "Essas serão algumas das bibliotecas utilizadas no algoritmo. Dentre delas, o uso da biblioteca Pandas responsável por manipular os dados em um DataFrame e remover as colunas e linhas vazias.\n",
    "\n",
    "As outra bibliotecas são usadas como recursos que serão esclarecidos no decorrer do pipeline. "
   ]
  },
  {
   "cell_type": "markdown",
   "metadata": {},
   "source": [
    "<h3 style=\"font-size:1.5rem;\">Baixando <i>dataset</i></h3>"
   ]
  },
  {
   "cell_type": "code",
   "execution_count": 2,
   "metadata": {},
   "outputs": [
    {
     "name": "stdout",
     "output_type": "stream",
     "text": [
      "Acesso realizado com sucesso!\n"
     ]
    }
   ],
   "source": [
    "# Requisição ao site através do link para receber o dataset\n",
    "url = \"https://brasilparticipativo.presidencia.gov.br/open-data/download\"\n",
    "res = requests.get(url)\n",
    "if res.status_code == 200:\n",
    "    print(\"Acesso realizado com sucesso!\")\n",
    "else: \n",
    "    print(\"Falha no acesso ao arquivo zip!\")"
   ]
  },
  {
   "cell_type": "markdown",
   "metadata": {},
   "source": [
    "A biblioteca Requests é utilizada para realizar uma requisição GET no link e receber o arquivo `zip`."
   ]
  },
  {
   "attachments": {},
   "cell_type": "markdown",
   "metadata": {},
   "source": [
    "<h3 style=\"font-size:1.5rem;\">Extração do arquivo</h3>"
   ]
  },
  {
   "cell_type": "code",
   "execution_count": 3,
   "metadata": {},
   "outputs": [],
   "source": [
    "# Extrai o arquivo zip do brasil participativo\n",
    "with zipfile.ZipFile(io.BytesIO(res.content), 'r') as zip_ref:\n",
    "    for arquivo in zip_ref.namelist():\n",
    "        if arquivo.endswith('brasilparticipativo.presidencia.gov.br-open-data-proposals.csv'):\n",
    "            zip_ref.extract(arquivo, 'data_extraction')\n",
    "            break"
   ]
  },
  {
   "attachments": {},
   "cell_type": "markdown",
   "metadata": {},
   "source": [
    "O `zip` contém vários arquivos, porém busca-se extrair o `csv` que contém os dados das propostas e categorias com a biblioteca ZipFile."
   ]
  },
  {
   "attachments": {},
   "cell_type": "markdown",
   "metadata": {},
   "source": [
    "<h3 style=\"font-size:1.5rem;\">Leitura das propostas</h3>"
   ]
  },
  {
   "cell_type": "code",
   "execution_count": 4,
   "metadata": {},
   "outputs": [
    {
     "data": {
      "text/html": [
       "<div>\n",
       "<style scoped>\n",
       "    .dataframe tbody tr th:only-of-type {\n",
       "        vertical-align: middle;\n",
       "    }\n",
       "\n",
       "    .dataframe tbody tr th {\n",
       "        vertical-align: top;\n",
       "    }\n",
       "\n",
       "    .dataframe thead th {\n",
       "        text-align: right;\n",
       "    }\n",
       "</style>\n",
       "<table border=\"1\" class=\"dataframe\">\n",
       "  <thead>\n",
       "    <tr style=\"text-align: right;\">\n",
       "      <th></th>\n",
       "      <th>id</th>\n",
       "      <th>category/id</th>\n",
       "      <th>category/name/pt-BR</th>\n",
       "      <th>scope/id</th>\n",
       "      <th>scope/name/en</th>\n",
       "      <th>scope/name/pt-BR</th>\n",
       "      <th>participatory_space/id</th>\n",
       "      <th>participatory_space/url</th>\n",
       "      <th>component/id</th>\n",
       "      <th>title/pt-BR</th>\n",
       "      <th>...</th>\n",
       "      <th>attachments</th>\n",
       "      <th>followers</th>\n",
       "      <th>published_at</th>\n",
       "      <th>url</th>\n",
       "      <th>meeting_urls</th>\n",
       "      <th>related_proposals</th>\n",
       "      <th>is_amend</th>\n",
       "      <th>original_proposal/title</th>\n",
       "      <th>original_proposal/url</th>\n",
       "      <th>category/name/en</th>\n",
       "    </tr>\n",
       "  </thead>\n",
       "  <tbody>\n",
       "    <tr>\n",
       "      <th>0</th>\n",
       "      <td>1</td>\n",
       "      <td>30.0</td>\n",
       "      <td>Turismo</td>\n",
       "      <td>NaN</td>\n",
       "      <td>NaN</td>\n",
       "      <td>NaN</td>\n",
       "      <td>1</td>\n",
       "      <td>http://brasilparticipativo.presidencia.gov.br/...</td>\n",
       "      <td>1</td>\n",
       "      <td>Turismo: esse é o Destino</td>\n",
       "      <td>...</td>\n",
       "      <td>1</td>\n",
       "      <td>1</td>\n",
       "      <td>2023-05-10 10:03:41 -0300</td>\n",
       "      <td>http://brasilparticipativo.presidencia.gov.br/...</td>\n",
       "      <td>NaN</td>\n",
       "      <td>NaN</td>\n",
       "      <td>False</td>\n",
       "      <td>NaN</td>\n",
       "      <td>NaN</td>\n",
       "      <td>NaN</td>\n",
       "    </tr>\n",
       "    <tr>\n",
       "      <th>1</th>\n",
       "      <td>8</td>\n",
       "      <td>31.0</td>\n",
       "      <td>Desenvolvimento Agrário e Agricultura Familiar</td>\n",
       "      <td>NaN</td>\n",
       "      <td>NaN</td>\n",
       "      <td>NaN</td>\n",
       "      <td>1</td>\n",
       "      <td>http://brasilparticipativo.presidencia.gov.br/...</td>\n",
       "      <td>1</td>\n",
       "      <td>Agricultura Familiar e Agroecologia</td>\n",
       "      <td>...</td>\n",
       "      <td>1</td>\n",
       "      <td>0</td>\n",
       "      <td>2023-05-10 16:22:51 -0300</td>\n",
       "      <td>http://brasilparticipativo.presidencia.gov.br/...</td>\n",
       "      <td>NaN</td>\n",
       "      <td>NaN</td>\n",
       "      <td>False</td>\n",
       "      <td>NaN</td>\n",
       "      <td>NaN</td>\n",
       "      <td>NaN</td>\n",
       "    </tr>\n",
       "    <tr>\n",
       "      <th>2</th>\n",
       "      <td>9</td>\n",
       "      <td>1.0</td>\n",
       "      <td>Agricultura e Pecuária</td>\n",
       "      <td>NaN</td>\n",
       "      <td>NaN</td>\n",
       "      <td>NaN</td>\n",
       "      <td>1</td>\n",
       "      <td>http://brasilparticipativo.presidencia.gov.br/...</td>\n",
       "      <td>1</td>\n",
       "      <td>Agropecuária Sustentável</td>\n",
       "      <td>...</td>\n",
       "      <td>1</td>\n",
       "      <td>0</td>\n",
       "      <td>2023-05-10 16:35:47 -0300</td>\n",
       "      <td>http://brasilparticipativo.presidencia.gov.br/...</td>\n",
       "      <td>NaN</td>\n",
       "      <td>NaN</td>\n",
       "      <td>False</td>\n",
       "      <td>NaN</td>\n",
       "      <td>NaN</td>\n",
       "      <td>NaN</td>\n",
       "    </tr>\n",
       "    <tr>\n",
       "      <th>3</th>\n",
       "      <td>10</td>\n",
       "      <td>27.0</td>\n",
       "      <td>Saúde</td>\n",
       "      <td>NaN</td>\n",
       "      <td>NaN</td>\n",
       "      <td>NaN</td>\n",
       "      <td>1</td>\n",
       "      <td>http://brasilparticipativo.presidencia.gov.br/...</td>\n",
       "      <td>1</td>\n",
       "      <td>Atenção Primária à Saúde</td>\n",
       "      <td>...</td>\n",
       "      <td>1</td>\n",
       "      <td>513</td>\n",
       "      <td>2023-05-10 16:42:43 -0300</td>\n",
       "      <td>http://brasilparticipativo.presidencia.gov.br/...</td>\n",
       "      <td>NaN</td>\n",
       "      <td>NaN</td>\n",
       "      <td>False</td>\n",
       "      <td>NaN</td>\n",
       "      <td>NaN</td>\n",
       "      <td>NaN</td>\n",
       "    </tr>\n",
       "    <tr>\n",
       "      <th>4</th>\n",
       "      <td>11</td>\n",
       "      <td>27.0</td>\n",
       "      <td>Saúde</td>\n",
       "      <td>NaN</td>\n",
       "      <td>NaN</td>\n",
       "      <td>NaN</td>\n",
       "      <td>1</td>\n",
       "      <td>http://brasilparticipativo.presidencia.gov.br/...</td>\n",
       "      <td>1</td>\n",
       "      <td>Atenção Especializada à Saúde</td>\n",
       "      <td>...</td>\n",
       "      <td>1</td>\n",
       "      <td>383</td>\n",
       "      <td>2023-05-10 16:41:01 -0300</td>\n",
       "      <td>http://brasilparticipativo.presidencia.gov.br/...</td>\n",
       "      <td>NaN</td>\n",
       "      <td>NaN</td>\n",
       "      <td>False</td>\n",
       "      <td>NaN</td>\n",
       "      <td>NaN</td>\n",
       "      <td>NaN</td>\n",
       "    </tr>\n",
       "    <tr>\n",
       "      <th>...</th>\n",
       "      <td>...</td>\n",
       "      <td>...</td>\n",
       "      <td>...</td>\n",
       "      <td>...</td>\n",
       "      <td>...</td>\n",
       "      <td>...</td>\n",
       "      <td>...</td>\n",
       "      <td>...</td>\n",
       "      <td>...</td>\n",
       "      <td>...</td>\n",
       "      <td>...</td>\n",
       "      <td>...</td>\n",
       "      <td>...</td>\n",
       "      <td>...</td>\n",
       "      <td>...</td>\n",
       "      <td>...</td>\n",
       "      <td>...</td>\n",
       "      <td>...</td>\n",
       "      <td>...</td>\n",
       "      <td>...</td>\n",
       "      <td>...</td>\n",
       "    </tr>\n",
       "    <tr>\n",
       "      <th>8433</th>\n",
       "      <td>11609</td>\n",
       "      <td>27.0</td>\n",
       "      <td>Saúde</td>\n",
       "      <td>NaN</td>\n",
       "      <td>NaN</td>\n",
       "      <td>NaN</td>\n",
       "      <td>1</td>\n",
       "      <td>http://brasilparticipativo.presidencia.gov.br/...</td>\n",
       "      <td>2</td>\n",
       "      <td>Microchipagem de animais de companhia</td>\n",
       "      <td>...</td>\n",
       "      <td>0</td>\n",
       "      <td>1</td>\n",
       "      <td>2023-07-16 21:54:47 -0300</td>\n",
       "      <td>http://brasilparticipativo.presidencia.gov.br/...</td>\n",
       "      <td>NaN</td>\n",
       "      <td>NaN</td>\n",
       "      <td>False</td>\n",
       "      <td>NaN</td>\n",
       "      <td>NaN</td>\n",
       "      <td>NaN</td>\n",
       "    </tr>\n",
       "    <tr>\n",
       "      <th>8434</th>\n",
       "      <td>11611</td>\n",
       "      <td>43.0</td>\n",
       "      <td>Secretaria Geral da Presidência da República</td>\n",
       "      <td>NaN</td>\n",
       "      <td>NaN</td>\n",
       "      <td>NaN</td>\n",
       "      <td>1</td>\n",
       "      <td>http://brasilparticipativo.presidencia.gov.br/...</td>\n",
       "      <td>2</td>\n",
       "      <td>Direito a atendimento eficiente, é um direito...</td>\n",
       "      <td>...</td>\n",
       "      <td>0</td>\n",
       "      <td>3</td>\n",
       "      <td>2023-07-16 21:58:19 -0300</td>\n",
       "      <td>http://brasilparticipativo.presidencia.gov.br/...</td>\n",
       "      <td>NaN</td>\n",
       "      <td>NaN</td>\n",
       "      <td>False</td>\n",
       "      <td>NaN</td>\n",
       "      <td>NaN</td>\n",
       "      <td>NaN</td>\n",
       "    </tr>\n",
       "    <tr>\n",
       "      <th>8435</th>\n",
       "      <td>11612</td>\n",
       "      <td>25.0</td>\n",
       "      <td>Previdência Social</td>\n",
       "      <td>NaN</td>\n",
       "      <td>NaN</td>\n",
       "      <td>NaN</td>\n",
       "      <td>1</td>\n",
       "      <td>http://brasilparticipativo.presidencia.gov.br/...</td>\n",
       "      <td>2</td>\n",
       "      <td>Rever Reforma da Previdência</td>\n",
       "      <td>...</td>\n",
       "      <td>0</td>\n",
       "      <td>2</td>\n",
       "      <td>2023-07-16 22:02:00 -0300</td>\n",
       "      <td>http://brasilparticipativo.presidencia.gov.br/...</td>\n",
       "      <td>NaN</td>\n",
       "      <td>NaN</td>\n",
       "      <td>False</td>\n",
       "      <td>NaN</td>\n",
       "      <td>NaN</td>\n",
       "      <td>NaN</td>\n",
       "    </tr>\n",
       "    <tr>\n",
       "      <th>8436</th>\n",
       "      <td>11613</td>\n",
       "      <td>16.0</td>\n",
       "      <td>Meio Ambiente e Mudança do Clima</td>\n",
       "      <td>NaN</td>\n",
       "      <td>NaN</td>\n",
       "      <td>NaN</td>\n",
       "      <td>1</td>\n",
       "      <td>http://brasilparticipativo.presidencia.gov.br/...</td>\n",
       "      <td>2</td>\n",
       "      <td>Preservação da Serra do Espinhaço</td>\n",
       "      <td>...</td>\n",
       "      <td>0</td>\n",
       "      <td>1</td>\n",
       "      <td>2023-07-16 22:04:10 -0300</td>\n",
       "      <td>http://brasilparticipativo.presidencia.gov.br/...</td>\n",
       "      <td>NaN</td>\n",
       "      <td>NaN</td>\n",
       "      <td>False</td>\n",
       "      <td>NaN</td>\n",
       "      <td>NaN</td>\n",
       "      <td>NaN</td>\n",
       "    </tr>\n",
       "    <tr>\n",
       "      <th>8437</th>\n",
       "      <td>11619</td>\n",
       "      <td>27.0</td>\n",
       "      <td>Saúde</td>\n",
       "      <td>NaN</td>\n",
       "      <td>NaN</td>\n",
       "      <td>NaN</td>\n",
       "      <td>1</td>\n",
       "      <td>http://brasilparticipativo.presidencia.gov.br/...</td>\n",
       "      <td>2</td>\n",
       "      <td>Piso salarial pra todos.</td>\n",
       "      <td>...</td>\n",
       "      <td>0</td>\n",
       "      <td>3</td>\n",
       "      <td>2023-07-16 22:06:49 -0300</td>\n",
       "      <td>http://brasilparticipativo.presidencia.gov.br/...</td>\n",
       "      <td>NaN</td>\n",
       "      <td>NaN</td>\n",
       "      <td>False</td>\n",
       "      <td>NaN</td>\n",
       "      <td>NaN</td>\n",
       "      <td>NaN</td>\n",
       "    </tr>\n",
       "  </tbody>\n",
       "</table>\n",
       "<p>8438 rows × 32 columns</p>\n",
       "</div>"
      ],
      "text/plain": [
       "         id  category/id                             category/name/pt-BR  \\\n",
       "0         1         30.0                                         Turismo   \n",
       "1         8         31.0  Desenvolvimento Agrário e Agricultura Familiar   \n",
       "2         9          1.0                          Agricultura e Pecuária   \n",
       "3        10         27.0                                           Saúde   \n",
       "4        11         27.0                                           Saúde   \n",
       "...     ...          ...                                             ...   \n",
       "8433  11609         27.0                                           Saúde   \n",
       "8434  11611         43.0    Secretaria Geral da Presidência da República   \n",
       "8435  11612         25.0                              Previdência Social   \n",
       "8436  11613         16.0                Meio Ambiente e Mudança do Clima   \n",
       "8437  11619         27.0                                           Saúde   \n",
       "\n",
       "      scope/id  scope/name/en  scope/name/pt-BR  participatory_space/id  \\\n",
       "0          NaN            NaN               NaN                       1   \n",
       "1          NaN            NaN               NaN                       1   \n",
       "2          NaN            NaN               NaN                       1   \n",
       "3          NaN            NaN               NaN                       1   \n",
       "4          NaN            NaN               NaN                       1   \n",
       "...        ...            ...               ...                     ...   \n",
       "8433       NaN            NaN               NaN                       1   \n",
       "8434       NaN            NaN               NaN                       1   \n",
       "8435       NaN            NaN               NaN                       1   \n",
       "8436       NaN            NaN               NaN                       1   \n",
       "8437       NaN            NaN               NaN                       1   \n",
       "\n",
       "                                participatory_space/url  component/id  \\\n",
       "0     http://brasilparticipativo.presidencia.gov.br/...             1   \n",
       "1     http://brasilparticipativo.presidencia.gov.br/...             1   \n",
       "2     http://brasilparticipativo.presidencia.gov.br/...             1   \n",
       "3     http://brasilparticipativo.presidencia.gov.br/...             1   \n",
       "4     http://brasilparticipativo.presidencia.gov.br/...             1   \n",
       "...                                                 ...           ...   \n",
       "8433  http://brasilparticipativo.presidencia.gov.br/...             2   \n",
       "8434  http://brasilparticipativo.presidencia.gov.br/...             2   \n",
       "8435  http://brasilparticipativo.presidencia.gov.br/...             2   \n",
       "8436  http://brasilparticipativo.presidencia.gov.br/...             2   \n",
       "8437  http://brasilparticipativo.presidencia.gov.br/...             2   \n",
       "\n",
       "                                            title/pt-BR  ... attachments  \\\n",
       "0                             Turismo: esse é o Destino  ...           1   \n",
       "1                   Agricultura Familiar e Agroecologia  ...           1   \n",
       "2                              Agropecuária Sustentável  ...           1   \n",
       "3                              Atenção Primária à Saúde  ...           1   \n",
       "4                         Atenção Especializada à Saúde  ...           1   \n",
       "...                                                 ...  ...         ...   \n",
       "8433              Microchipagem de animais de companhia  ...           0   \n",
       "8434   Direito a atendimento eficiente, é um direito...  ...           0   \n",
       "8435                       Rever Reforma da Previdência  ...           0   \n",
       "8436                  Preservação da Serra do Espinhaço  ...           0   \n",
       "8437                           Piso salarial pra todos.  ...           0   \n",
       "\n",
       "      followers               published_at  \\\n",
       "0             1  2023-05-10 10:03:41 -0300   \n",
       "1             0  2023-05-10 16:22:51 -0300   \n",
       "2             0  2023-05-10 16:35:47 -0300   \n",
       "3           513  2023-05-10 16:42:43 -0300   \n",
       "4           383  2023-05-10 16:41:01 -0300   \n",
       "...         ...                        ...   \n",
       "8433          1  2023-07-16 21:54:47 -0300   \n",
       "8434          3  2023-07-16 21:58:19 -0300   \n",
       "8435          2  2023-07-16 22:02:00 -0300   \n",
       "8436          1  2023-07-16 22:04:10 -0300   \n",
       "8437          3  2023-07-16 22:06:49 -0300   \n",
       "\n",
       "                                                    url meeting_urls  \\\n",
       "0     http://brasilparticipativo.presidencia.gov.br/...          NaN   \n",
       "1     http://brasilparticipativo.presidencia.gov.br/...          NaN   \n",
       "2     http://brasilparticipativo.presidencia.gov.br/...          NaN   \n",
       "3     http://brasilparticipativo.presidencia.gov.br/...          NaN   \n",
       "4     http://brasilparticipativo.presidencia.gov.br/...          NaN   \n",
       "...                                                 ...          ...   \n",
       "8433  http://brasilparticipativo.presidencia.gov.br/...          NaN   \n",
       "8434  http://brasilparticipativo.presidencia.gov.br/...          NaN   \n",
       "8435  http://brasilparticipativo.presidencia.gov.br/...          NaN   \n",
       "8436  http://brasilparticipativo.presidencia.gov.br/...          NaN   \n",
       "8437  http://brasilparticipativo.presidencia.gov.br/...          NaN   \n",
       "\n",
       "     related_proposals  is_amend original_proposal/title  \\\n",
       "0                  NaN     False                     NaN   \n",
       "1                  NaN     False                     NaN   \n",
       "2                  NaN     False                     NaN   \n",
       "3                  NaN     False                     NaN   \n",
       "4                  NaN     False                     NaN   \n",
       "...                ...       ...                     ...   \n",
       "8433               NaN     False                     NaN   \n",
       "8434               NaN     False                     NaN   \n",
       "8435               NaN     False                     NaN   \n",
       "8436               NaN     False                     NaN   \n",
       "8437               NaN     False                     NaN   \n",
       "\n",
       "      original_proposal/url  category/name/en  \n",
       "0                       NaN               NaN  \n",
       "1                       NaN               NaN  \n",
       "2                       NaN               NaN  \n",
       "3                       NaN               NaN  \n",
       "4                       NaN               NaN  \n",
       "...                     ...               ...  \n",
       "8433                    NaN               NaN  \n",
       "8434                    NaN               NaN  \n",
       "8435                    NaN               NaN  \n",
       "8436                    NaN               NaN  \n",
       "8437                    NaN               NaN  \n",
       "\n",
       "[8438 rows x 32 columns]"
      ]
     },
     "execution_count": 4,
     "metadata": {},
     "output_type": "execute_result"
    }
   ],
   "source": [
    "# Lê as propostas com o Pandas\n",
    "propostas = pd.read_csv(\"data_extraction/brasilparticipativo.presidencia.gov.br-open-data-proposals.csv\", delimiter=\";\")\n",
    "\n",
    "propostas  # Impressão do DataFrame de propostas"
   ]
  },
  {
   "attachments": {},
   "cell_type": "markdown",
   "metadata": {},
   "source": [
    "O arquivo `csv` precisa ser lido e, para isso, utiliza-se o pandas com a função `read_csv`.\n",
    "\n",
    "Perceba que existem muitos dados nulos (`NaN`) e muitas colunas desnecessárias para o treinamento do modelo."
   ]
  },
  {
   "attachments": {},
   "cell_type": "markdown",
   "metadata": {},
   "source": [
    "<h3 style=\"font-size:1.5rem;\">Limpeza e seleção das colunas</h3>"
   ]
  },
  {
   "cell_type": "code",
   "execution_count": 5,
   "metadata": {},
   "outputs": [
    {
     "data": {
      "text/html": [
       "<div>\n",
       "<style scoped>\n",
       "    .dataframe tbody tr th:only-of-type {\n",
       "        vertical-align: middle;\n",
       "    }\n",
       "\n",
       "    .dataframe tbody tr th {\n",
       "        vertical-align: top;\n",
       "    }\n",
       "\n",
       "    .dataframe thead th {\n",
       "        text-align: right;\n",
       "    }\n",
       "</style>\n",
       "<table border=\"1\" class=\"dataframe\">\n",
       "  <thead>\n",
       "    <tr style=\"text-align: right;\">\n",
       "      <th></th>\n",
       "      <th>Categoria</th>\n",
       "      <th>Texto</th>\n",
       "    </tr>\n",
       "  </thead>\n",
       "  <tbody>\n",
       "    <tr>\n",
       "      <th>0</th>\n",
       "      <td>Turismo</td>\n",
       "      <td>Turismo: esse é o Destino. &lt;p&gt;&lt;strong&gt;Objetivo...</td>\n",
       "    </tr>\n",
       "    <tr>\n",
       "      <th>1</th>\n",
       "      <td>Desenvolvimento Agrário e Agricultura Familiar</td>\n",
       "      <td>Agricultura Familiar e Agroecologia. &lt;p&gt;&lt;stron...</td>\n",
       "    </tr>\n",
       "    <tr>\n",
       "      <th>2</th>\n",
       "      <td>Agricultura e Pecuária</td>\n",
       "      <td>Agropecuária Sustentável. &lt;p&gt;Objetivo: Contrib...</td>\n",
       "    </tr>\n",
       "    <tr>\n",
       "      <th>3</th>\n",
       "      <td>Saúde</td>\n",
       "      <td>Atenção Primária à Saúde. &lt;p&gt;Fortalecer a Aten...</td>\n",
       "    </tr>\n",
       "    <tr>\n",
       "      <th>4</th>\n",
       "      <td>Saúde</td>\n",
       "      <td>Atenção Especializada à Saúde. &lt;p&gt;Ampliar o ac...</td>\n",
       "    </tr>\n",
       "  </tbody>\n",
       "</table>\n",
       "</div>"
      ],
      "text/plain": [
       "                                        Categoria  \\\n",
       "0                                         Turismo   \n",
       "1  Desenvolvimento Agrário e Agricultura Familiar   \n",
       "2                          Agricultura e Pecuária   \n",
       "3                                           Saúde   \n",
       "4                                           Saúde   \n",
       "\n",
       "                                               Texto  \n",
       "0  Turismo: esse é o Destino. <p><strong>Objetivo...  \n",
       "1  Agricultura Familiar e Agroecologia. <p><stron...  \n",
       "2  Agropecuária Sustentável. <p>Objetivo: Contrib...  \n",
       "3  Atenção Primária à Saúde. <p>Fortalecer a Aten...  \n",
       "4  Atenção Especializada à Saúde. <p>Ampliar o ac...  "
      ]
     },
     "execution_count": 5,
     "metadata": {},
     "output_type": "execute_result"
    }
   ],
   "source": [
    "# Seleciona apenas as colunas importantes\n",
    "propostas = pd.DataFrame(propostas, columns=['category/name/pt-BR','title/pt-BR','body/pt-BR'])\n",
    "propostas.rename(columns={'category/name/pt-BR': 'Categoria', 'title/pt-BR': 'Título', 'body/pt-BR': 'Corpo'}, inplace=True)\n",
    "\n",
    "# Retira as linhas que estao vazias\n",
    "propostas = propostas.dropna()\n",
    "propostas.drop(propostas[propostas['Título'] == 'Tema '].index, inplace=True)  # Removendo coluna \"Tema \"\n",
    "\n",
    "# Une as colunas de Título e Corpo em uma única coluna e exclui as antigas \n",
    "propostas['Texto'] = propostas['Título'] + '. ' + propostas['Corpo']\n",
    "propostas = propostas[['Categoria', 'Texto']]\n",
    "propostas.head()  # Impressão das cinco primeiras linhas de propostas"
   ]
  },
  {
   "attachments": {},
   "cell_type": "markdown",
   "metadata": {},
   "source": [
    "Os dados contidos na variável “propostas” são então tratados para conter apenas as informações necessárias para classificação das propostas. Apenas três colunas são necessárias: o **título** da proposta, mesclada com o **corpo** (descrição da proposta); e a **categoria** à qual ela pertence. Por fim, é realizado a limpeza das linhas com valores em branco."
   ]
  },
  {
   "cell_type": "code",
   "execution_count": 6,
   "metadata": {},
   "outputs": [
    {
     "name": "stdout",
     "output_type": "stream",
     "text": [
      "Após a remoção dos valores nulos, sobraram 8436 propostas.\n"
     ]
    }
   ],
   "source": [
    "print(f'Após a remoção dos valores nulos, sobraram {len(propostas)} propostas.')"
   ]
  },
  {
   "cell_type": "markdown",
   "metadata": {},
   "source": [
    "Podemos vizualizar a distribuição das propostas em suas categorias no gráfico abaixo. Perceba que a quantidade de propostas por categoria é desproporcionalmente distribuído; isso é natural de ocorrer. Todavia, para treinamento de um classificador, é necessário uma boa quantidade de dados. Logo, as categorias com menos dados não terão uma performance muito boa. "
   ]
  },
  {
   "cell_type": "code",
   "execution_count": 7,
   "metadata": {},
   "outputs": [
    {
     "data": {
      "image/png": "[encoded data removed]",
      "text/plain": [
       "<Figure size 1000x1000 with 1 Axes>"
      ]
     },
     "metadata": {},
     "output_type": "display_data"
    }
   ],
   "source": [
    "# Biblioteca pra visualização de gráficos\n",
    "import seaborn as sns\n",
    "\n",
    "sns.set(font_scale=1.0) # Definindo tamanho da fonte\n",
    "counts = propostas.groupby([\"Categoria\"])[\"Categoria\"].count()  # Contando valores por categoria\n",
    "counts.sort_values(ascending=False, inplace=True) # Ordenando valores\n",
    "\n",
    "ax = sns.barplot(y=counts.index, x=counts)  # Criando gráfico\n",
    "ax.set(xlabel='Quantidade de propostas', ylabel='Categorias') # Labels do gráfico\n",
    "for i in ax.containers: # Valores das barras\n",
    "    ax.bar_label(i,)\n",
    "ax.figure.set_size_inches(10, 10) # Definição do tamanho do gráfico"
   ]
  },
  {
   "attachments": {},
   "cell_type": "markdown",
   "metadata": {},
   "source": [
    "<h3 style=\"font-size:1.5rem;\">Criação do arquivo com as alterações e remoção do anterior</h3>"
   ]
  },
  {
   "cell_type": "code",
   "execution_count": 8,
   "metadata": {},
   "outputs": [],
   "source": [
    "# Retorna o novo csv limpo\n",
    "propostas.to_csv('data_extraction/propostas.csv', index=False)\n",
    "\n",
    "# Remove o csv antigo \n",
    "os.remove('data_extraction/brasilparticipativo.presidencia.gov.br-open-data-proposals.csv')"
   ]
  },
  {
   "attachments": {},
   "cell_type": "markdown",
   "metadata": {},
   "source": [
    "Por último, cria-se um novo arquivo `csv` com as alterações feitas e o arquivo original é removido. O novo arquivo criado parte para a etapa de pré-processamento dos dados. "
   ]
  },
  {
   "attachments": {},
   "cell_type": "markdown",
   "metadata": {},
   "source": [
    "<a id='pre-processing'></a><h2 style=\"padding:10px;background:#1351b4;margin:10;color:white;font-size:3rem;text-align:center;border-radius: 1px 1px;overflow:hidden;font-weight:100\">Pré-processamento Textual</h2>"
   ]
  },
  {
   "cell_type": "markdown",
   "metadata": {},
   "source": [
    "Nesta etapa de pré-processamento, o objetivo é manipular as informações importantes para que o algoritmo de Machine Learning consiga entender e ser treinado. Algoritmos de Machine Learning não entendem dados textuais (não estruturados) e necessitam que eles sejam estruturados de forma que possam ser utilizados para treinamento. Para isso, os dados textuais serão mais uma vez processados, desta vez para gerar uma representação vetorial, conhecido como _Word Vector_ ou _Word Embedding_.\n",
    "\n",
    "Além disso, nesta etapa, os dados serão trabalhados para otimização do modelo. Retirando palavras do texto que possuam baixo valor semântico para o processo de aprendizado de máquina. Essa limpeza é necessária para aumentar a precisão dos resultados do modelo treinado."
   ]
  },
  {
   "cell_type": "markdown",
   "metadata": {},
   "source": [
    "Um [_Word Vector_](https://blog.acolyer.org/2016/04/21/the-amazing-power-of-word-vectors/) ([aqui](https://dzone.com/articles/introduction-to-word-vectors) também) é nada mais do que uma vetor numérico de pesos ou ocorrências que busca aproximar o significado de uma palavra dado o vocabulário ao qual ele pertence e o contexto no qual ele é utilizado. Existem várias técnicas para isso (_Bag of Words_, _Word2Vec_, _TF-IDF_, _GloVe_, ...) e geralmente se utiliza de conceitos comuns em Machine Learning como Redes Neurais e Redução de Dimensionalidade na matriz de coocorrência de palavras, ou então modelos probabilísticos, métodos de base de conhecimento explicável até mesmo uma representação explícita com base no contexto em que a palavra aparece.\n",
    "\n",
    "No caso do spaCy, o modelo de pipeline em português possui a capacidade de representação vetorial a partir do modelo médio (`pt_core_news_md`), com o uso da técnica _GloVe_. A quantidade de chaves e vetores únicos diferem para cada pipeline do spaCy e, caso alguma palavra não se encontre no vocabulário, é atribuído a ela um vetor com valores nulos. Os vetores das palavras possuem, por sua vez, um tamanho fixo 300 de dimensionalidade para todos os pipelines (cada dimensão inferindo uma informação contextual na qual tal palavra é utilizada). Além disso, é possível obter o vetor de uma sentença a partir da média dos valores de cada vetor de palavra contido nela. Mais detalhes podem ser encontrados na [documentação](https://spacy.io/api/vectors) ([aqui](https://spacy.io/usage/linguistic-features#vectors-similarity), [aqui](https://spacy.io/api/doc#vector) e [aqui](https://spacy.io/api/doc#vector))"
   ]
  },
  {
   "attachments": {},
   "cell_type": "markdown",
   "metadata": {},
   "source": [
    "<h3 style=\"font-size:1.5rem;\">Definições iniciais</h3>"
   ]
  },
  {
   "cell_type": "markdown",
   "metadata": {},
   "source": [
    "Nas definições iniciais, é declarado duas variáveis para expressões regulares e é instanciado o pipeline em português da biblioteca spaCy. Essas definições serão utilizadas na função de pré-processamento."
   ]
  },
  {
   "cell_type": "code",
   "execution_count": 9,
   "metadata": {},
   "outputs": [],
   "source": [
    "# Expressões regulares para remoção de poluição de dados nos textos \n",
    "# REGX_URL = r\"https?://[A-Za-z0-9./\\-]+\" # Regex for URLs\n",
    "REGX_HTML = r\"<[^<]+?>\" # Regex for HTML tags\n",
    "REGX_ENDING = r'Órgão Responsável:.+' # Regex for the part of the text"
   ]
  },
  {
   "cell_type": "code",
   "execution_count": 10,
   "metadata": {},
   "outputs": [],
   "source": [
    "import spacy\n",
    "from spacy.lang.pt.stop_words import STOP_WORDS\n",
    "\n",
    "# Instanciando o pipeline em português do spaCy\n",
    "# nlp = spacy.blank('pt') # Pipeline vazio para teste (apenas tokenização)\n",
    "# nlp = spacy.load('pt_core_news_sm')   # Pipeline pequeno (para eficiência), não possui vector (?)\n",
    "# nlp = spacy.load('pt_core_news_md')   # Pipeline médio, com vector (500k keys, 20k unique vectors, 300 dimensions)\n",
    "nlp = spacy.load('pt_core_news_lg')   # Pipeline grande (para precisão), com vector (500k keys, 500k unique vectors, 300 dimensions)"
   ]
  },
  {
   "cell_type": "markdown",
   "metadata": {},
   "source": [
    "O [spaCy](https://spacy.io/usage/spacy-101) é uma biblioteca gratuita e _open source_ para Processamento de Linguagem Natural avançado em Python. Foi especificamente projetada para uso em produção e para auxiliar na criação de aplicações que processam e \"entendem\" grandes volumes de texto. Ela pode ser usada para realizar a extração de informações, construir sistemas de compreensão de linguagem natural ou para pré-processar texto para modelos de Machine Learning e Deep Learning."
   ]
  },
  {
   "cell_type": "markdown",
   "metadata": {},
   "source": [
    "<h3 style=\"font-size:1.5rem\">Pré-processamento</h3>"
   ]
  },
  {
   "cell_type": "markdown",
   "metadata": {},
   "source": [
    "Primeiro, é preciso indexar cada uma das categorias. Isto é, atribuir um valor númerico que identifique unicamente cada uma das categorias existentes."
   ]
  },
  {
   "cell_type": "code",
   "execution_count": 11,
   "metadata": {},
   "outputs": [
    {
     "data": {
      "text/html": [
       "<div>\n",
       "<style scoped>\n",
       "    .dataframe tbody tr th:only-of-type {\n",
       "        vertical-align: middle;\n",
       "    }\n",
       "\n",
       "    .dataframe tbody tr th {\n",
       "        vertical-align: top;\n",
       "    }\n",
       "\n",
       "    .dataframe thead th {\n",
       "        text-align: right;\n",
       "    }\n",
       "</style>\n",
       "<table border=\"1\" class=\"dataframe\">\n",
       "  <thead>\n",
       "    <tr style=\"text-align: right;\">\n",
       "      <th></th>\n",
       "      <th>Categoria</th>\n",
       "      <th>Texto</th>\n",
       "      <th>id_cats</th>\n",
       "    </tr>\n",
       "  </thead>\n",
       "  <tbody>\n",
       "    <tr>\n",
       "      <th>0</th>\n",
       "      <td>Turismo</td>\n",
       "      <td>Turismo: esse é o Destino. &lt;p&gt;&lt;strong&gt;Objetivo...</td>\n",
       "      <td>0</td>\n",
       "    </tr>\n",
       "    <tr>\n",
       "      <th>1</th>\n",
       "      <td>Desenvolvimento Agrário e Agricultura Familiar</td>\n",
       "      <td>Agricultura Familiar e Agroecologia. &lt;p&gt;&lt;stron...</td>\n",
       "      <td>1</td>\n",
       "    </tr>\n",
       "    <tr>\n",
       "      <th>2</th>\n",
       "      <td>Agricultura e Pecuária</td>\n",
       "      <td>Agropecuária Sustentável. &lt;p&gt;Objetivo: Contrib...</td>\n",
       "      <td>2</td>\n",
       "    </tr>\n",
       "    <tr>\n",
       "      <th>3</th>\n",
       "      <td>Saúde</td>\n",
       "      <td>Atenção Primária à Saúde. &lt;p&gt;Fortalecer a Aten...</td>\n",
       "      <td>3</td>\n",
       "    </tr>\n",
       "    <tr>\n",
       "      <th>4</th>\n",
       "      <td>Saúde</td>\n",
       "      <td>Atenção Especializada à Saúde. &lt;p&gt;Ampliar o ac...</td>\n",
       "      <td>3</td>\n",
       "    </tr>\n",
       "  </tbody>\n",
       "</table>\n",
       "</div>"
      ],
      "text/plain": [
       "                                        Categoria  \\\n",
       "0                                         Turismo   \n",
       "1  Desenvolvimento Agrário e Agricultura Familiar   \n",
       "2                          Agricultura e Pecuária   \n",
       "3                                           Saúde   \n",
       "4                                           Saúde   \n",
       "\n",
       "                                               Texto  id_cats  \n",
       "0  Turismo: esse é o Destino. <p><strong>Objetivo...        0  \n",
       "1  Agricultura Familiar e Agroecologia. <p><stron...        1  \n",
       "2  Agropecuária Sustentável. <p>Objetivo: Contrib...        2  \n",
       "3  Atenção Primária à Saúde. <p>Fortalecer a Aten...        3  \n",
       "4  Atenção Especializada à Saúde. <p>Ampliar o ac...        3  "
      ]
     },
     "execution_count": 11,
     "metadata": {},
     "output_type": "execute_result"
    }
   ],
   "source": [
    "#Criando índices para as categorias\n",
    "cats = propostas['Categoria'].unique() # Pegando cada categoria única\n",
    "cats = dict(enumerate(cats, 0)) # Convertendo para dict (com índices enumerados)\n",
    "cats = {v:k for k,v in cats.items()}  # Trocando chaves e valores\n",
    "\n",
    "propostas['id_cats'] = propostas['Categoria'].map(cats) # Inserindo coluna de índices das cats\n",
    "propostas.head()"
   ]
  },
  {
   "cell_type": "markdown",
   "metadata": {},
   "source": [
    "Em seguida, como pode-se perceber na coluna de texto, existem informações de tags HTML e informações ao final do texto que fogem do conteúdo das propostas. Para limpar essas informações, é definido uma função \"preprocessing\" que aplicará as modificações desejadas em cada linha do DataFrame."
   ]
  },
  {
   "cell_type": "code",
   "execution_count": 12,
   "metadata": {},
   "outputs": [
    {
     "name": "stdout",
     "output_type": "stream",
     "text": [
      "ANTES DO PRÉ-PROCESSAMENTO\n",
      "Turismo: esse é o Destino. <p><strong>Objetivo:</strong> Posicionar o turismo como vetor de desenvolvimento sustentável e aumentar a competitividade dos destinos e produtos turísticos brasileiros, democratizando o acesso à atividade turística aos cidadãos brasileiros.<br><br><strong>Órgão Responsável:</strong> Ministério do Turismo<br><br><strong>Página Oficial: </strong>https://www.gov.br/turismo/pt-br/</p>\n"
     ]
    }
   ],
   "source": [
    "# Para visualização do conteúdo da coluna \"Texto\" em uma proposta\n",
    "print(\"ANTES DO PRÉ-PROCESSAMENTO\")\n",
    "print(f'{propostas[\"Texto\"].iloc[0]}')"
   ]
  },
  {
   "cell_type": "code",
   "execution_count": 13,
   "metadata": {},
   "outputs": [
    {
     "data": {
      "text/html": [
       "<div>\n",
       "<style scoped>\n",
       "    .dataframe tbody tr th:only-of-type {\n",
       "        vertical-align: middle;\n",
       "    }\n",
       "\n",
       "    .dataframe tbody tr th {\n",
       "        vertical-align: top;\n",
       "    }\n",
       "\n",
       "    .dataframe thead th {\n",
       "        text-align: right;\n",
       "    }\n",
       "</style>\n",
       "<table border=\"1\" class=\"dataframe\">\n",
       "  <thead>\n",
       "    <tr style=\"text-align: right;\">\n",
       "      <th></th>\n",
       "      <th>Categoria</th>\n",
       "      <th>Texto</th>\n",
       "      <th>id_cats</th>\n",
       "    </tr>\n",
       "  </thead>\n",
       "  <tbody>\n",
       "    <tr>\n",
       "      <th>0</th>\n",
       "      <td>Turismo</td>\n",
       "      <td>Turismo: esse é o Destino. Objetivo: Posiciona...</td>\n",
       "      <td>0</td>\n",
       "    </tr>\n",
       "    <tr>\n",
       "      <th>1</th>\n",
       "      <td>Desenvolvimento Agrário e Agricultura Familiar</td>\n",
       "      <td>Agricultura Familiar e Agroecologia. Objetivo:...</td>\n",
       "      <td>1</td>\n",
       "    </tr>\n",
       "    <tr>\n",
       "      <th>2</th>\n",
       "      <td>Agricultura e Pecuária</td>\n",
       "      <td>Agropecuária Sustentável. Objetivo: Contribuir...</td>\n",
       "      <td>2</td>\n",
       "    </tr>\n",
       "    <tr>\n",
       "      <th>3</th>\n",
       "      <td>Saúde</td>\n",
       "      <td>Atenção Primária à Saúde. Fortalecer a Atenção...</td>\n",
       "      <td>3</td>\n",
       "    </tr>\n",
       "    <tr>\n",
       "      <th>4</th>\n",
       "      <td>Saúde</td>\n",
       "      <td>Atenção Especializada à Saúde. Ampliar o acess...</td>\n",
       "      <td>3</td>\n",
       "    </tr>\n",
       "  </tbody>\n",
       "</table>\n",
       "</div>"
      ],
      "text/plain": [
       "                                        Categoria  \\\n",
       "0                                         Turismo   \n",
       "1  Desenvolvimento Agrário e Agricultura Familiar   \n",
       "2                          Agricultura e Pecuária   \n",
       "3                                           Saúde   \n",
       "4                                           Saúde   \n",
       "\n",
       "                                               Texto  id_cats  \n",
       "0  Turismo: esse é o Destino. Objetivo: Posiciona...        0  \n",
       "1  Agricultura Familiar e Agroecologia. Objetivo:...        1  \n",
       "2  Agropecuária Sustentável. Objetivo: Contribuir...        2  \n",
       "3  Atenção Primária à Saúde. Fortalecer a Atenção...        3  \n",
       "4  Atenção Especializada à Saúde. Ampliar o acess...        3  "
      ]
     },
     "execution_count": 13,
     "metadata": {},
     "output_type": "execute_result"
    }
   ],
   "source": [
    "# Função para pré-processamento\n",
    "def preprocessing(text):\n",
    "  # text = text.lower()\n",
    "\n",
    "  text = re.sub(REGX_HTML, '', text)  # Removendo tags HTML\n",
    "  # text = re.sub(REGX_URL, '', text) # Revomendo URLs\n",
    "  text = re.sub(REGX_ENDING, '', text)\n",
    "\n",
    "  # tokens = [t.lemma_ for t in nlp(text) if t not in STOP_WORDS and not t.is_punct]\n",
    "\n",
    "  return text\n",
    "\n",
    "#  Ajustando textos da coluna Corpo\n",
    "propostas['Texto'] = propostas['Texto'].apply(preprocessing)\n",
    "propostas.head()"
   ]
  },
  {
   "cell_type": "code",
   "execution_count": 14,
   "metadata": {},
   "outputs": [
    {
     "name": "stdout",
     "output_type": "stream",
     "text": [
      "DEPOIS DO PRÉ-PROCESSAMENTO\n",
      "Turismo: esse é o Destino. Objetivo: Posicionar o turismo como vetor de desenvolvimento sustentável e aumentar a competitividade dos destinos e produtos turísticos brasileiros, democratizando o acesso à atividade turística aos cidadãos brasileiros.\n"
     ]
    }
   ],
   "source": [
    "# Agora com o texto filtrado\n",
    "print(\"DEPOIS DO PRÉ-PROCESSAMENTO\")\n",
    "print(f'{propostas[\"Texto\"].iloc[0]}')"
   ]
  },
  {
   "cell_type": "markdown",
   "metadata": {},
   "source": [
    "Enfim, criamos uma representação vetorial do texto a partir da biblioteca spaCy e guardamos os vetores em uma nova coluna chamada \"Vector\"."
   ]
  },
  {
   "cell_type": "code",
   "execution_count": 15,
   "metadata": {},
   "outputs": [
    {
     "data": {
      "text/html": [
       "<div>\n",
       "<style scoped>\n",
       "    .dataframe tbody tr th:only-of-type {\n",
       "        vertical-align: middle;\n",
       "    }\n",
       "\n",
       "    .dataframe tbody tr th {\n",
       "        vertical-align: top;\n",
       "    }\n",
       "\n",
       "    .dataframe thead th {\n",
       "        text-align: right;\n",
       "    }\n",
       "</style>\n",
       "<table border=\"1\" class=\"dataframe\">\n",
       "  <thead>\n",
       "    <tr style=\"text-align: right;\">\n",
       "      <th></th>\n",
       "      <th>Categoria</th>\n",
       "      <th>Texto</th>\n",
       "      <th>id_cats</th>\n",
       "      <th>Vector</th>\n",
       "    </tr>\n",
       "  </thead>\n",
       "  <tbody>\n",
       "    <tr>\n",
       "      <th>0</th>\n",
       "      <td>Turismo</td>\n",
       "      <td>Turismo: esse é o Destino. Objetivo: Posiciona...</td>\n",
       "      <td>0</td>\n",
       "      <td>[0.85847634, -0.37545732, 0.07612456, -0.90006...</td>\n",
       "    </tr>\n",
       "    <tr>\n",
       "      <th>1</th>\n",
       "      <td>Desenvolvimento Agrário e Agricultura Familiar</td>\n",
       "      <td>Agricultura Familiar e Agroecologia. Objetivo:...</td>\n",
       "      <td>1</td>\n",
       "      <td>[0.4189733, -1.3273121, -0.14920743, -1.345308...</td>\n",
       "    </tr>\n",
       "    <tr>\n",
       "      <th>2</th>\n",
       "      <td>Agricultura e Pecuária</td>\n",
       "      <td>Agropecuária Sustentável. Objetivo: Contribuir...</td>\n",
       "      <td>2</td>\n",
       "      <td>[1.0754207, -0.7153076, -0.023167895, -1.01495...</td>\n",
       "    </tr>\n",
       "    <tr>\n",
       "      <th>3</th>\n",
       "      <td>Saúde</td>\n",
       "      <td>Atenção Primária à Saúde. Fortalecer a Atenção...</td>\n",
       "      <td>3</td>\n",
       "      <td>[0.68205523, -0.8182749, -0.11555423, -1.60916...</td>\n",
       "    </tr>\n",
       "    <tr>\n",
       "      <th>4</th>\n",
       "      <td>Saúde</td>\n",
       "      <td>Atenção Especializada à Saúde. Ampliar o acess...</td>\n",
       "      <td>3</td>\n",
       "      <td>[0.7731693, -0.5005779, 0.4960923, -0.6091388,...</td>\n",
       "    </tr>\n",
       "  </tbody>\n",
       "</table>\n",
       "</div>"
      ],
      "text/plain": [
       "                                        Categoria  \\\n",
       "0                                         Turismo   \n",
       "1  Desenvolvimento Agrário e Agricultura Familiar   \n",
       "2                          Agricultura e Pecuária   \n",
       "3                                           Saúde   \n",
       "4                                           Saúde   \n",
       "\n",
       "                                               Texto  id_cats  \\\n",
       "0  Turismo: esse é o Destino. Objetivo: Posiciona...        0   \n",
       "1  Agricultura Familiar e Agroecologia. Objetivo:...        1   \n",
       "2  Agropecuária Sustentável. Objetivo: Contribuir...        2   \n",
       "3  Atenção Primária à Saúde. Fortalecer a Atenção...        3   \n",
       "4  Atenção Especializada à Saúde. Ampliar o acess...        3   \n",
       "\n",
       "                                              Vector  \n",
       "0  [0.85847634, -0.37545732, 0.07612456, -0.90006...  \n",
       "1  [0.4189733, -1.3273121, -0.14920743, -1.345308...  \n",
       "2  [1.0754207, -0.7153076, -0.023167895, -1.01495...  \n",
       "3  [0.68205523, -0.8182749, -0.11555423, -1.60916...  \n",
       "4  [0.7731693, -0.5005779, 0.4960923, -0.6091388,...  "
      ]
     },
     "execution_count": 15,
     "metadata": {},
     "output_type": "execute_result"
    }
   ],
   "source": [
    "#  Representações vetoriais do texto\n",
    "propostas['Vector'] = propostas['Texto'].apply(lambda text: nlp(text).vector)\n",
    "propostas.head()"
   ]
  },
  {
   "cell_type": "markdown",
   "metadata": {},
   "source": [
    "Ao final do pré-processamento, nota-se que algumas alterações foram feitas na tabela, entre elas, a remoção de tags HTML e textos com baixo valor semântico. Houve também a criação de duas novas colunas “id_cats”, responsável por enumerar os índices de categorias (do 0 ao 39) e a coluna “Vector” que representa a vetorização das sentenças.\n",
    "\n",
    "Com os dados processados, é possível então treinar um algoritmo de Machine Learning para classificação."
   ]
  },
  {
   "attachments": {},
   "cell_type": "markdown",
   "metadata": {},
   "source": [
    "<a id='training-model'></a><h2 style=\"padding:10px;background:#1351b4;margin:10;color:white;font-size:3rem;text-align:center;border-radius: 1px 1px;overflow:hidden;font-weight:100\">Treinamento do Modelo</h2>"
   ]
  },
  {
   "cell_type": "markdown",
   "metadata": {},
   "source": [
    "O modelo ML utilizado neste MVP para classificação de propostas foi determinado através de um benchmark de vários algoritmos. Os algoritmos foram avaliados com base na sua precisão e tempo de treinamento, duas métricas para examinar qual modelo se adequa às necessidades e exigências do cliente. Dos algoritmos estudados, a maioria foi implementado com a biblioteca do Scikit-Learn, com exceção de dois. Os algoritmos são os seguintes:\n",
    "- Random Forest\n",
    "- Nearest Neighbors\n",
    "- Support Vector Machine\n",
    "- Multinomial Naive Bayes\n",
    "- Rede Neural Profunda do Tensorflow\n",
    "- TextCat do spaCy\n",
    "\n",
    "Desta forma, optou-se por utilizar Support Vector Machine ([SVM](https://scikit-learn.org/stable/modules/svm.html#support-vector-machines)) por exibir melhor precisão e menor tempo de treinamento. O benchmark foi realizado em um [dataset](https://www.kaggle.com/datasets/rmisra/news-category-dataset) diferente (com mais dados para treinamento, mesmo assim, com o formato de dados semelhantes com os dados das propostas) e posteriormente no dataset de propostas do Brasil Participativo."
   ]
  },
  {
   "cell_type": "markdown",
   "metadata": {},
   "source": [
    "<h3 style=\"font-size:1.5rem\">Importando bibliotecas</h3>"
   ]
  },
  {
   "cell_type": "markdown",
   "metadata": {},
   "source": [
    "A biblioteca do Scikit-Learn possui vários módulos úteis para realização do treinamento de um algoritmo de Machine Learning, como funções para avaliar a precisão, formas de otimização do algoritmo. pré-processamento e outros além do próprio algoritmo utilizado."
   ]
  },
  {
   "cell_type": "code",
   "execution_count": 16,
   "metadata": {},
   "outputs": [],
   "source": [
    "from sklearn.metrics import accuracy_score, classification_report\n",
    "from sklearn.preprocessing import MinMaxScaler\n",
    "from sklearn import svm, model_selection\n",
    "import numpy as np"
   ]
  },
  {
   "cell_type": "markdown",
   "metadata": {},
   "source": [
    "<h3 style=\"font-size:1.5rem\">Configurações do modelo</h3>"
   ]
  },
  {
   "cell_type": "markdown",
   "metadata": {},
   "source": [
    "Primeiramente, os dados das propostas (colunas \"Vector\" e \"id_cats\") são parametrizados pelo Scikit-Learn. O dataset é embaralhado e dividido em dados para treinamento e testem, sendo 70% utilizado para treinamento e 30% para teste, e em seguida, são aplicadas duas transformações."
   ]
  },
  {
   "cell_type": "code",
   "execution_count": 17,
   "metadata": {},
   "outputs": [],
   "source": [
    "# Separação dos dados para treinamento e teste\n",
    "X_train, X_test, Y_train, Y_test = model_selection.train_test_split(\n",
    "    propostas.Vector.values,\n",
    "    propostas.Categoria,\n",
    "    test_size=0.3\n",
    ")\n",
    "\n",
    "# Transformação: conversão do tipo dos dados de entrada (X) para interpretação\n",
    "X_train_2d = np.stack(X_train)\n",
    "X_test_2d = np.stack(X_test)\n",
    "\n",
    "# Transformação: escalonamento dos dados numéricos (normalizados entre 0 e 1)\n",
    "# Para tratamento de casos outliers\n",
    "scaler = MinMaxScaler()\n",
    "scaled_train_embed = scaler.fit_transform(X_train_2d)\n",
    "scaled_test_embed = scaler.transform(X_test_2d)"
   ]
  },
  {
   "cell_type": "markdown",
   "metadata": {},
   "source": [
    "Agora, o modelo é instanciado, realizado o treinamento com a função `fit`. Em seguida, os dados de teste são utilizados para imprimir um relatório com a performance em cada categoria e sua perfomance geral. O relatório também pode ser encontrado em `assets/training_results`."
   ]
  },
  {
   "cell_type": "code",
   "execution_count": 18,
   "metadata": {},
   "outputs": [
    {
     "name": "stderr",
     "output_type": "stream",
     "text": [
      "/home/alexandre/Documents/Brisa/07_ProcessamentoLinguagemNatural/env/lib/python3.10/site-packages/sklearn/metrics/_classification.py:1469: UndefinedMetricWarning: Precision and F-score are ill-defined and being set to 0.0 in labels with no predicted samples. Use `zero_division` parameter to control this behavior.\n",
      "  _warn_prf(average, modifier, msg_start, len(result))\n",
      "/home/alexandre/Documents/Brisa/07_ProcessamentoLinguagemNatural/env/lib/python3.10/site-packages/sklearn/metrics/_classification.py:1469: UndefinedMetricWarning: Precision and F-score are ill-defined and being set to 0.0 in labels with no predicted samples. Use `zero_division` parameter to control this behavior.\n",
      "  _warn_prf(average, modifier, msg_start, len(result))\n",
      "/home/alexandre/Documents/Brisa/07_ProcessamentoLinguagemNatural/env/lib/python3.10/site-packages/sklearn/metrics/_classification.py:1469: UndefinedMetricWarning: Precision and F-score are ill-defined and being set to 0.0 in labels with no predicted samples. Use `zero_division` parameter to control this behavior.\n",
      "  _warn_prf(average, modifier, msg_start, len(result))\n",
      "/home/alexandre/Documents/Brisa/07_ProcessamentoLinguagemNatural/env/lib/python3.10/site-packages/sklearn/metrics/_classification.py:1469: UndefinedMetricWarning: Precision and F-score are ill-defined and being set to 0.0 in labels with no predicted samples. Use `zero_division` parameter to control this behavior.\n",
      "  _warn_prf(average, modifier, msg_start, len(result))\n",
      "/home/alexandre/Documents/Brisa/07_ProcessamentoLinguagemNatural/env/lib/python3.10/site-packages/sklearn/metrics/_classification.py:1469: UndefinedMetricWarning: Precision and F-score are ill-defined and being set to 0.0 in labels with no predicted samples. Use `zero_division` parameter to control this behavior.\n",
      "  _warn_prf(average, modifier, msg_start, len(result))\n",
      "/home/alexandre/Documents/Brisa/07_ProcessamentoLinguagemNatural/env/lib/python3.10/site-packages/sklearn/metrics/_classification.py:1469: UndefinedMetricWarning: Precision and F-score are ill-defined and being set to 0.0 in labels with no predicted samples. Use `zero_division` parameter to control this behavior.\n",
      "  _warn_prf(average, modifier, msg_start, len(result))\n"
     ]
    },
    {
     "name": "stdout",
     "output_type": "stream",
     "text": [
      "                                                                precision    recall  f1-score   support\n",
      "\n",
      "                                      Advocacia-Geral da União       0.00      0.00      0.00         6\n",
      "                                        Agricultura e Pecuária       0.00      0.00      0.00        33\n",
      "                                                 Banco Central       0.00      0.00      0.00         7\n",
      "                                                    Casa Civil       0.00      0.00      0.00         9\n",
      "                                                       Cidades       0.39      0.27      0.32        90\n",
      "                                Ciência, Tecnologia e Inovação       0.53      0.18      0.26        51\n",
      "                                            Comunicação Social       0.00      0.00      0.00        16\n",
      "                                                  Comunicações       0.00      0.00      0.00        10\n",
      "                                  Controladoria-Geral da União       0.00      0.00      0.00         7\n",
      "                                                       Cultura       0.57      0.47      0.51        62\n",
      "                                                        Defesa       0.00      0.00      0.00        19\n",
      "                Desenvolvimento Agrário e Agricultura Familiar       0.46      0.44      0.45        84\n",
      "Desenvolvimento e Assistência Social, Família e Combate à Fome       0.31      0.19      0.24       137\n",
      "               Desenvolvimento, Indústria, Comércio e Serviços       0.00      0.00      0.00        38\n",
      "                                  Direitos Humanos e Cidadania       0.24      0.44      0.31       160\n",
      "                                                      Educação       0.58      0.85      0.69       382\n",
      "                                                       Esporte       0.33      0.05      0.09        20\n",
      "                                                       Fazenda       0.39      0.45      0.42        33\n",
      "                        Gestão e Inovação em Serviços Públicos       0.35      0.33      0.34        84\n",
      "                                              Igualdade Racial       0.00      0.00      0.00        28\n",
      "                         Integração e Desenvolvimento Regional       0.00      0.00      0.00        31\n",
      "                                   Justiça e Segurança Pública       0.64      0.49      0.55       113\n",
      "                              Meio Ambiente e Mudança do Clima       0.49      0.75      0.59       156\n",
      "                                               Minas e Energia       1.00      0.05      0.10        38\n",
      "                                                      Mulheres       0.50      0.11      0.18        63\n",
      "                                                        Outros       0.00      0.00      0.00         8\n",
      "                                           Pesca e Aquicultura       0.00      0.00      0.00        10\n",
      "                                      Planejamento e Orçamento       0.00      0.00      0.00        34\n",
      "                                           Portos e Aeroportos       0.00      0.00      0.00         7\n",
      "                                               Povos Indígenas       0.00      0.00      0.00        12\n",
      "                                            Previdência Social       0.61      0.27      0.37        83\n",
      "                                           Relações Exteriores       0.00      0.00      0.00         4\n",
      "                                       Relações Institucionais       0.00      0.00      0.00        11\n",
      "                                                         Saúde       0.54      0.83      0.66       372\n",
      "                  Secretaria Geral da Presidência da República       0.00      0.00      0.00        21\n",
      "                                       Segurança Institucional       0.00      0.00      0.00         7\n",
      "                                            Trabalho e Emprego       0.41      0.52      0.46        98\n",
      "                                                   Transportes       0.59      0.70      0.64       154\n",
      "                                                       Turismo       0.90      0.27      0.42        33\n",
      "\n",
      "                                                      accuracy                           0.49      2531\n",
      "                                                     macro avg       0.25      0.20      0.19      2531\n",
      "                                                  weighted avg       0.44      0.49      0.44      2531\n",
      "\n",
      "SVM Accuracy Score ->  49.150533386013436\n"
     ]
    }
   ],
   "source": [
    "import json\n",
    "\n",
    "# Treinamento\n",
    "clf = svm.SVC() # Instanciando modelo\n",
    "clf.fit(scaled_train_embed, Y_train)  # Realização do treinamento passando os dados\n",
    "\n",
    "Y_pred = clf.predict(scaled_test_embed) # Predição com os dados de teste\n",
    "\n",
    "# Salvando relatório de treinamento em um arquivo JSON\n",
    "json_obj = json.dumps(classification_report(Y_test, Y_pred, output_dict=True), indent=4)\n",
    "save_file = open('model/training_results.json', 'w').write(json_obj)\n",
    "\n",
    "# Impressão do relatório com as métricas do modelo (para cada cat.)\n",
    "print(classification_report(Y_test, Y_pred))  \n",
    "\n",
    "predictions_SVM = clf.predict(scaled_test_embed)\n",
    "print(\"SVM Accuracy Score -> \", accuracy_score(predictions_SVM, Y_test)*100)  # Impressão da precisão geral"
   ]
  },
  {
   "cell_type": "markdown",
   "metadata": {},
   "source": [
    "Algumas observações a se destacar é que o modelo MVP ainda não atinge uma performance alta o suficiente para utilização em produção. A precisão geral (_accuracy score_) do algoritmo é de 49%, em certas categorias atinge uma métrica satisfatória acima dos 85%, porém em outras não consegue inferir corretamente se alguma proposta pertence a tal categoria.\n",
    "\n",
    "Isso se deve primeiramente pelo pouco volume de dados presentes no dataset do Brasil Participativo. As categorias com menos propostas não possuem uma quantia suficiente para treinar e avaliar a performance do algoritmo.\n",
    "\n",
    "Apesar disso, algumas otimizações estão previstas para serem realizadas no algoritmo. Dentre elas, a utilização de diferentes técnicas de pré-processamento e o emprego de um outro algoritmo que necessite poucos dados para treinamento serão os focos para otimização do MVP."
   ]
  },
  {
   "cell_type": "markdown",
   "metadata": {},
   "source": [
    "<a id='how-to-use'></a><h2 style=\"padding:10px;background:#1351b4;margin:10;color:white;font-size:3rem;text-align:center;border-radius: 1px 1px;overflow:hidden;font-weight:100\">Utilização</h2>"
   ]
  },
  {
   "cell_type": "markdown",
   "metadata": {},
   "source": [
    "Com o modelo treinado, é possível então carregá-lo em um arquivo serializado para persistência e utilização futura, acoplado a um outro sistema por exemplo.\n",
    "\n",
    "Existem várias formas de serializar um objeto Python (o modelo MVP treinado, no caso). As formas mais comuns de serem utilizadas é através das bibliotecas Pickle (nativa do Python) ou Joblib (que utiliza a anterior). Detalhes para a serialização com elas podem ser vistas [aqui](https://machinelearningmastery.com/save-load-machine-learning-models-python-scikit-learn/). Apesar de serem as mais comuns, o Scikit-Learn aponta algumas [limitações de segurança e mantenibilidade](https://scikit-learn.org/stable/model_persistence.html#security-maintainability-limitations) e por conta disso, será utilizado a biblioteca [Skops](https://skops.readthedocs.io/en/stable/), mais recomendada.\n",
    "\n",
    "O Skops fornece um formato mais seguro, evitando o uso de Pickle e carregando apenas arquivos que possuem tipos e referências a funções nas quais são confiáveis por padrão ou pelo desenvolvedor Além disso, o seu uso é muito semelhante ao uso do Pickle."
   ]
  },
  {
   "cell_type": "markdown",
   "metadata": {},
   "source": [
    "Além desta forma de reuso e utilização do modelo, está em avaliação e desenvolvimento uma forma de integração do modelo treinado com uma aplicação Ruby on Rails, visto que o sistema do Brasil Participativo é implementado com essa tecnologia."
   ]
  },
  {
   "cell_type": "markdown",
   "metadata": {},
   "source": [
    "<h3 style=\"font-size:1.5rem\">Serialização</h3>"
   ]
  },
  {
   "cell_type": "markdown",
   "metadata": {},
   "source": [
    "Para a serialização, é utilizado a função `dump` passando o modelo treinado e o caminho junto com o nome do arquivo onde será salvo o modelo serializado."
   ]
  },
  {
   "cell_type": "code",
   "execution_count": 19,
   "metadata": {},
   "outputs": [],
   "source": [
    "import skops.io as sio\n",
    "sio.dump(clf, \"model/trained_mvp.skops\")"
   ]
  },
  {
   "cell_type": "markdown",
   "metadata": {},
   "source": [
    "<h3 style=\"font-size:1.5rem\">Carregamento</h3>"
   ]
  },
  {
   "cell_type": "markdown",
   "metadata": {},
   "source": [
    "Para recarregar o modelo em algum sistema, utiliza-se a função `load` ou `loads`. Antes disso, é preciso especificar os tipos confiáveis ou então carregar o modelo passando o parâmetro `trusted=True`."
   ]
  },
  {
   "cell_type": "code",
   "execution_count": 20,
   "metadata": {},
   "outputs": [],
   "source": [
    "# Carrega modelo avaliando os tipos confiáveis\n",
    "unknown_types = sio.get_untrusted_types(file=\"model/trained_mvp.skops\")\n",
    "\n",
    "# CHECAR TIPOS NÃO CONFIÁVEIS\n",
    "clf = sio.load(\"model/trained_mvp.skops\", trusted=unknown_types)"
   ]
  },
  {
   "cell_type": "code",
   "execution_count": 21,
   "metadata": {},
   "outputs": [],
   "source": [
    "# Carrega modelo sem checar os tipos de dados confiáveis\n",
    "clf = sio.load(\"model/trained_mvp.skops\", trusted=True)"
   ]
  },
  {
   "cell_type": "markdown",
   "metadata": {},
   "source": [
    "<a id='how-to-use'></a><h2 style=\"padding:10px;background:#1351b4;margin:10;color:white;font-size:3rem;text-align:center;border-radius: 1px 1px;overflow:hidden;font-weight:100\">Histórico de versão</h2>"
   ]
  },
  {
   "cell_type": "markdown",
   "metadata": {},
   "source": [
    "| Data       | Autor                                        | Modificações                          | Versão |\n",
    "| ---------- | -------------------------------------------- | ------------------------------------- | ------ |\n",
    "| 15/08/2023 | [Alexandre Oliveira](https://github.com/LexTOliver) | Primeira versão | 1.0    |"
   ]
  }
 ],
 "metadata": {
  "kernelspec": {
   "display_name": "Python 3",
   "language": "python",
   "name": "python3"
  },
  "language_info": {
   "codemirror_mode": {
    "name": "ipython",
    "version": 3
   },
   "file_extension": ".py",
   "mimetype": "text/x-python",
   "name": "python",
   "nbconvert_exporter": "python",
   "pygments_lexer": "ipython3",
   "version": "3.10.12"
  },
  "orig_nbformat": 4
 },
 "nbformat": 4,
 "nbformat_minor": 2
}
